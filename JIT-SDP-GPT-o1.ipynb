{
 "cells": [
  {
   "cell_type": "markdown",
   "id": "d7d08417-b787-451a-b857-a029a8cb9256",
   "metadata": {},
   "source": [
    "# GPT-o1 for JIT-SDP"
   ]
  },
  {
   "cell_type": "code",
   "execution_count": null,
   "id": "ff22a3d6-ba78-4651-be21-119ec3caeef5",
   "metadata": {},
   "outputs": [],
   "source": [
    "key = input('Key:')"
   ]
  },
  {
   "cell_type": "code",
   "execution_count": 2,
   "id": "83d0ff28-ecd2-4fdc-9551-e3b0394e90f5",
   "metadata": {},
   "outputs": [],
   "source": [
    "from openai import OpenAI\n",
    "client = OpenAI(api_key=key)"
   ]
  },
  {
   "cell_type": "code",
   "execution_count": 3,
   "id": "59906ccb",
   "metadata": {},
   "outputs": [],
   "source": [
    "import pickle"
   ]
  },
  {
   "cell_type": "code",
   "execution_count": 6,
   "id": "4de6fa12",
   "metadata": {},
   "outputs": [],
   "source": [
    "pickle_file_path = 'data/features_train.pkl'"
   ]
  },
  {
   "cell_type": "code",
   "execution_count": 7,
   "id": "e22599c5",
   "metadata": {},
   "outputs": [],
   "source": [
    "# Load the pickle file\n",
    "with open(pickle_file_path, 'rb') as file:\n",
    "    features_data = pickle.load(file)"
   ]
  },
  {
   "cell_type": "markdown",
   "id": "8732d7df",
   "metadata": {},
   "source": [
    "### Comment + code + expert features"
   ]
  },
  {
   "cell_type": "code",
   "execution_count": 13,
   "id": "fc85613b",
   "metadata": {},
   "outputs": [],
   "source": [
    "system_message = \"\"\"You are a Just-In-Time Software Defect Prediction (JIT-SDP) system responsible for predicting \n",
    "    software defects at the time they are about to occur.  To do that, you will receive a commit \n",
    "    information. The commit information will have the following format:\n",
    "    \n",
    "    COMMIT MESSAGE: <a message describing the intent of the commit>\n",
    "    ADDED LINES: {<a set of added lines>}\n",
    "    REMOVED LINES: {<a set of removed lines>}\n",
    "    NUMBER OF MODIFIED SUBSYSTEMS: <number of modified subsystems>\n",
    "    NUMBER OF MODIFIED DIRECTORIES: <number of modified directories>\n",
    "    NUMBER OF MODIFIED FILES: <number of modified files>\n",
    "    ENTROPY (DISTRIBUTION OF MODIFIED CODE ACROSS EACH FILE): <distribution of modified code across each file>\n",
    "    NUMBER OF LINES OF CODE ADDED: <number of lines of code added>\n",
    "    NUMBER OF LINES OF CODE DELETED: <number of lines of code deleted>\n",
    "    NUMBER OF LINES OF CODE IN A FILE BEFORE THE CHANGE: <number of lines of code in a file before the change>\n",
    "    FIX (True if the change is a defect fix, False otherwise>): <True if the change is a defect fix, False otherwise>\n",
    "    NUMBER OF DEVELOPERS THAT CHANGED THE MODIFIED FILES: <the number of developers that changed the modified files>\n",
    "    AVERAGE TIME BETWEEN THE LAST AND THE CURRENT CHANGE: <the average time between the last and the current change>\n",
    "    NUMBER OF UNIQUE CHANGES TO THE MODIFIED FILES: <the number of unique changes to the modified files>\n",
    "    DEVELOPER EXPERIENCE: <developer experience>\n",
    "    RECENT DEVELOPER EXPERIENCE: <recent developer experience>\n",
    "    DEVELOPER EXPERIENCE ON THE CURRENT SUBSYSTEM: <developer experience in a subsystem>\n",
    "    \n",
    "    You will use the commit message, added/removed lines, and extra information to generate your answer.  You will answer with \n",
    "    \"YES\" or \"NO\" if the commit may introduce a bug and the reason why you reached your conclusion.  \n",
    "    Generate your response in the following JSON format: \n",
    "    {\n",
    "        \"prediction\": <YES|NO>,\n",
    "        \"reason\": <reason>\n",
    "    }\n",
    "    \"\"\""
   ]
  },
  {
   "cell_type": "code",
   "execution_count": 15,
   "id": "b06b8d26",
   "metadata": {},
   "outputs": [],
   "source": [
    "exp_mean, rexp_mean, sexp_mean = features_data['exp'].astype(float).mean(), features_data['rexp'].astype(float).mean(), features_data['sexp'].astype(float).mean()"
   ]
  },
  {
   "cell_type": "code",
   "execution_count": 16,
   "id": "edb4569f",
   "metadata": {},
   "outputs": [],
   "source": [
    "def get_exp_desc(mean, value):\n",
    "    if int(float(value)) == int(mean):\n",
    "        return 'average'\n",
    "    elif float(value) < mean:\n",
    "        return 'below average'\n",
    "    elif float(value) > mean:\n",
    "        return 'above average'\n",
    "    else:\n",
    "        return 'average'\n"
   ]
  },
  {
   "cell_type": "code",
   "execution_count": 17,
   "id": "1a1a3d47",
   "metadata": {},
   "outputs": [
    {
     "data": {
      "text/plain": [
       "(206.33247831928668, 106.32190481395303, 194.21912657697746)"
      ]
     },
     "execution_count": 17,
     "metadata": {},
     "output_type": "execute_result"
    }
   ],
   "source": [
    "exp_mean, rexp_mean, sexp_mean"
   ]
  },
  {
   "cell_type": "code",
   "execution_count": 24,
   "id": "72367ef2",
   "metadata": {},
   "outputs": [],
   "source": [
    "pickle_file_path = 'jitfine/changes_test_lst.pkl'"
   ]
  },
  {
   "cell_type": "code",
   "execution_count": 25,
   "id": "5e29711d",
   "metadata": {},
   "outputs": [],
   "source": [
    "with open(pickle_file_path, 'rb') as file:\n",
    "    semantic_data = pickle.load(file)"
   ]
  },
  {
   "cell_type": "code",
   "execution_count": 26,
   "id": "3f90ced8",
   "metadata": {},
   "outputs": [],
   "source": [
    "pickle_file_path = 'jitfine/features_test.pkl'"
   ]
  },
  {
   "cell_type": "code",
   "execution_count": 27,
   "id": "7f56ead1",
   "metadata": {},
   "outputs": [],
   "source": [
    "with open(pickle_file_path, 'rb') as file:\n",
    "    features_data = pickle.load(file)"
   ]
  },
  {
   "cell_type": "code",
   "execution_count": 28,
   "id": "68a07c1e",
   "metadata": {},
   "outputs": [
    {
     "data": {
      "text/plain": [
       "5480"
      ]
     },
     "execution_count": 28,
     "metadata": {},
     "output_type": "execute_result"
    }
   ],
   "source": [
    "len(semantic_data[0])"
   ]
  },
  {
   "cell_type": "code",
   "execution_count": 29,
   "id": "94fc96be",
   "metadata": {},
   "outputs": [
    {
     "data": {
      "text/plain": [
       "5480"
      ]
     },
     "execution_count": 29,
     "metadata": {},
     "output_type": "execute_result"
    }
   ],
   "source": [
    "len(features_data)"
   ]
  },
  {
   "cell_type": "code",
   "execution_count": 1,
   "id": "e20ee8d4",
   "metadata": {},
   "outputs": [],
   "source": [
    "from sklearn.metrics import roc_auc_score, accuracy_score, precision_score, recall_score, f1_score\n",
    "\n",
    "def calculate_metrics(y_true, y_pred):\n",
    "    auc = roc_auc_score(y_true, y_pred)\n",
    "    accuracy = accuracy_score(y_true, y_pred)\n",
    "    precision = precision_score(y_true, y_pred)\n",
    "    recall = recall_score(y_true, y_pred)\n",
    "    f1 = f1_score(y_true, y_pred)\n",
    "    \n",
    "    return auc, accuracy, precision, recall, f1"
   ]
  },
  {
   "cell_type": "code",
   "execution_count": 33,
   "id": "d2bbe657",
   "metadata": {},
   "outputs": [],
   "source": [
    "results = []\n",
    "preds = []"
   ]
  },
  {
   "cell_type": "code",
   "execution_count": 34,
   "id": "ac326cee",
   "metadata": {},
   "outputs": [
    {
     "data": {
      "text/plain": [
       "0"
      ]
     },
     "execution_count": 34,
     "metadata": {},
     "output_type": "execute_result"
    }
   ],
   "source": [
    "len(results)"
   ]
  },
  {
   "cell_type": "code",
   "execution_count": 35,
   "id": "db04acce",
   "metadata": {},
   "outputs": [],
   "source": [
    "preds = [r['prediction'] for r in results]"
   ]
  },
  {
   "cell_type": "code",
   "execution_count": 36,
   "id": "4744e25f",
   "metadata": {},
   "outputs": [
    {
     "data": {
      "text/plain": [
       "0"
      ]
     },
     "execution_count": 36,
     "metadata": {},
     "output_type": "execute_result"
    }
   ],
   "source": [
    "len(preds)"
   ]
  },
  {
   "cell_type": "code",
   "execution_count": 37,
   "id": "0c2de571",
   "metadata": {},
   "outputs": [],
   "source": [
    "preds = [1.0 if pred == 'YES' else 0.0 for pred in preds]"
   ]
  },
  {
   "cell_type": "markdown",
   "id": "0c3fc15c",
   "metadata": {},
   "source": [
    "## Zero-shot Chain-of-Thought"
   ]
  },
  {
   "cell_type": "code",
   "execution_count": 38,
   "id": "d8787488",
   "metadata": {},
   "outputs": [],
   "source": [
    "import json"
   ]
  },
  {
   "cell_type": "code",
   "execution_count": 39,
   "id": "70631809",
   "metadata": {},
   "outputs": [],
   "source": [
    "preds = []\n",
    "results = []"
   ]
  },
  {
   "cell_type": "code",
   "execution_count": 40,
   "id": "acee4db4-f062-4530-9a9a-f40537033b8c",
   "metadata": {},
   "outputs": [],
   "source": [
    "results = results[:-1]"
   ]
  },
  {
   "cell_type": "code",
   "execution_count": 41,
   "id": "2f0aadf7",
   "metadata": {},
   "outputs": [
    {
     "data": {
      "text/plain": [
       "0"
      ]
     },
     "execution_count": 41,
     "metadata": {},
     "output_type": "execute_result"
    }
   ],
   "source": [
    "len(results)"
   ]
  },
  {
   "cell_type": "code",
   "execution_count": 42,
   "id": "a74b9f3e-3ffd-4e1a-90d5-ea72fd3b60ca",
   "metadata": {},
   "outputs": [],
   "source": [
    "def label_to_str(label):\n",
    "    if label == 1: \n",
    "        return \"YES\"\n",
    "    elif label == 0:\n",
    "        return \"NO\""
   ]
  },
  {
   "cell_type": "code",
   "execution_count": 43,
   "id": "9e47b858-dbea-4362-9879-f9e1649459a5",
   "metadata": {},
   "outputs": [],
   "source": [
    "import pickle\n",
    "\n",
    "with open('results_cot_o1_final.pkl', 'rb') as file:\n",
    "    results = pickle.load(file)"
   ]
  },
  {
   "cell_type": "code",
   "execution_count": null,
   "id": "163e2b32-3791-4b85-a8a4-174aa871cebe",
   "metadata": {},
   "outputs": [],
   "source": [
    "len(results)"
   ]
  },
  {
   "cell_type": "code",
   "execution_count": 45,
   "id": "a3c7eead-7b93-42ce-875f-abf4669eeccf",
   "metadata": {},
   "outputs": [],
   "source": [
    "labels = semantic_data[1] "
   ]
  },
  {
   "cell_type": "code",
   "execution_count": 46,
   "id": "bf78e8ce-f871-4e10-98b1-e2e11d511eba",
   "metadata": {},
   "outputs": [],
   "source": [
    "preds = [r['prediction'] if isinstance(r, dict) else label_to_str(1 - labels[i]) for i,r in enumerate(results)]"
   ]
  },
  {
   "cell_type": "code",
   "execution_count": 47,
   "id": "7239130f-c005-4984-969c-f49b76edfb53",
   "metadata": {},
   "outputs": [],
   "source": [
    "preds = [1.0 if pred == 'YES' else 0.0 for pred in preds]"
   ]
  },
  {
   "cell_type": "code",
   "execution_count": null,
   "id": "fbeeb113",
   "metadata": {},
   "outputs": [],
   "source": [
    "len(preds)"
   ]
  },
  {
   "cell_type": "code",
   "execution_count": null,
   "id": "d8a39bcd",
   "metadata": {
    "scrolled": true
   },
   "outputs": [],
   "source": [
    "import json\n",
    "from tqdm import tqdm\n",
    "from json import JSONDecodeError\n",
    "\n",
    "commit_ids = semantic_data[0] \n",
    "labels = semantic_data[1] \n",
    "comments = semantic_data[2] \n",
    "code = semantic_data[3]\n",
    "\n",
    "for i in tqdm(range(len(preds),len(features_data))):\n",
    "    prompt = f\"\"\"COMMIT MESSAGE: {comments[i]}\"\"\"\n",
    "    \n",
    "    if len(code[i]['added_code']) > 0:\n",
    "        prompt += f\"\"\"\\nADDED LINES: \"\"\" + str(code[i]['added_code']).replace('\\'','')\n",
    "   \n",
    "    if len(code[i]['removed_code']) > 0:\n",
    "        prompt += \"\\nREMOVED LINES:\"\"\" + str(code[i]['removed_code']).replace('\\'','')\n",
    "    \n",
    "    assert features_data.loc[i, 'commit_hash'] == commit_ids[i]\n",
    "    \n",
    "    prompt += f\"\"\"\\n\n",
    "    NUMBER OF MODIFIED SUBSYSTEMS: {features_data.loc[i,'ns']}\n",
    "    NUMBER OF MODIFIED DIRECTORIES: {features_data.loc[i,'nd']}\n",
    "    NUMBER OF MODIFIED FILES: {features_data.loc[i,'nf']}\n",
    "    ENTROPY (DISTRIBUTION OF MODIFIED CODE ACROSS EACH FILE): {features_data.loc[i,'entropy']}\n",
    "    NUMBER OF LINES OF CODE ADDED: {features_data.loc[i,'la']}\n",
    "    NUMBER OF LINES OF CODE DELETED: {features_data.loc[i,'ld']}\n",
    "    NUMBER OF LINES OF CODE IN A FILE BEFORE THE CHANGE: {features_data.loc[i,'lt']}\n",
    "    FIX (True if the change is a defect fix, False otherwise>): {features_data.loc[i,'fix']}\n",
    "    NUMBER OF DEVELOPERS THAT CHANGED THE MODIFIED FILES: {features_data.loc[i,'ndev']}\n",
    "    AVERAGE TIME BETWEEN THE LAST AND THE CURRENT CHANGE: {features_data.loc[i,'age']}\n",
    "    NUMBER OF UNIQUE CHANGES TO THE MODIFIED FILES: {features_data.loc[i,'nuc']}\n",
    "    DEVELOPER EXPERIENCE: {get_exp_desc(exp_mean, features_data.loc[i,'exp'])}\n",
    "    RECENT DEVELOPER EXPERIENCE: {get_exp_desc(rexp_mean, features_data.loc[i,'rexp'])}\n",
    "    DEVELOPER EXPERIENCE ON THE CURRENT SUBSYSTEM: {get_exp_desc(sexp_mean, features_data.loc[i,'sexp'])}\n",
    "    \"\"\"\n",
    "    \n",
    "    prompt += \"\\n Let's think step by step. \"\n",
    "    error = False\n",
    "    \n",
    "    messages=[{\"role\":\"system\", \"content\":system_message},{\"role\": \"user\", \"content\": prompt[:200000]}]\n",
    "    \n",
    "    result = client.chat.completions.create(model=\"o1\", messages=messages)\n",
    "    resp = result.choices[0].message.content\n",
    "    content = resp[resp.find('{'):resp.rfind('}') + 1]\n",
    "    \n",
    "    try:\n",
    "        content = json.loads(content.replace('\\n', ' '))\n",
    "    except JSONDecodeError:\n",
    "        print(content)\n",
    "        pred = 1 - labels[i]\n",
    "        error = True    \n",
    "    \n",
    "    results.append(content)\n",
    "\n",
    "    if not error:\n",
    "        prediction = content[\"prediction\"]\n",
    "        pred = 0.0\n",
    "        \n",
    "        if prediction == \"YES\":\n",
    "            pred = 1.0\n",
    "    \n",
    "    preds.append(pred)\n",
    "    \n",
    "    if i > 0 and (i % 100) == 0:\n",
    "        auc, accuracy, precision, recall, f1 = calcular_metricas(labels[:i+1], preds)\n",
    "        print(f\"auc = {auc}, accuracy = {accuracy}, precision = {precision}, recall = {recall}, f1 = {f1}\")\n",
    "        with open('results_cot_o1_final.pkl', 'wb') as file:\n",
    "            pickle.dump(results, file)\n",
    "    "
   ]
  },
  {
   "cell_type": "code",
   "execution_count": 50,
   "id": "81f3f83e",
   "metadata": {},
   "outputs": [
    {
     "data": {
      "text/plain": [
       "(5480, 5480)"
      ]
     },
     "execution_count": 50,
     "metadata": {},
     "output_type": "execute_result"
    }
   ],
   "source": [
    "len(results), len(preds)"
   ]
  },
  {
   "cell_type": "code",
   "execution_count": 53,
   "id": "5e29dbc1",
   "metadata": {},
   "outputs": [
    {
     "name": "stdout",
     "output_type": "stream",
     "text": [
      "auc = 0.6114306745885694, accuracy = 0.5773722627737227, precision = 0.1259650548557497, recall = 0.6526315789473685, f1 = 0.21117166212534058\n"
     ]
    }
   ],
   "source": [
    "auc, accuracy, precision, recall, f1 = calcular_metricas(labels[:len(preds)], preds)\n",
    "print(f\"auc = {auc}, accuracy = {accuracy}, precision = {precision}, recall = {recall}, f1 = {f1}\")\n",
    "    "
   ]
  },
  {
   "cell_type": "code",
   "execution_count": 54,
   "id": "c0614ebd",
   "metadata": {},
   "outputs": [],
   "source": [
    "with open('results_cot_o1_final.pkl', 'wb') as file:\n",
    "    pickle.dump(results, file)"
   ]
  }
 ],
 "metadata": {
  "kernelspec": {
   "display_name": "Python 3 (ipykernel)",
   "language": "python",
   "name": "python3"
  },
  "language_info": {
   "codemirror_mode": {
    "name": "ipython",
    "version": 3
   },
   "file_extension": ".py",
   "mimetype": "text/x-python",
   "name": "python",
   "nbconvert_exporter": "python",
   "pygments_lexer": "ipython3",
   "version": "3.10.9"
  }
 },
 "nbformat": 4,
 "nbformat_minor": 5
}
