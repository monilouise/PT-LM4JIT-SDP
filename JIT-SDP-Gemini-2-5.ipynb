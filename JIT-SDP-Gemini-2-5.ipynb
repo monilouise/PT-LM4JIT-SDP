{
 "cells": [
  {
   "cell_type": "code",
   "execution_count": 1,
   "id": "33fea0d9",
   "metadata": {
    "editable": true,
    "slideshow": {
     "slide_type": ""
    },
    "tags": []
   },
   "outputs": [],
   "source": [
    "!pip install -q -U google-generativeai"
   ]
  },
  {
   "cell_type": "code",
   "execution_count": null,
   "id": "2a1ac5e6-0143-4072-b680-ab2338e3ff77",
   "metadata": {
    "editable": true,
    "slideshow": {
     "slide_type": ""
    },
    "tags": []
   },
   "outputs": [],
   "source": [
    "key = input('Key:')"
   ]
  },
  {
   "cell_type": "code",
   "execution_count": 2,
   "id": "30aebbdc-ae5a-4307-9d13-6ff57288d685",
   "metadata": {},
   "outputs": [],
   "source": [
    "import google.generativeai as genai\n",
    "import os\n",
    "\n",
    "genai.configure(api_key=key)"
   ]
  },
  {
   "cell_type": "code",
   "execution_count": 3,
   "id": "7df3075b-4415-4663-9729-2fc8c12125cd",
   "metadata": {},
   "outputs": [],
   "source": [
    "model = genai.GenerativeModel(\"gemini-2.5-flash-preview-04-17\")"
   ]
  },
  {
   "cell_type": "code",
   "execution_count": 4,
   "id": "59906ccb",
   "metadata": {},
   "outputs": [],
   "source": [
    "import pickle"
   ]
  },
  {
   "cell_type": "code",
   "execution_count": 5,
   "id": "b3f69530",
   "metadata": {},
   "outputs": [],
   "source": [
    "pickle_file_path = 'data/changes_train_lst.pkl'\n"
   ]
  },
  {
   "cell_type": "code",
   "execution_count": 6,
   "id": "74193778",
   "metadata": {},
   "outputs": [],
   "source": [
    "with open(pickle_file_path, 'rb') as file:\n",
    "    semantic_data = pickle.load(file)"
   ]
  },
  {
   "cell_type": "code",
   "execution_count": 7,
   "id": "4de6fa12",
   "metadata": {},
   "outputs": [],
   "source": [
    "pickle_file_path = 'data/features_train.pkl'"
   ]
  },
  {
   "cell_type": "code",
   "execution_count": 8,
   "id": "e22599c5",
   "metadata": {},
   "outputs": [],
   "source": [
    "with open(pickle_file_path, 'rb') as file:\n",
    "    features_data = pickle.load(file)"
   ]
  },
  {
   "cell_type": "markdown",
   "id": "8732d7df",
   "metadata": {},
   "source": [
    "### Commit message + code + expert features"
   ]
  },
  {
   "cell_type": "code",
   "execution_count": 9,
   "id": "fc85613b",
   "metadata": {},
   "outputs": [],
   "source": [
    "system_message = \"\"\"You are a Just-In-Time Software Defect Prediction (JIT-SDP) system responsible for predicting \n",
    "software defects at the time they are about to occur.  To do that, you will receive a commit \n",
    "information. The commit information will have the following format:\n",
    "\n",
    "COMMIT MESSAGE: <a commit message describing the intent of the commit>\n",
    "ADDED LINES: {<a set of added lines>}\n",
    "REMOVED LINES: {<a set of removed lines>}\n",
    "NUMBER OF MODIFIED SUBSYSTEMS: <number of modified subsystems>\n",
    "NUMBER OF MODIFIED DIRECTORIES: <number of modified directories>\n",
    "NUMBER OF MODIFIED FILES: <number of modified files>\n",
    "ENTROPY (DISTRIBUTION OF MODIFIED CODE ACROSS EACH FILE): <distribution of modified code across each file>\n",
    "NUMBER OF LINES OF CODE ADDED: <number of lines of code added>\n",
    "NUMBER OF LINES OF CODE DELETED: <number of lines of code deleted>\n",
    "NUMBER OF LINES OF CODE IN A FILE BEFORE THE CHANGE: <number of lines of code in a file before the change>\n",
    "FIX (True if the change is a defect fix, False otherwise>): <True if the change is a defect fix, False otherwise>\n",
    "NUMBER OF DEVELOPERS THAT CHANGED THE MODIFIED FILES: <the number of developers that changed the modified files>\n",
    "AVERAGE TIME BETWEEN THE LAST AND THE CURRENT CHANGE: <the average time between the last and the current change>\n",
    "NUMBER OF UNIQUE CHANGES TO THE MODIFIED FILES: <the number of unique changes to the modified files>\n",
    "DEVELOPER EXPERIENCE: <developer experience>\n",
    "RECENT DEVELOPER EXPERIENCE: <recent developer experience>\n",
    "DEVELOPER EXPERIENCE ON THE CURRENT SUBSYSTEM: <developer experience in a subsystem>\n",
    "\n",
    "You will generate your answer by using commit messages, added/removed lines, and extra information.  You will answer with \n",
    "\"YES\" or \"NO\" if the commit may introduce a bug and the reason why you reached your conclusion.  \n",
    "Generate your response in the following JSON format: \n",
    "{\n",
    "    \"prediction\": <YES|NO>,\n",
    "    \"reason\": <reason>\n",
    "}\n",
    "    \"\"\""
   ]
  },
  {
   "cell_type": "code",
   "execution_count": 10,
   "id": "b06b8d26",
   "metadata": {},
   "outputs": [],
   "source": [
    "exp_mean, rexp_mean, sexp_mean = features_data['exp'].astype(float).mean(), features_data['rexp'].astype(float).mean(), features_data['sexp'].astype(float).mean()"
   ]
  },
  {
   "cell_type": "code",
   "execution_count": 11,
   "id": "edb4569f",
   "metadata": {},
   "outputs": [],
   "source": [
    "def get_exp_desc(mean, value):\n",
    "    if int(float(value)) == int(mean):\n",
    "        return 'average'\n",
    "    elif float(value) < mean:\n",
    "        return 'below average'\n",
    "    elif float(value) > mean:\n",
    "        return 'above average'\n",
    "    else:\n",
    "        return 'average'\n"
   ]
  },
  {
   "cell_type": "code",
   "execution_count": 12,
   "id": "1a1a3d47",
   "metadata": {},
   "outputs": [
    {
     "data": {
      "text/plain": [
       "(206.33247831928668, 106.32190481395303, 194.21912657697746)"
      ]
     },
     "execution_count": 12,
     "metadata": {},
     "output_type": "execute_result"
    }
   ],
   "source": [
    "exp_mean, rexp_mean, sexp_mean"
   ]
  },
  {
   "cell_type": "code",
   "execution_count": 13,
   "id": "76954e6c",
   "metadata": {},
   "outputs": [],
   "source": [
    "prompt = f\"\"\"\n",
    "NUMBER OF MODIFIED SUBSYSTEMS: {features_data.loc[0,'ns']}\n",
    "NUMBER OF MODIFIED DIRECTORIES: {features_data.loc[0,'nd']}\n",
    "NUMBER OF MODIFIED FILES: {features_data.loc[0,'nf']}\n",
    "ENTROPY (DISTRIBUTION OF MODIFIED CODE ACROSS EACH FILE): {features_data.loc[0,'entropy']}\n",
    "NUMBER OF LINES OF CODE ADDED: {features_data.loc[0,'la']}\n",
    "NUMBER OF LINES OF CODE DELETED: {features_data.loc[0,'ld']}\n",
    "NUMBER OF LINES OF CODE IN A FILE BEFORE THE CHANGE: {features_data.loc[0,'lt']}\n",
    "FIX (True if the change is a defect fix, False otherwise>): {features_data.loc[0,'fix']}\n",
    "NUMBER OF DEVELOPERS THAT CHANGED THE MODIFIED FILES: {features_data.loc[0,'ndev']}\n",
    "AVERAGE TIME BETWEEN THE LAST AND THE CURRENT CHANGE: {features_data.loc[0,'age']}\n",
    "NUMBER OF UNIQUE CHANGES TO THE MODIFIED FILES: {features_data.loc[0,'nuc']}\n",
    "DEVELOPER EXPERIENCE: {get_exp_desc(exp_mean, features_data.loc[0,'exp'])}\n",
    "RECENT DEVELOPER EXPERIENCE: {get_exp_desc(rexp_mean, features_data.loc[0,'rexp'])}\n",
    "DEVELOPER EXPERIENCE ON THE CURRENT SUBSYSTEM: {get_exp_desc(sexp_mean, features_data.loc[0,'sexp'])}\n",
    "    \"\"\""
   ]
  },
  {
   "cell_type": "code",
   "execution_count": 14,
   "id": "2ea31dc6",
   "metadata": {},
   "outputs": [],
   "source": [
    "import pickle"
   ]
  },
  {
   "cell_type": "code",
   "execution_count": 15,
   "id": "72367ef2",
   "metadata": {},
   "outputs": [],
   "source": [
    "pickle_file_path = 'data/changes_test_lst.pkl'"
   ]
  },
  {
   "cell_type": "code",
   "execution_count": 16,
   "id": "5e29711d",
   "metadata": {},
   "outputs": [],
   "source": [
    "with open(pickle_file_path, 'rb') as file:\n",
    "    semantic_data = pickle.load(file)"
   ]
  },
  {
   "cell_type": "code",
   "execution_count": 17,
   "id": "3f90ced8",
   "metadata": {},
   "outputs": [],
   "source": [
    "pickle_file_path = 'data/features_test.pkl'"
   ]
  },
  {
   "cell_type": "code",
   "execution_count": 18,
   "id": "7f56ead1",
   "metadata": {},
   "outputs": [],
   "source": [
    "with open(pickle_file_path, 'rb') as file:\n",
    "    features_data = pickle.load(file)"
   ]
  },
  {
   "cell_type": "code",
   "execution_count": 19,
   "id": "68a07c1e",
   "metadata": {},
   "outputs": [
    {
     "data": {
      "text/plain": [
       "5480"
      ]
     },
     "execution_count": 19,
     "metadata": {},
     "output_type": "execute_result"
    }
   ],
   "source": [
    "len(semantic_data[0])"
   ]
  },
  {
   "cell_type": "code",
   "execution_count": 20,
   "id": "94fc96be",
   "metadata": {},
   "outputs": [
    {
     "data": {
      "text/plain": [
       "5480"
      ]
     },
     "execution_count": 20,
     "metadata": {},
     "output_type": "execute_result"
    }
   ],
   "source": [
    "len(features_data)"
   ]
  },
  {
   "cell_type": "code",
   "execution_count": 21,
   "id": "e20ee8d4",
   "metadata": {},
   "outputs": [],
   "source": [
    "from sklearn.metrics import roc_auc_score, accuracy_score, precision_score, recall_score, f1_score\n",
    "\n",
    "def calculate_metrics(y_true, y_pred):\n",
    "    auc = roc_auc_score(y_true, y_pred)\n",
    "    accuracy = accuracy_score(y_true, y_pred)\n",
    "    precision = precision_score(y_true, y_pred)\n",
    "    recall = recall_score(y_true, y_pred)\n",
    "    f1 = f1_score(y_true, y_pred)\n",
    "    \n",
    "    return auc, accuracy, precision, recall, f1"
   ]
  },
  {
   "cell_type": "markdown",
   "id": "0c3fc15c",
   "metadata": {},
   "source": [
    "## Zero-shot Chain-of-Thought"
   ]
  },
  {
   "cell_type": "code",
   "execution_count": 22,
   "id": "70631809",
   "metadata": {},
   "outputs": [],
   "source": [
    "preds = []\n",
    "results = []"
   ]
  },
  {
   "cell_type": "code",
   "execution_count": 23,
   "id": "190efdc5-085f-4391-a632-36b8f2330c7a",
   "metadata": {},
   "outputs": [],
   "source": [
    "import pickle\n",
    "\n",
    "with open('results_cot_gemini_2-5.pkl', 'rb') as f:\n",
    "    results = pickle.load(f)"
   ]
  },
  {
   "cell_type": "code",
   "execution_count": 25,
   "id": "c468800b-d119-4abd-9d73-7afecc2de83e",
   "metadata": {},
   "outputs": [],
   "source": [
    "labels = semantic_data[1] "
   ]
  },
  {
   "cell_type": "code",
   "execution_count": 26,
   "id": "c2aea386-d7be-483d-86af-e98653287084",
   "metadata": {},
   "outputs": [],
   "source": [
    "def label_to_str(label):\n",
    "    if label == 1: \n",
    "        return \"YES\"\n",
    "    elif label == 0:\n",
    "        return \"NO\""
   ]
  },
  {
   "cell_type": "code",
   "execution_count": 27,
   "id": "d3318524",
   "metadata": {},
   "outputs": [],
   "source": [
    "preds = [r['prediction'] if isinstance(r, dict) else label_to_str(1 - labels[i]) for i,r in enumerate(results)]"
   ]
  },
  {
   "cell_type": "code",
   "execution_count": 28,
   "id": "1e05f72c",
   "metadata": {},
   "outputs": [],
   "source": [
    "preds = [1.0 if pred == 'YES' else 0.0 for pred in preds]"
   ]
  },
  {
   "cell_type": "code",
   "execution_count": 30,
   "id": "a5d6fb55-2739-4472-b413-2ff34f5d15e2",
   "metadata": {},
   "outputs": [],
   "source": [
    "rpd = len(features_data)//500 "
   ]
  },
  {
   "cell_type": "code",
   "execution_count": 31,
   "id": "4f6460f0-dab0-42b5-a723-8460d116ad8d",
   "metadata": {},
   "outputs": [],
   "source": [
    "rpm = 10 "
   ]
  },
  {
   "cell_type": "code",
   "execution_count": null,
   "id": "d8a39bcd",
   "metadata": {},
   "outputs": [],
   "source": [
    "import json\n",
    "from tqdm import tqdm\n",
    "from json import JSONDecodeError\n",
    "import time\n",
    "\n",
    "commit_ids = semantic_data[0] \n",
    "labels = semantic_data[1] \n",
    "comments = semantic_data[2] \n",
    "code = semantic_data[3]\n",
    "\n",
    "model = genai.GenerativeModel(model_name=\"gemini-2.5-flash-preview-04-17\", system_instruction=system_message)\n",
    "requests = 0\n",
    "\n",
    "for i in tqdm(range(len(results),len(commit_ids))):\n",
    "    prompt = f\"\"\"[Q] COMMIT MESSAGE: {comments[i]}\"\"\"\n",
    "    \n",
    "    if len(code[i]['added_code']) > 0:\n",
    "        prompt += f\"\"\"\\nADDED LINES: \"\"\" + str(code[i]['added_code']).replace('\\'','')\n",
    "   \n",
    "    if len(code[i]['removed_code']) > 0:\n",
    "        prompt += \"\\nREMOVED LINES:\"\"\" + str(code[i]['removed_code']).replace('\\'','')\n",
    "    \n",
    "    assert features_data.loc[i, 'commit_hash'] == commit_ids[i]\n",
    "    \n",
    "    prompt += f\"\"\"\\n\n",
    "NUMBER OF MODIFIED SUBSYSTEMS: {features_data.loc[i,'ns']}\n",
    "NUMBER OF MODIFIED DIRECTORIES: {features_data.loc[i,'nd']}\n",
    "NUMBER OF MODIFIED FILES: {features_data.loc[i,'nf']}\n",
    "ENTROPY (DISTRIBUTION OF MODIFIED CODE ACROSS EACH FILE): {features_data.loc[i,'entropy']}\n",
    "NUMBER OF LINES OF CODE ADDED: {features_data.loc[i,'la']}\n",
    "NUMBER OF LINES OF CODE DELETED: {features_data.loc[i,'ld']}\n",
    "NUMBER OF LINES OF CODE IN A FILE BEFORE THE CHANGE: {features_data.loc[i,'lt']}\n",
    "FIX (True if the change is a defect fix, False otherwise>): {features_data.loc[i,'fix']}\n",
    "NUMBER OF DEVELOPERS THAT CHANGED THE MODIFIED FILES: {features_data.loc[i,'ndev']}\n",
    "AVERAGE TIME BETWEEN THE LAST AND THE CURRENT CHANGE: {features_data.loc[i,'age']}\n",
    "NUMBER OF UNIQUE CHANGES TO THE MODIFIED FILES: {features_data.loc[i,'nuc']}\n",
    "DEVELOPER EXPERIENCE: {get_exp_desc(exp_mean, features_data.loc[i,'exp'])}\n",
    "RECENT DEVELOPER EXPERIENCE: {get_exp_desc(rexp_mean, features_data.loc[i,'rexp'])}\n",
    "DEVELOPER EXPERIENCE ON THE CURRENT SUBSYSTEM: {get_exp_desc(sexp_mean, features_data.loc[i,'sexp'])}\n",
    "    \"\"\"\n",
    "    \n",
    "    prompt += \"\\n[A] Let's think step by step. \"\n",
    "\n",
    "    error = False\n",
    "\n",
    "    response = model.generate_content(prompt, \n",
    "                                  generation_config = genai.GenerationConfig(temperature=0,))\n",
    "    try:\n",
    "        content = response.candidates[0].content.parts[0].text\n",
    "    except:\n",
    "        print(response)\n",
    "        pred = 1 - labels[i]\n",
    "        error = True\n",
    "        \n",
    "    try:\n",
    "        content = json.loads(content[content.index(\"{\"):content.rfind(\"}\")+1].replace('\\n', ' '))\n",
    "    except:\n",
    "        print(content)\n",
    "        #Se errou o formato de saída, considera como um erro (label oposta ao esperado)\n",
    "        pred = 1 - labels[i]\n",
    "        error = True\n",
    "      #  break\n",
    "    \n",
    "    if i < 10:\n",
    "        print(content)\n",
    "        \n",
    "    results.append(content)                                                                                                                                          \n",
    "\n",
    "    if not error:\n",
    "        prediction = content[\"prediction\"]\n",
    "        pred = 0.0\n",
    "    \n",
    "        if prediction == \"YES\":\n",
    "            pred = 1.0\n",
    "        \n",
    "    preds.append(pred)\n",
    "    \n",
    "    if i > 0 and (i % 100) == 0:\n",
    "        auc, accuracy, precision, recall, f1 = calculate_metrics(labels[:i+1], preds)\n",
    "        print(f\"auc = {auc}, accuracy = {accuracy}, precision = {precision}, recall = {recall}, f1 = {f1}\")\n",
    "\n",
    "    time.sleep(12) \n",
    "    "
   ]
  },
  {
   "cell_type": "code",
   "execution_count": 33,
   "id": "8e374fc9-fa87-4aed-9fd9-b49dd7cab75a",
   "metadata": {},
   "outputs": [
    {
     "data": {
      "text/plain": [
       "5480"
      ]
     },
     "execution_count": 33,
     "metadata": {},
     "output_type": "execute_result"
    }
   ],
   "source": [
    "len(results)"
   ]
  },
  {
   "cell_type": "code",
   "execution_count": 34,
   "id": "81f3f83e",
   "metadata": {},
   "outputs": [
    {
     "data": {
      "text/plain": [
       "(5480, 5480)"
      ]
     },
     "execution_count": 34,
     "metadata": {},
     "output_type": "execute_result"
    }
   ],
   "source": [
    "len(results), len(preds)"
   ]
  },
  {
   "cell_type": "code",
   "execution_count": 35,
   "id": "f19097da-343c-4c0b-a7ab-918113bba747",
   "metadata": {},
   "outputs": [
    {
     "data": {
      "text/plain": [
       "2865.0"
      ]
     },
     "execution_count": 35,
     "metadata": {},
     "output_type": "execute_result"
    }
   ],
   "source": [
    "sum(preds)"
   ]
  },
  {
   "cell_type": "code",
   "execution_count": 36,
   "id": "45865c32",
   "metadata": {},
   "outputs": [
    {
     "data": {
      "text/plain": [
       "1.0"
      ]
     },
     "execution_count": 36,
     "metadata": {},
     "output_type": "execute_result"
    }
   ],
   "source": [
    "preds[-1]"
   ]
  },
  {
   "cell_type": "code",
   "execution_count": 37,
   "id": "4ecb3181",
   "metadata": {},
   "outputs": [
    {
     "data": {
      "text/plain": [
       "{'prediction': 'YES',\n",
       " 'reason': \"The change involves removing deprecated API calls, which is a common refactoring task. While the code changes themselves are small and seem straightforward (replacing HTableDescriptor with TableDescriptor and fixing a typo in setTimestamp), the developer's experience is indicated as below average across the board (overall, recent, and on the subsystem). The modified files also show a high number of previous developers and unique changes, suggesting they are frequently modified and potentially complex or central. A less experienced developer working on files with high historical churn increases the risk of introducing subtle bugs, even with seemingly simple API updates.\"}"
      ]
     },
     "execution_count": 37,
     "metadata": {},
     "output_type": "execute_result"
    }
   ],
   "source": [
    "results[-1]"
   ]
  },
  {
   "cell_type": "code",
   "execution_count": 38,
   "id": "5e29dbc1",
   "metadata": {},
   "outputs": [
    {
     "name": "stdout",
     "output_type": "stream",
     "text": [
      "auc = 0.6275450864924549, accuracy = 0.5215328467153285, precision = 0.12530541012216406, recall = 0.7557894736842106, f1 = 0.2149700598802395\n"
     ]
    }
   ],
   "source": [
    "auc, accuracy, precision, recall, f1 = calculate_metrics(labels[:len(results)], preds[:len(results)])\n",
    "print(f\"auc = {auc}, accuracy = {accuracy}, precision = {precision}, recall = {recall}, f1 = {f1}\")\n",
    "    "
   ]
  },
  {
   "cell_type": "code",
   "execution_count": 39,
   "id": "c0614ebd",
   "metadata": {},
   "outputs": [],
   "source": [
    "with open('results_cot_gemini_2-5.pkl', 'wb') as file:\n",
    "    pickle.dump(results, file)"
   ]
  }
 ],
 "metadata": {
  "kernelspec": {
   "display_name": "Python 3 (ipykernel)",
   "language": "python",
   "name": "python3"
  },
  "language_info": {
   "codemirror_mode": {
    "name": "ipython",
    "version": 3
   },
   "file_extension": ".py",
   "mimetype": "text/x-python",
   "name": "python",
   "nbconvert_exporter": "python",
   "pygments_lexer": "ipython3",
   "version": "3.12.7"
  }
 },
 "nbformat": 4,
 "nbformat_minor": 5
}
