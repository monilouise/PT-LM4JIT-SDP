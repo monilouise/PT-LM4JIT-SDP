{
 "cells": [
  {
   "cell_type": "markdown",
   "metadata": {
    "id": "H393DB60ok7d"
   },
   "source": [
    "# CodeLlama fine-tuning for JIT-SDP"
   ]
  },
  {
   "cell_type": "markdown",
   "metadata": {
    "id": "OdbW5ntvTE29"
   },
   "source": [
    "This script is inspired by https://www.analyticsvidhya.com/blog/2024/06/finetuning-llama-3-for-sequence-classification/"
   ]
  },
  {
   "cell_type": "code",
   "execution_count": null,
   "metadata": {
    "colab": {
     "base_uri": "https://localhost:8080/"
    },
    "id": "wEfdLxdYivwj",
    "outputId": "f8af9cd0-1f0e-4d61-907d-c51d1e3a1b13"
   },
   "outputs": [
    {
     "name": "stdout",
     "output_type": "stream",
     "text": [
      "\u001b[31mERROR: Could not find a version that satisfies the requirement huggingface-cli (from versions: none)\u001b[0m\u001b[31m\n",
      "\u001b[0m\u001b[31mERROR: No matching distribution found for huggingface-cli\u001b[0m\u001b[31m\n",
      "\u001b[2K   \u001b[90m━━━━━━━━━━━━━━━━━━━━━━━━━━━━━━━━━━━━━━━━\u001b[0m \u001b[32m363.4/363.4 MB\u001b[0m \u001b[31m4.7 MB/s\u001b[0m eta \u001b[36m0:00:00\u001b[0m\n",
      "\u001b[2K   \u001b[90m━━━━━━━━━━━━━━━━━━━━━━━━━━━━━━━━━━━━━━━━\u001b[0m \u001b[32m13.8/13.8 MB\u001b[0m \u001b[31m97.2 MB/s\u001b[0m eta \u001b[36m0:00:00\u001b[0m\n",
      "\u001b[2K   \u001b[90m━━━━━━━━━━━━━━━━━━━━━━━━━━━━━━━━━━━━━━━━\u001b[0m \u001b[32m24.6/24.6 MB\u001b[0m \u001b[31m85.9 MB/s\u001b[0m eta \u001b[36m0:00:00\u001b[0m\n",
      "\u001b[2K   \u001b[90m━━━━━━━━━━━━━━━━━━━━━━━━━━━━━━━━━━━━━━━━\u001b[0m \u001b[32m883.7/883.7 kB\u001b[0m \u001b[31m42.7 MB/s\u001b[0m eta \u001b[36m0:00:00\u001b[0m\n",
      "\u001b[2K   \u001b[90m━━━━━━━━━━━━━━━━━━━━━━━━━━━━━━━━━━━━━━━━\u001b[0m \u001b[32m664.8/664.8 MB\u001b[0m \u001b[31m1.6 MB/s\u001b[0m eta \u001b[36m0:00:00\u001b[0m\n",
      "\u001b[2K   \u001b[90m━━━━━━━━━━━━━━━━━━━━━━━━━━━━━━━━━━━━━━━━\u001b[0m \u001b[32m211.5/211.5 MB\u001b[0m \u001b[31m11.3 MB/s\u001b[0m eta \u001b[36m0:00:00\u001b[0m\n",
      "\u001b[2K   \u001b[90m━━━━━━━━━━━━━━━━━━━━━━━━━━━━━━━━━━━━━━━━\u001b[0m \u001b[32m56.3/56.3 MB\u001b[0m \u001b[31m42.2 MB/s\u001b[0m eta \u001b[36m0:00:00\u001b[0m\n",
      "\u001b[2K   \u001b[90m━━━━━━━━━━━━━━━━━━━━━━━━━━━━━━━━━━━━━━━━\u001b[0m \u001b[32m127.9/127.9 MB\u001b[0m \u001b[31m19.7 MB/s\u001b[0m eta \u001b[36m0:00:00\u001b[0m\n",
      "\u001b[2K   \u001b[90m━━━━━━━━━━━━━━━━━━━━━━━━━━━━━━━━━━━━━━━━\u001b[0m \u001b[32m207.5/207.5 MB\u001b[0m \u001b[31m3.9 MB/s\u001b[0m eta \u001b[36m0:00:00\u001b[0m\n",
      "\u001b[2K   \u001b[90m━━━━━━━━━━━━━━━━━━━━━━━━━━━━━━━━━━━━━━━━\u001b[0m \u001b[32m21.1/21.1 MB\u001b[0m \u001b[31m98.2 MB/s\u001b[0m eta \u001b[36m0:00:00\u001b[0m\n",
      "\u001b[?25h"
     ]
    }
   ],
   "source": [
    "!pip install -q transformers accelerate trl bitsandbytes datasets evaluate huggingface-cli\n",
    "!pip install -q peft scikit-learn"
   ]
  },
  {
   "cell_type": "code",
   "execution_count": null,
   "metadata": {
    "id": "63aHLoKJ1I3Q"
   },
   "outputs": [],
   "source": [
    "import pandas as pd\n",
    "import pickle\n",
    "import torch"
   ]
  },
  {
   "cell_type": "code",
   "execution_count": null,
   "metadata": {
    "id": "i72gBa1tzUme"
   },
   "outputs": [],
   "source": [
    "filename = \"data/changes_test_lst.pkl\""
   ]
  },
  {
   "cell_type": "code",
   "execution_count": null,
   "metadata": {
    "id": "3cFcBwRlzkKV"
   },
   "outputs": [],
   "source": [
    "import pickle\n",
    "\n",
    "with open(filename, 'rb') as f:\n",
    "    changes_test = pickle.load(f)"
   ]
  },
  {
   "cell_type": "code",
   "execution_count": null,
   "metadata": {
    "id": "A6_HA_7wqzye"
   },
   "outputs": [],
   "source": [
    "filename = \"data/features_test.pkl\""
   ]
  },
  {
   "cell_type": "code",
   "execution_count": null,
   "metadata": {
    "colab": {
     "base_uri": "https://localhost:8080/"
    },
    "id": "r9T0dkMdq-1H",
    "outputId": "fffac2e3-1200-469a-c198-4861da25d254"
   },
   "outputs": [
    {
     "name": "stderr",
     "output_type": "stream",
     "text": [
      "<ipython-input-6-972c5609ada2>:2: DeprecationWarning: numpy.core.numeric is deprecated and has been renamed to numpy._core.numeric. The numpy._core namespace contains private NumPy internals and its use is discouraged, as NumPy internals can change without warning in any release. In practice, most real-world usage of numpy.core is to access functionality in the public NumPy API. If that is the case, use the public NumPy API. If not, you are using NumPy internals. If you would still like to access an internal attribute, use numpy._core.numeric._frombuffer.\n",
      "  features_test = pickle.load(f)\n"
     ]
    }
   ],
   "source": [
    "with open(filename, 'rb') as f:\n",
    "    features_test = pickle.load(f)"
   ]
  },
  {
   "cell_type": "code",
   "execution_count": null,
   "metadata": {
    "id": "3I0qdN57sv02"
   },
   "outputs": [],
   "source": [
    "def get_exp_desc(mean, value):\n",
    "    if int(float(value)) == int(mean):\n",
    "        return 'average'\n",
    "    elif float(value) < mean:\n",
    "        return 'below average'\n",
    "    elif float(value) > mean:\n",
    "        return 'above average'\n",
    "    else:\n",
    "        return 'average'"
   ]
  },
  {
   "cell_type": "code",
   "execution_count": null,
   "metadata": {
    "id": "QzvUtUyqp_R_"
   },
   "outputs": [],
   "source": [
    "filename = \"data/features_train.pkl\""
   ]
  },
  {
   "cell_type": "code",
   "execution_count": null,
   "metadata": {
    "colab": {
     "base_uri": "https://localhost:8080/"
    },
    "id": "mVoFEoJ3qd4l",
    "outputId": "df694679-9d74-41f3-9256-521f465a36d1"
   },
   "outputs": [
    {
     "name": "stderr",
     "output_type": "stream",
     "text": [
      "<ipython-input-9-7104eed7509f>:4: DeprecationWarning: numpy.core.numeric is deprecated and has been renamed to numpy._core.numeric. The numpy._core namespace contains private NumPy internals and its use is discouraged, as NumPy internals can change without warning in any release. In practice, most real-world usage of numpy.core is to access functionality in the public NumPy API. If that is the case, use the public NumPy API. If not, you are using NumPy internals. If you would still like to access an internal attribute, use numpy._core.numeric._frombuffer.\n",
      "  features_train = pickle.load(f)\n"
     ]
    }
   ],
   "source": [
    "import pickle\n",
    "\n",
    "with open(filename, 'rb') as f:\n",
    "    features_train = pickle.load(f)"
   ]
  },
  {
   "cell_type": "code",
   "execution_count": null,
   "metadata": {
    "id": "tWed1byMtQGG"
   },
   "outputs": [],
   "source": [
    "exp_mean, rexp_mean, sexp_mean = features_train['exp'].astype(float).mean(), features_train['rexp'].astype(float).mean(), features_train['sexp'].astype(float).mean()"
   ]
  },
  {
   "cell_type": "code",
   "execution_count": null,
   "metadata": {
    "id": "x4jYSQ9RuWhj"
   },
   "outputs": [],
   "source": [
    "test_texts = []\n",
    "\n",
    "for i in range(len(changes_test[0])):\n",
    "    added_lines = \"\"\n",
    "    if len(changes_test[3][i][\"added_code\"]) > 0:\n",
    "        added_lines = \"ADDED LINES: \" + str(changes_test[3][i][\"added_code\"])\n",
    "\n",
    "    removed_lines = \"\"\n",
    "    if len(changes_test[3][i][\"removed_code\"]) > 0:\n",
    "        removed_lines = \"REMOVED LINES: \" + str(changes_test[3][i][\"removed_code\"])\n",
    "\n",
    "    exp_prompt = f\"\"\"\\n\n",
    "    MODIFIED SUBSYSTEMS: {features_test.loc[i,'ns']}\n",
    "    MODIFIED DIRECTORIES: {features_test.loc[i,'nd']}\n",
    "    MODIFIED FILES: {features_test.loc[i,'nf']}\n",
    "    ENTROPY: {features_test.loc[i,'entropy']}\n",
    "    LINES OF CODE ADDED: {features_test.loc[i,'la']}\n",
    "    LINES OF CODE DELETED: {features_test.loc[i,'ld']}\n",
    "    LINES OF CODE IN A FILE BEFORE THE CHANGE: {features_test.loc[i,'lt']}\n",
    "    FIX: {features_test.loc[i,'fix']}\n",
    "    DEVELOPERS THAT CHANGED THE MOFIFIED FILES: {features_test.loc[i,'ndev']}\n",
    "    AVERAGE TIME BETWEEN THE LAST AND THE CURRENT CHANGE: {features_test.loc[i,'age']}\n",
    "    UNIQUE CHANGES TO THE MODIFIED FILES: {features_test.loc[i,'nuc']}\n",
    "    DEVELOPER EXPERIENCE: {get_exp_desc(exp_mean, features_test.loc[i,'exp'])}\n",
    "    RECENT DEVELOPER EXPERIENCE: {get_exp_desc(rexp_mean, features_test.loc[i,'rexp'])}\n",
    "    DEVELOPER EXPERIANCE ON THE CURRENT SUBSYSTEM: {get_exp_desc(sexp_mean, features_test.loc[i,'sexp'])}\n",
    "    \"\"\"\n",
    "\n",
    "    text = f\"\"\"COMMIT MESSAGE: {changes_test[2][i]}\n",
    "              {added_lines}\n",
    "               {removed_lines}\n",
    "               {exp_prompt}\n",
    "               \"\"\"\n",
    "\n",
    "    test_texts.append(text)"
   ]
  },
  {
   "cell_type": "code",
   "execution_count": null,
   "metadata": {
    "id": "ggOzlUw70O9F"
   },
   "outputs": [],
   "source": [
    "y_true_test = []\n",
    "\n",
    "for i in range(len(changes_test[0])):\n",
    "    y_true_test.append(changes_test[1][i])"
   ]
  },
  {
   "cell_type": "code",
   "execution_count": null,
   "metadata": {
    "id": "9APyp5Z9-yLW"
   },
   "outputs": [],
   "source": [
    "import pandas as pd\n",
    "\n",
    "test_df = pd.DataFrame({'text': test_texts, 'label': y_true_test})"
   ]
  },
  {
   "cell_type": "code",
   "execution_count": null,
   "metadata": {
    "id": "M8etRed7_Mmt"
   },
   "outputs": [],
   "source": [
    "from tqdm import tqdm\n",
    "\n",
    "def generate_predictions(model,df_test):\n",
    "    sentences = df_test.text.tolist()\n",
    "    batch_size = 32\n",
    "    all_outputs = []\n",
    "\n",
    "    for i in tqdm(range(0, len(sentences), batch_size)):\n",
    "\n",
    "        batch_sentences = sentences[i:i + batch_size]\n",
    "\n",
    "        inputs = tokenizer(batch_sentences, return_tensors=\"pt\",\n",
    "        padding=True, truncation=True, max_length=512)\n",
    "\n",
    "        inputs = {k: v.to('cuda' if torch.cuda.is_available() else 'cpu')\n",
    "        for k, v in inputs.items()}\n",
    "\n",
    "        with torch.no_grad():\n",
    "            outputs = model(**inputs)\n",
    "            all_outputs.append(outputs['logits'])\n",
    "\n",
    "    final_outputs = torch.cat(all_outputs, dim=0)\n",
    "    probs = []\n",
    "    for i in range(len(final_outputs)):\n",
    "        probs.append(torch.softmax(final_outputs[i], dim=0)[1].cpu().numpy())\n",
    "    print(probs)\n",
    "\n",
    "    df_test['pred_prob']=probs\n",
    "    df_test['predictions']=final_outputs.argmax(axis=1).cpu().numpy()"
   ]
  },
  {
   "cell_type": "code",
   "execution_count": null,
   "metadata": {
    "id": "HBJ5d_Y2_rhr"
   },
   "outputs": [],
   "source": [
    "from sklearn.metrics import accuracy_score, confusion_matrix\n",
    "from sklearn.metrics import balanced_accuracy_score, classification_report, f1_score, precision_score, recall_score, roc_auc_score, auc, roc_curve\n",
    "\n",
    "def get_metrics_result(test_df):\n",
    "    y_test = test_df.label\n",
    "    y_pred = test_df.predictions\n",
    "\n",
    "    print(\"Classification Report:\")\n",
    "    print(classification_report(y_test, y_pred))\n",
    "\n",
    "    print(\"Balanced Accuracy Score:\", balanced_accuracy_score(y_test, y_pred))\n",
    "    print(\"Accuracy Score:\", accuracy_score(y_test, y_pred))\n",
    "\n",
    "    f1 = f1_score(y_test, y_pred, average=\"binary\")\n",
    "    precision = precision_score(y_test, y_pred, average=\"binary\")\n",
    "    recall = recall_score(y_test, y_pred, average=\"binary\")\n",
    "\n",
    "    pred_prob = test_df.pred_prob\n",
    "    fpr, tpr, thres = roc_curve(y_test, pred_prob)\n",
    "    auc_score = auc(fpr, tpr)\n",
    "\n",
    "    #roc_auc = roc_auc_score(y_test, y_pred)\n",
    "\n",
    "    # Calculate G-Mean\n",
    "    tn, fp, fn, tp = confusion_matrix(y_test, y_pred).ravel()\n",
    "    g_mean = np.sqrt((tp / (tp + fn)) * (tn / (tn + fp)))\n",
    "    r1 = tp / (tp + fn)\n",
    "    assert r1 == recall\n",
    "    r0 = tn / (tn + fp)\n",
    "\n",
    "    print(\"F1 Score:\", f1)\n",
    "    print(\"Precision:\", precision)\n",
    "    print(\"Recall:\", recall)\n",
    "    #print(\"ROC AUC Score:\", roc_auc)\n",
    "    print(\"ROC AUC Score:\", auc_score)\n",
    "\n",
    "    print(\"R0:\", r0)\n",
    "    print(\"R1:\", r1)\n",
    "    print(\"G-Mean:\", g_mean)\n",
    "\n",
    "    return auc_score, g_mean\n"
   ]
  },
  {
   "cell_type": "code",
   "execution_count": null,
   "metadata": {
    "colab": {
     "base_uri": "https://localhost:8080/"
    },
    "id": "UIPa10SSkOmQ",
    "outputId": "3d0fbce4-0c5d-4ec8-8b34-7f5ddffaedd0"
   },
   "outputs": [
    {
     "name": "stdout",
     "output_type": "stream",
     "text": [
      "Requirement already satisfied: accelerate in /usr/local/lib/python3.11/dist-packages (1.5.2)\n",
      "Requirement already satisfied: numpy<3.0.0,>=1.17 in /usr/local/lib/python3.11/dist-packages (from accelerate) (2.0.2)\n",
      "Requirement already satisfied: packaging>=20.0 in /usr/local/lib/python3.11/dist-packages (from accelerate) (24.2)\n",
      "Requirement already satisfied: psutil in /usr/local/lib/python3.11/dist-packages (from accelerate) (5.9.5)\n",
      "Requirement already satisfied: pyyaml in /usr/local/lib/python3.11/dist-packages (from accelerate) (6.0.2)\n",
      "Requirement already satisfied: torch>=2.0.0 in /usr/local/lib/python3.11/dist-packages (from accelerate) (2.6.0+cu124)\n",
      "Requirement already satisfied: huggingface-hub>=0.21.0 in /usr/local/lib/python3.11/dist-packages (from accelerate) (0.30.2)\n",
      "Requirement already satisfied: safetensors>=0.4.3 in /usr/local/lib/python3.11/dist-packages (from accelerate) (0.5.3)\n",
      "Requirement already satisfied: filelock in /usr/local/lib/python3.11/dist-packages (from huggingface-hub>=0.21.0->accelerate) (3.18.0)\n",
      "Requirement already satisfied: fsspec>=2023.5.0 in /usr/local/lib/python3.11/dist-packages (from huggingface-hub>=0.21.0->accelerate) (2025.3.2)\n",
      "Requirement already satisfied: requests in /usr/local/lib/python3.11/dist-packages (from huggingface-hub>=0.21.0->accelerate) (2.32.3)\n",
      "Requirement already satisfied: tqdm>=4.42.1 in /usr/local/lib/python3.11/dist-packages (from huggingface-hub>=0.21.0->accelerate) (4.67.1)\n",
      "Requirement already satisfied: typing-extensions>=3.7.4.3 in /usr/local/lib/python3.11/dist-packages (from huggingface-hub>=0.21.0->accelerate) (4.13.2)\n",
      "Requirement already satisfied: networkx in /usr/local/lib/python3.11/dist-packages (from torch>=2.0.0->accelerate) (3.4.2)\n",
      "Requirement already satisfied: jinja2 in /usr/local/lib/python3.11/dist-packages (from torch>=2.0.0->accelerate) (3.1.6)\n",
      "Requirement already satisfied: nvidia-cuda-nvrtc-cu12==12.4.127 in /usr/local/lib/python3.11/dist-packages (from torch>=2.0.0->accelerate) (12.4.127)\n",
      "Requirement already satisfied: nvidia-cuda-runtime-cu12==12.4.127 in /usr/local/lib/python3.11/dist-packages (from torch>=2.0.0->accelerate) (12.4.127)\n",
      "Requirement already satisfied: nvidia-cuda-cupti-cu12==12.4.127 in /usr/local/lib/python3.11/dist-packages (from torch>=2.0.0->accelerate) (12.4.127)\n",
      "Requirement already satisfied: nvidia-cudnn-cu12==9.1.0.70 in /usr/local/lib/python3.11/dist-packages (from torch>=2.0.0->accelerate) (9.1.0.70)\n",
      "Requirement already satisfied: nvidia-cublas-cu12==12.4.5.8 in /usr/local/lib/python3.11/dist-packages (from torch>=2.0.0->accelerate) (12.4.5.8)\n",
      "Requirement already satisfied: nvidia-cufft-cu12==11.2.1.3 in /usr/local/lib/python3.11/dist-packages (from torch>=2.0.0->accelerate) (11.2.1.3)\n",
      "Requirement already satisfied: nvidia-curand-cu12==10.3.5.147 in /usr/local/lib/python3.11/dist-packages (from torch>=2.0.0->accelerate) (10.3.5.147)\n",
      "Requirement already satisfied: nvidia-cusolver-cu12==11.6.1.9 in /usr/local/lib/python3.11/dist-packages (from torch>=2.0.0->accelerate) (11.6.1.9)\n",
      "Requirement already satisfied: nvidia-cusparse-cu12==12.3.1.170 in /usr/local/lib/python3.11/dist-packages (from torch>=2.0.0->accelerate) (12.3.1.170)\n",
      "Requirement already satisfied: nvidia-cusparselt-cu12==0.6.2 in /usr/local/lib/python3.11/dist-packages (from torch>=2.0.0->accelerate) (0.6.2)\n",
      "Requirement already satisfied: nvidia-nccl-cu12==2.21.5 in /usr/local/lib/python3.11/dist-packages (from torch>=2.0.0->accelerate) (2.21.5)\n",
      "Requirement already satisfied: nvidia-nvtx-cu12==12.4.127 in /usr/local/lib/python3.11/dist-packages (from torch>=2.0.0->accelerate) (12.4.127)\n",
      "Requirement already satisfied: nvidia-nvjitlink-cu12==12.4.127 in /usr/local/lib/python3.11/dist-packages (from torch>=2.0.0->accelerate) (12.4.127)\n",
      "Requirement already satisfied: triton==3.2.0 in /usr/local/lib/python3.11/dist-packages (from torch>=2.0.0->accelerate) (3.2.0)\n",
      "Requirement already satisfied: sympy==1.13.1 in /usr/local/lib/python3.11/dist-packages (from torch>=2.0.0->accelerate) (1.13.1)\n",
      "Requirement already satisfied: mpmath<1.4,>=1.1.0 in /usr/local/lib/python3.11/dist-packages (from sympy==1.13.1->torch>=2.0.0->accelerate) (1.3.0)\n",
      "Requirement already satisfied: MarkupSafe>=2.0 in /usr/local/lib/python3.11/dist-packages (from jinja2->torch>=2.0.0->accelerate) (3.0.2)\n",
      "Requirement already satisfied: charset-normalizer<4,>=2 in /usr/local/lib/python3.11/dist-packages (from requests->huggingface-hub>=0.21.0->accelerate) (3.4.1)\n",
      "Requirement already satisfied: idna<4,>=2.5 in /usr/local/lib/python3.11/dist-packages (from requests->huggingface-hub>=0.21.0->accelerate) (3.10)\n",
      "Requirement already satisfied: urllib3<3,>=1.21.1 in /usr/local/lib/python3.11/dist-packages (from requests->huggingface-hub>=0.21.0->accelerate) (2.3.0)\n",
      "Requirement already satisfied: certifi>=2017.4.17 in /usr/local/lib/python3.11/dist-packages (from requests->huggingface-hub>=0.21.0->accelerate) (2025.1.31)\n",
      "Looking in indexes: https://pypi.org/simple/\n",
      "Collecting bitsandbytes\n",
      "  Using cached bitsandbytes-0.45.5-py3-none-manylinux_2_24_x86_64.whl.metadata (5.0 kB)\n",
      "Requirement already satisfied: torch<3,>=2.0 in /usr/local/lib/python3.11/dist-packages (from bitsandbytes) (2.6.0+cu124)\n",
      "Requirement already satisfied: numpy>=1.17 in /usr/local/lib/python3.11/dist-packages (from bitsandbytes) (2.0.2)\n",
      "Requirement already satisfied: filelock in /usr/local/lib/python3.11/dist-packages (from torch<3,>=2.0->bitsandbytes) (3.18.0)\n",
      "Requirement already satisfied: typing-extensions>=4.10.0 in /usr/local/lib/python3.11/dist-packages (from torch<3,>=2.0->bitsandbytes) (4.13.2)\n",
      "Requirement already satisfied: networkx in /usr/local/lib/python3.11/dist-packages (from torch<3,>=2.0->bitsandbytes) (3.4.2)\n",
      "Requirement already satisfied: jinja2 in /usr/local/lib/python3.11/dist-packages (from torch<3,>=2.0->bitsandbytes) (3.1.6)\n",
      "Requirement already satisfied: fsspec in /usr/local/lib/python3.11/dist-packages (from torch<3,>=2.0->bitsandbytes) (2025.3.2)\n",
      "Requirement already satisfied: nvidia-cuda-nvrtc-cu12==12.4.127 in /usr/local/lib/python3.11/dist-packages (from torch<3,>=2.0->bitsandbytes) (12.4.127)\n",
      "Requirement already satisfied: nvidia-cuda-runtime-cu12==12.4.127 in /usr/local/lib/python3.11/dist-packages (from torch<3,>=2.0->bitsandbytes) (12.4.127)\n",
      "Requirement already satisfied: nvidia-cuda-cupti-cu12==12.4.127 in /usr/local/lib/python3.11/dist-packages (from torch<3,>=2.0->bitsandbytes) (12.4.127)\n",
      "Requirement already satisfied: nvidia-cudnn-cu12==9.1.0.70 in /usr/local/lib/python3.11/dist-packages (from torch<3,>=2.0->bitsandbytes) (9.1.0.70)\n",
      "Requirement already satisfied: nvidia-cublas-cu12==12.4.5.8 in /usr/local/lib/python3.11/dist-packages (from torch<3,>=2.0->bitsandbytes) (12.4.5.8)\n",
      "Requirement already satisfied: nvidia-cufft-cu12==11.2.1.3 in /usr/local/lib/python3.11/dist-packages (from torch<3,>=2.0->bitsandbytes) (11.2.1.3)\n",
      "Requirement already satisfied: nvidia-curand-cu12==10.3.5.147 in /usr/local/lib/python3.11/dist-packages (from torch<3,>=2.0->bitsandbytes) (10.3.5.147)\n",
      "Requirement already satisfied: nvidia-cusolver-cu12==11.6.1.9 in /usr/local/lib/python3.11/dist-packages (from torch<3,>=2.0->bitsandbytes) (11.6.1.9)\n",
      "Requirement already satisfied: nvidia-cusparse-cu12==12.3.1.170 in /usr/local/lib/python3.11/dist-packages (from torch<3,>=2.0->bitsandbytes) (12.3.1.170)\n",
      "Requirement already satisfied: nvidia-cusparselt-cu12==0.6.2 in /usr/local/lib/python3.11/dist-packages (from torch<3,>=2.0->bitsandbytes) (0.6.2)\n",
      "Requirement already satisfied: nvidia-nccl-cu12==2.21.5 in /usr/local/lib/python3.11/dist-packages (from torch<3,>=2.0->bitsandbytes) (2.21.5)\n",
      "Requirement already satisfied: nvidia-nvtx-cu12==12.4.127 in /usr/local/lib/python3.11/dist-packages (from torch<3,>=2.0->bitsandbytes) (12.4.127)\n",
      "Requirement already satisfied: nvidia-nvjitlink-cu12==12.4.127 in /usr/local/lib/python3.11/dist-packages (from torch<3,>=2.0->bitsandbytes) (12.4.127)\n",
      "Requirement already satisfied: triton==3.2.0 in /usr/local/lib/python3.11/dist-packages (from torch<3,>=2.0->bitsandbytes) (3.2.0)\n",
      "Requirement already satisfied: sympy==1.13.1 in /usr/local/lib/python3.11/dist-packages (from torch<3,>=2.0->bitsandbytes) (1.13.1)\n",
      "Requirement already satisfied: mpmath<1.4,>=1.1.0 in /usr/local/lib/python3.11/dist-packages (from sympy==1.13.1->torch<3,>=2.0->bitsandbytes) (1.3.0)\n",
      "Requirement already satisfied: MarkupSafe>=2.0 in /usr/local/lib/python3.11/dist-packages (from jinja2->torch<3,>=2.0->bitsandbytes) (3.0.2)\n",
      "Downloading bitsandbytes-0.45.5-py3-none-manylinux_2_24_x86_64.whl (76.1 MB)\n",
      "\u001b[2K   \u001b[90m━━━━━━━━━━━━━━━━━━━━━━━━━━━━━━━━━━━━━━━━\u001b[0m \u001b[32m76.1/76.1 MB\u001b[0m \u001b[31m29.0 MB/s\u001b[0m eta \u001b[36m0:00:00\u001b[0m\n",
      "\u001b[?25hInstalling collected packages: bitsandbytes\n",
      "Successfully installed bitsandbytes-0.45.5\n"
     ]
    }
   ],
   "source": [
    "!pip install accelerate\n",
    "!pip install -i https://pypi.org/simple/ bitsandbytes"
   ]
  },
  {
   "cell_type": "code",
   "execution_count": null,
   "metadata": {},
   "outputs": [],
   "source": [
    "token = <HF TOKEN>"
   ]
  },
  {
   "cell_type": "code",
   "execution_count": null,
   "metadata": {
    "colab": {
     "base_uri": "https://localhost:8080/",
     "height": 244,
     "referenced_widgets": [
      "2e30ba5dfbf347ba916d7d8402434901",
      "7b8718515f3b4344810fba304db3bf49",
      "9774f2b8fda947eaa7a0843ba8676ddd",
      "035c7bfa28be45a2867e020c86628fad",
      "835feb6c305940ee96661424dfbb8140",
      "fe14c8b040e74d5a9d9883173c6ef6c6",
      "046417f676c14d68be638e960e116754",
      "9bffef9fee0c4121bff472a6422d24b4",
      "c77036de83d24b3b80018a8bce275ffb",
      "f26531c047224744990d1ed97bcc3950",
      "d4a00d0f16c44cfa9b176ad2be3b6aba",
      "5b690cdf0c594362be27e51c88b8c063",
      "b090770254eb41c9972d14163f7003c0",
      "e76aac7a31c84e76b464e5f16966f668",
      "0282baaa4c4e4a59ab43133b5d138605",
      "1b873a0295b5402e808b30bf3c77ba47",
      "3e8debe14e4e4436bf405671299a9c0e",
      "9dcf591be1ce44a9b88e5c6a25eac881",
      "12259ddd87574fbe88b497acac372f95",
      "29cf9e5bd02d4b2ab28c9e485ae6b200",
      "21c7e88bad534ad9b4a390f789493894",
      "69edddfe50f94500997aef4107b276cd",
      "1a845c42cd69469f9bb6198a49f8d778",
      "a3ecc60ef057497b89b9c6d7fe903978",
      "e039f0fdb60f42fd8228af9e59984672",
      "b3323e391c9342159975b42d1ba60d43",
      "d044f8b1eb0544d684a9e4311a6e4430",
      "68e4545bd7804d51b647b4c515e7f8ef",
      "64c180d7996b454a8d40b6810090faed",
      "07cd57a7edaa409d951959f7b4e64cee",
      "ec3bddfa99ff4b7e9d413f48ac6969b8",
      "5d16ec8c1d08453d81ea1437214b32c6",
      "02b3e0aff8fc4a7da9a825d2c21af85f",
      "1b5796317be748b39f659ad75e269830",
      "f9338118c77d45afb5977a58531b3992",
      "31ee50a5c2324b7897814967f47af3be",
      "cf8eec0cad3f4136932bd707ae4ff245",
      "bf23d613e17140a8a3e81d1d3e2c5375",
      "25eb240d007d49baa0d0285344345f20",
      "1f92d3ddfb904f119558a0b80e1e3d9c",
      "f151a1f09d5f4288bfd1d6fd3fb50734",
      "b2e450a957e344faabc4a39d42a36c5b",
      "96f29d6ea6704af285b2fc0d71fc9b16",
      "8ef3079e7cff4391b7d12ebec85e5b23",
      "7c381075d883459dbd7fdf9a5d7dc0a6",
      "8abcd017e617430aa4155f1139ccd107",
      "809842f4694e43d295fefa97e0e868e3",
      "863176d5416047319047905da7c99719",
      "9af5ef5080a243f582274d57903f8c19",
      "7cea31c22018490b96ac9b184036522b",
      "49024decd5494732adcbd86360f7aff0",
      "0ee6e4f7aab84846b46b43d29748e4d7",
      "ed63c3530bb745d1be4e97414ed7a0a6",
      "101015f62c9b42e89a30b5b4155bacc8",
      "55a66db47597425cae501bd7a993c6f3",
      "125852cb30164c86bbb03b3f5e8ad9dc",
      "ca7628f4f7044eea84a8c481b8263ed0",
      "5291f5d7cec14be0b1dcd0e858db14c5",
      "6820911720e34902aa80ae4ea6bc969a",
      "db2723412d18403ea15a571c5a61cf5d",
      "71465863985d4ff6856c24b7a79ca44a",
      "00ae020981c3490cb4ebcbefbffb2e3e",
      "afaab0dd08d74814b3b827b8b764ff7d",
      "e686f4ce6adc4e3fa7efe6911a9a9892",
      "31a597ac998542cb8c2fb8514ee5c99f",
      "2fa7e70370a648c9973d7ba9cb041ccc"
     ]
    },
    "id": "G-gpUl00lAQN",
    "outputId": "fa998ef6-d493-4694-ae87-0a32723c9835"
   },
   "outputs": [
    {
     "data": {
      "application/vnd.jupyter.widget-view+json": {
       "model_id": "2e30ba5dfbf347ba916d7d8402434901",
       "version_major": 2,
       "version_minor": 0
      },
      "text/plain": [
       "config.json:   0%|          | 0.00/637 [00:00<?, ?B/s]"
      ]
     },
     "metadata": {},
     "output_type": "display_data"
    },
    {
     "data": {
      "application/vnd.jupyter.widget-view+json": {
       "model_id": "5b690cdf0c594362be27e51c88b8c063",
       "version_major": 2,
       "version_minor": 0
      },
      "text/plain": [
       "model.safetensors.index.json:   0%|          | 0.00/25.1k [00:00<?, ?B/s]"
      ]
     },
     "metadata": {},
     "output_type": "display_data"
    },
    {
     "data": {
      "application/vnd.jupyter.widget-view+json": {
       "model_id": "1a845c42cd69469f9bb6198a49f8d778",
       "version_major": 2,
       "version_minor": 0
      },
      "text/plain": [
       "Fetching 2 files:   0%|          | 0/2 [00:00<?, ?it/s]"
      ]
     },
     "metadata": {},
     "output_type": "display_data"
    },
    {
     "data": {
      "application/vnd.jupyter.widget-view+json": {
       "model_id": "1b5796317be748b39f659ad75e269830",
       "version_major": 2,
       "version_minor": 0
      },
      "text/plain": [
       "model-00001-of-00002.safetensors:   0%|          | 0.00/9.98G [00:00<?, ?B/s]"
      ]
     },
     "metadata": {},
     "output_type": "display_data"
    },
    {
     "data": {
      "application/vnd.jupyter.widget-view+json": {
       "model_id": "7c381075d883459dbd7fdf9a5d7dc0a6",
       "version_major": 2,
       "version_minor": 0
      },
      "text/plain": [
       "model-00002-of-00002.safetensors:   0%|          | 0.00/3.50G [00:00<?, ?B/s]"
      ]
     },
     "metadata": {},
     "output_type": "display_data"
    },
    {
     "data": {
      "application/vnd.jupyter.widget-view+json": {
       "model_id": "125852cb30164c86bbb03b3f5e8ad9dc",
       "version_major": 2,
       "version_minor": 0
      },
      "text/plain": [
       "Loading checkpoint shards:   0%|          | 0/2 [00:00<?, ?it/s]"
      ]
     },
     "metadata": {},
     "output_type": "display_data"
    },
    {
     "name": "stderr",
     "output_type": "stream",
     "text": [
      "Some weights of LlamaForSequenceClassification were not initialized from the model checkpoint at meta-llama/CodeLlama-7b-hf and are newly initialized: ['score.weight']\n",
      "You should probably TRAIN this model on a down-stream task to be able to use it for predictions and inference.\n"
     ]
    }
   ],
   "source": [
    "import torch\n",
    "from transformers import BitsAndBytesConfig, AutoModelForSequenceClassification\n",
    "\n",
    "quantization_config = BitsAndBytesConfig(\n",
    "    load_in_4bit = True,\n",
    "    bnb_4bit_quant_type = 'nf4',\n",
    "    bnb_4bit_use_double_quant = True,\n",
    "    bnb_4bit_compute_dtype = torch.bfloat16\n",
    ")\n",
    "\n",
    "model_name = \"meta-llama/CodeLlama-7b-hf\"\n",
    "\n",
    "model = AutoModelForSequenceClassification.from_pretrained(\n",
    "    model_name,\n",
    "    quantization_config=quantization_config,\n",
    "    num_labels=2,\n",
    "    device_map='auto', token=token\n",
    ")"
   ]
  },
  {
   "cell_type": "code",
   "execution_count": null,
   "metadata": {
    "colab": {
     "base_uri": "https://localhost:8080/",
     "height": 145,
     "referenced_widgets": [
      "3594cf5f60e24cf5b6bf0ae1f120919f",
      "bbe1c7fa099148e180b9036a971438d8",
      "4d608a9688654ebfaef2ec442fd9d467",
      "2e13b1c3ef3446e6b245f5a50410efac",
      "29bdf143e9c84c168d9cdf34e332064c",
      "e90ee952a471497b8844375971a71777",
      "3078481625f2477ab2ac4d58f3f62835",
      "5905be4c10c9411a82bbded77cae1696",
      "0e8f9b1934924e52a461161b9a49188e",
      "1ad85231459f4d3ab2f010ac8051c639",
      "44245bee4b4846a4b9cf4660919b8a1a",
      "5373a7c35e2a48beac4f7d3141ef6a31",
      "85be01471da74e708f51e04982d0b295",
      "80fbaea1a86048288a23accb0eaa42fd",
      "07205d56f04e440982f9e3c0f82ad8f7",
      "529e02c29a19486fae9eaea45cd96d48",
      "57c2365e78bd479f8819510fbec57c4c",
      "2ea96db5a8174a6a80e82483caee2fcc",
      "a7790ebb49b2447fad0b1b305144c4cd",
      "323d3d071d8b4a4aa3ea3bca05623ebe",
      "d18238ca5a744b2296c4b315f9679625",
      "3c2cad12d8f4442084a9c3688d6c03db",
      "e6b9ca4c7a9d4c8fb2290a8ab9faffd7",
      "8dedfaea73e64775ae4e506bf702291a",
      "4b3a94232d0349f4b557b106b5a1ea40",
      "90c831e9cc464cdf8840524626cecaf1",
      "678c965664be40e4b9cd9fbe3e777772",
      "9113e03a2fd547c4bba16369cc3e38a5",
      "2a2d762ed5654129b29f959c9b5b001c",
      "ba62bdd2ed3a4d0fa1d8c012da094be5",
      "fca7e486e18f4762ad665f0835a2ca09",
      "21439c23dd354a96b556009dbde19dd8",
      "913f2b0fc3f94c808c67365d905289df",
      "b1bc738967d04e50ae037d4b988a96a8",
      "ec6c1d4e70e645eea06259130c8f2033",
      "0c72b78a9c824b7da6b852601bc236da",
      "d8579fdd601a495986096e2bdacb49c3",
      "0f1ca74b347b4b199d236fbef0cf19ab",
      "82b0da738c944d479cf232589c4965ea",
      "5e3532ace7644b70ac018826308a2aa0",
      "edb7e97865e14435a16a45c81b712c4b",
      "5ab934c61af3420ab6ebcca896ea9020",
      "c008c4f83f064823b0310257af7b0ca1",
      "ec7704e001294f96afd06795c7fd4013"
     ]
    },
    "id": "Drx7yWc_oLlT",
    "outputId": "6336df42-c814-4eb9-c36d-07664e192fb5"
   },
   "outputs": [
    {
     "data": {
      "application/vnd.jupyter.widget-view+json": {
       "model_id": "3594cf5f60e24cf5b6bf0ae1f120919f",
       "version_major": 2,
       "version_minor": 0
      },
      "text/plain": [
       "tokenizer_config.json:   0%|          | 0.00/749 [00:00<?, ?B/s]"
      ]
     },
     "metadata": {},
     "output_type": "display_data"
    },
    {
     "data": {
      "application/vnd.jupyter.widget-view+json": {
       "model_id": "5373a7c35e2a48beac4f7d3141ef6a31",
       "version_major": 2,
       "version_minor": 0
      },
      "text/plain": [
       "tokenizer.model:   0%|          | 0.00/500k [00:00<?, ?B/s]"
      ]
     },
     "metadata": {},
     "output_type": "display_data"
    },
    {
     "data": {
      "application/vnd.jupyter.widget-view+json": {
       "model_id": "e6b9ca4c7a9d4c8fb2290a8ab9faffd7",
       "version_major": 2,
       "version_minor": 0
      },
      "text/plain": [
       "tokenizer.json:   0%|          | 0.00/1.84M [00:00<?, ?B/s]"
      ]
     },
     "metadata": {},
     "output_type": "display_data"
    },
    {
     "data": {
      "application/vnd.jupyter.widget-view+json": {
       "model_id": "b1bc738967d04e50ae037d4b988a96a8",
       "version_major": 2,
       "version_minor": 0
      },
      "text/plain": [
       "special_tokens_map.json:   0%|          | 0.00/411 [00:00<?, ?B/s]"
      ]
     },
     "metadata": {},
     "output_type": "display_data"
    }
   ],
   "source": [
    "from transformers import AutoTokenizer\n",
    "\n",
    "tokenizer = AutoTokenizer.from_pretrained(model_name, add_prefix_space=True,\n",
    "                                          token=token)\n",
    "\n",
    "tokenizer.pad_token_id = tokenizer.eos_token_id\n",
    "tokenizer.pad_token = tokenizer.eos_token"
   ]
  },
  {
   "cell_type": "code",
   "execution_count": null,
   "metadata": {
    "id": "kFKaDaIk__P2"
   },
   "outputs": [],
   "source": [
    "model.to('cuda')\n",
    "model.config.pad_token_id = tokenizer.pad_token_id\n",
    "model.config.use_cache = False\n",
    "model.config.pretraining_tp = 1"
   ]
  },
  {
   "cell_type": "markdown",
   "metadata": {
    "id": "z7UKEs3-1BrZ"
   },
   "source": [
    "## Model loading (after fine-tuning)"
   ]
  },
  {
   "cell_type": "code",
   "execution_count": null,
   "metadata": {
    "colab": {
     "base_uri": "https://localhost:8080/"
    },
    "id": "WnQb0tgJBSOY",
    "outputId": "649bcf98-b333-459c-e3ed-d76883521e02"
   },
   "outputs": [
    {
     "name": "stdout",
     "output_type": "stream",
     "text": [
      "Mounted at /content/drive\n"
     ]
    }
   ],
   "source": [
    "from google.colab import drive\n",
    "drive.mount('/content/drive')"
   ]
  },
  {
   "cell_type": "code",
   "execution_count": null,
   "metadata": {
    "colab": {
     "base_uri": "https://localhost:8080/"
    },
    "id": "G1ZAOWWz1fk4",
    "outputId": "aa15f575-a4f8-4360-9dd9-ea04b42c69eb"
   },
   "outputs": [
    {
     "name": "stdout",
     "output_type": "stream",
     "text": [
      "total 69649\n",
      "-rw------- 1 root root      779 Apr 27 02:51 adapter_config.json\n",
      "-rw------- 1 root root 67176168 Apr 27 02:51 adapter_model.safetensors\n",
      "drwx------ 2 root root     4096 Apr 27 02:51 checkpoint-1024\n",
      "-rw------- 1 root root     5100 Apr 27 02:51 README.md\n",
      "drwx------ 2 root root     4096 Apr 27 00:34 runs\n",
      "-rw------- 1 root root      538 Apr 27 02:51 special_tokens_map.json\n",
      "-rw------- 1 root root     1897 Apr 27 02:51 tokenizer_config.json\n",
      "-rw------- 1 root root  3620830 Apr 27 02:51 tokenizer.json\n",
      "-rw------- 1 root root   500058 Apr 27 02:51 tokenizer.model\n",
      "-rw------- 1 root root     5432 Apr 27 02:51 training_args.bin\n"
     ]
    }
   ],
   "source": [
    "!ls -l /content/drive/MyDrive/UFPE/Tese/code_llama/auto/trained_weigths"
   ]
  },
  {
   "cell_type": "code",
   "execution_count": null,
   "metadata": {
    "id": "ScI4BPQN3Zg2"
   },
   "outputs": [],
   "source": [
    "from peft import PeftModel\n",
    "\n",
    "model_name = \"/content/drive/MyDrive/UFPE/Tese/code_llama/auto/trained_weigths\"\n",
    "\n",
    "model = PeftModel.from_pretrained(model, model_name)"
   ]
  },
  {
   "cell_type": "code",
   "execution_count": null,
   "metadata": {
    "colab": {
     "base_uri": "https://localhost:8080/"
    },
    "id": "jxeH_PJbbac8",
    "outputId": "bf003db4-80c1-4d3e-da86-921dd2500aed"
   },
   "outputs": [
    {
     "name": "stdout",
     "output_type": "stream",
     "text": [
      "Requirement already satisfied: bitsandbytes in /usr/local/lib/python3.11/dist-packages (0.45.5)\n",
      "Requirement already satisfied: torch<3,>=2.0 in /usr/local/lib/python3.11/dist-packages (from bitsandbytes) (2.6.0+cu124)\n",
      "Requirement already satisfied: numpy>=1.17 in /usr/local/lib/python3.11/dist-packages (from bitsandbytes) (2.0.2)\n",
      "Requirement already satisfied: filelock in /usr/local/lib/python3.11/dist-packages (from torch<3,>=2.0->bitsandbytes) (3.18.0)\n",
      "Requirement already satisfied: typing-extensions>=4.10.0 in /usr/local/lib/python3.11/dist-packages (from torch<3,>=2.0->bitsandbytes) (4.13.2)\n",
      "Requirement already satisfied: networkx in /usr/local/lib/python3.11/dist-packages (from torch<3,>=2.0->bitsandbytes) (3.4.2)\n",
      "Requirement already satisfied: jinja2 in /usr/local/lib/python3.11/dist-packages (from torch<3,>=2.0->bitsandbytes) (3.1.6)\n",
      "Requirement already satisfied: fsspec in /usr/local/lib/python3.11/dist-packages (from torch<3,>=2.0->bitsandbytes) (2025.3.2)\n",
      "Requirement already satisfied: nvidia-cuda-nvrtc-cu12==12.4.127 in /usr/local/lib/python3.11/dist-packages (from torch<3,>=2.0->bitsandbytes) (12.4.127)\n",
      "Requirement already satisfied: nvidia-cuda-runtime-cu12==12.4.127 in /usr/local/lib/python3.11/dist-packages (from torch<3,>=2.0->bitsandbytes) (12.4.127)\n",
      "Requirement already satisfied: nvidia-cuda-cupti-cu12==12.4.127 in /usr/local/lib/python3.11/dist-packages (from torch<3,>=2.0->bitsandbytes) (12.4.127)\n",
      "Requirement already satisfied: nvidia-cudnn-cu12==9.1.0.70 in /usr/local/lib/python3.11/dist-packages (from torch<3,>=2.0->bitsandbytes) (9.1.0.70)\n",
      "Requirement already satisfied: nvidia-cublas-cu12==12.4.5.8 in /usr/local/lib/python3.11/dist-packages (from torch<3,>=2.0->bitsandbytes) (12.4.5.8)\n",
      "Requirement already satisfied: nvidia-cufft-cu12==11.2.1.3 in /usr/local/lib/python3.11/dist-packages (from torch<3,>=2.0->bitsandbytes) (11.2.1.3)\n",
      "Requirement already satisfied: nvidia-curand-cu12==10.3.5.147 in /usr/local/lib/python3.11/dist-packages (from torch<3,>=2.0->bitsandbytes) (10.3.5.147)\n",
      "Requirement already satisfied: nvidia-cusolver-cu12==11.6.1.9 in /usr/local/lib/python3.11/dist-packages (from torch<3,>=2.0->bitsandbytes) (11.6.1.9)\n",
      "Requirement already satisfied: nvidia-cusparse-cu12==12.3.1.170 in /usr/local/lib/python3.11/dist-packages (from torch<3,>=2.0->bitsandbytes) (12.3.1.170)\n",
      "Requirement already satisfied: nvidia-cusparselt-cu12==0.6.2 in /usr/local/lib/python3.11/dist-packages (from torch<3,>=2.0->bitsandbytes) (0.6.2)\n",
      "Requirement already satisfied: nvidia-nccl-cu12==2.21.5 in /usr/local/lib/python3.11/dist-packages (from torch<3,>=2.0->bitsandbytes) (2.21.5)\n",
      "Requirement already satisfied: nvidia-nvtx-cu12==12.4.127 in /usr/local/lib/python3.11/dist-packages (from torch<3,>=2.0->bitsandbytes) (12.4.127)\n",
      "Requirement already satisfied: nvidia-nvjitlink-cu12==12.4.127 in /usr/local/lib/python3.11/dist-packages (from torch<3,>=2.0->bitsandbytes) (12.4.127)\n",
      "Requirement already satisfied: triton==3.2.0 in /usr/local/lib/python3.11/dist-packages (from torch<3,>=2.0->bitsandbytes) (3.2.0)\n",
      "Requirement already satisfied: sympy==1.13.1 in /usr/local/lib/python3.11/dist-packages (from torch<3,>=2.0->bitsandbytes) (1.13.1)\n",
      "Requirement already satisfied: mpmath<1.4,>=1.1.0 in /usr/local/lib/python3.11/dist-packages (from sympy==1.13.1->torch<3,>=2.0->bitsandbytes) (1.3.0)\n",
      "Requirement already satisfied: MarkupSafe>=2.0 in /usr/local/lib/python3.11/dist-packages (from jinja2->torch<3,>=2.0->bitsandbytes) (3.0.2)\n"
     ]
    }
   ],
   "source": [
    "!pip install -U bitsandbytes"
   ]
  },
  {
   "cell_type": "code",
   "execution_count": null,
   "metadata": {
    "colab": {
     "base_uri": "https://localhost:8080/"
    },
    "id": "ic63_Mz0CNpk",
    "outputId": "100af10d-fc92-4477-c2d1-9695395708f6"
   },
   "outputs": [
    {
     "name": "stderr",
     "output_type": "stream",
     "text": [
      "100%|██████████| 172/172 [04:43<00:00,  1.65s/it]\n"
     ]
    },
    {
     "name": "stdout",
     "output_type": "stream",
     "text": [
      "[array(0.664, dtype=float16), array(0.802, dtype=float16), array(0.81, dtype=float16), array(0.8564, dtype=float16), array(0.926, dtype=float16), array(0.57, dtype=float16), array(0.1299, dtype=float16), array(0.7915, dtype=float16), array(0.8286, dtype=float16), array(0.1793, dtype=float16), array(0.929, dtype=float16), array(0.321, dtype=float16), array(0.1937, dtype=float16), array(0.1538, dtype=float16), array(0.845, dtype=float16), array(0.9565, dtype=float16), array(0.944, dtype=float16), array(0.6353, dtype=float16), array(0.908, dtype=float16), array(0.0981, dtype=float16), array(0.9507, dtype=float16), array(0.9844, dtype=float16), array(0.11945, dtype=float16), array(0.0453, dtype=float16), array(0.995, dtype=float16), array(0.995, dtype=float16), array(0.857, dtype=float16), array(0.2129, dtype=float16), array(0.6084, dtype=float16), array(0.991, dtype=float16), array(0.9297, dtype=float16), array(0.4219, dtype=float16), array(0.04694, dtype=float16), array(0.8765, dtype=float16), array(0.6826, dtype=float16), array(0.4893, dtype=float16), array(0.7676, dtype=float16), array(0.975, dtype=float16), array(0.4836, dtype=float16), array(0.9575, dtype=float16), array(0.96, dtype=float16), array(0.9897, dtype=float16), array(0.944, dtype=float16), array(0.9946, dtype=float16), array(0.296, dtype=float16), array(0.7363, dtype=float16), array(0.05966, dtype=float16), array(0.0919, dtype=float16), array(0.1411, dtype=float16), array(0.2118, dtype=float16), array(0.4578, dtype=float16), array(0.1229, dtype=float16), array(0.969, dtype=float16), array(0.952, dtype=float16), array(0.993, dtype=float16), array(0.887, dtype=float16), array(0.02881, dtype=float16), array(0.2683, dtype=float16), array(0.2964, dtype=float16), array(0.949, dtype=float16), array(0.06012, dtype=float16), array(0.4236, dtype=float16), array(0.9565, dtype=float16), array(0.9116, dtype=float16), array(0.7837, dtype=float16), array(0.6245, dtype=float16), array(0.08185, dtype=float16), array(0.962, dtype=float16), array(0.0873, dtype=float16), array(0.04935, dtype=float16), array(0.01301, dtype=float16), array(0.079, dtype=float16), array(0.001343, dtype=float16), array(0.6665, dtype=float16), array(0.001174, dtype=float16), array(0.000172, dtype=float16), array(4.315e-05, dtype=float16), array(0.02695, dtype=float16), array(0.01878, dtype=float16), array(0.01846, dtype=float16), array(0.6445, dtype=float16), array(0.775, dtype=float16), array(5.5e-06, dtype=float16), array(0.003061, dtype=float16), array(0.02681, dtype=float16), array(0.152, dtype=float16), array(0.03635, dtype=float16), array(0.227, dtype=float16), array(0.006073, dtype=float16), array(0.7246, dtype=float16), array(0.1349, dtype=float16), array(0.04764, dtype=float16), array(0.05106, dtype=float16), array(0.01743, dtype=float16), array(0.0469, dtype=float16), array(0.2021, dtype=float16), array(0.0258, dtype=float16), array(0.012215, dtype=float16), array(0.1932, dtype=float16), array(0.0445, dtype=float16), array(0.0383, dtype=float16), array(0.004433, dtype=float16), array(0.1587, dtype=float16), array(0.003483, dtype=float16), array(0.0446, dtype=float16), array(0.9844, dtype=float16), array(0.0247, dtype=float16), array(2.28e-05, dtype=float16), array(0.008675, dtype=float16), array(1.115e-05, dtype=float16), array(0.000787, dtype=float16), array(0.744, dtype=float16), array(0.004765, dtype=float16), array(0.05698, dtype=float16), array(0.00547, dtype=float16), array(0.5273, dtype=float16), array(0.0371, dtype=float16), array(0.0753, dtype=float16), array(0.02165, dtype=float16), array(0.0288, dtype=float16), array(0.5894, dtype=float16), array(0.002094, dtype=float16), array(0.6665, dtype=float16), array(0.002153, dtype=float16), array(0.03867, dtype=float16), array(0.0288, dtype=float16), array(0.001174, dtype=float16), array(0.1813, dtype=float16), array(0.912, dtype=float16), array(0.02744, dtype=float16), array(0.09686, dtype=float16), array(0.3735, dtype=float16), array(0.005436, dtype=float16), array(0.2412, dtype=float16), array(0.001206, dtype=float16), array(0.2441, dtype=float16), array(0.3396, dtype=float16), array(0.10846, dtype=float16), array(0.013336, dtype=float16), array(0.347, dtype=float16), array(0.02216, dtype=float16), array(0.02344, dtype=float16), array(0.3135, dtype=float16), array(0.401, dtype=float16), array(0.1028, dtype=float16), array(0.572, dtype=float16), array(0.001614, dtype=float16), array(0.01176, dtype=float16), array(2.885e-05, dtype=float16), array(0.889, dtype=float16), array(0.0006757, dtype=float16), array(0.8433, dtype=float16), array(0.0329, dtype=float16), array(0.04184, dtype=float16), array(0.6797, dtype=float16), array(0.000182, dtype=float16), array(0.0003302, dtype=float16), array(0.0003006, dtype=float16), array(0.001734, dtype=float16), array(0.0001774, dtype=float16), array(0.1685, dtype=float16), array(0.02827, dtype=float16), array(0.002035, dtype=float16), array(0.2288, dtype=float16), array(0.5347, dtype=float16), array(0.9917, dtype=float16), array(1.836e-05, dtype=float16), array(0.003447, dtype=float16), array(0.12213, dtype=float16), array(0.001333, dtype=float16), array(0.00123, dtype=float16), array(0.785, dtype=float16), array(0.01388, dtype=float16), array(0.03976, dtype=float16), array(0.02763, dtype=float16), array(0.69, dtype=float16), array(0.95, dtype=float16), array(0.0005336, dtype=float16), array(0.0001788, dtype=float16), array(0.0003521, dtype=float16), array(0.0009418, dtype=float16), array(0.02626, dtype=float16), array(0.142, dtype=float16), array(0.2294, dtype=float16), array(0.987, dtype=float16), array(0.639, dtype=float16), array(0.2756, dtype=float16), array(0.02338, dtype=float16), array(0.877, dtype=float16), array(0.01244, dtype=float16), array(0.005936, dtype=float16), array(0.413, dtype=float16), array(0.391, dtype=float16), array(0.9893, dtype=float16), array(0.10974, dtype=float16), array(0.00345, dtype=float16), array(0.008026, dtype=float16), array(0.2866, dtype=float16), array(0.05728, dtype=float16), array(0.707, dtype=float16), array(0.0492, dtype=float16), array(0.4028, dtype=float16), array(0.1182, dtype=float16), array(0.06415, dtype=float16), array(0.1995, dtype=float16), array(0.2428, dtype=float16), array(0.4275, dtype=float16), array(0.1759, dtype=float16), array(0.06445, dtype=float16), array(0.695, dtype=float16), array(0.8955, dtype=float16), array(0.0574, dtype=float16), array(0.949, dtype=float16), array(0.895, dtype=float16), array(0.06934, dtype=float16), array(0.01993, dtype=float16), array(6.33e-05, dtype=float16), array(0.651, dtype=float16), array(0.1716, dtype=float16), array(0.408, dtype=float16), array(0.1569, dtype=float16), array(0.002817, dtype=float16), array(0.0001318, dtype=float16), array(0.1715, dtype=float16), array(0.1112, dtype=float16), array(0.09344, dtype=float16), array(0.2993, dtype=float16), array(0.9775, dtype=float16), array(0.002356, dtype=float16), array(0.737, dtype=float16), array(0.1359, dtype=float16), array(0.004025, dtype=float16), array(0.6475, dtype=float16), array(0.0633, dtype=float16), array(0.00605, dtype=float16), array(0.0678, dtype=float16), array(0.010925, dtype=float16), array(0.583, dtype=float16), array(0.1906, dtype=float16), array(0.00064, dtype=float16), array(0.272, dtype=float16), array(0.001346, dtype=float16), array(0.02638, dtype=float16), array(0.993, dtype=float16), array(0.643, dtype=float16), array(0.001046, dtype=float16), array(0.664, dtype=float16), array(0.002043, dtype=float16), array(0.0005593, dtype=float16), array(0.001359, dtype=float16), array(0.002975, dtype=float16), array(0.0635, dtype=float16), array(0.0005603, dtype=float16), array(1.e-07, dtype=float16), array(0.0001187, dtype=float16), array(0.5723, dtype=float16), array(0.275, dtype=float16), array(0.84, dtype=float16), array(0.1752, dtype=float16), array(8.154e-05, dtype=float16), array(0.002462, dtype=float16), array(0.002195, dtype=float16), array(0.0005035, dtype=float16), array(0.08386, dtype=float16), array(0.2032, dtype=float16), array(0.001978, dtype=float16), array(0.00011915, dtype=float16), array(0.02052, dtype=float16), array(0.6675, dtype=float16), array(0.0002801, dtype=float16), array(0.09564, dtype=float16), array(0.00044, dtype=float16), array(0.02802, dtype=float16), array(0.5303, dtype=float16), array(0.9414, dtype=float16), array(0.0037, dtype=float16), array(0.04657, dtype=float16), array(0.879, dtype=float16), array(0.979, dtype=float16), array(0.0002178, dtype=float16), array(0.002964, dtype=float16), array(0.0541, dtype=float16), array(0.1616, dtype=float16), array(0.03687, dtype=float16), array(0.0577, dtype=float16), array(0.01724, dtype=float16), array(0.069, dtype=float16), array(0.0002925, dtype=float16), array(0.964, dtype=float16), array(0.002472, dtype=float16), array(0.3682, dtype=float16), array(0.03012, dtype=float16), array(0.0924, dtype=float16), array(0.00212, dtype=float16), array(0.003672, dtype=float16), array(0.001828, dtype=float16), array(0.0382, dtype=float16), array(0.0003133, dtype=float16), array(0.02211, dtype=float16), array(0.01197, dtype=float16), array(0.0667, dtype=float16), array(0.1345, dtype=float16), array(0.3965, dtype=float16), array(0.9756, dtype=float16), array(0.5015, dtype=float16), array(0.002382, dtype=float16), array(9.e-06, dtype=float16), array(0.692, dtype=float16), array(0.002876, dtype=float16), array(0.04492, dtype=float16), array(0.0005164, dtype=float16), array(0.04474, dtype=float16), array(0.312, dtype=float16), array(0.001107, dtype=float16), array(0.000429, dtype=float16), array(0.0001533, dtype=float16), array(0.9473, dtype=float16), array(0.02464, dtype=float16), array(0.08997, dtype=float16), array(0.3992, dtype=float16), array(0.3135, dtype=float16), array(0.01567, dtype=float16), array(0.02661, dtype=float16), array(0.0167, dtype=float16), array(0.849, dtype=float16), array(0.6763, dtype=float16), array(0.321, dtype=float16), array(0.8936, dtype=float16), array(0.001744, dtype=float16), array(0.000541, dtype=float16), array(0.0007854, dtype=float16), array(0.3464, dtype=float16), array(0.2812, dtype=float16), array(0.0385, dtype=float16), array(0.007347, dtype=float16), array(0.00526, dtype=float16), array(0.02051, dtype=float16), array(0.0002496, dtype=float16), array(0.0005245, dtype=float16), array(0.005314, dtype=float16), array(0.3484, dtype=float16), array(0.4358, dtype=float16), array(0.0599, dtype=float16), array(0.00763, dtype=float16), array(0.004513, dtype=float16), array(2.78e-05, dtype=float16), array(0.979, dtype=float16), array(0.789, dtype=float16), array(0.2925, dtype=float16), array(0.1066, dtype=float16), array(0.9478, dtype=float16), array(0.6157, dtype=float16), array(0.015274, dtype=float16), array(0.9243, dtype=float16), array(0.362, dtype=float16), array(0.8613, dtype=float16), array(0.1394, dtype=float16), array(0.1941, dtype=float16), array(0.837, dtype=float16), array(0.5347, dtype=float16), array(0.02626, dtype=float16), array(0.707, dtype=float16), array(0.0405, dtype=float16), array(0.02963, dtype=float16), array(0.951, dtype=float16), array(0.3333, dtype=float16), array(0.8174, dtype=float16), array(0.5825, dtype=float16), array(0.4614, dtype=float16), array(0.2515, dtype=float16), array(0.8457, dtype=float16), array(0.8525, dtype=float16), array(0.6333, dtype=float16), array(0.0782, dtype=float16), array(0.5283, dtype=float16), array(0.9307, dtype=float16), array(0.905, dtype=float16), array(0.3518, dtype=float16), array(0.4421, dtype=float16), array(0.5503, dtype=float16), array(0.9097, dtype=float16), array(0.3457, dtype=float16), array(0.194, dtype=float16), array(0.5176, dtype=float16), array(0.44, dtype=float16), array(0.8267, dtype=float16), array(0.612, dtype=float16), array(0.4207, dtype=float16), array(0.9155, dtype=float16), array(0.748, dtype=float16), array(0.567, dtype=float16), array(0.3496, dtype=float16), array(0.7476, dtype=float16), array(0.681, dtype=float16), array(0.8003, dtype=float16), array(0.78, dtype=float16), array(0.916, dtype=float16), array(0.4805, dtype=float16), array(0.5557, dtype=float16), array(0.521, dtype=float16), array(0.9214, dtype=float16), array(0.421, dtype=float16), array(0.914, dtype=float16), array(0.8306, dtype=float16), array(0.793, dtype=float16), array(0.3606, dtype=float16), array(0.4336, dtype=float16), array(0.802, dtype=float16), array(0.2695, dtype=float16), array(0.597, dtype=float16), array(0.643, dtype=float16), array(0.546, dtype=float16), array(0.8076, dtype=float16), array(0.1144, dtype=float16), array(0.11554, dtype=float16), array(0.579, dtype=float16), array(0.09875, dtype=float16), array(0.001846, dtype=float16), array(0.2228, dtype=float16), array(0.01936, dtype=float16), array(0.02159, dtype=float16), array(0.3462, dtype=float16), array(0.03583, dtype=float16), array(0.0572, dtype=float16), array(0.10693, dtype=float16), array(0.0001774, dtype=float16), array(0.0784, dtype=float16), array(0.006905, dtype=float16), array(0.0002537, dtype=float16), array(0.00849, dtype=float16), array(0.1553, dtype=float16), array(0.0007334, dtype=float16), array(0.05655, dtype=float16), array(0.525, dtype=float16), array(0.5244, dtype=float16), array(0.02983, dtype=float16), array(0.1616, dtype=float16), array(0.4426, dtype=float16), array(0.3643, dtype=float16), array(0.4148, dtype=float16), array(0.1633, dtype=float16), array(0.2253, dtype=float16), array(0.04218, dtype=float16), array(0.00836, dtype=float16), array(0.9116, dtype=float16), array(0.000452, dtype=float16), array(0.03476, dtype=float16), array(0.493, dtype=float16), array(0.539, dtype=float16), array(1.57e-05, dtype=float16), array(0.5215, dtype=float16), array(0.001796, dtype=float16), array(0.3198, dtype=float16), array(0.01128, dtype=float16), array(0.01878, dtype=float16), array(0.003124, dtype=float16), array(0.02429, dtype=float16), array(0.000586, dtype=float16), array(0.1638, dtype=float16), array(0.000781, dtype=float16), array(0.000731, dtype=float16), array(0.001835, dtype=float16), array(2.515e-05, dtype=float16), array(6.83e-05, dtype=float16), array(0.001219, dtype=float16), array(0.003725, dtype=float16), array(0.1871, dtype=float16), array(0.000951, dtype=float16), array(0.0642, dtype=float16), array(0.532, dtype=float16), array(0.0013485, dtype=float16), array(0.0007687, dtype=float16), array(0.00491, dtype=float16), array(0.01007, dtype=float16), array(0.62, dtype=float16), array(0.05637, dtype=float16), array(0.07526, dtype=float16), array(0.004204, dtype=float16), array(0.007717, dtype=float16), array(0.0292, dtype=float16), array(0.1826, dtype=float16), array(0.014946, dtype=float16), array(0.3604, dtype=float16), array(0.1226, dtype=float16), array(0.223, dtype=float16), array(0.00092, dtype=float16), array(0.0007644, dtype=float16), array(0.01695, dtype=float16), array(0.04553, dtype=float16), array(0.05698, dtype=float16), array(0.0002527, dtype=float16), array(0.3838, dtype=float16), array(0.1812, dtype=float16), array(0.0325, dtype=float16), array(0.00316, dtype=float16), array(0.02505, dtype=float16), array(0.002256, dtype=float16), array(0.0386, dtype=float16), array(0.03986, dtype=float16), array(0.007904, dtype=float16), array(0.044, dtype=float16), array(0.002764, dtype=float16), array(0.006725, dtype=float16), array(0.431, dtype=float16), array(0.4517, dtype=float16), array(0.06537, dtype=float16), array(0.4827, dtype=float16), array(0.0005817, dtype=float16), array(0.929, dtype=float16), array(0.449, dtype=float16), array(0.394, dtype=float16), array(0.463, dtype=float16), array(0.02254, dtype=float16), array(0.09, dtype=float16), array(0.3506, dtype=float16), array(0.03912, dtype=float16), array(0.5684, dtype=float16), array(0.588, dtype=float16), array(0.7236, dtype=float16), array(0.412, dtype=float16), array(0.0001085, dtype=float16), array(0.05258, dtype=float16), array(2.64e-05, dtype=float16), array(0.3132, dtype=float16), array(0.1009, dtype=float16), array(0.015495, dtype=float16), array(0.7344, dtype=float16), array(0.03583, dtype=float16), array(0.2125, dtype=float16), array(0.06323, dtype=float16), array(0.001528, dtype=float16), array(7.06e-05, dtype=float16), array(0.04633, dtype=float16), array(0.0375, dtype=float16), array(3.23e-05, dtype=float16), array(0.0008593, dtype=float16), array(0.0418, dtype=float16), array(0.2913, dtype=float16), array(0.018, dtype=float16), array(0.04605, dtype=float16), array(0.4712, dtype=float16), array(0.0005517, dtype=float16), array(0.0007615, dtype=float16), array(0.0241, dtype=float16), array(0.07776, dtype=float16), array(0.2703, dtype=float16), array(4.476e-05, dtype=float16), array(0.898, dtype=float16), array(0.008255, dtype=float16), array(0.009796, dtype=float16), array(0.2964, dtype=float16), array(0.01547, dtype=float16), array(0.04312, dtype=float16), array(0.03714, dtype=float16), array(0.000471, dtype=float16), array(0.00228, dtype=float16), array(0.000306, dtype=float16), array(0.03925, dtype=float16), array(0.003172, dtype=float16), array(0.01878, dtype=float16), array(0.01219, dtype=float16), array(0.874, dtype=float16), array(0.000315, dtype=float16), array(0.1987, dtype=float16), array(0.0005317, dtype=float16), array(0.01365, dtype=float16), array(0.07294, dtype=float16), array(0.001057, dtype=float16), array(0.01044, dtype=float16), array(0.01263, dtype=float16), array(0.7954, dtype=float16), array(0.005646, dtype=float16), array(0.0004005, dtype=float16), array(0.002668, dtype=float16), array(0.000684, dtype=float16), array(0.0044, dtype=float16), array(2.17e-05, dtype=float16), array(0.03108, dtype=float16), array(2.193e-05, dtype=float16), array(0.0461, dtype=float16), array(0.01176, dtype=float16), array(0.03485, dtype=float16), array(0.03143, dtype=float16), array(0.0071, dtype=float16), array(0.0189, dtype=float16), array(0.1082, dtype=float16), array(0.002209, dtype=float16), array(0.939, dtype=float16), array(0.0005035, dtype=float16), array(0.002811, dtype=float16), array(0.04776, dtype=float16), array(0.0002658, dtype=float16), array(0.342, dtype=float16), array(0.002274, dtype=float16), array(0.03506, dtype=float16), array(0.0303, dtype=float16), array(2.15e-05, dtype=float16), array(0.000848, dtype=float16), array(0.1228, dtype=float16), array(0.01775, dtype=float16), array(0.3325, dtype=float16), array(0.03342, dtype=float16), array(0.06805, dtype=float16), array(0.00547, dtype=float16), array(0.00202, dtype=float16), array(0.0064, dtype=float16), array(0.0002978, dtype=float16), array(0.01822, dtype=float16), array(0.06274, dtype=float16), array(1.21e-05, dtype=float16), array(0.05597, dtype=float16), array(0.01927, dtype=float16), array(9.245e-05, dtype=float16), array(0.002953, dtype=float16), array(0.09644, dtype=float16), array(0.0424, dtype=float16), array(0.1353, dtype=float16), array(0.01039, dtype=float16), array(0.002764, dtype=float16), array(0.0723, dtype=float16), array(0.07855, dtype=float16), array(3.08e-05, dtype=float16), array(0.0449, dtype=float16), array(0.1733, dtype=float16), array(0.0601, dtype=float16), array(0.0002654, dtype=float16), array(5.38e-05, dtype=float16), array(0.6284, dtype=float16), array(0.0998, dtype=float16), array(0.03387, dtype=float16), array(0.4612, dtype=float16), array(0.0777, dtype=float16), array(0.8965, dtype=float16), array(0.911, dtype=float16), array(0.1274, dtype=float16), array(0.02092, dtype=float16), array(9.173e-05, dtype=float16), array(0.332, dtype=float16), array(0.00641, dtype=float16), array(0.02744, dtype=float16), array(0.1481, dtype=float16), array(0.1041, dtype=float16), array(0.1241, dtype=float16), array(0.2239, dtype=float16), array(0.3135, dtype=float16), array(0.6533, dtype=float16), array(0.0006814, dtype=float16), array(0.01067, dtype=float16), array(0.00993, dtype=float16), array(0.02104, dtype=float16), array(0.0331, dtype=float16), array(0.0002592, dtype=float16), array(7.47e-05, dtype=float16), array(5.84e-05, dtype=float16), array(0.02496, dtype=float16), array(0.02151, dtype=float16), array(5.27e-05, dtype=float16), array(0.5884, dtype=float16), array(0.0001835, dtype=float16), array(0.0003998, dtype=float16), array(0.00969, dtype=float16), array(0.000419, dtype=float16), array(0.000899, dtype=float16), array(0.006603, dtype=float16), array(0.09106, dtype=float16), array(0.1934, dtype=float16), array(0.02115, dtype=float16), array(0.00442, dtype=float16), array(0.006653, dtype=float16), array(0.03787, dtype=float16), array(0.5, dtype=float16), array(0.009895, dtype=float16), array(0.06433, dtype=float16), array(0.0814, dtype=float16), array(0.02069, dtype=float16), array(0.01575, dtype=float16), array(0.00693, dtype=float16), array(0.0004215, dtype=float16), array(0.0002754, dtype=float16), array(0.001147, dtype=float16), array(0.2876, dtype=float16), array(0.8896, dtype=float16), array(6.205e-05, dtype=float16), array(0.8193, dtype=float16), array(0.03333, dtype=float16), array(0.58, dtype=float16), array(0.3606, dtype=float16), array(0.013885, dtype=float16), array(0.003878, dtype=float16), array(0.01797, dtype=float16), array(0.0001781, dtype=float16), array(2.617e-05, dtype=float16), array(0.001865, dtype=float16), array(0.808, dtype=float16), array(0.001478, dtype=float16), array(0.000362, dtype=float16), array(0.0852, dtype=float16), array(0.2869, dtype=float16), array(0.2373, dtype=float16), array(0.1306, dtype=float16), array(0.211, dtype=float16), array(0.09296, dtype=float16), array(0.01826, dtype=float16), array(0.257, dtype=float16), array(0.2126, dtype=float16), array(0.0203, dtype=float16), array(0.5723, dtype=float16), array(0.02776, dtype=float16), array(0.00841, dtype=float16), array(0.123, dtype=float16), array(0.002531, dtype=float16), array(0.01368, dtype=float16), array(0.004093, dtype=float16), array(0.03397, dtype=float16), array(0.2112, dtype=float16), array(0.608, dtype=float16), array(0.1276, dtype=float16), array(0.00525, dtype=float16), array(0.878, dtype=float16), array(0.01074, dtype=float16), array(0.03357, dtype=float16), array(0.708, dtype=float16), array(0.001333, dtype=float16), array(0.00010014, dtype=float16), array(0.4707, dtype=float16), array(0.002668, dtype=float16), array(0.00985, dtype=float16), array(0.002144, dtype=float16), array(0.00011414, dtype=float16), array(0.2048, dtype=float16), array(0.008415, dtype=float16), array(0.000312, dtype=float16), array(0.6094, dtype=float16), array(0.0127, dtype=float16), array(0.003204, dtype=float16), array(0.0389, dtype=float16), array(0.04138, dtype=float16), array(0.05084, dtype=float16), array(0.00812, dtype=float16), array(0.00088, dtype=float16), array(0.1031, dtype=float16), array(0.2278, dtype=float16), array(0.01823, dtype=float16), array(0.0009236, dtype=float16), array(0.02086, dtype=float16), array(0.0389, dtype=float16), array(0.012344, dtype=float16), array(0.01026, dtype=float16), array(1.6e-06, dtype=float16), array(0.3772, dtype=float16), array(0.00011235, dtype=float16), array(0.0541, dtype=float16), array(2.193e-05, dtype=float16), array(0.02827, dtype=float16), array(6.26e-06, dtype=float16), array(3.743e-05, dtype=float16), array(0.0227, dtype=float16), array(0.02638, dtype=float16), array(0.0007977, dtype=float16), array(0.001312, dtype=float16), array(0.703, dtype=float16), array(0.0001539, dtype=float16), array(0.7246, dtype=float16), array(0.06223, dtype=float16), array(0.001731, dtype=float16), array(0.002031, dtype=float16), array(0.1055, dtype=float16), array(0.01246, dtype=float16), array(0.000881, dtype=float16), array(0.02052, dtype=float16), array(0.001645, dtype=float16), array(0.0003195, dtype=float16), array(0.0009093, dtype=float16), array(0.5127, dtype=float16), array(6.23e-05, dtype=float16), array(0.2754, dtype=float16), array(0.0005617, dtype=float16), array(0.03702, dtype=float16), array(0.07086, dtype=float16), array(0.01762, dtype=float16), array(1.806e-05, dtype=float16), array(0.4207, dtype=float16), array(8.e-06, dtype=float16), array(0.01441, dtype=float16), array(0.0001653, dtype=float16), array(0.0202, dtype=float16), array(0.009834, dtype=float16), array(0.00911, dtype=float16), array(0.01752, dtype=float16), array(0.002565, dtype=float16), array(0.1364, dtype=float16), array(0.0008593, dtype=float16), array(0.004032, dtype=float16), array(0.003534, dtype=float16), array(0.0003514, dtype=float16), array(0.07697, dtype=float16), array(0.727, dtype=float16), array(0.194, dtype=float16), array(0.5703, dtype=float16), array(0.01255, dtype=float16), array(0.0992, dtype=float16), array(0.1355, dtype=float16), array(0.1733, dtype=float16), array(0.00439, dtype=float16), array(0.11163, dtype=float16), array(0.02284, dtype=float16), array(0.00996, dtype=float16), array(0.03616, dtype=float16), array(6.1e-05, dtype=float16), array(0.001048, dtype=float16), array(5.04e-05, dtype=float16), array(0.003088, dtype=float16), array(0.605, dtype=float16), array(0.2527, dtype=float16), array(0.02159, dtype=float16), array(0.05237, dtype=float16), array(0.02924, dtype=float16), array(0.01114, dtype=float16), array(0.1475, dtype=float16), array(0.3562, dtype=float16), array(0.02394, dtype=float16), array(0.9546, dtype=float16), array(0.449, dtype=float16), array(0.07947, dtype=float16), array(0.001758, dtype=float16), array(0.00016, dtype=float16), array(0.02452, dtype=float16), array(0.0206, dtype=float16), array(0.5044, dtype=float16), array(0.009285, dtype=float16), array(0.0006785, dtype=float16), array(0.0842, dtype=float16), array(0.02429, dtype=float16), array(0.0271, dtype=float16), array(0.0159, dtype=float16), array(0.0253, dtype=float16), array(0.02887, dtype=float16), array(0.0001706, dtype=float16), array(0.0002301, dtype=float16), array(0.0003958, dtype=float16), array(3.58e-05, dtype=float16), array(7.24e-05, dtype=float16), array(0.4895, dtype=float16), array(0.5957, dtype=float16), array(0.011406, dtype=float16), array(0.002054, dtype=float16), array(0.03403, dtype=float16), array(0.00232, dtype=float16), array(0.2375, dtype=float16), array(0.008575, dtype=float16), array(0.012924, dtype=float16), array(0.001292, dtype=float16), array(0.014656, dtype=float16), array(0.0001224, dtype=float16), array(0.0003808, dtype=float16), array(0.2043, dtype=float16), array(0.065, dtype=float16), array(0.00478, dtype=float16), array(0.006706, dtype=float16), array(0.1041, dtype=float16), array(0.10803, dtype=float16), array(0.01927, dtype=float16), array(0.272, dtype=float16), array(0.1212, dtype=float16), array(0.1841, dtype=float16), array(0.6294, dtype=float16), array(0.00794, dtype=float16), array(0.0787, dtype=float16), array(0.05405, dtype=float16), array(0.2133, dtype=float16), array(0.01985, dtype=float16), array(0.0313, dtype=float16), array(0.02887, dtype=float16), array(0.04987, dtype=float16), array(0.0005274, dtype=float16), array(0.000629, dtype=float16), array(0.01953, dtype=float16), array(0.0002115, dtype=float16), array(0.3086, dtype=float16), array(0.08203, dtype=float16), array(0.1222, dtype=float16), array(0.976, dtype=float16), array(0.896, dtype=float16), array(0.512, dtype=float16), array(0.88, dtype=float16), array(0.7, dtype=float16), array(0.02655, dtype=float16), array(0.104, dtype=float16), array(0.03668, dtype=float16), array(0.3694, dtype=float16), array(0.681, dtype=float16), array(0.531, dtype=float16), array(0.5957, dtype=float16), array(0.5127, dtype=float16), array(0.3528, dtype=float16), array(0.502, dtype=float16), array(0.6504, dtype=float16), array(0.6826, dtype=float16), array(0.09686, dtype=float16), array(0.03069, dtype=float16), array(0.6304, dtype=float16), array(0.03735, dtype=float16), array(0.691, dtype=float16), array(0.4814, dtype=float16), array(0.3044, dtype=float16), array(0.8516, dtype=float16), array(0.128, dtype=float16), array(0.0081, dtype=float16), array(0.2812, dtype=float16), array(0.001367, dtype=float16), array(0.0876, dtype=float16), array(0.32, dtype=float16), array(0.656, dtype=float16), array(0.3875, dtype=float16), array(0.542, dtype=float16), array(0.03662, dtype=float16), array(0.04224, dtype=float16), array(0.2095, dtype=float16), array(0.3613, dtype=float16), array(0.4297, dtype=float16), array(0.002699, dtype=float16), array(0.1201, dtype=float16), array(1.01e-05, dtype=float16), array(0.001107, dtype=float16), array(0.0001584, dtype=float16), array(9.316e-05, dtype=float16), array(0.10846, dtype=float16), array(0.0001566, dtype=float16), array(0.0002947, dtype=float16), array(9.1e-05, dtype=float16), array(8.583e-05, dtype=float16), array(0.09125, dtype=float16), array(2.784e-05, dtype=float16), array(0.0202, dtype=float16), array(0.001289, dtype=float16), array(0.004677, dtype=float16), array(0.1885, dtype=float16), array(0.4517, dtype=float16), array(0.01277, dtype=float16), array(0.12024, dtype=float16), array(0.003893, dtype=float16), array(0.05283, dtype=float16), array(0.3066, dtype=float16), array(0.02708, dtype=float16), array(0.0082, dtype=float16), array(0.002924, dtype=float16), array(0.001129, dtype=float16), array(0.005417, dtype=float16), array(0.5825, dtype=float16), array(0.03305, dtype=float16), array(0.0002892, dtype=float16), array(0.2255, dtype=float16), array(0.001177, dtype=float16), array(0.02284, dtype=float16), array(0.0001799, dtype=float16), array(0.01846, dtype=float16), array(0.000728, dtype=float16), array(0.002647, dtype=float16), array(0.00428, dtype=float16), array(0.00484, dtype=float16), array(0.00279, dtype=float16), array(0.533, dtype=float16), array(0.00154, dtype=float16), array(0.8286, dtype=float16), array(0.0004313, dtype=float16), array(0.007576, dtype=float16), array(0.002918, dtype=float16), array(0.378, dtype=float16), array(0.004738, dtype=float16), array(0.03735, dtype=float16), array(0.03607, dtype=float16), array(0.0003226, dtype=float16), array(4.3e-05, dtype=float16), array(0.0003562, dtype=float16), array(0.0701, dtype=float16), array(0.005074, dtype=float16), array(0.0846, dtype=float16), array(0.417, dtype=float16), array(0.5854, dtype=float16), array(0.03418, dtype=float16), array(0.03723, dtype=float16), array(0.209, dtype=float16), array(0.3757, dtype=float16), array(0.0884, dtype=float16), array(0.02792, dtype=float16), array(0.0712, dtype=float16), array(0.2937, dtype=float16), array(0.00562, dtype=float16), array(0.1274, dtype=float16), array(0.5576, dtype=float16), array(0.01317, dtype=float16), array(0.00803, dtype=float16), array(0.06335, dtype=float16), array(0.1674, dtype=float16), array(0.777, dtype=float16), array(0.0965, dtype=float16), array(0.05777, dtype=float16), array(0.0007224, dtype=float16), array(0.05865, dtype=float16), array(0.7334, dtype=float16), array(0.2189, dtype=float16), array(0.05167, dtype=float16), array(7.427e-05, dtype=float16), array(0.02574, dtype=float16), array(0.001458, dtype=float16), array(0.00425, dtype=float16), array(0.002075, dtype=float16), array(0.6655, dtype=float16), array(0.01365, dtype=float16), array(0.05463, dtype=float16), array(0.03047, dtype=float16), array(0.001367, dtype=float16), array(6.8e-06, dtype=float16), array(0.01907, dtype=float16), array(0.04034, dtype=float16), array(1.657e-05, dtype=float16), array(2.1e-06, dtype=float16), array(0.06726, dtype=float16), array(0.0653, dtype=float16), array(7.457e-05, dtype=float16), array(0.4102, dtype=float16), array(0.2288, dtype=float16), array(0.00988, dtype=float16), array(0.00418, dtype=float16), array(0.03494, dtype=float16), array(0.03494, dtype=float16), array(0.3274, dtype=float16), array(0.3425, dtype=float16), array(0.286, dtype=float16), array(0.6836, dtype=float16), array(0.06726, dtype=float16), array(0.1079, dtype=float16), array(0.00206, dtype=float16), array(0.1091, dtype=float16), array(0.323, dtype=float16), array(0.0593, dtype=float16), array(0.5815, dtype=float16), array(0.01773, dtype=float16), array(0.06915, dtype=float16), array(0.01726, dtype=float16), array(0.001351, dtype=float16), array(0.02287, dtype=float16), array(0.01895, dtype=float16), array(0.02087, dtype=float16), array(0.02211, dtype=float16), array(0.5386, dtype=float16), array(0.1277, dtype=float16), array(0.848, dtype=float16), array(0.001238, dtype=float16), array(0.4995, dtype=float16), array(0.00482, dtype=float16), array(0.7437, dtype=float16), array(0.02109, dtype=float16), array(0.4893, dtype=float16), array(0.0059, dtype=float16), array(0.09174, dtype=float16), array(0.00569, dtype=float16), array(0.02933, dtype=float16), array(0.00517, dtype=float16), array(0.012344, dtype=float16), array(0.02802, dtype=float16), array(0.0395, dtype=float16), array(0.11664, dtype=float16), array(0.04156, dtype=float16), array(0.05676, dtype=float16), array(0.2598, dtype=float16), array(2.915e-05, dtype=float16), array(0.001793, dtype=float16), array(0.0002453, dtype=float16), array(0.0002801, dtype=float16), array(0.000537, dtype=float16), array(0.0002913, dtype=float16), array(0.1367, dtype=float16), array(0.1641, dtype=float16), array(0.01604, dtype=float16), array(0.02039, dtype=float16), array(0.002737, dtype=float16), array(0.00293, dtype=float16), array(0.1763, dtype=float16), array(0.1692, dtype=float16), array(0.0001497, dtype=float16), array(0.0006437, dtype=float16), array(0.03067, dtype=float16), array(0.012085, dtype=float16), array(0.8745, dtype=float16), array(0.0006866, dtype=float16), array(0.00863, dtype=float16), array(0.0002577, dtype=float16), array(7.284e-05, dtype=float16), array(0.02686, dtype=float16), array(0.0002925, dtype=float16), array(2.81e-05, dtype=float16), array(6.38e-05, dtype=float16), array(0.0646, dtype=float16), array(0.001908, dtype=float16), array(0.0001471, dtype=float16), array(7.e-06, dtype=float16), array(0.0001227, dtype=float16), array(0.007217, dtype=float16), array(0.403, dtype=float16), array(0.02254, dtype=float16), array(0.001121, dtype=float16), array(1.717e-05, dtype=float16), array(0.00092, dtype=float16), array(0.002913, dtype=float16), array(0.007458, dtype=float16), array(0.723, dtype=float16), array(0.0004263, dtype=float16), array(0.0792, dtype=float16), array(0.003109, dtype=float16), array(0.192, dtype=float16), array(0.002287, dtype=float16), array(0.4954, dtype=float16), array(0.1389, dtype=float16), array(0.269, dtype=float16), array(0.886, dtype=float16), array(0.0001824, dtype=float16), array(0.008, dtype=float16), array(0.1692, dtype=float16), array(0.001211, dtype=float16), array(0.0146, dtype=float16), array(0.0009437, dtype=float16), array(0.0001388, dtype=float16), array(0.253, dtype=float16), array(0.02243, dtype=float16), array(0.00149, dtype=float16), array(0.471, dtype=float16), array(0.2632, dtype=float16), array(7.8e-06, dtype=float16), array(7.427e-05, dtype=float16), array(0.02036, dtype=float16), array(0.001156, dtype=float16), array(0.02591, dtype=float16), array(0.02124, dtype=float16), array(0.00172, dtype=float16), array(0.01409, dtype=float16), array(0.02162, dtype=float16), array(7.844e-05, dtype=float16), array(0.265, dtype=float16), array(0.02034, dtype=float16), array(0.0203, dtype=float16), array(0.019, dtype=float16), array(0.4019, dtype=float16), array(0.05722, dtype=float16), array(6.14e-06, dtype=float16), array(0.2537, dtype=float16), array(0.1384, dtype=float16), array(0.0321, dtype=float16), array(0.02042, dtype=float16), array(0.00807, dtype=float16), array(0.0002397, dtype=float16), array(0.013596, dtype=float16), array(2.146e-05, dtype=float16), array(0.349, dtype=float16), array(0.722, dtype=float16), array(0.001221, dtype=float16), array(7.004e-05, dtype=float16), array(0.01103, dtype=float16), array(0.3743, dtype=float16), array(0.000732, dtype=float16), array(0.0006094, dtype=float16), array(0.03296, dtype=float16), array(0.3352, dtype=float16), array(0.05713, dtype=float16), array(0.4758, dtype=float16), array(0.04364, dtype=float16), array(0.04077, dtype=float16), array(0.723, dtype=float16), array(0.223, dtype=float16), array(0.2834, dtype=float16), array(0.4487, dtype=float16), array(0.9834, dtype=float16), array(0.4202, dtype=float16), array(0.645, dtype=float16), array(0.8887, dtype=float16), array(9.686e-05, dtype=float16), array(0.6484, dtype=float16), array(0.784, dtype=float16), array(0.1305, dtype=float16), array(0.599, dtype=float16), array(0.001684, dtype=float16), array(0.2913, dtype=float16), array(0.1344, dtype=float16), array(0.001604, dtype=float16), array(0.1592, dtype=float16), array(0.04953, dtype=float16), array(0.02388, dtype=float16), array(0.5146, dtype=float16), array(0.3452, dtype=float16), array(0.00863, dtype=float16), array(0.0004756, dtype=float16), array(0.2808, dtype=float16), array(0.001849, dtype=float16), array(0.03607, dtype=float16), array(6.14e-06, dtype=float16), array(0.6094, dtype=float16), array(0.001438, dtype=float16), array(8.22e-05, dtype=float16), array(4.27e-05, dtype=float16), array(0.01024, dtype=float16), array(0.0854, dtype=float16), array(0.00126, dtype=float16), array(0.10583, dtype=float16), array(0.708, dtype=float16), array(0.0761, dtype=float16), array(2.52e-05, dtype=float16), array(0.03516, dtype=float16), array(0.2195, dtype=float16), array(0.02423, dtype=float16), array(0.03757, dtype=float16), array(0.698, dtype=float16), array(0.0003412, dtype=float16), array(0.0002332, dtype=float16), array(0.04492, dtype=float16), array(0.2332, dtype=float16), array(0.4375, dtype=float16), array(0.787, dtype=float16), array(0.1422, dtype=float16), array(0.3938, dtype=float16), array(0.03177, dtype=float16), array(0.3237, dtype=float16), array(0.5034, dtype=float16), array(0.01671, dtype=float16), array(0.1015, dtype=float16), array(0.0971, dtype=float16), array(0.10004, dtype=float16), array(0.6206, dtype=float16), array(0.4985, dtype=float16), array(0.1442, dtype=float16), array(0.1064, dtype=float16), array(0.03607, dtype=float16), array(0.178, dtype=float16), array(0.72, dtype=float16), array(0.1598, dtype=float16), array(0.715, dtype=float16), array(0.8135, dtype=float16), array(0.0592, dtype=float16), array(0.7847, dtype=float16), array(0.2378, dtype=float16), array(0.4321, dtype=float16), array(0.07947, dtype=float16), array(0.06665, dtype=float16), array(0.724, dtype=float16), array(0.4607, dtype=float16), array(0.3086, dtype=float16), array(0.522, dtype=float16), array(0.0002393, dtype=float16), array(0.2788, dtype=float16), array(0.05118, dtype=float16), array(0.5967, dtype=float16), array(0.12, dtype=float16), array(3.9e-06, dtype=float16), array(0.522, dtype=float16), array(0.006798, dtype=float16), array(0.0001239, dtype=float16), array(0.0332, dtype=float16), array(0.3003, dtype=float16), array(0.0001345, dtype=float16), array(0.004448, dtype=float16), array(0.5327, dtype=float16), array(0.0004141, dtype=float16), array(2.97e-05, dtype=float16), array(4.774e-05, dtype=float16), array(0.0052, dtype=float16), array(5.92e-05, dtype=float16), array(0.003729, dtype=float16), array(0.2424, dtype=float16), array(8.1e-06, dtype=float16), array(0.0001642, dtype=float16), array(0.0002785, dtype=float16), array(3.904e-05, dtype=float16), array(0.006653, dtype=float16), array(0.000522, dtype=float16), array(0.06305, dtype=float16), array(0.003105, dtype=float16), array(0.01979, dtype=float16), array(0.6406, dtype=float16), array(2.35e-05, dtype=float16), array(0.02888, dtype=float16), array(0.0174, dtype=float16), array(3.79e-05, dtype=float16), array(0.001595, dtype=float16), array(0.657, dtype=float16), array(0.2201, dtype=float16), array(0.03082, dtype=float16), array(0.0001817, dtype=float16), array(8.46e-06, dtype=float16), array(0.00027, dtype=float16), array(0.005432, dtype=float16), array(0.001221, dtype=float16), array(0.4275, dtype=float16), array(0.3096, dtype=float16), array(0.11456, dtype=float16), array(0.0434, dtype=float16), array(0.2281, dtype=float16), array(0.0004776, dtype=float16), array(0.02493, dtype=float16), array(0.001531, dtype=float16), array(0.07153, dtype=float16), array(0.004765, dtype=float16), array(0.0282, dtype=float16), array(0.5063, dtype=float16), array(0.001711, dtype=float16), array(0.2394, dtype=float16), array(0.02881, dtype=float16), array(0.09845, dtype=float16), array(4.95e-05, dtype=float16), array(0.003407, dtype=float16), array(0.02116, dtype=float16), array(0.0004416, dtype=float16), array(0.05084, dtype=float16), array(0.000357, dtype=float16), array(0.2568, dtype=float16), array(0.01091, dtype=float16), array(0.05124, dtype=float16), array(0.1471, dtype=float16), array(0.0005193, dtype=float16), array(0.576, dtype=float16), array(0.4932, dtype=float16), array(0.08215, dtype=float16), array(0.561, dtype=float16), array(7.6e-06, dtype=float16), array(0.607, dtype=float16), array(0.0002458, dtype=float16), array(0.005405, dtype=float16), array(0.1219, dtype=float16), array(0.846, dtype=float16), array(1.56e-05, dtype=float16), array(0.0005083, dtype=float16), array(0.000303, dtype=float16), array(0.06015, dtype=float16), array(0.2377, dtype=float16), array(0.08154, dtype=float16), array(2.956e-05, dtype=float16), array(0.04218, dtype=float16), array(0.1365, dtype=float16), array(0.01999, dtype=float16), array(0.0002066, dtype=float16), array(0.4565, dtype=float16), array(0.002234, dtype=float16), array(0.2947, dtype=float16), array(0.02321, dtype=float16), array(0.000677, dtype=float16), array(0.0098, dtype=float16), array(0.007534, dtype=float16), array(0.307, dtype=float16), array(0.002773, dtype=float16), array(0.001206, dtype=float16), array(0.1309, dtype=float16), array(0.006588, dtype=float16), array(0.013885, dtype=float16), array(0.591, dtype=float16), array(0.864, dtype=float16), array(0.263, dtype=float16), array(6.66e-05, dtype=float16), array(0.3918, dtype=float16), array(0.0635, dtype=float16), array(0.02814, dtype=float16), array(0.02832, dtype=float16), array(0.05017, dtype=float16), array(0.005913, dtype=float16), array(1.55e-06, dtype=float16), array(0.0961, dtype=float16), array(0.548, dtype=float16), array(0.0002797, dtype=float16), array(0.02608, dtype=float16), array(0.1655, dtype=float16), array(0.006123, dtype=float16), array(0.011406, dtype=float16), array(0.0001842, dtype=float16), array(3.55e-05, dtype=float16), array(0.006985, dtype=float16), array(0.0011835, dtype=float16), array(0.416, dtype=float16), array(1.33e-05, dtype=float16), array(6.66e-05, dtype=float16), array(1.6e-06, dtype=float16), array(0.061, dtype=float16), array(0.4744, dtype=float16), array(0.7886, dtype=float16), array(0.917, dtype=float16), array(0.801, dtype=float16), array(0.1929, dtype=float16), array(0.601, dtype=float16), array(0.3733, dtype=float16), array(0.5825, dtype=float16), array(0.694, dtype=float16), array(0.7935, dtype=float16), array(0.4546, dtype=float16), array(0.698, dtype=float16), array(0.8267, dtype=float16), array(0.576, dtype=float16), array(0.6816, dtype=float16), array(0.9966, dtype=float16), array(0.9966, dtype=float16), array(0.1848, dtype=float16), array(0.672, dtype=float16), array(0.874, dtype=float16), array(0.874, dtype=float16), array(0.745, dtype=float16), array(0.9863, dtype=float16), array(0.884, dtype=float16), array(0.892, dtype=float16), array(0.892, dtype=float16), array(0.7256, dtype=float16), array(0.7256, dtype=float16), array(0.791, dtype=float16), array(0.687, dtype=float16), array(0.8545, dtype=float16), array(0.8594, dtype=float16), array(0.9546, dtype=float16), array(0.979, dtype=float16), array(0.6646, dtype=float16), array(0.2515, dtype=float16), array(0.11523, dtype=float16), array(0.1936, dtype=float16), array(0.04062, dtype=float16), array(0.1339, dtype=float16), array(0.09283, dtype=float16), array(0.7563, dtype=float16), array(0.1365, dtype=float16), array(0.881, dtype=float16), array(0.09503, dtype=float16), array(0.001936, dtype=float16), array(0.002136, dtype=float16), array(0.4634, dtype=float16), array(0.6255, dtype=float16), array(0.07837, dtype=float16), array(0.863, dtype=float16), array(0.2742, dtype=float16), array(0.00854, dtype=float16), array(0.00668, dtype=float16), array(0.1815, dtype=float16), array(0.08093, dtype=float16), array(0.9497, dtype=float16), array(4.58e-05, dtype=float16), array(0.00408, dtype=float16), array(0.02914, dtype=float16), array(0.00455, dtype=float16), array(0.07776, dtype=float16), array(0.000668, dtype=float16), array(0.7383, dtype=float16), array(0.010826, dtype=float16), array(0.1698, dtype=float16), array(0.0007854, dtype=float16), array(0.005405, dtype=float16), array(0.3, dtype=float16), array(0.3953, dtype=float16), array(0.001893, dtype=float16), array(0.65, dtype=float16), array(0.09595, dtype=float16), array(0.3494, dtype=float16), array(0.0793, dtype=float16), array(0.02571, dtype=float16), array(0.1526, dtype=float16), array(0.001879, dtype=float16), array(0.02277, dtype=float16), array(0.2004, dtype=float16), array(0.0725, dtype=float16), array(0.1718, dtype=float16), array(0.4375, dtype=float16), array(0.4521, dtype=float16), array(0.1571, dtype=float16), array(0.04172, dtype=float16), array(0.1609, dtype=float16), array(0.10114, dtype=float16), array(0.001249, dtype=float16), array(0.5303, dtype=float16), array(0.001156, dtype=float16), array(0.5664, dtype=float16), array(0.02287, dtype=float16), array(0.008965, dtype=float16), array(0.1586, dtype=float16), array(0.01343, dtype=float16), array(0.4368, dtype=float16), array(0.9634, dtype=float16), array(0.5376, dtype=float16), array(0.735, dtype=float16), array(0.1962, dtype=float16), array(0.1349, dtype=float16), array(0.256, dtype=float16), array(0.1971, dtype=float16), array(0.1528, dtype=float16), array(0.005264, dtype=float16), array(0.708, dtype=float16), array(0.4485, dtype=float16), array(0.954, dtype=float16), array(0.00974, dtype=float16), array(0.4812, dtype=float16), array(0.18, dtype=float16), array(0.01452, dtype=float16), array(0.0003822, dtype=float16), array(0.0786, dtype=float16), array(0.01017, dtype=float16), array(0.0001371, dtype=float16), array(0.01732, dtype=float16), array(0.004063, dtype=float16), array(0.0238, dtype=float16), array(0.0615, dtype=float16), array(0.03644, dtype=float16), array(0.0002091, dtype=float16), array(0.4143, dtype=float16), array(0.9805, dtype=float16), array(0.4006, dtype=float16), array(0.01656, dtype=float16), array(0.02692, dtype=float16), array(0.8843, dtype=float16), array(0.2421, dtype=float16), array(0.6123, dtype=float16), array(0.0006022, dtype=float16), array(0.1985, dtype=float16), array(0.00598, dtype=float16), array(0.0786, dtype=float16), array(5.92e-05, dtype=float16), array(0.3247, dtype=float16), array(0.1266, dtype=float16), array(0.557, dtype=float16), array(0.246, dtype=float16), array(0.408, dtype=float16), array(0.2957, dtype=float16), array(0.1952, dtype=float16), array(0.637, dtype=float16), array(0.674, dtype=float16), array(0.5244, dtype=float16), array(0.5034, dtype=float16), array(0.0699, dtype=float16), array(0.03638, dtype=float16), array(0.03412, dtype=float16), array(0.0417, dtype=float16), array(3.45e-05, dtype=float16), array(0.008804, dtype=float16), array(0.4963, dtype=float16), array(0.3723, dtype=float16), array(0.791, dtype=float16), array(0.0236, dtype=float16), array(0.504, dtype=float16), array(0.0679, dtype=float16), array(0.2323, dtype=float16), array(0.862, dtype=float16), array(0.3982, dtype=float16), array(0.734, dtype=float16), array(0.9067, dtype=float16), array(0.818, dtype=float16), array(0.03348, dtype=float16), array(0.1222, dtype=float16), array(0.7563, dtype=float16), array(0.002522, dtype=float16), array(0.1476, dtype=float16), array(0.3535, dtype=float16), array(0.1708, dtype=float16), array(0.0121, dtype=float16), array(0.003832, dtype=float16), array(0.2559, dtype=float16), array(0.2986, dtype=float16), array(0.3635, dtype=float16), array(0.4038, dtype=float16), array(0.0007687, dtype=float16), array(0.0927, dtype=float16), array(0.544, dtype=float16), array(0.4578, dtype=float16), array(0.1334, dtype=float16), array(0.08234, dtype=float16), array(0.000711, dtype=float16), array(0.0001217, dtype=float16), array(0.9653, dtype=float16), array(0.04245, dtype=float16), array(0.43, dtype=float16), array(0.3955, dtype=float16), array(0.78, dtype=float16), array(0.0003734, dtype=float16), array(0.003105, dtype=float16), array(0.573, dtype=float16), array(0.3967, dtype=float16), array(0.3464, dtype=float16), array(0.004353, dtype=float16), array(0.563, dtype=float16), array(0.00508, dtype=float16), array(0.2173, dtype=float16), array(0.0001157, dtype=float16), array(0.0003762, dtype=float16), array(0.6914, dtype=float16), array(0.0377, dtype=float16), array(0.00828, dtype=float16), array(0.599, dtype=float16), array(0.001953, dtype=float16), array(0.622, dtype=float16), array(0.1844, dtype=float16), array(0.908, dtype=float16), array(0.02663, dtype=float16), array(0.1409, dtype=float16), array(0.13, dtype=float16), array(0.308, dtype=float16), array(0.001055, dtype=float16), array(0.003035, dtype=float16), array(0.1918, dtype=float16), array(0.0005193, dtype=float16), array(0.08673, dtype=float16), array(0.1791, dtype=float16), array(0.0003295, dtype=float16), array(0.11755, dtype=float16), array(0.03052, dtype=float16), array(0.0076, dtype=float16), array(0.004627, dtype=float16), array(0.00704, dtype=float16), array(0.2578, dtype=float16), array(0.02042, dtype=float16), array(0.10065, dtype=float16), array(0.54, dtype=float16), array(0.0647, dtype=float16), array(0.277, dtype=float16), array(0.4485, dtype=float16), array(0.1819, dtype=float16), array(0.06177, dtype=float16), array(0.278, dtype=float16), array(0.2886, dtype=float16), array(0.2908, dtype=float16), array(0.1564, dtype=float16), array(0.5073, dtype=float16), array(0.0281, dtype=float16), array(0.09467, dtype=float16), array(0.1871, dtype=float16), array(0.0805, dtype=float16), array(0.01397, dtype=float16), array(0.2145, dtype=float16), array(0.1935, dtype=float16), array(0.583, dtype=float16), array(0.43, dtype=float16), array(0.563, dtype=float16), array(0.372, dtype=float16), array(0.531, dtype=float16), array(0.4438, dtype=float16), array(0.797, dtype=float16), array(0.0373, dtype=float16), array(0.4966, dtype=float16), array(0.02287, dtype=float16), array(0.03026, dtype=float16), array(0.038, dtype=float16), array(0.1735, dtype=float16), array(0.3608, dtype=float16), array(0.013824, dtype=float16), array(0.01761, dtype=float16), array(0.01214, dtype=float16), array(0.0823, dtype=float16), array(6.205e-05, dtype=float16), array(0.001343, dtype=float16), array(9.1e-05, dtype=float16), array(0.000938, dtype=float16), array(0.0041, dtype=float16), array(0.02673, dtype=float16), array(1.365e-05, dtype=float16), array(0.0002527, dtype=float16), array(1.76e-05, dtype=float16), array(0.07336, dtype=float16), array(1.84e-05, dtype=float16), array(0.05576, dtype=float16), array(0.0167, dtype=float16), array(0.002083, dtype=float16), array(0.003141, dtype=float16), array(0.0008297, dtype=float16), array(0.001846, dtype=float16), array(0.000173, dtype=float16), array(0.015495, dtype=float16), array(0.0002792, dtype=float16), array(0.000711, dtype=float16), array(0.000403, dtype=float16), array(0.02344, dtype=float16), array(0.0001979, dtype=float16), array(0.0126, dtype=float16), array(0.0729, dtype=float16), array(6.9e-06, dtype=float16), array(0.01469, dtype=float16), array(0.04022, dtype=float16), array(6.11e-05, dtype=float16), array(0.012665, dtype=float16), array(0.004013, dtype=float16), array(0.1902, dtype=float16), array(3.74e-05, dtype=float16), array(0.000433, dtype=float16), array(0.02647, dtype=float16), array(0.0906, dtype=float16), array(0.000664, dtype=float16), array(0.0005517, dtype=float16), array(0.0003958, dtype=float16), array(1.3e-06, dtype=float16), array(0.0002632, dtype=float16), array(0.6333, dtype=float16), array(0.3682, dtype=float16), array(2.68e-05, dtype=float16), array(0.01172, dtype=float16), array(2.795e-05, dtype=float16), array(0.0001918, dtype=float16), array(9.35e-05, dtype=float16), array(0.001147, dtype=float16), array(0.04068, dtype=float16), array(0.561, dtype=float16), array(0.01503, dtype=float16), array(0.0001248, dtype=float16), array(0.2698, dtype=float16), array(0.003744, dtype=float16), array(0.05496, dtype=float16), array(3.31e-05, dtype=float16), array(0.0067, dtype=float16), array(0.05765, dtype=float16), array(0.01666, dtype=float16), array(0.0001031, dtype=float16), array(5.245e-05, dtype=float16), array(0.02614, dtype=float16), array(0.000758, dtype=float16), array(0.001908, dtype=float16), array(0.05746, dtype=float16), array(0.000187, dtype=float16), array(0.02908, dtype=float16), array(0.0005274, dtype=float16), array(1.53e-05, dtype=float16), array(0.00041, dtype=float16), array(0.0007057, dtype=float16), array(0.00266, dtype=float16), array(0.002913, dtype=float16), array(2.87e-05, dtype=float16), array(0.00644, dtype=float16), array(0.02164, dtype=float16), array(0.02028, dtype=float16), array(0.000336, dtype=float16), array(0.1433, dtype=float16), array(0.009964, dtype=float16), array(0.010735, dtype=float16), array(6.604e-05, dtype=float16), array(0.003529, dtype=float16), array(0.02007, dtype=float16), array(0.011444, dtype=float16), array(0.001309, dtype=float16), array(1.16e-05, dtype=float16), array(0.006374, dtype=float16), array(0.0003493, dtype=float16), array(6.39e-05, dtype=float16), array(1.9e-06, dtype=float16), array(0.0005617, dtype=float16), array(8.e-05, dtype=float16), array(0.0158, dtype=float16), array(0.0536, dtype=float16), array(1.39e-05, dtype=float16), array(0.02852, dtype=float16), array(8.85e-05, dtype=float16), array(0.03735, dtype=float16), array(5.9e-06, dtype=float16), array(0.002605, dtype=float16), array(0.013374, dtype=float16), array(0.0005713, dtype=float16), array(0.0214, dtype=float16), array(1.6e-05, dtype=float16), array(0.001129, dtype=float16), array(0.0002439, dtype=float16), array(0.0001454, dtype=float16), array(0.0376, dtype=float16), array(0.07, dtype=float16), array(0.002346, dtype=float16), array(0.0002925, dtype=float16), array(0.01825, dtype=float16), array(2.19e-05, dtype=float16), array(2.74e-06, dtype=float16), array(0.000989, dtype=float16), array(0.0001788, dtype=float16), array(4.613e-05, dtype=float16), array(0.07324, dtype=float16), array(0.1354, dtype=float16), array(2.646e-05, dtype=float16), array(0.001076, dtype=float16), array(0.01265, dtype=float16), array(0.0001911, dtype=float16), array(0.03445, dtype=float16), array(5.96e-06, dtype=float16), array(9.876e-05, dtype=float16), array(0.000645, dtype=float16), array(0.3542, dtype=float16), array(0.2776, dtype=float16), array(0.0002291, dtype=float16), array(0.00082, dtype=float16), array(3.69e-05, dtype=float16), array(0.001092, dtype=float16), array(0.1512, dtype=float16), array(0.03372, dtype=float16), array(0.001092, dtype=float16), array(0.2472, dtype=float16), array(0.736, dtype=float16), array(0.02542, dtype=float16), array(0.0538, dtype=float16), array(0.0447, dtype=float16), array(0.001274, dtype=float16), array(0.0007777, dtype=float16), array(0.000772, dtype=float16), array(0.05612, dtype=float16), array(0.0005026, dtype=float16), array(0.8784, dtype=float16), array(0.01936, dtype=float16), array(0.01155, dtype=float16), array(0.013985, dtype=float16), array(0.2942, dtype=float16), array(0.1686, dtype=float16), array(0.1984, dtype=float16), array(0.954, dtype=float16), array(0.825, dtype=float16), array(0.3403, dtype=float16), array(0.0004566, dtype=float16), array(0.363, dtype=float16), array(0.0003548, dtype=float16), array(0.658, dtype=float16), array(0.268, dtype=float16), array(0.0046, dtype=float16), array(0.000439, dtype=float16), array(1.085e-05, dtype=float16), array(1.055e-05, dtype=float16), array(0.0037, dtype=float16), array(0.3552, dtype=float16), array(0.0002054, dtype=float16), array(0.0004992, dtype=float16), array(0.02261, dtype=float16), array(0.0008693, dtype=float16), array(5.8e-06, dtype=float16), array(0.0594, dtype=float16), array(1.8e-06, dtype=float16), array(0.003403, dtype=float16), array(0.2634, dtype=float16), array(0.565, dtype=float16), array(0.759, dtype=float16), array(0.01566, dtype=float16), array(0.0432, dtype=float16), array(8.7e-06, dtype=float16), array(0.12463, dtype=float16), array(0.003016, dtype=float16), array(0.0006094, dtype=float16), array(0.001516, dtype=float16), array(6.18e-05, dtype=float16), array(4.25e-05, dtype=float16), array(0.003513, dtype=float16), array(0.02962, dtype=float16), array(0.000227, dtype=float16), array(0.01967, dtype=float16), array(0.00928, dtype=float16), array(0.0311, dtype=float16), array(0.000568, dtype=float16), array(0.05685, dtype=float16), array(0.1214, dtype=float16), array(3.576e-05, dtype=float16), array(0.02753, dtype=float16), array(0.0007124, dtype=float16), array(1.44e-05, dtype=float16), array(0.00365, dtype=float16), array(0.003105, dtype=float16), array(0.0002086, dtype=float16), array(0.02911, dtype=float16), array(0.1006, dtype=float16), array(0.02261, dtype=float16), array(0.7617, dtype=float16), array(0.05374, dtype=float16), array(0.04358, dtype=float16), array(0.03845, dtype=float16), array(4.333e-05, dtype=float16), array(0.0273, dtype=float16), array(0.0003936, dtype=float16), array(0.0001594, dtype=float16), array(4.95e-05, dtype=float16), array(0.1187, dtype=float16), array(0.0006905, dtype=float16), array(0.0171, dtype=float16), array(0.02562, dtype=float16), array(0.02715, dtype=float16), array(0.010635, dtype=float16), array(0.69, dtype=float16), array(0.001386, dtype=float16), array(0.8916, dtype=float16), array(0.0635, dtype=float16), array(0.05707, dtype=float16), array(0.0004013, dtype=float16), array(0.015175, dtype=float16), array(0.0177, dtype=float16), array(0.02751, dtype=float16), array(0.001037, dtype=float16), array(0.0003386, dtype=float16), array(0.0001761, dtype=float16), array(0.0203, dtype=float16), array(0.1011, dtype=float16), array(0.7666, dtype=float16), array(0.0745, dtype=float16), array(0.0584, dtype=float16), array(0.0001031, dtype=float16), array(8.55e-05, dtype=float16), array(0.04346, dtype=float16), array(0.01816, dtype=float16), array(0.00304, dtype=float16), array(3.84e-05, dtype=float16), array(0.001953, dtype=float16), array(0.0004256, dtype=float16), array(0.0001388, dtype=float16), array(0.1357, dtype=float16), array(0.0006566, dtype=float16), array(0.002161, dtype=float16), array(0.0744, dtype=float16), array(0.000389, dtype=float16), array(0.00695, dtype=float16), array(0.00755, dtype=float16), array(0.001861, dtype=float16), array(0.788, dtype=float16), array(0.03882, dtype=float16), array(0.01762, dtype=float16), array(3.32e-05, dtype=float16), array(0.2737, dtype=float16), array(0.01029, dtype=float16), array(0.0002728, dtype=float16), array(0.06097, dtype=float16), array(0.01628, dtype=float16), array(5.4e-06, dtype=float16), array(0.01625, dtype=float16), array(0.4736, dtype=float16), array(0.02518, dtype=float16), array(0.0828, dtype=float16), array(0.523, dtype=float16), array(0.02242, dtype=float16), array(0.1251, dtype=float16), array(0.1958, dtype=float16), array(0.573, dtype=float16), array(0.014755, dtype=float16), array(0.0042, dtype=float16), array(0.0002513, dtype=float16), array(0.0003543, dtype=float16), array(0.001405, dtype=float16), array(6.81e-05, dtype=float16), array(0.1412, dtype=float16), array(0.2954, dtype=float16), array(0.09534, dtype=float16), array(0.001394, dtype=float16), array(0.00542, dtype=float16), array(0.0003374, dtype=float16), array(0.0278, dtype=float16), array(0.002213, dtype=float16), array(0.01483, dtype=float16), array(0.0908, dtype=float16), array(0.06146, dtype=float16), array(0.00678, dtype=float16), array(0.10455, dtype=float16), array(0.010605, dtype=float16), array(0.1004, dtype=float16), array(0.01942, dtype=float16), array(0.02101, dtype=float16), array(0.08203, dtype=float16), array(0.0001521, dtype=float16), array(0.00157, dtype=float16), array(8.34e-06, dtype=float16), array(0.001317, dtype=float16), array(5.1e-05, dtype=float16), array(0.2559, dtype=float16), array(0.001664, dtype=float16), array(6.855e-05, dtype=float16), array(4.6e-06, dtype=float16), array(1.11e-05, dtype=float16), array(0.0002754, dtype=float16), array(0.0002577, dtype=float16), array(0.0002328, dtype=float16), array(0.01383, dtype=float16), array(2.56e-06, dtype=float16), array(9.24e-06, dtype=float16), array(0.000793, dtype=float16), array(0.002424, dtype=float16), array(4.38e-05, dtype=float16), array(0.0001411, dtype=float16), array(0.000993, dtype=float16), array(0.0001215, dtype=float16), array(0.01653, dtype=float16), array(0.0389, dtype=float16), array(1.9e-06, dtype=float16), array(0.000168, dtype=float16), array(0.005833, dtype=float16), array(3.68e-05, dtype=float16), array(0.000714, dtype=float16), array(0.04742, dtype=float16), array(0.00013, dtype=float16), array(0.0629, dtype=float16), array(0.03842, dtype=float16), array(0.183, dtype=float16), array(0.4458, dtype=float16), array(0.01423, dtype=float16), array(0.2524, dtype=float16), array(0.004562, dtype=float16), array(0.0004246, dtype=float16), array(0.00861, dtype=float16), array(0.002768, dtype=float16), array(0.1365, dtype=float16), array(0.0005484, dtype=float16), array(6.354e-05, dtype=float16), array(0.00826, dtype=float16), array(0.2289, dtype=float16), array(8.285e-05, dtype=float16), array(0.0001047, dtype=float16), array(0.00345, dtype=float16), array(0.0005274, dtype=float16), array(0.03268, dtype=float16), array(0.002047, dtype=float16), array(0.0001527, dtype=float16), array(6.735e-05, dtype=float16), array(7.34e-05, dtype=float16), array(1.127e-05, dtype=float16), array(2.366e-05, dtype=float16), array(3.43e-05, dtype=float16), array(0.00145, dtype=float16), array(2.56e-06, dtype=float16), array(5.7e-06, dtype=float16), array(0.0001687, dtype=float16), array(0.001908, dtype=float16), array(0.0265, dtype=float16), array(5.23e-05, dtype=float16), array(0.4783, dtype=float16), array(0.02725, dtype=float16), array(0.482, dtype=float16), array(0.03513, dtype=float16), array(0.642, dtype=float16), array(0.0779, dtype=float16), array(0.07404, dtype=float16), array(0.002253, dtype=float16), array(0.2478, dtype=float16), array(0.0307, dtype=float16), array(5.56e-05, dtype=float16), array(4.23e-06, dtype=float16), array(1.323e-05, dtype=float16), array(0.1295, dtype=float16), array(0.002811, dtype=float16), array(0.05566, dtype=float16), array(0.8647, dtype=float16), array(0.02817, dtype=float16), array(4.75e-05, dtype=float16), array(1.5e-06, dtype=float16), array(0.002901, dtype=float16), array(0.00434, dtype=float16), array(6.4e-06, dtype=float16), array(1.07e-05, dtype=float16), array(0.0003648, dtype=float16), array(0.00666, dtype=float16), array(0.0001723, dtype=float16), array(0.00844, dtype=float16), array(0.0002863, dtype=float16), array(0.4446, dtype=float16), array(0.6885, dtype=float16), array(0.9517, dtype=float16), array(0.010315, dtype=float16), array(0.01628, dtype=float16), array(0.00202, dtype=float16), array(0.0973, dtype=float16), array(0.001174, dtype=float16), array(0.002356, dtype=float16), array(5.066e-05, dtype=float16), array(0.007694, dtype=float16), array(0.00629, dtype=float16), array(0.0546, dtype=float16), array(0.0364, dtype=float16), array(2.48e-05, dtype=float16), array(0.0851, dtype=float16), array(0.09534, dtype=float16), array(0.03537, dtype=float16), array(0.0543, dtype=float16), array(0.04498, dtype=float16), array(3.946e-05, dtype=float16), array(0.05966, dtype=float16), array(0.001472, dtype=float16), array(0.05075, dtype=float16), array(0.0009255, dtype=float16), array(0.0001575, dtype=float16), array(0.002642, dtype=float16), array(0.001008, dtype=float16), array(0.002829, dtype=float16), array(0.3394, dtype=float16), array(0.3303, dtype=float16), array(0.0251, dtype=float16), array(0.02397, dtype=float16), array(0.02148, dtype=float16), array(0.001546, dtype=float16), array(5.275e-05, dtype=float16), array(0.01009, dtype=float16), array(3.e-05, dtype=float16), array(0.01907, dtype=float16), array(0.4172, dtype=float16), array(0.006763, dtype=float16), array(0.03064, dtype=float16), array(0.01596, dtype=float16), array(0.03223, dtype=float16), array(0.8667, dtype=float16), array(0.002125, dtype=float16), array(0.01439, dtype=float16), array(0.0006905, dtype=float16), array(0.005665, dtype=float16), array(0.01544, dtype=float16), array(0.0003328, dtype=float16), array(0.0006485, dtype=float16), array(0.0003276, dtype=float16), array(2.e-07, dtype=float16), array(2.15e-06, dtype=float16), array(0.00015, dtype=float16), array(0.0005693, dtype=float16), array(0.01633, dtype=float16), array(0.004143, dtype=float16), array(0.0003257, dtype=float16), array(0.0006986, dtype=float16), array(0.0002868, dtype=float16), array(2.44e-05, dtype=float16), array(0.02701, dtype=float16), array(0.01912, dtype=float16), array(0.0078, dtype=float16), array(3.177e-05, dtype=float16), array(0.5776, dtype=float16), array(0.00151, dtype=float16), array(0.10596, dtype=float16), array(0.03123, dtype=float16), array(0.02647, dtype=float16), array(0.026, dtype=float16), array(0.01834, dtype=float16), array(0.02928, dtype=float16), array(0.02098, dtype=float16), array(0.0819, dtype=float16), array(0.5645, dtype=float16), array(0.02158, dtype=float16), array(0.0005026, dtype=float16), array(0.002182, dtype=float16), array(9.334e-05, dtype=float16), array(0.02856, dtype=float16), array(0.02551, dtype=float16), array(0.00525, dtype=float16), array(0.000121, dtype=float16), array(0.0083, dtype=float16), array(0.003136, dtype=float16), array(0.002188, dtype=float16), array(8.696e-05, dtype=float16), array(3.47e-05, dtype=float16), array(0.007725, dtype=float16), array(5.597e-05, dtype=float16), array(0.001736, dtype=float16), array(0.0002283, dtype=float16), array(3.7e-06, dtype=float16), array(0.02518, dtype=float16), array(0.02893, dtype=float16), array(0.001315, dtype=float16), array(0.0001303, dtype=float16), array(0.001758, dtype=float16), array(0.686, dtype=float16), array(0.0001551, dtype=float16), array(0.0002947, dtype=float16), array(0.0008297, dtype=float16), array(0.0003207, dtype=float16), array(0.03732, dtype=float16), array(0.04483, dtype=float16), array(0.03574, dtype=float16), array(0.01058, dtype=float16), array(0.02606, dtype=float16), array(0.156, dtype=float16), array(0.3704, dtype=float16), array(0.5205, dtype=float16), array(0.945, dtype=float16), array(0.05136, dtype=float16), array(0.199, dtype=float16), array(0.004032, dtype=float16), array(0.119, dtype=float16), array(0.00011104, dtype=float16), array(0.0004172, dtype=float16), array(0.0001353, dtype=float16), array(0.06445, dtype=float16), array(0.00157, dtype=float16), array(0.04456, dtype=float16), array(0.5464, dtype=float16), array(3.207e-05, dtype=float16), array(0.002356, dtype=float16), array(0.0001647, dtype=float16), array(0.001861, dtype=float16), array(0.01148, dtype=float16), array(0.3584, dtype=float16), array(0.01095, dtype=float16), array(0.0087, dtype=float16), array(0.04248, dtype=float16), array(0.003714, dtype=float16), array(3.105e-05, dtype=float16), array(5.203e-05, dtype=float16), array(2.44e-06, dtype=float16), array(5.e-06, dtype=float16), array(0.003456, dtype=float16), array(2.13e-05, dtype=float16), array(0.00748, dtype=float16), array(3.16e-06, dtype=float16), array(2.8e-06, dtype=float16), array(0.00010955, dtype=float16), array(7.7e-06, dtype=float16), array(6.2e-06, dtype=float16), array(4.67e-05, dtype=float16), array(1.97e-06, dtype=float16), array(8.3e-07, dtype=float16), array(0.0002947, dtype=float16), array(5.96e-06, dtype=float16), array(0.0002954, dtype=float16), array(2.29e-05, dtype=float16), array(4.35e-06, dtype=float16), array(0.0003083, dtype=float16), array(0.002157, dtype=float16), array(0.0834, dtype=float16), array(0.001668, dtype=float16), array(0.001092, dtype=float16), array(0.502, dtype=float16), array(0.0567, dtype=float16), array(0.0926, dtype=float16), array(0.9663, dtype=float16), array(0.0822, dtype=float16), array(0.88, dtype=float16), array(0.03802, dtype=float16), array(0.0376, dtype=float16), array(0.02078, dtype=float16), array(0.3267, dtype=float16), array(0.5894, dtype=float16), array(0.2922, dtype=float16), array(0.3079, dtype=float16), array(0.2462, dtype=float16), array(0.3293, dtype=float16), array(0.55, dtype=float16), array(0.8843, dtype=float16), array(0.858, dtype=float16), array(0.407, dtype=float16), array(0.9746, dtype=float16), array(0.9854, dtype=float16), array(0.2284, dtype=float16), array(0.169, dtype=float16), array(0.757, dtype=float16), array(0.796, dtype=float16), array(0.885, dtype=float16), array(0.0162, dtype=float16), array(0.001883, dtype=float16), array(0.11975, dtype=float16), array(0.03778, dtype=float16), array(0.01717, dtype=float16), array(0.1366, dtype=float16), array(0.000591, dtype=float16), array(0.02097, dtype=float16), array(0.0167, dtype=float16), array(0.3562, dtype=float16), array(0.01196, dtype=float16), array(0.01721, dtype=float16), array(0.0541, dtype=float16), array(0.0005236, dtype=float16), array(0.6963, dtype=float16), array(0.002499, dtype=float16), array(0.013794, dtype=float16), array(0.161, dtype=float16), array(0.1528, dtype=float16), array(0.1619, dtype=float16), array(3.93e-06, dtype=float16), array(0.344, dtype=float16), array(0.009796, dtype=float16), array(0.0185, dtype=float16), array(0.2605, dtype=float16), array(0.01701, dtype=float16), array(0.00743, dtype=float16), array(0.8877, dtype=float16), array(0.1153, dtype=float16), array(1.47e-05, dtype=float16), array(0.04532, dtype=float16), array(0.4062, dtype=float16), array(0.2423, dtype=float16), array(0.607, dtype=float16), array(0.02101, dtype=float16), array(0.2224, dtype=float16), array(0.8003, dtype=float16), array(0.0001276, dtype=float16), array(0.001071, dtype=float16), array(0.03903, dtype=float16), array(0.03818, dtype=float16), array(0.2998, dtype=float16), array(0.6113, dtype=float16), array(0.693, dtype=float16), array(0.32, dtype=float16), array(0.1359, dtype=float16), array(0.4243, dtype=float16), array(0.02205, dtype=float16), array(0.01059, dtype=float16), array(0.001626, dtype=float16), array(0.001835, dtype=float16), array(0.0002775, dtype=float16), array(0.4333, dtype=float16), array(0.302, dtype=float16), array(0.0624, dtype=float16), array(0.0004656, dtype=float16), array(0.000714, dtype=float16), array(0.001354, dtype=float16), array(0.0003157, dtype=float16), array(0.03796, dtype=float16), array(0.0825, dtype=float16), array(0.001579, dtype=float16), array(0.533, dtype=float16), array(0.1527, dtype=float16), array(0.3352, dtype=float16), array(0.079, dtype=float16), array(0.4858, dtype=float16), array(0.2073, dtype=float16), array(0.03543, dtype=float16), array(0.027, dtype=float16), array(0.928, dtype=float16), array(0.2003, dtype=float16), array(0.0855, dtype=float16), array(0.0001557, dtype=float16), array(0.5347, dtype=float16), array(0.2537, dtype=float16), array(0.02533, dtype=float16), array(0.02939, dtype=float16), array(0.01971, dtype=float16), array(3.81e-05, dtype=float16), array(4.75e-05, dtype=float16), array(0.05856, dtype=float16), array(0.612, dtype=float16), array(0.3933, dtype=float16), array(0.3853, dtype=float16), array(0.209, dtype=float16), array(0.321, dtype=float16), array(0.01817, dtype=float16), array(0.01519, dtype=float16), array(0.08154, dtype=float16), array(0.1498, dtype=float16), array(0.0448, dtype=float16), array(0.0434, dtype=float16), array(0.0334, dtype=float16), array(0.315, dtype=float16), array(0.2952, dtype=float16), array(0.05447, dtype=float16), array(0.006844, dtype=float16), array(0.0503, dtype=float16), array(0.02802, dtype=float16), array(0.0004513, dtype=float16), array(0.0382, dtype=float16), array(0.673, dtype=float16), array(0.01289, dtype=float16), array(0.5234, dtype=float16), array(0.5415, dtype=float16), array(0.001219, dtype=float16), array(0.00010955, dtype=float16), array(7.4e-06, dtype=float16), array(0.00223, dtype=float16), array(0.01822, dtype=float16), array(0.02162, dtype=float16), array(0.002293, dtype=float16), array(0.1321, dtype=float16), array(0.2142, dtype=float16), array(0.01311, dtype=float16), array(0.3523, dtype=float16), array(0.5264, dtype=float16), array(0.04837, dtype=float16), array(0.00301, dtype=float16), array(0.2917, dtype=float16), array(0.01828, dtype=float16), array(0.005054, dtype=float16), array(0.01921, dtype=float16), array(0.0467, dtype=float16), array(0.0954, dtype=float16), array(0.0493, dtype=float16), array(0.281, dtype=float16), array(0.002068, dtype=float16), array(0.04205, dtype=float16), array(0.02188, dtype=float16), array(0.8047, dtype=float16), array(0.02159, dtype=float16), array(0.01709, dtype=float16), array(0.3809, dtype=float16), array(0.4607, dtype=float16), array(0.0672, dtype=float16), array(0.3904, dtype=float16), array(0.1526, dtype=float16), array(0.01978, dtype=float16), array(0.579, dtype=float16), array(0.2402, dtype=float16), array(0.0002283, dtype=float16), array(0.5674, dtype=float16), array(0.03001, dtype=float16), array(0.5977, dtype=float16), array(0.1831, dtype=float16), array(0.9414, dtype=float16), array(0.06964, dtype=float16), array(0.985, dtype=float16), array(0.219, dtype=float16), array(0.02931, dtype=float16), array(0.4067, dtype=float16), array(0.0717, dtype=float16), array(0.01756, dtype=float16), array(0.1704, dtype=float16), array(0.257, dtype=float16), array(0.04865, dtype=float16), array(0.0002003, dtype=float16), array(0.4082, dtype=float16), array(0.02293, dtype=float16), array(0.3906, dtype=float16), array(0.11725, dtype=float16), array(0.0678, dtype=float16), array(0.7935, dtype=float16), array(0.1567, dtype=float16), array(0.02687, dtype=float16), array(0.01598, dtype=float16), array(0.1431, dtype=float16), array(0.05835, dtype=float16), array(0.07294, dtype=float16), array(0.01033, dtype=float16), array(7.37e-05, dtype=float16), array(0.266, dtype=float16), array(0.708, dtype=float16), array(0.9287, dtype=float16), array(0.0659, dtype=float16), array(0.256, dtype=float16), array(0.0751, dtype=float16), array(0.02998, dtype=float16), array(0.0093, dtype=float16), array(0.01125, dtype=float16), array(0.0277, dtype=float16), array(0.855, dtype=float16), array(0.01747, dtype=float16), array(0.03418, dtype=float16), array(0.03558, dtype=float16), array(0.3535, dtype=float16), array(0.305, dtype=float16), array(0.04422, dtype=float16), array(0.3608, dtype=float16), array(0.4001, dtype=float16), array(0.01277, dtype=float16), array(0.00172, dtype=float16), array(0.03912, dtype=float16), array(0.07837, dtype=float16), array(0.03117, dtype=float16), array(0.585, dtype=float16), array(0.3352, dtype=float16), array(0.6084, dtype=float16), array(0.2812, dtype=float16), array(0.1155, dtype=float16), array(0.4426, dtype=float16), array(0.00901, dtype=float16), array(0.0739, dtype=float16), array(0.706, dtype=float16), array(0.6855, dtype=float16), array(0.2913, dtype=float16), array(0.5146, dtype=float16), array(0.00848, dtype=float16), array(0.0002059, dtype=float16), array(0.00861, dtype=float16), array(0.00477, dtype=float16), array(0.007675, dtype=float16), array(0.005665, dtype=float16), array(0.03026, dtype=float16), array(0.01008, dtype=float16), array(0.6123, dtype=float16), array(1.64e-05, dtype=float16), array(0.03079, dtype=float16), array(0.0253, dtype=float16), array(0.0272, dtype=float16), array(0.01643, dtype=float16), array(0.014435, dtype=float16), array(0.1428, dtype=float16), array(0.2042, dtype=float16), array(0.409, dtype=float16), array(0.05215, dtype=float16), array(0.04144, dtype=float16), array(0.00847, dtype=float16), array(0.03677, dtype=float16), array(0.1504, dtype=float16), array(0.02617, dtype=float16), array(0.1924, dtype=float16), array(0.0007772, dtype=float16), array(0.00731, dtype=float16), array(0.012405, dtype=float16), array(0.0002038, dtype=float16), array(0.08026, dtype=float16), array(0.01472, dtype=float16), array(0.743, dtype=float16), array(0.12396, dtype=float16), array(0.588, dtype=float16), array(0.458, dtype=float16), array(0.015076, dtype=float16), array(0.02708, dtype=float16), array(0.10223, dtype=float16), array(0.4087, dtype=float16), array(0.2595, dtype=float16), array(0.803, dtype=float16), array(0.5923, dtype=float16), array(0.00944, dtype=float16), array(0.0182, dtype=float16), array(0.008865, dtype=float16), array(0.02956, dtype=float16), array(0.001095, dtype=float16), array(0.01817, dtype=float16), array(2.86e-06, dtype=float16), array(2.e-06, dtype=float16), array(0.189, dtype=float16), array(0.01578, dtype=float16), array(0.11584, dtype=float16), array(0.025, dtype=float16), array(0.0517, dtype=float16), array(0.10803, dtype=float16), array(0.3452, dtype=float16), array(0.08673, dtype=float16), array(0.0002217, dtype=float16), array(0.0765, dtype=float16), array(0.0001243, dtype=float16), array(0.1969, dtype=float16), array(0.01057, dtype=float16), array(0.01053, dtype=float16), array(0.1757, dtype=float16), array(0.003546, dtype=float16), array(0.01065, dtype=float16), array(6.086e-05, dtype=float16), array(0.5674, dtype=float16), array(0.041, dtype=float16), array(0.01017, dtype=float16), array(0.07794, dtype=float16), array(0.1759, dtype=float16), array(0.00538, dtype=float16), array(0.002031, dtype=float16), array(0.0001329, dtype=float16), array(0.07605, dtype=float16), array(0.05115, dtype=float16), array(0.3872, dtype=float16), array(0.001092, dtype=float16), array(0.001138, dtype=float16), array(0.1632, dtype=float16), array(0.013596, dtype=float16), array(0.08704, dtype=float16), array(0.004524, dtype=float16), array(6.67e-05, dtype=float16), array(0.1431, dtype=float16), array(0.000255, dtype=float16), array(0.02377, dtype=float16), array(2.15e-06, dtype=float16), array(1.e-06, dtype=float16), array(0.00608, dtype=float16), array(0.0002763, dtype=float16), array(0.0001248, dtype=float16), array(0.5415, dtype=float16), array(1.55e-06, dtype=float16), array(0.001883, dtype=float16), array(0.007584, dtype=float16), array(0.000172, dtype=float16), array(9.66e-06, dtype=float16), array(0.000899, dtype=float16), array(1.4e-05, dtype=float16), array(0.0131, dtype=float16), array(0.04178, dtype=float16), array(0.014915, dtype=float16), array(0.01593, dtype=float16), array(0.01562, dtype=float16), array(0.01132, dtype=float16), array(0.01439, dtype=float16), array(0.01567, dtype=float16), array(0.015175, dtype=float16), array(0.01242, dtype=float16), array(0.006073, dtype=float16), array(0.002678, dtype=float16), array(0.005413, dtype=float16), array(0.006325, dtype=float16), array(0.011086, dtype=float16), array(0.00567, dtype=float16), array(0.007366, dtype=float16), array(0.005787, dtype=float16), array(0.010635, dtype=float16), array(0.0103, dtype=float16), array(0.00801, dtype=float16), array(0.01178, dtype=float16), array(0.00774, dtype=float16), array(0.0055, dtype=float16), array(0.00884, dtype=float16), array(0.01054, dtype=float16), array(0.00296, dtype=float16), array(0.010315, dtype=float16), array(0.01289, dtype=float16), array(0.01101, dtype=float16), array(0.00939, dtype=float16), array(0.01331, dtype=float16), array(0.01107, dtype=float16), array(0.04297, dtype=float16), array(0.05963, dtype=float16), array(0.0005336, dtype=float16), array(0.016, dtype=float16), array(0.01305, dtype=float16), array(0.01014, dtype=float16), array(5.e-06, dtype=float16), array(0.001671, dtype=float16), array(0.02544, dtype=float16), array(0.183, dtype=float16), array(0.0006523, dtype=float16), array(0.014946, dtype=float16), array(5.07e-06, dtype=float16), array(0.000841, dtype=float16), array(0.3699, dtype=float16), array(0.4407, dtype=float16), array(0.01967, dtype=float16), array(0.01313, dtype=float16), array(8.154e-05, dtype=float16), array(0.00446, dtype=float16), array(0.0357, dtype=float16), array(0.01084, dtype=float16), array(2.4e-07, dtype=float16), array(2.4e-07, dtype=float16), array(0.0001404, dtype=float16), array(0.04926, dtype=float16), array(0.03033, dtype=float16), array(0.012886, dtype=float16), array(0.003319, dtype=float16), array(0.004704, dtype=float16), array(0.01418, dtype=float16), array(0.000871, dtype=float16), array(0.01372, dtype=float16), array(0.2527, dtype=float16), array(0.01225, dtype=float16), array(0.01103, dtype=float16), array(0.01047, dtype=float16), array(0.02454, dtype=float16), array(0.6714, dtype=float16), array(2.64e-05, dtype=float16), array(0.1364, dtype=float16), array(8.464e-05, dtype=float16), array(0.00995, dtype=float16), array(0.006783, dtype=float16), array(0.001055, dtype=float16), array(0.01536, dtype=float16), array(0.06305, dtype=float16), array(1.58e-05, dtype=float16), array(0.0005827, dtype=float16), array(0.000663, dtype=float16), array(0.0002847, dtype=float16), array(0.0002613, dtype=float16), array(0.01843, dtype=float16), array(0.0001273, dtype=float16), array(0.0178, dtype=float16), array(0.298, dtype=float16), array(3.207e-05, dtype=float16), array(0.2289, dtype=float16), array(0.03586, dtype=float16), array(0.0875, dtype=float16), array(0.717, dtype=float16), array(0.0001259, dtype=float16), array(7.4e-06, dtype=float16), array(0.0748, dtype=float16), array(0.002522, dtype=float16), array(0.4282, dtype=float16), array(0.02866, dtype=float16), array(4.79e-05, dtype=float16), array(0.00822, dtype=float16), array(0.05002, dtype=float16), array(0.0645, dtype=float16), array(0.004005, dtype=float16), array(3.6e-07, dtype=float16), array(1.997e-05, dtype=float16), array(1.705e-05, dtype=float16), array(0.01668, dtype=float16), array(0.1857, dtype=float16), array(0.0297, dtype=float16), array(0.0009494, dtype=float16), array(4.5e-06, dtype=float16), array(0.005882, dtype=float16), array(9.316e-05, dtype=float16), array(5.56e-05, dtype=float16), array(0.0001761, dtype=float16), array(4.79e-05, dtype=float16), array(1.13e-05, dtype=float16), array(5.54e-06, dtype=float16), array(0.0928, dtype=float16), array(2.6e-05, dtype=float16), array(0.1473, dtype=float16), array(4.35e-05, dtype=float16), array(8.3e-07, dtype=float16), array(2.354e-05, dtype=float16), array(2.99e-05, dtype=float16), array(0.0984, dtype=float16), array(1.12e-05, dtype=float16), array(6.6e-07, dtype=float16), array(0.009575, dtype=float16), array(0.862, dtype=float16), array(0.002104, dtype=float16), array(5.4e-07, dtype=float16), array(3.4e-06, dtype=float16), array(0.1312, dtype=float16), array(0.0006013, dtype=float16), array(2.53e-05, dtype=float16), array(0.0643, dtype=float16), array(0.04813, dtype=float16), array(0.0003912, dtype=float16), array(0.00124, dtype=float16), array(0.0707, dtype=float16), array(4.e-07, dtype=float16), array(0.02876, dtype=float16), array(0.04684, dtype=float16), array(1.895e-05, dtype=float16), array(0.07855, dtype=float16), array(0.31, dtype=float16), array(0.1672, dtype=float16), array(0.2344, dtype=float16), array(0.05093, dtype=float16), array(0.01935, dtype=float16), array(0.00938, dtype=float16), array(0.005665, dtype=float16), array(0.1842, dtype=float16), array(6.6e-07, dtype=float16), array(0.0707, dtype=float16), array(0.0004442, dtype=float16), array(2.42e-05, dtype=float16), array(0.1528, dtype=float16), array(0.0883, dtype=float16), array(0.001919, dtype=float16), array(0.4163, dtype=float16), array(0.31, dtype=float16), array(0.0001856, dtype=float16), array(0.0002728, dtype=float16), array(1.01e-05, dtype=float16), array(0.04425, dtype=float16), array(0.00956, dtype=float16), array(0.004765, dtype=float16), array(0.00462, dtype=float16), array(0.001147, dtype=float16), array(0.000543, dtype=float16), array(0.3252, dtype=float16), array(0.003069, dtype=float16), array(0.007233, dtype=float16), array(3.3e-05, dtype=float16), array(0.0009127, dtype=float16), array(0.2861, dtype=float16), array(0.02202, dtype=float16), array(0.02104, dtype=float16), array(7.5e-06, dtype=float16), array(8.3e-07, dtype=float16), array(0.1665, dtype=float16), array(0.00011104, dtype=float16), array(1.93e-05, dtype=float16), array(2.104e-05, dtype=float16), array(0.000759, dtype=float16), array(1.e-07, dtype=float16), array(0.0214, dtype=float16), array(0.02252, dtype=float16), array(0.001772, dtype=float16), array(0.03387, dtype=float16), array(5.e-06, dtype=float16), array(0.0002613, dtype=float16), array(2.26e-05, dtype=float16), array(0.000205, dtype=float16), array(3.15e-05, dtype=float16), array(0.0002123, dtype=float16), array(0.007446, dtype=float16), array(0.03284, dtype=float16), array(0.04523, dtype=float16), array(0.1434, dtype=float16), array(0.00936, dtype=float16), array(0.01663, dtype=float16), array(0.03915, dtype=float16), array(0.01663, dtype=float16), array(0.305, dtype=float16), array(0.01752, dtype=float16), array(0.2334, dtype=float16), array(5.877e-05, dtype=float16), array(0.519, dtype=float16), array(0.01142, dtype=float16), array(0.005527, dtype=float16), array(0.0004435, dtype=float16), array(2.5e-06, dtype=float16), array(0.0002108, dtype=float16), array(2.11e-05, dtype=float16), array(0.10724, dtype=float16), array(2.5e-06, dtype=float16), array(1.64e-05, dtype=float16), array(0.3064, dtype=float16), array(1.5e-06, dtype=float16), array(0.8467, dtype=float16), array(3.82e-05, dtype=float16), array(0.000338, dtype=float16), array(0.001209, dtype=float16), array(0.0409, dtype=float16), array(8.e-07, dtype=float16), array(0.505, dtype=float16), array(0.002958, dtype=float16), array(0.502, dtype=float16), array(0.0566, dtype=float16), array(7.e-06, dtype=float16), array(0.1081, dtype=float16), array(0.1478, dtype=float16), array(0.0082, dtype=float16), array(2.27e-05, dtype=float16), array(0.01251, dtype=float16), array(0.1366, dtype=float16), array(0.2998, dtype=float16), array(0.02461, dtype=float16), array(1.e-07, dtype=float16), array(4.65e-06, dtype=float16), array(0.0007396, dtype=float16), array(0.0008936, dtype=float16), array(0.02148, dtype=float16), array(0.007072, dtype=float16), array(2.4e-07, dtype=float16), array(1.23e-05, dtype=float16), array(0.2861, dtype=float16), array(0.623, dtype=float16), array(0.09515, dtype=float16), array(0.534, dtype=float16), array(0.2186, dtype=float16), array(0.4924, dtype=float16), array(0.985, dtype=float16), array(0.4497, dtype=float16), array(0.9434, dtype=float16), array(0.5186, dtype=float16), array(0.002226, dtype=float16), array(0.001297, dtype=float16), array(0.001498, dtype=float16), array(0.000968, dtype=float16), array(0.0008492, dtype=float16), array(0.00103, dtype=float16), array(0.000485, dtype=float16), array(0.001821, dtype=float16), array(0.001824, dtype=float16), array(0.3906, dtype=float16), array(0.003141, dtype=float16), array(0.001814, dtype=float16), array(8.416e-05, dtype=float16), array(0.0003083, dtype=float16), array(0.002283, dtype=float16), array(0.1063, dtype=float16), array(0.0003211, dtype=float16), array(0.000542, dtype=float16), array(0.001391, dtype=float16), array(0.001372, dtype=float16), array(0.00097, dtype=float16), array(0.0002556, dtype=float16), array(0.001224, dtype=float16), array(0.00655, dtype=float16), array(0.002901, dtype=float16), array(9.894e-05, dtype=float16), array(0.01321, dtype=float16), array(7.37e-05, dtype=float16), array(0.005, dtype=float16), array(0.026, dtype=float16), array(0.008484, dtype=float16), array(0.3445, dtype=float16), array(0.1115, dtype=float16), array(6.e-08, dtype=float16), array(0.0007424, dtype=float16), array(0.007576, dtype=float16), array(9.35e-05, dtype=float16), array(0.0553, dtype=float16), array(0.79, dtype=float16), array(0.6377, dtype=float16), array(0.001675, dtype=float16), array(2.87e-05, dtype=float16), array(0.0644, dtype=float16), array(3.e-07, dtype=float16), array(0.00789, dtype=float16), array(0.002314, dtype=float16), array(0.2052, dtype=float16), array(2.4e-07, dtype=float16), array(0.308, dtype=float16), array(0.0187, dtype=float16), array(0.01061, dtype=float16), array(0.02367, dtype=float16), array(0.00859, dtype=float16), array(0.00861, dtype=float16), array(0.0002995, dtype=float16), array(0.01718, dtype=float16), array(0.001519, dtype=float16), array(0.01013, dtype=float16), array(0.01306, dtype=float16), array(0.02785, dtype=float16), array(0.1028, dtype=float16), array(4.e-07, dtype=float16), array(0.00011146, dtype=float16), array(0.08325, dtype=float16), array(0.0003042, dtype=float16), array(1.4e-06, dtype=float16), array(1.7e-06, dtype=float16), array(5.4e-07, dtype=float16), array(0.1109, dtype=float16), array(0.000323, dtype=float16), array(0.0824, dtype=float16), array(2.3e-05, dtype=float16), array(0.001138, dtype=float16), array(0.0004005, dtype=float16), array(0.009674, dtype=float16), array(0.9233, dtype=float16), array(0.8447, dtype=float16), array(0.5654, dtype=float16), array(0.2289, dtype=float16), array(0.0846, dtype=float16), array(0.01584, dtype=float16), array(0.0314, dtype=float16), array(0.0087, dtype=float16), array(0.00521, dtype=float16), array(0.882, dtype=float16), array(0.442, dtype=float16), array(0.6016, dtype=float16), array(0.02693, dtype=float16), array(0.01023, dtype=float16), array(0.00908, dtype=float16), array(0.2861, dtype=float16), array(0.3347, dtype=float16), array(0.16, dtype=float16), array(3.4e-05, dtype=float16), array(0.013626, dtype=float16), array(0.09894, dtype=float16), array(0.1892, dtype=float16), array(0.876, dtype=float16), array(1.11e-05, dtype=float16), array(9.5e-07, dtype=float16), array(0.0001799, dtype=float16), array(0.0241, dtype=float16), array(2.4e-07, dtype=float16), array(0.1874, dtype=float16), array(0.05646, dtype=float16), array(3.e-06, dtype=float16), array(2.456e-05, dtype=float16), array(8.06e-05, dtype=float16), array(0.01242, dtype=float16), array(0.000284, dtype=float16), array(0.3271, dtype=float16), array(4.9e-06, dtype=float16), array(0.0168, dtype=float16), array(0.0002123, dtype=float16), array(0.5605, dtype=float16), array(0.488, dtype=float16), array(0.3696, dtype=float16), array(0.891, dtype=float16), array(0.692, dtype=float16), array(0.836, dtype=float16), array(0.3157, dtype=float16), array(0.2715, dtype=float16), array(0.5854, dtype=float16), array(2.4e-06, dtype=float16), array(1.7e-06, dtype=float16), array(2.74e-06, dtype=float16), array(0.0928, dtype=float16), array(0.00597, dtype=float16), array(0.0217, dtype=float16), array(0.0006824, dtype=float16), array(0.001543, dtype=float16), array(0.005234, dtype=float16), array(0.03137, dtype=float16), array(0.003757, dtype=float16), array(0.0002623, dtype=float16), array(4.63e-05, dtype=float16), array(8.19e-05, dtype=float16), array(0.01383, dtype=float16), array(0.1506, dtype=float16), array(0.00448, dtype=float16), array(0.01599, dtype=float16), array(0.01163, dtype=float16), array(2.5e-06, dtype=float16), array(0.3628, dtype=float16), array(3.47e-05, dtype=float16), array(0.09894, dtype=float16), array(0.01316, dtype=float16), array(0.00817, dtype=float16), array(0.04837, dtype=float16), array(0.001, dtype=float16), array(0.04855, dtype=float16), array(0.04446, dtype=float16), array(0.005688, dtype=float16), array(0.03824, dtype=float16), array(0.0363, dtype=float16), array(0.09235, dtype=float16), array(0.01968, dtype=float16), array(0.01701, dtype=float16), array(0.01588, dtype=float16), array(0.7554, dtype=float16), array(0.01265, dtype=float16), array(0.0739, dtype=float16), array(0.0231, dtype=float16), array(0.04745, dtype=float16), array(0.0002995, dtype=float16), array(0.1477, dtype=float16), array(0.02122, dtype=float16), array(0.02031, dtype=float16), array(0.0432, dtype=float16), array(0.668, dtype=float16), array(0.0194, dtype=float16), array(0.02734, dtype=float16), array(0.9585, dtype=float16), array(0.000779, dtype=float16), array(0.05786, dtype=float16), array(0.00567, dtype=float16), array(0.03204, dtype=float16), array(0.169, dtype=float16), array(0.2463, dtype=float16), array(1.3e-06, dtype=float16), array(0.0273, dtype=float16), array(0.00886, dtype=float16), array(0.6494, dtype=float16), array(0.0218, dtype=float16), array(0.00542, dtype=float16), array(0.01688, dtype=float16), array(0.0345, dtype=float16), array(0.1207, dtype=float16), array(0.06305, dtype=float16), array(0.0151, dtype=float16), array(0.1428, dtype=float16), array(0.134, dtype=float16), array(0.444, dtype=float16), array(0.29, dtype=float16), array(0.0367, dtype=float16), array(0.909, dtype=float16), array(0.00634, dtype=float16), array(0.01267, dtype=float16), array(0.1329, dtype=float16), array(0.2148, dtype=float16), array(0.2003, dtype=float16), array(0.11084, dtype=float16), array(0.1142, dtype=float16), array(0.00957, dtype=float16), array(0.02025, dtype=float16), array(0.1923, dtype=float16), array(0.0549, dtype=float16), array(5.1e-05, dtype=float16), array(0.001614, dtype=float16), array(0.0001991, dtype=float16), array(0.2203, dtype=float16), array(7.37e-05, dtype=float16), array(0.10815, dtype=float16), array(0.0881, dtype=float16), array(0.001095, dtype=float16), array(0.2466, dtype=float16), array(4.196e-05, dtype=float16), array(0.609, dtype=float16), array(0.02437, dtype=float16), array(0.02641, dtype=float16), array(0.0711, dtype=float16), array(0.708, dtype=float16), array(0.1681, dtype=float16), array(0.02734, dtype=float16), array(0.0006, dtype=float16), array(0.012184, dtype=float16), array(0.01161, dtype=float16), array(0.07715, dtype=float16), array(0.0002613, dtype=float16), array(0.01257, dtype=float16), array(0.02106, dtype=float16), array(0.009575, dtype=float16), array(0.00749, dtype=float16), array(0.03598, dtype=float16), array(0.001224, dtype=float16), array(0.0001465, dtype=float16), array(0.0193, dtype=float16), array(0.0008645, dtype=float16), array(0.01953, dtype=float16), array(0.03976, dtype=float16), array(0.1509, dtype=float16), array(0.000383, dtype=float16), array(0.03238, dtype=float16), array(0.05612, dtype=float16), array(0.03683, dtype=float16), array(0.2448, dtype=float16), array(0.05112, dtype=float16), array(0.0003114, dtype=float16), array(0.002424, dtype=float16), array(0.0021, dtype=float16), array(0.06137, dtype=float16), array(0.0283, dtype=float16), array(0.07336, dtype=float16), array(0.06714, dtype=float16), array(0.04794, dtype=float16), array(0.343, dtype=float16), array(0.04794, dtype=float16), array(0.0001559, dtype=float16), array(4.38e-05, dtype=float16), array(5.99e-05, dtype=float16), array(0.006832, dtype=float16), array(5.716e-05, dtype=float16), array(0.3362, dtype=float16), array(0.04132, dtype=float16), array(0.00992, dtype=float16), array(0.00611, dtype=float16), array(0.003075, dtype=float16), array(0.00874, dtype=float16), array(0.988, dtype=float16), array(0.583, dtype=float16), array(0.937, dtype=float16), array(0.89, dtype=float16), array(0.1093, dtype=float16), array(0.9834, dtype=float16), array(0.9937, dtype=float16), array(0.943, dtype=float16), array(0.9385, dtype=float16), array(0.5615, dtype=float16), array(0.09485, dtype=float16), array(0.3657, dtype=float16), array(0.2423, dtype=float16), array(0.02037, dtype=float16), array(0.11707, dtype=float16), array(0.1611, dtype=float16), array(0.628, dtype=float16), array(0.534, dtype=float16), array(0.03912, dtype=float16), array(0.665, dtype=float16), array(0.02814, dtype=float16), array(0.0879, dtype=float16), array(0.1571, dtype=float16), array(0.2659, dtype=float16), array(0.954, dtype=float16), array(0.952, dtype=float16), array(0.2773, dtype=float16), array(0.226, dtype=float16), array(0.555, dtype=float16), array(0.9795, dtype=float16), array(0.3804, dtype=float16), array(0.877, dtype=float16), array(0.6514, dtype=float16), array(0.9395, dtype=float16), array(0.8516, dtype=float16), array(0.303, dtype=float16), array(0.07275, dtype=float16), array(0.0841, dtype=float16), array(0.2622, dtype=float16), array(0.1354, dtype=float16), array(0.6636, dtype=float16), array(0.4946, dtype=float16), array(0.0177, dtype=float16), array(0.01944, dtype=float16), array(0.1315, dtype=float16), array(0.007088, dtype=float16), array(0.01137, dtype=float16), array(0.0347, dtype=float16), array(0.02727, dtype=float16), array(0.23, dtype=float16), array(0.06445, dtype=float16), array(0.5693, dtype=float16), array(0.0005918, dtype=float16), array(0.967, dtype=float16), array(0.01335, dtype=float16), array(0.1887, dtype=float16), array(0.1033, dtype=float16), array(0.002884, dtype=float16), array(0.6973, dtype=float16), array(0.0001411, dtype=float16), array(7.6e-06, dtype=float16), array(0.8306, dtype=float16), array(0.2241, dtype=float16), array(0.006382, dtype=float16), array(0.02315, dtype=float16), array(0.09033, dtype=float16), array(0.2874, dtype=float16), array(1.395e-05, dtype=float16), array(0.2028, dtype=float16), array(0.8843, dtype=float16), array(0.005535, dtype=float16), array(0.0522, dtype=float16), array(0.02321, dtype=float16), array(0.00787, dtype=float16), array(0.01564, dtype=float16), array(0.13, dtype=float16), array(0.0895, dtype=float16), array(0.0336, dtype=float16), array(0.8193, dtype=float16), array(0.2935, dtype=float16), array(0.0001243, dtype=float16), array(0.02405, dtype=float16), array(0.2377, dtype=float16), array(0.0457, dtype=float16), array(0.1708, dtype=float16), array(0.001228, dtype=float16), array(0.01927, dtype=float16), array(0.00407, dtype=float16), array(0.0221, dtype=float16), array(0.554, dtype=float16), array(0.4175, dtype=float16), array(9.173e-05, dtype=float16), array(0.3936, dtype=float16), array(0.8193, dtype=float16), array(0.006424, dtype=float16), array(0.9663, dtype=float16), array(0.3982, dtype=float16), array(0.02893, dtype=float16), array(4.89e-05, dtype=float16), array(0.1826, dtype=float16), array(0.00817, dtype=float16), array(0.001942, dtype=float16), array(7.34e-05, dtype=float16), array(0.00356, dtype=float16), array(0.005272, dtype=float16), array(0.04904, dtype=float16), array(0.0111, dtype=float16), array(0.003717, dtype=float16), array(0.00714, dtype=float16), array(1.39e-05, dtype=float16), array(0.0008492, dtype=float16), array(0.556, dtype=float16), array(0.015495, dtype=float16), array(0.0392, dtype=float16), array(0.06433, dtype=float16), array(0.04733, dtype=float16), array(0.07886, dtype=float16), array(0.002401, dtype=float16), array(0.947, dtype=float16), array(0.0005693, dtype=float16), array(0.2109, dtype=float16), array(0.12476, dtype=float16), array(0.3833, dtype=float16), array(0.927, dtype=float16), array(0.05972, dtype=float16), array(0.6953, dtype=float16), array(3.79e-05, dtype=float16), array(0.0001253, dtype=float16), array(0.0593, dtype=float16), array(0.02168, dtype=float16), array(0.002151, dtype=float16), array(0.0003655, dtype=float16), array(0.5073, dtype=float16), array(0.00982, dtype=float16), array(0.005272, dtype=float16), array(0.004314, dtype=float16), array(0.07196, dtype=float16), array(1.48e-05, dtype=float16), array(0.0041, dtype=float16), array(0.00011146, dtype=float16), array(0.003483, dtype=float16), array(0.0334, dtype=float16), array(0.0552, dtype=float16), array(0.02083, dtype=float16), array(0.0613, dtype=float16), array(0.0245, dtype=float16), array(0.03683, dtype=float16), array(0.844, dtype=float16), array(0.2458, dtype=float16), array(0.1549, dtype=float16), array(0.10065, dtype=float16), array(8.315e-05, dtype=float16), array(2.33e-05, dtype=float16), array(0.002924, dtype=float16), array(0.652, dtype=float16), array(0.02339, dtype=float16), array(0.1384, dtype=float16), array(0.000696, dtype=float16), array(0.12006, dtype=float16), array(0.0865, dtype=float16), array(0.7495, dtype=float16), array(3.44e-05, dtype=float16), array(0.9326, dtype=float16), array(0.04266, dtype=float16), array(0.000554, dtype=float16), array(0.8105, dtype=float16), array(0.07245, dtype=float16), array(0.1199, dtype=float16), array(0.02611, dtype=float16), array(0.00861, dtype=float16), array(0.1198, dtype=float16), array(0.00844, dtype=float16), array(0.7725, dtype=float16), array(0.2389, dtype=float16), array(0.4644, dtype=float16), array(0.004803, dtype=float16), array(0.1484, dtype=float16), array(0.4873, dtype=float16), array(0.0327, dtype=float16), array(0.00011194, dtype=float16), array(5.69e-05, dtype=float16), array(3.976e-05, dtype=float16), array(0.0289, dtype=float16), array(0.5186, dtype=float16), array(0.01133, dtype=float16), array(0.0002011, dtype=float16), array(0.02016, dtype=float16), array(0.587, dtype=float16), array(0.0002868, dtype=float16), array(0.001704, dtype=float16), array(0.5425, dtype=float16), array(0.0006413, dtype=float16), array(0.1932, dtype=float16), array(0.1018, dtype=float16), array(0.00485, dtype=float16), array(0.009674, dtype=float16), array(0.0722, dtype=float16), array(0.1377, dtype=float16), array(0.1952, dtype=float16), array(0.199, dtype=float16), array(0.03894, dtype=float16), array(0.777, dtype=float16), array(0.1447, dtype=float16), array(0.7397, dtype=float16), array(0.00923, dtype=float16), array(0.01794, dtype=float16), array(0.00038, dtype=float16), array(0.2174, dtype=float16), array(0.2109, dtype=float16), array(0.01058, dtype=float16), array(0.02449, dtype=float16), array(0.0046, dtype=float16), array(0.3088, dtype=float16), array(0.691, dtype=float16), array(0.682, dtype=float16), array(0.1638, dtype=float16), array(0.1735, dtype=float16), array(0.6714, dtype=float16), array(0.294, dtype=float16), array(0.01473, dtype=float16), array(0.2668, dtype=float16), array(0.0475, dtype=float16), array(0.0661, dtype=float16), array(0.0004566, dtype=float16), array(0.09814, dtype=float16), array(0.8887, dtype=float16), array(0.6, dtype=float16), array(0.07947, dtype=float16), array(0.0377, dtype=float16), array(0.0148, dtype=float16), array(0.618, dtype=float16), array(0.0005465, dtype=float16), array(0.6924, dtype=float16), array(0.0639, dtype=float16), array(0.002626, dtype=float16), array(0.006264, dtype=float16), array(0.4907, dtype=float16), array(0.0548, dtype=float16), array(0.012184, dtype=float16), array(3.52e-05, dtype=float16), array(0.04456, dtype=float16), array(0.9, dtype=float16), array(0.012726, dtype=float16), array(0.1262, dtype=float16), array(4.74e-05, dtype=float16), array(0.873, dtype=float16), array(0.322, dtype=float16), array(7.576e-05, dtype=float16), array(0.05334, dtype=float16), array(0.115, dtype=float16), array(0.00543, dtype=float16), array(0.271, dtype=float16), array(0.01631, dtype=float16), array(0.1354, dtype=float16), array(0.7188, dtype=float16), array(0.01791, dtype=float16), array(0.04907, dtype=float16), array(0.4714, dtype=float16), array(0.02367, dtype=float16), array(0.4197, dtype=float16), array(0.01862, dtype=float16), array(0.0357, dtype=float16), array(0.6396, dtype=float16), array(0.6494, dtype=float16), array(0.006145, dtype=float16), array(0.1, dtype=float16), array(0.004997, dtype=float16), array(0.01383, dtype=float16), array(0.03096, dtype=float16), array(0.01107, dtype=float16), array(0.3298, dtype=float16), array(0.01675, dtype=float16), array(0.0183, dtype=float16), array(0.02821, dtype=float16), array(0.343, dtype=float16), array(0.5537, dtype=float16), array(0.8813, dtype=float16), array(0.0006666, dtype=float16), array(0.01924, dtype=float16), array(0.4993, dtype=float16), array(0.03256, dtype=float16), array(0.00149, dtype=float16), array(0.0003898, dtype=float16), array(0.04376, dtype=float16), array(0.067, dtype=float16), array(0.05435, dtype=float16), array(0.2407, dtype=float16), array(0.02919, dtype=float16), array(0.10284, dtype=float16), array(0.007793, dtype=float16), array(0.00235, dtype=float16), array(0.0007887, dtype=float16), array(0.01715, dtype=float16), array(0.04712, dtype=float16), array(0.0398, dtype=float16), array(0.07837, dtype=float16), array(0.08, dtype=float16), array(0.0975, dtype=float16), array(0.11273, dtype=float16), array(0.046, dtype=float16), array(0.936, dtype=float16), array(0.1603, dtype=float16), array(0.898, dtype=float16), array(0.0324, dtype=float16), array(0.003286, dtype=float16), array(0.555, dtype=float16), array(0.00516, dtype=float16), array(0.436, dtype=float16), array(0.6343, dtype=float16), array(0.10236, dtype=float16), array(4.72e-05, dtype=float16), array(0.003319, dtype=float16), array(0.05823, dtype=float16), array(0.7944, dtype=float16), array(0.010376, dtype=float16), array(0.4658, dtype=float16), array(0.0765, dtype=float16), array(0.10315, dtype=float16), array(0.02579, dtype=float16), array(0.6914, dtype=float16), array(0.0527, dtype=float16), array(0.1448, dtype=float16), array(5.74e-05, dtype=float16), array(0.3352, dtype=float16), array(0.304, dtype=float16), array(0.01377, dtype=float16), array(0.02693, dtype=float16), array(0.2715, dtype=float16), array(0.8296, dtype=float16), array(0.982, dtype=float16), array(0.5264, dtype=float16), array(0.9736, dtype=float16), array(0.5483, dtype=float16), array(0.1884, dtype=float16), array(0.282, dtype=float16), array(0.221, dtype=float16), array(0.6133, dtype=float16), array(0.3442, dtype=float16), array(0.01301, dtype=float16), array(0.742, dtype=float16), array(0.711, dtype=float16), array(0.5205, dtype=float16), array(0.524, dtype=float16), array(0.562, dtype=float16), array(0.421, dtype=float16), array(0.718, dtype=float16), array(0.726, dtype=float16), array(0.7285, dtype=float16), array(0.9546, dtype=float16), array(0.6533, dtype=float16), array(0.4282, dtype=float16), array(0.9126, dtype=float16), array(0.5337, dtype=float16), array(0.3503, dtype=float16), array(0.2944, dtype=float16), array(0.04962, dtype=float16), array(0.9766, dtype=float16), array(0.9385, dtype=float16), array(0.01026, dtype=float16), array(0.0342, dtype=float16), array(0.04355, dtype=float16), array(0.04266, dtype=float16), array(0.0671, dtype=float16), array(0.002703, dtype=float16), array(0.04813, dtype=float16), array(0.0005636, dtype=float16), array(0.0005627, dtype=float16), array(0.0576, dtype=float16), array(0.0001867, dtype=float16), array(0.011475, dtype=float16), array(8.094e-05, dtype=float16), array(1.25e-06, dtype=float16), array(0.004005, dtype=float16), array(0.03952, dtype=float16), array(0.001247, dtype=float16), array(0.0409, dtype=float16), array(0.000997, dtype=float16), array(0.001644, dtype=float16), array(0.035, dtype=float16), array(0.3552, dtype=float16), array(0.0577, dtype=float16), array(2.56e-06, dtype=float16), array(0.0004618, dtype=float16), array(0.001675, dtype=float16), array(0.06396, dtype=float16), array(2.956e-05, dtype=float16), array(0.000611, dtype=float16), array(0.000334, dtype=float16), array(0.001274, dtype=float16), array(0.001561, dtype=float16), array(2.724e-05, dtype=float16), array(0.000364, dtype=float16), array(0.000566, dtype=float16), array(0.0989, dtype=float16), array(3.4e-05, dtype=float16), array(1.15e-05, dtype=float16), array(1.64e-05, dtype=float16), array(4.58e-05, dtype=float16), array(0.0001563, dtype=float16), array(0.04028, dtype=float16), array(6.425e-05, dtype=float16), array(7.397e-05, dtype=float16), array(0.002522, dtype=float16), array(0.1893, dtype=float16), array(0.0854, dtype=float16), array(0.000255, dtype=float16), array(2.37e-05, dtype=float16), array(0.000512, dtype=float16), array(6.68e-05, dtype=float16), array(3.046e-05, dtype=float16), array(0.1753, dtype=float16), array(0.08124, dtype=float16), array(0.0012, dtype=float16), array(0.00011367, dtype=float16), array(4.13e-05, dtype=float16), array(2.02e-05, dtype=float16), array(8.06e-05, dtype=float16), array(4.9e-06, dtype=float16), array(1.5e-05, dtype=float16), array(0.5205, dtype=float16), array(0.002028, dtype=float16), array(0.0252, dtype=float16), array(9.66e-06, dtype=float16), array(0.0009346, dtype=float16), array(1.97e-05, dtype=float16), array(0.3955, dtype=float16), array(0.2673, dtype=float16), array(6.56e-06, dtype=float16), array(0.04462, dtype=float16), array(0.02834, dtype=float16), array(1.16e-05, dtype=float16), array(0.001216, dtype=float16), array(0.00714, dtype=float16), array(0.00886, dtype=float16), array(0.0006, dtype=float16), array(0.0002892, dtype=float16), array(0.1731, dtype=float16), array(0.1055, dtype=float16), array(0.006588, dtype=float16), array(0.001522, dtype=float16), array(0.11536, dtype=float16), array(0.0003355, dtype=float16), array(1.29e-05, dtype=float16), array(0.0738, dtype=float16), array(0.001151, dtype=float16), array(0.0001134, dtype=float16), array(0.04654, dtype=float16), array(0.002192, dtype=float16), array(0.0453, dtype=float16), array(0.015366, dtype=float16), array(0.02562, dtype=float16), array(0.01851, dtype=float16), array(0.01758, dtype=float16), array(0.01884, dtype=float16), array(0.3328, dtype=float16), array(0.05673, dtype=float16), array(0.0528, dtype=float16), array(0.283, dtype=float16), array(8.51e-05, dtype=float16), array(0.0002178, dtype=float16), array(0.00679, dtype=float16), array(0.02658, dtype=float16), array(0.0411, dtype=float16), array(0.02982, dtype=float16), array(0.1414, dtype=float16), array(0.01329, dtype=float16), array(0.00639, dtype=float16), array(0.0003684, dtype=float16), array(0.2385, dtype=float16), array(0.001724, dtype=float16), array(0.01988, dtype=float16), array(9.9e-06, dtype=float16), array(0.2424, dtype=float16), array(0.03354, dtype=float16), array(0.0002301, dtype=float16), array(0.10614, dtype=float16), array(0.1305, dtype=float16), array(0.003744, dtype=float16), array(0.00549, dtype=float16), array(0.07056, dtype=float16), array(0.03558, dtype=float16), array(0.01155, dtype=float16), array(4.524e-05, dtype=float16), array(0.007122, dtype=float16), array(1.365e-05, dtype=float16), array(0.002129, dtype=float16), array(0.007324, dtype=float16), array(0.06885, dtype=float16), array(3.8e-06, dtype=float16), array(9.5e-07, dtype=float16), array(0.02554, dtype=float16), array(0.7056, dtype=float16), array(0.0006313, dtype=float16), array(0.02158, dtype=float16), array(0.00553, dtype=float16), array(0.0004468, dtype=float16), array(0.00762, dtype=float16), array(0.344, dtype=float16), array(0.0005836, dtype=float16), array(0.0001553, dtype=float16), array(3.e-05, dtype=float16), array(0.03104, dtype=float16), array(0.0001651, dtype=float16), array(0.001546, dtype=float16), array(0.0004628, dtype=float16), array(0.0157, dtype=float16), array(0.01028, dtype=float16), array(0.02377, dtype=float16), array(0.03186, dtype=float16), array(0.03076, dtype=float16), array(0.1996, dtype=float16), array(0.397, dtype=float16), array(0.007027, dtype=float16), array(0.3228, dtype=float16), array(0.1686, dtype=float16), array(0.003975, dtype=float16), array(0.0282, dtype=float16), array(0.002981, dtype=float16), array(0.03021, dtype=float16), array(0.0671, dtype=float16), array(0.02414, dtype=float16), array(0.00988, dtype=float16), array(0.4995, dtype=float16), array(0.0258, dtype=float16), array(0.01279, dtype=float16), array(0.0132, dtype=float16), array(0.008446, dtype=float16), array(0.01794, dtype=float16), array(0.01645, dtype=float16), array(0.0006695, dtype=float16), array(0.006966, dtype=float16), array(0.007366, dtype=float16), array(0.01109, dtype=float16), array(0.01701, dtype=float16), array(0.00981, dtype=float16), array(0.00714, dtype=float16), array(0.01665, dtype=float16), array(0.01206, dtype=float16), array(0.02052, dtype=float16), array(0.009125, dtype=float16), array(0.00973, dtype=float16), array(0.01236, dtype=float16), array(0.0135, dtype=float16), array(0.011406, dtype=float16), array(0.0181, dtype=float16), array(0.02219, dtype=float16), array(0.02818, dtype=float16), array(0.01746, dtype=float16), array(0.01756, dtype=float16), array(0.008194, dtype=float16), array(0.00619, dtype=float16), array(0.011894, dtype=float16), array(0.01102, dtype=float16), array(0.01947, dtype=float16), array(0.009766, dtype=float16), array(0.01176, dtype=float16), array(0.0736, dtype=float16), array(0.001209, dtype=float16), array(2.414e-05, dtype=float16), array(0.00318, dtype=float16), array(0.0002875, dtype=float16), array(0.0002983, dtype=float16), array(0.0001509, dtype=float16), array(0.03928, dtype=float16), array(0.391, dtype=float16), array(3.04e-06, dtype=float16), array(1.33e-05, dtype=float16), array(0.07916, dtype=float16), array(0.0811, dtype=float16), array(0.00899, dtype=float16), array(0.00787, dtype=float16), array(0.09296, dtype=float16), array(0.02995, dtype=float16), array(0.3733, dtype=float16), array(0.001408, dtype=float16), array(0.0004327, dtype=float16), array(1.03e-05, dtype=float16), array(6.6e-07, dtype=float16), array(8.8e-06, dtype=float16), array(0.4395, dtype=float16), array(3.04e-06, dtype=float16), array(0.06323, dtype=float16), array(0.001221, dtype=float16), array(0.002867, dtype=float16), array(0.00010514, dtype=float16), array(7.3e-06, dtype=float16), array(0.001478, dtype=float16), array(0.00525, dtype=float16), array(0.56, dtype=float16), array(0.00026, dtype=float16), array(0.002314, dtype=float16), array(0.001167, dtype=float16), array(0.02692, dtype=float16), array(0.1292, dtype=float16), array(0.02948, dtype=float16), array(3.1e-06, dtype=float16), array(0.01164, dtype=float16), array(0.0001603, dtype=float16), array(0.01341, dtype=float16), array(0.1062, dtype=float16), array(0.01009, dtype=float16), array(0.002714, dtype=float16), array(1.28e-05, dtype=float16), array(0.03586, dtype=float16), array(0.00805, dtype=float16), array(0.01401, dtype=float16), array(0.0008345, dtype=float16), array(0.000899, dtype=float16), array(0.000484, dtype=float16), array(0.1565, dtype=float16), array(0.0012, dtype=float16), array(0.0007963, dtype=float16), array(0.004143, dtype=float16), array(0.03043, dtype=float16), array(0.001658, dtype=float16), array(0.1051, dtype=float16), array(0.01978, dtype=float16), array(0.02902, dtype=float16), array(0.015205, dtype=float16), array(0.00589, dtype=float16), array(1.7e-06, dtype=float16), array(0.0112, dtype=float16), array(0.011345, dtype=float16), array(0.0789, dtype=float16), array(0.03125, dtype=float16), array(0.02966, dtype=float16), array(0.4673, dtype=float16), array(0.04407, dtype=float16), array(0.0004435, dtype=float16), array(0.0004117, dtype=float16), array(0.09607, dtype=float16), array(6.49e-05, dtype=float16), array(0.06256, dtype=float16), array(0.007065, dtype=float16), array(0.4463, dtype=float16), array(0.002693, dtype=float16), array(0.003088, dtype=float16), array(0.001623, dtype=float16), array(0.0007615, dtype=float16), array(0.01706, dtype=float16), array(0.002516, dtype=float16), array(0.0002054, dtype=float16), array(1.43e-06, dtype=float16), array(0.005188, dtype=float16), array(0.02034, dtype=float16), array(3.74e-05, dtype=float16), array(0.6167, dtype=float16), array(0.9653, dtype=float16), array(0.01155, dtype=float16), array(0.007183, dtype=float16), array(0.04626, dtype=float16), array(0.04062, dtype=float16), array(0.01512, dtype=float16), array(0.0065, dtype=float16), array(0.001889, dtype=float16), array(0.01672, dtype=float16), array(0.01729, dtype=float16), array(0.4412, dtype=float16), array(0.696, dtype=float16), array(0.8784, dtype=float16), array(0.671, dtype=float16), array(2.66e-05, dtype=float16), array(0.000964, dtype=float16), array(0.2986, dtype=float16), array(0.0592, dtype=float16), array(0.01312, dtype=float16), array(0.1096, dtype=float16), array(0.01515, dtype=float16), array(0.011734, dtype=float16), array(5.01e-05, dtype=float16), array(0.01611, dtype=float16), array(0.02693, dtype=float16), array(0.02417, dtype=float16), array(0.03296, dtype=float16), array(0.03128, dtype=float16), array(0.02362, dtype=float16), array(0.02394, dtype=float16), array(0.03015, dtype=float16), array(0.02814, dtype=float16), array(0.02332, dtype=float16), array(0.2854, dtype=float16), array(0.01929, dtype=float16), array(1.293e-05, dtype=float16), array(0.02829, dtype=float16), array(0.02771, dtype=float16), array(0.005657, dtype=float16), array(0.09155, dtype=float16), array(0.03644, dtype=float16), array(0.913, dtype=float16), array(0.01003, dtype=float16), array(0.02946, dtype=float16), array(0.6245, dtype=float16), array(0.6167, dtype=float16), array(0.613, dtype=float16), array(0.5825, dtype=float16), array(0.1453, dtype=float16), array(0.3599, dtype=float16), array(0.01888, dtype=float16), array(0.229, dtype=float16), array(0.00611, dtype=float16), array(0.005833, dtype=float16), array(0.01648, dtype=float16), array(0.011215, dtype=float16), array(0.02547, dtype=float16), array(0.01901, dtype=float16), array(0.0163, dtype=float16), array(0.0194, dtype=float16), array(0.00572, dtype=float16), array(0.01329, dtype=float16), array(0.07056, dtype=float16), array(0.01161, dtype=float16), array(0.004025, dtype=float16), array(0.02153, dtype=float16), array(0.02547, dtype=float16), array(0.02791, dtype=float16), array(0.136, dtype=float16), array(0.01013, dtype=float16), array(0.00986, dtype=float16), array(0.013626, dtype=float16), array(0.012695, dtype=float16), array(0.01765, dtype=float16), array(0.02617, dtype=float16), array(0.01348, dtype=float16), array(0.01484, dtype=float16), array(0.01254, dtype=float16), array(0.1239, dtype=float16), array(0.0187, dtype=float16), array(0.1311, dtype=float16), array(0.01659, dtype=float16), array(0.0214, dtype=float16), array(0.00563, dtype=float16), array(0.01105, dtype=float16), array(0.4773, dtype=float16), array(0.10364, dtype=float16), array(0.3481, dtype=float16), array(0.01918, dtype=float16), array(0.5464, dtype=float16), array(0.3345, dtype=float16), array(0.4595, dtype=float16), array(0.1191, dtype=float16), array(0.01176, dtype=float16), array(0.02037, dtype=float16), array(0.04395, dtype=float16), array(0.05637, dtype=float16), array(0.0429, dtype=float16), array(0.01689, dtype=float16), array(0.01985, dtype=float16), array(0.0001189, dtype=float16), array(0.05054, dtype=float16), array(0.0331, dtype=float16), array(0.03452, dtype=float16), array(0.04214, dtype=float16), array(0.2034, dtype=float16), array(0.2408, dtype=float16), array(3.56e-05, dtype=float16), array(0.04544, dtype=float16), array(0.482, dtype=float16), array(0.0001318, dtype=float16), array(7.737e-05, dtype=float16), array(0.02835, dtype=float16), array(0.03906, dtype=float16), array(0.00877, dtype=float16), array(0.00845, dtype=float16), array(0.00826, dtype=float16), array(0.6714, dtype=float16), array(7.e-07, dtype=float16), array(0.001916, dtype=float16), array(0.2089, dtype=float16), array(0.2378, dtype=float16), array(0.007267, dtype=float16), array(0.00811, dtype=float16), array(0.1691, dtype=float16), array(0.01484, dtype=float16), array(0.01201, dtype=float16), array(0.02693, dtype=float16), array(0.01017, dtype=float16), array(0.03165, dtype=float16), array(0.0357, dtype=float16), array(0.014244, dtype=float16), array(0.05295, dtype=float16), array(0.1647, dtype=float16), array(0.01202, dtype=float16), array(0.0188, dtype=float16), array(0.03452, dtype=float16), array(0.01654, dtype=float16), array(0.02324, dtype=float16), array(0.0283, dtype=float16), array(0.02287, dtype=float16), array(0.01, dtype=float16), array(0.01598, dtype=float16), array(0.03873, dtype=float16), array(1.7e-06, dtype=float16), array(0.00867, dtype=float16), array(0.0774, dtype=float16), array(0.03903, dtype=float16), array(0.701, dtype=float16), array(0.08527, dtype=float16), array(0.01188, dtype=float16), array(0.03378, dtype=float16), array(0.03485, dtype=float16), array(0.01004, dtype=float16), array(0.0006166, dtype=float16), array(0.001501, dtype=float16), array(0.03244, dtype=float16), array(0.06775, dtype=float16), array(0.002157, dtype=float16), array(0.05203, dtype=float16), array(0.355, dtype=float16), array(0.002157, dtype=float16), array(0.10864, dtype=float16), array(0.02544, dtype=float16), array(0.006622, dtype=float16), array(0.000325, dtype=float16), array(0.0793, dtype=float16), array(0.2732, dtype=float16), array(0.002178, dtype=float16), array(0.001004, dtype=float16), array(0.0001255, dtype=float16), array(0.6006, dtype=float16), array(0.02556, dtype=float16), array(0.3477, dtype=float16), array(0.254, dtype=float16), array(0.0959, dtype=float16), array(0.01125, dtype=float16), array(0.008606, dtype=float16), array(0.3684, dtype=float16), array(0.2925, dtype=float16), array(0.00916, dtype=float16), array(0.01057, dtype=float16), array(0.01968, dtype=float16), array(0.02, dtype=float16), array(0.09186, dtype=float16), array(0.01721, dtype=float16), array(0.0103, dtype=float16), array(0.0009775, dtype=float16), array(0.001099, dtype=float16), array(0.217, dtype=float16), array(0.02544, dtype=float16), array(0.01365, dtype=float16), array(0.000787, dtype=float16), array(0.001399, dtype=float16), array(0.005314, dtype=float16), array(0.0007977, dtype=float16), array(0.4736, dtype=float16), array(0.12256, dtype=float16), array(0.04977, dtype=float16), array(0.2206, dtype=float16), array(0.0717, dtype=float16), array(0.4739, dtype=float16), array(0.02245, dtype=float16), array(0.05823, dtype=float16), array(0.02795, dtype=float16), array(0.02493, dtype=float16), array(0.009995, dtype=float16), array(0.0093, dtype=float16), array(0.5205, dtype=float16), array(0.01974, dtype=float16), array(0.2059, dtype=float16), array(0.3691, dtype=float16), array(0.0949, dtype=float16), array(0.08923, dtype=float16), array(0.4348, dtype=float16), array(0.03293, dtype=float16), array(0.02338, dtype=float16), array(0.001151, dtype=float16), array(0.000136, dtype=float16), array(0.04144, dtype=float16), array(0.0001093, dtype=float16), array(6.4e-06, dtype=float16), array(0.001957, dtype=float16), array(0.2776, dtype=float16), array(0.00513, dtype=float16), array(0.001269, dtype=float16), array(0.02231, dtype=float16), array(0.01756, dtype=float16), array(0.11505, dtype=float16), array(0.1538, dtype=float16), array(0.0003011, dtype=float16), array(0.3813, dtype=float16), array(0.2625, dtype=float16), array(0.01394, dtype=float16), array(0.0001126, dtype=float16), array(0.02939, dtype=float16), array(9.46e-05, dtype=float16), array(0.012634, dtype=float16), array(0.05396, dtype=float16), array(0.6094, dtype=float16), array(0.1674, dtype=float16), array(0.4658, dtype=float16), array(0.2888, dtype=float16), array(0.1976, dtype=float16), array(0.0341, dtype=float16), array(3.64e-06, dtype=float16), array(0.1526, dtype=float16), array(0.1582, dtype=float16), array(0.866, dtype=float16), array(0.8735, dtype=float16), array(0.0231, dtype=float16), array(0.1952, dtype=float16), array(0.593, dtype=float16), array(9.14e-05, dtype=float16), array(0.0001926, dtype=float16), array(0.0004117, dtype=float16), array(0.3132, dtype=float16), array(0.15, dtype=float16), array(0.474, dtype=float16), array(0.002472, dtype=float16), array(0.07556, dtype=float16), array(0.0635, dtype=float16), array(2.e-07, dtype=float16), array(0.00243, dtype=float16), array(0.797, dtype=float16), array(0.0441, dtype=float16), array(0.56, dtype=float16), array(0.1075, dtype=float16), array(0.6367, dtype=float16), array(0.593, dtype=float16), array(0.0562, dtype=float16), array(0.9126, dtype=float16), array(0.4749, dtype=float16), array(0.8516, dtype=float16), array(0.503, dtype=float16), array(0.573, dtype=float16), array(0.545, dtype=float16), array(0.862, dtype=float16), array(0.1415, dtype=float16), array(0.4722, dtype=float16), array(0.04175, dtype=float16), array(0.01953, dtype=float16), array(0.3384, dtype=float16), array(0.522, dtype=float16), array(0.00823, dtype=float16), array(0.02225, dtype=float16), array(0.01851, dtype=float16), array(0.1398, dtype=float16), array(0.002829, dtype=float16), array(0.03745, dtype=float16), array(0.00719, dtype=float16), array(0.4006, dtype=float16), array(0.000186, dtype=float16), array(0.0001241, dtype=float16), array(0.02844, dtype=float16), array(0.03738, dtype=float16), array(0.5503, dtype=float16), array(0.02419, dtype=float16), array(0.01909, dtype=float16), array(0.04407, dtype=float16), array(0.1874, dtype=float16), array(0.6133, dtype=float16), array(0.0707, dtype=float16), array(0.553, dtype=float16), array(0.06995, dtype=float16), array(0.4768, dtype=float16), array(0.617, dtype=float16), array(0.1301, dtype=float16), array(0.0398, dtype=float16), array(0.05212, dtype=float16), array(0.323, dtype=float16), array(0.6445, dtype=float16), array(0.001755, dtype=float16), array(0.03064, dtype=float16), array(3.7e-06, dtype=float16), array(0.0002341, dtype=float16), array(0.05176, dtype=float16), array(0.001796, dtype=float16), array(0.0419, dtype=float16), array(0.02095, dtype=float16), array(0.1842, dtype=float16), array(8.3e-07, dtype=float16), array(0.1593, dtype=float16), array(0.01085, dtype=float16), array(0.01161, dtype=float16), array(0.1577, dtype=float16), array(0.10614, dtype=float16), array(0.06494, dtype=float16), array(0.00181, dtype=float16), array(0.802, dtype=float16), array(0.573, dtype=float16), array(0.01723, dtype=float16), array(0.00928, dtype=float16), array(0.2932, dtype=float16), array(0.0002472, dtype=float16), array(0.002522, dtype=float16), array(0.1763, dtype=float16), array(0.01787, dtype=float16), array(0.03262, dtype=float16), array(0.583, dtype=float16), array(0.002306, dtype=float16), array(0.4902, dtype=float16), array(0.04907, dtype=float16), array(0.4622, dtype=float16), array(0.6655, dtype=float16), array(0.00808, dtype=float16), array(0.0006785, dtype=float16), array(0.000991, dtype=float16), array(7.15e-06, dtype=float16), array(0.0006237, dtype=float16), array(0.001067, dtype=float16), array(0.02475, dtype=float16), array(0.2091, dtype=float16), array(0.0001706, dtype=float16), array(0.08905, dtype=float16), array(0.4814, dtype=float16), array(0.928, dtype=float16), array(0.0564, dtype=float16), array(0.4587, dtype=float16), array(0.06335, dtype=float16), array(0.01987, dtype=float16), array(2.48e-05, dtype=float16), array(0.02693, dtype=float16), array(2.056e-05, dtype=float16), array(0.002731, dtype=float16), array(0.1799, dtype=float16), array(0.0007644, dtype=float16), array(1.55e-06, dtype=float16), array(0.00119, dtype=float16), array(0.00556, dtype=float16), array(0.9717, dtype=float16), array(0.001779, dtype=float16), array(0.01994, dtype=float16), array(0.0002174, dtype=float16), array(0.5503, dtype=float16), array(0.01115, dtype=float16), array(0.518, dtype=float16), array(0.0508, dtype=float16), array(0.02145, dtype=float16), array(0.05627, dtype=float16), array(0.03082, dtype=float16), array(0.04523, dtype=float16), array(0.1001, dtype=float16), array(0.0003257, dtype=float16), array(0.05835, dtype=float16), array(0.6416, dtype=float16), array(0.00394, dtype=float16), array(0.00172, dtype=float16), array(0.04636, dtype=float16), array(0.3784, dtype=float16), array(0.775, dtype=float16), array(0.003761, dtype=float16), array(0.000182, dtype=float16), array(3.96e-05, dtype=float16), array(0.02887, dtype=float16), array(0.001408, dtype=float16), array(0.0825, dtype=float16), array(0.8687, dtype=float16), array(0.01747, dtype=float16), array(0.0786, dtype=float16), array(0.02405, dtype=float16), array(0.02527, dtype=float16), array(0.03296, dtype=float16), array(0.0001049, dtype=float16), array(0.752, dtype=float16), array(0.01875, dtype=float16), array(0.00812, dtype=float16), array(0.01567, dtype=float16), array(0.548, dtype=float16), array(0.0494, dtype=float16), array(0.00847, dtype=float16), array(0.034, dtype=float16), array(0.1842, dtype=float16), array(0.0001064, dtype=float16), array(0.5176, dtype=float16), array(0.0561, dtype=float16), array(0.5586, dtype=float16), array(0.4172, dtype=float16), array(0.2183, dtype=float16), array(0.0001622, dtype=float16), array(8.96e-05, dtype=float16), array(0.0002046, dtype=float16), array(6.83e-05, dtype=float16), array(0.804, dtype=float16), array(0.02176, dtype=float16), array(0.001582, dtype=float16), array(0.291, dtype=float16), array(0.9775, dtype=float16), array(0.83, dtype=float16), array(0.655, dtype=float16), array(0.0492, dtype=float16), array(0.5933, dtype=float16), array(0.1923, dtype=float16), array(0.674, dtype=float16), array(0.1184, dtype=float16), array(0.621, dtype=float16), array(0.834, dtype=float16), array(0.03342, dtype=float16), array(0.4536, dtype=float16), array(0.4268, dtype=float16), array(0.7075, dtype=float16), array(0.05457, dtype=float16), array(0.01386, dtype=float16), array(0.608, dtype=float16), array(0.00297, dtype=float16), array(0.2172, dtype=float16), array(0.01978, dtype=float16), array(0.03708, dtype=float16), array(0.6006, dtype=float16), array(0.2778, dtype=float16), array(0.015205, dtype=float16), array(0.0044, dtype=float16), array(0.04004, dtype=float16), array(3.64e-06, dtype=float16), array(0.0006046, dtype=float16), array(0.000283, dtype=float16), array(0.08594, dtype=float16), array(0.002981, dtype=float16), array(0.003862, dtype=float16), array(0.1814, dtype=float16), array(0.02722, dtype=float16), array(0.1242, dtype=float16), array(0.5044, dtype=float16), array(0.01029, dtype=float16), array(0.0485, dtype=float16), array(0.0907, dtype=float16), array(0.02376, dtype=float16), array(0.01155, dtype=float16), array(0.0708, dtype=float16), array(0.1026, dtype=float16), array(0.05237, dtype=float16), array(4.e-07, dtype=float16), array(0.0001268, dtype=float16), array(0.0002642, dtype=float16), array(0.0001157, dtype=float16), array(8.06e-05, dtype=float16), array(0.001192, dtype=float16), array(0.01554, dtype=float16), array(2.3e-06, dtype=float16), array(0.9443, dtype=float16), array(0.00445, dtype=float16), array(0.00392, dtype=float16), array(2.81e-05, dtype=float16), array(0.002817, dtype=float16), array(0.001233, dtype=float16), array(0.08777, dtype=float16), array(0.01463, dtype=float16), array(0.2006, dtype=float16), array(0.00063, dtype=float16), array(0.0002623, dtype=float16), array(0.02036, dtype=float16), array(0.005474, dtype=float16), array(0.0287, dtype=float16), array(0.2817, dtype=float16), array(0.000687, dtype=float16), array(0.0052, dtype=float16), array(0.1647, dtype=float16), array(0.0002444, dtype=float16), array(0.000665, dtype=float16), array(0.01074, dtype=float16), array(0.00482, dtype=float16), array(3.71e-05, dtype=float16), array(0.0278, dtype=float16), array(0.00815, dtype=float16), array(1.186e-05, dtype=float16), array(0.0384, dtype=float16), array(0.0006213, dtype=float16), array(2.23e-05, dtype=float16), array(0.02095, dtype=float16), array(0.3252, dtype=float16), array(0.002512, dtype=float16), array(3.433e-05, dtype=float16), array(1.12e-05, dtype=float16), array(0.564, dtype=float16), array(7.075e-05, dtype=float16), array(3.23e-05, dtype=float16), array(0.0003998, dtype=float16), array(1.156e-05, dtype=float16), array(2.9e-06, dtype=float16), array(0.2084, dtype=float16), array(1.055e-05, dtype=float16), array(0.0004125, dtype=float16), array(0.000318, dtype=float16), array(0.0004992, dtype=float16), array(0.001765, dtype=float16), array(0.003983, dtype=float16), array(0.001861, dtype=float16), array(0.002443, dtype=float16), array(0.002935, dtype=float16), array(0.0003126, dtype=float16), array(0.00217, dtype=float16), array(0.01834, dtype=float16), array(0.02094, dtype=float16), array(0.04584, dtype=float16), array(0.015114, dtype=float16), array(0.01316, dtype=float16), array(0.06366, dtype=float16), array(0.03108, dtype=float16), array(0.11005, dtype=float16), array(0.04013, dtype=float16), array(0.02873, dtype=float16), array(0.02686, dtype=float16), array(0.025, dtype=float16), array(0.4885, dtype=float16), array(0.00839, dtype=float16), array(0.02444, dtype=float16), array(0.0001278, dtype=float16), array(0.001522, dtype=float16), array(0.01672, dtype=float16), array(0.238, dtype=float16), array(0.12195, dtype=float16), array(0.0006866, dtype=float16), array(0.681, dtype=float16), array(0.02309, dtype=float16), array(0.4417, dtype=float16), array(5.55e-05, dtype=float16), array(0.004356, dtype=float16), array(0.000812, dtype=float16), array(0.002388, dtype=float16), array(0.001999, dtype=float16), array(1.395e-05, dtype=float16), array(0.003214, dtype=float16), array(0.002401, dtype=float16), array(0.1469, dtype=float16), array(0.0002161, dtype=float16), array(0.008095, dtype=float16), array(0.04114, dtype=float16), array(0.0723, dtype=float16), array(5.615e-05, dtype=float16), array(0.3765, dtype=float16), array(0.007065, dtype=float16), array(7.045e-05, dtype=float16), array(0.0004094, dtype=float16), array(0.1901, dtype=float16), array(8.2e-06, dtype=float16), array(0.002481, dtype=float16), array(0.0965, dtype=float16), array(0.0010605, dtype=float16), array(0.002935, dtype=float16), array(4.5e-06, dtype=float16), array(0.000153, dtype=float16), array(0.02821, dtype=float16), array(0.09894, dtype=float16), array(0.03445, dtype=float16), array(0.006004, dtype=float16), array(0.531, dtype=float16), array(0.02448, dtype=float16), array(0.000744, dtype=float16), array(0.00782, dtype=float16), array(8.e-05, dtype=float16), array(7.576e-05, dtype=float16), array(0.03004, dtype=float16), array(0.00064, dtype=float16), array(0.0008645, dtype=float16), array(0.005825, dtype=float16), array(0.0005603, dtype=float16), array(0.0009327, dtype=float16), array(0.002266, dtype=float16), array(0.01694, dtype=float16), array(0.02855, dtype=float16), array(0.0007977, dtype=float16), array(0.02655, dtype=float16), array(2.78e-05, dtype=float16), array(0.001147, dtype=float16), array(0.000423, dtype=float16), array(0.00976, dtype=float16), array(0.01356, dtype=float16), array(0.02103, dtype=float16), array(0.002924, dtype=float16), array(0.001558, dtype=float16), array(0.001151, dtype=float16), array(0.0003555, dtype=float16), array(0.0693, dtype=float16), array(0.001088, dtype=float16), array(0.03983, dtype=float16), array(3.33e-05, dtype=float16), array(0.02895, dtype=float16), array(2.56e-05, dtype=float16), array(0.000601, dtype=float16), array(0.651, dtype=float16), array(0.0315, dtype=float16), array(0.01078, dtype=float16), array(0.146, dtype=float16), array(0.0809, dtype=float16), array(0.02069, dtype=float16), array(0.000718, dtype=float16), array(0.00951, dtype=float16), array(0.00951, dtype=float16), array(0.2905, dtype=float16), array(0.07025, dtype=float16), array(0.04007, dtype=float16), array(0.8643, dtype=float16), array(0.0531, dtype=float16), array(0.01408, dtype=float16), array(0.884, dtype=float16), array(0.00877, dtype=float16), array(0.01105, dtype=float16), array(0.01779, dtype=float16), array(0.03412, dtype=float16), array(0.679, dtype=float16), array(0.0426, dtype=float16), array(0.0317, dtype=float16), array(0.2251, dtype=float16), array(0.02895, dtype=float16), array(0.002817, dtype=float16), array(0.001986, dtype=float16), array(0.03683, dtype=float16), array(0.1069, dtype=float16), array(6.8e-06, dtype=float16), array(4.45e-05, dtype=float16), array(0.431, dtype=float16), array(0.000348, dtype=float16), array(0.009155, dtype=float16), array(1.85e-05, dtype=float16), array(0.544, dtype=float16), array(0.05368, dtype=float16), array(0.658, dtype=float16), array(0.4146, dtype=float16), array(0.0355, dtype=float16), array(0.03815, dtype=float16), array(0.805, dtype=float16), array(0.2048, dtype=float16), array(0.8384, dtype=float16), array(0.738, dtype=float16), array(0.4229, dtype=float16), array(0.4497, dtype=float16), array(0.1499, dtype=float16), array(0.834, dtype=float16), array(0.9346, dtype=float16), array(0.946, dtype=float16), array(0.003721, dtype=float16), array(0.0425, dtype=float16), array(0.00203, dtype=float16), array(0.04025, dtype=float16), array(0.6685, dtype=float16), array(0.0192, dtype=float16), array(0.07574, dtype=float16), array(0.001283, dtype=float16), array(0.845, dtype=float16), array(0.8545, dtype=float16), array(0.756, dtype=float16), array(0.4177, dtype=float16), array(0.5747, dtype=float16), array(0.1016, dtype=float16), array(0.5566, dtype=float16), array(0.0002444, dtype=float16), array(0.8384, dtype=float16), array(0.3135, dtype=float16), array(0.3892, dtype=float16), array(0.008286, dtype=float16), array(0.758, dtype=float16), array(0.2795, dtype=float16), array(0.1523, dtype=float16), array(0.10614, dtype=float16), array(0.003172, dtype=float16), array(0.1265, dtype=float16), array(0.8784, dtype=float16), array(0.2235, dtype=float16), array(0.814, dtype=float16), array(0.8906, dtype=float16), array(0.52, dtype=float16), array(0.5303, dtype=float16), array(0.2106, dtype=float16), array(0.0434, dtype=float16), array(0.0798, dtype=float16), array(0.4353, dtype=float16), array(0.03964, dtype=float16), array(0.018, dtype=float16), array(0.1113, dtype=float16), array(0.000277, dtype=float16), array(0.5522, dtype=float16), array(0.1475, dtype=float16), array(0.2166, dtype=float16), array(0.5566, dtype=float16), array(0.1394, dtype=float16), array(0.4246, dtype=float16), array(0.014244, dtype=float16), array(0.01086, dtype=float16), array(0.6143, dtype=float16), array(0.5654, dtype=float16), array(0.645, dtype=float16), array(0.08453, dtype=float16), array(0.02039, dtype=float16), array(0.421, dtype=float16), array(0.003832, dtype=float16), array(7.766e-05, dtype=float16), array(0.0004637, dtype=float16), array(0.00517, dtype=float16), array(0.2964, dtype=float16), array(0.4187, dtype=float16), array(0.03047, dtype=float16), array(0.1486, dtype=float16), array(0.05438, dtype=float16), array(0.0007977, dtype=float16), array(0.944, dtype=float16), array(0.0379, dtype=float16), array(0.02313, dtype=float16), array(0.4092, dtype=float16), array(0.000663, dtype=float16), array(0.00333, dtype=float16), array(0.02298, dtype=float16), array(0.427, dtype=float16), array(0.0496, dtype=float16), array(0.11725, dtype=float16), array(0.001386, dtype=float16), array(0.0417, dtype=float16), array(0.683, dtype=float16), array(0.1434, dtype=float16), array(0.4758, dtype=float16), array(0.0353, dtype=float16), array(0.0732, dtype=float16), array(0.02458, dtype=float16), array(0.04434, dtype=float16), array(0.925, dtype=float16), array(0.06946, dtype=float16), array(0.913, dtype=float16), array(0.2036, dtype=float16), array(0.1542, dtype=float16), array(0.3828, dtype=float16), array(0.411, dtype=float16), array(0.1069, dtype=float16), array(0.02795, dtype=float16), array(0.0478, dtype=float16), array(0.3816, dtype=float16), array(0.6724, dtype=float16), array(0.0281, dtype=float16), array(0.001582, dtype=float16), array(0.001338, dtype=float16), array(0.0652, dtype=float16), array(0.10754, dtype=float16), array(0.5073, dtype=float16), array(0.1409, dtype=float16), array(0.214, dtype=float16), array(0.4688, dtype=float16), array(0.398, dtype=float16), array(0.463, dtype=float16), array(0.687, dtype=float16), array(0.891, dtype=float16), array(0.292, dtype=float16), array(0.1719, dtype=float16), array(0.01114, dtype=float16), array(0.2091, dtype=float16), array(0.2153, dtype=float16), array(0.010765, dtype=float16), array(0.02248, dtype=float16), array(0.009834, dtype=float16), array(0.07184, dtype=float16), array(0.1306, dtype=float16), array(0.0019245, dtype=float16), array(0.2325, dtype=float16), array(0.005013, dtype=float16), array(0.0644, dtype=float16), array(0.0739, dtype=float16), array(0.7046, dtype=float16), array(0.0373, dtype=float16), array(0.4124, dtype=float16), array(0.2932, dtype=float16), array(0.02327, dtype=float16), array(0.1389, dtype=float16), array(0.02603, dtype=float16), array(0.07117, dtype=float16), array(0.0003054, dtype=float16), array(0.09827, dtype=float16), array(0.0819, dtype=float16), array(0.0001853, dtype=float16), array(0.0001194, dtype=float16), array(0.0001813, dtype=float16), array(0.001549, dtype=float16), array(2.545e-05, dtype=float16), array(0.0003974, dtype=float16), array(0.03937, dtype=float16), array(0.0007915, dtype=float16), array(3.72e-05, dtype=float16), array(0.4268, dtype=float16), array(0.002811, dtype=float16), array(0.0001774, dtype=float16), array(0.02454, dtype=float16), array(7.576e-05, dtype=float16), array(0.06903, dtype=float16), array(0.005463, dtype=float16), array(0.0994, dtype=float16), array(0.001179, dtype=float16), array(0.000186, dtype=float16), array(0.0001385, dtype=float16), array(0.00284, dtype=float16), array(0.01674, dtype=float16), array(0.04303, dtype=float16), array(0.486, dtype=float16), array(0.10345, dtype=float16), array(0.5205, dtype=float16), array(0.02151, dtype=float16), array(0.0004365, dtype=float16), array(0.10266, dtype=float16), array(5.877e-05, dtype=float16), array(0.00368, dtype=float16), array(0.0005465, dtype=float16), array(0.04764, dtype=float16), array(0.02136, dtype=float16), array(0.573, dtype=float16), array(0.02849, dtype=float16), array(0.0913, dtype=float16), array(0.0415, dtype=float16), array(0.02736, dtype=float16), array(0.5825, dtype=float16), array(0.00677, dtype=float16), array(0.03748, dtype=float16), array(0.1255, dtype=float16), array(0.1704, dtype=float16), array(0.0001657, dtype=float16), array(0.08826, dtype=float16), array(0.1099, dtype=float16), array(0.001885, dtype=float16), array(0.0003705, dtype=float16), array(0.000593, dtype=float16), array(0.23, dtype=float16), array(0.2045, dtype=float16), array(0.3948, dtype=float16), array(0.3997, dtype=float16), array(0.0004766, dtype=float16), array(0.03802, dtype=float16), array(0.2014, dtype=float16), array(0.3916, dtype=float16), array(0.03854, dtype=float16), array(0.02971, dtype=float16), array(0.448, dtype=float16), array(4.226e-05, dtype=float16), array(0.1687, dtype=float16), array(0.04288, dtype=float16), array(0.03613, dtype=float16), array(0.009, dtype=float16), array(0.005486, dtype=float16), array(0.0002369, dtype=float16), array(2.32e-05, dtype=float16), array(0.015396, dtype=float16), array(5.2e-06, dtype=float16), array(0.0002023, dtype=float16), array(0.01909, dtype=float16), array(0.00476, dtype=float16), array(0.0001465, dtype=float16), array(0.0001283, dtype=float16), array(0.03012, dtype=float16), array(0.006413, dtype=float16), array(0.000299, dtype=float16), array(0.0282, dtype=float16), array(0.32, dtype=float16), array(0.000555, dtype=float16), array(0.4065, dtype=float16), array(0.03406, dtype=float16), array(0.3186, dtype=float16), array(0.02118, dtype=float16), array(0.04315, dtype=float16), array(0.641, dtype=float16), array(0.01929, dtype=float16), array(0.9556, dtype=float16), array(0.253, dtype=float16), array(0.03302, dtype=float16), array(0.00941, dtype=float16), array(0.811, dtype=float16), array(0.582, dtype=float16), array(0.4666, dtype=float16), array(0.00981, dtype=float16), array(0.4766, dtype=float16), array(0.665, dtype=float16), array(0.8926, dtype=float16), array(0.835, dtype=float16), array(0.6465, dtype=float16), array(0.918, dtype=float16), array(0.859, dtype=float16), array(0.3772, dtype=float16), array(0.7754, dtype=float16), array(0.699, dtype=float16), array(0.7783, dtype=float16), array(0.431, dtype=float16), array(0.8306, dtype=float16), array(0.05133, dtype=float16), array(0.0572, dtype=float16), array(0.00854, dtype=float16), array(0.0505, dtype=float16), array(0.03534, dtype=float16), array(0.0436, dtype=float16), array(0.03008, dtype=float16), array(0.0462, dtype=float16), array(0.0001667, dtype=float16), array(0.000293, dtype=float16), array(0.7075, dtype=float16), array(0.352, dtype=float16), array(0.0359, dtype=float16), array(0.04382, dtype=float16), array(0.4236, dtype=float16), array(0.0218, dtype=float16), array(0.8267, dtype=float16), array(0.2257, dtype=float16), array(0.03394, dtype=float16), array(0.02199, dtype=float16), array(0.0164, dtype=float16), array(0.01859, dtype=float16), array(0.00209, dtype=float16), array(0.015236, dtype=float16), array(0.002266, dtype=float16), array(0.866, dtype=float16), array(0.02365, dtype=float16), array(2.11e-05, dtype=float16), array(0.04108, dtype=float16), array(0.06046, dtype=float16), array(0.09125, dtype=float16), array(0.002953, dtype=float16), array(0.002234, dtype=float16), array(0.9526, dtype=float16), array(0.863, dtype=float16), array(0.002636, dtype=float16), array(0.4856, dtype=float16), array(0.00885, dtype=float16), array(0.000721, dtype=float16), array(0.0008626, dtype=float16), array(0.5034, dtype=float16), array(0.01067, dtype=float16), array(0.003862, dtype=float16), array(0.0001025, dtype=float16), array(0.005913, dtype=float16), array(2.2e-06, dtype=float16), array(0.01305, dtype=float16), array(0.478, dtype=float16), array(0.2664, dtype=float16), array(0.03464, dtype=float16), array(0.000367, dtype=float16), array(0.851, dtype=float16), array(0.8765, dtype=float16), array(0.0004907, dtype=float16), array(0.0602, dtype=float16), array(0.01381, dtype=float16), array(0.1401, dtype=float16), array(0.02158, dtype=float16), array(0.01148, dtype=float16), array(0.007164, dtype=float16), array(0.04034, dtype=float16), array(0.10205, dtype=float16), array(0.234, dtype=float16), array(0.1409, dtype=float16), array(0.2393, dtype=float16), array(0.9277, dtype=float16), array(5.5e-06, dtype=float16), array(0.0984, dtype=float16), array(0.005787, dtype=float16), array(0.2795, dtype=float16), array(0.3218, dtype=float16), array(0.5723, dtype=float16), array(0.0001448, dtype=float16), array(0.006096, dtype=float16), array(0.3584, dtype=float16), array(0.574, dtype=float16), array(0.02866, dtype=float16), array(0.02315, dtype=float16), array(0.000613, dtype=float16), array(0.0006156, dtype=float16), array(0.004032, dtype=float16), array(7.63e-05, dtype=float16), array(0.00347, dtype=float16), array(0.004654, dtype=float16), array(5.e-06, dtype=float16), array(0.04553, dtype=float16), array(0.05698, dtype=float16), array(0.01044, dtype=float16), array(0.03583, dtype=float16), array(0.716, dtype=float16), array(0.1122, dtype=float16), array(0.01645, dtype=float16), array(0.00989, dtype=float16), array(0.014244, dtype=float16), array(0.001803, dtype=float16), array(4.07e-05, dtype=float16), array(0.241, dtype=float16), array(0.000929, dtype=float16), array(0.5825, dtype=float16), array(0.0008183, dtype=float16), array(0.327, dtype=float16), array(0.000428, dtype=float16), array(0.02992, dtype=float16), array(0.02985, dtype=float16), array(0.04233, dtype=float16), array(0.1472, dtype=float16), array(0.127, dtype=float16), array(0.01611, dtype=float16), array(0.02843, dtype=float16), array(7.385e-05, dtype=float16), array(0.52, dtype=float16), array(4.35e-05, dtype=float16), array(0.001177, dtype=float16), array(0.002079, dtype=float16), array(0.00214, dtype=float16), array(0.001163, dtype=float16), array(0.000166, dtype=float16), array(0.001083, dtype=float16), array(0.02151, dtype=float16), array(0.01122, dtype=float16), array(0.07275, dtype=float16), array(0.03036, dtype=float16), array(0.001885, dtype=float16), array(0.0006814, dtype=float16), array(0.000121, dtype=float16), array(0.1748, dtype=float16), array(0.02127, dtype=float16), array(0.013275, dtype=float16), array(0.03256, dtype=float16), array(0.01301, dtype=float16), array(0.9043, dtype=float16), array(0.01302, dtype=float16), array(0.001976, dtype=float16), array(0.005108, dtype=float16), array(5.38e-05, dtype=float16), array(0.0002066, dtype=float16), array(0.002104, dtype=float16), array(0.0005736, dtype=float16), array(0.0006375, dtype=float16), array(0.001681, dtype=float16), array(0.0004897, dtype=float16), array(0.0005736, dtype=float16), array(0.000599, dtype=float16), array(0.001458, dtype=float16), array(0.0563, dtype=float16), array(0.03598, dtype=float16), array(0.3462, dtype=float16), array(0.003016, dtype=float16), array(0.01418, dtype=float16), array(0.004513, dtype=float16), array(0.02596, dtype=float16), array(0.00959, dtype=float16), array(0.01462, dtype=float16), array(4.63e-05, dtype=float16), array(0.265, dtype=float16), array(0.02396, dtype=float16), array(0.00389, dtype=float16), array(0.03998, dtype=float16), array(0.1588, dtype=float16), array(0.0285, dtype=float16), array(0.005947, dtype=float16), array(0.001645, dtype=float16), array(0.02544, dtype=float16), array(0.003721, dtype=float16), array(0.4033, dtype=float16), array(0.1359, dtype=float16), array(0.01956, dtype=float16), array(0.0589, dtype=float16), array(0.0716, dtype=float16), array(0.0506, dtype=float16), array(0.000836, dtype=float16), array(0.02658, dtype=float16), array(0.002287, dtype=float16), array(0.0007057, dtype=float16), array(0.0001634, dtype=float16), array(6.604e-05, dtype=float16), array(0.000166, dtype=float16), array(0.143, dtype=float16), array(0.0006933, dtype=float16), array(0.01253, dtype=float16), array(0.02452, dtype=float16), array(0.02762, dtype=float16), array(0.0852, dtype=float16), array(0.05185, dtype=float16), array(0.1312, dtype=float16), array(8.37e-05, dtype=float16), array(0.04953, dtype=float16), array(0.5063, dtype=float16), array(0.1232, dtype=float16), array(0.02771, dtype=float16), array(0.04095, dtype=float16), array(7.117e-05, dtype=float16), array(0.012794, dtype=float16), array(0.00733, dtype=float16), array(0.792, dtype=float16), array(0.6167, dtype=float16), array(0.4304, dtype=float16), array(0.05356, dtype=float16), array(0.1583, dtype=float16), array(0.5786, dtype=float16), array(0.795, dtype=float16), array(0.02678, dtype=float16), array(0.354, dtype=float16), array(0.756, dtype=float16), array(0.9478, dtype=float16), array(0.9834, dtype=float16), array(0.6245, dtype=float16), array(0.955, dtype=float16), array(0.1305, dtype=float16), array(0.7563, dtype=float16), array(0.95, dtype=float16), array(0.5703, dtype=float16), array(0.901, dtype=float16), array(0.813, dtype=float16), array(0.68, dtype=float16), array(0.962, dtype=float16), array(0.833, dtype=float16), array(0.5864, dtype=float16), array(0.36, dtype=float16), array(0.4695, dtype=float16), array(0.5664, dtype=float16), array(0.0278, dtype=float16), array(0.02452, dtype=float16), array(0.709, dtype=float16), array(0.955, dtype=float16), array(0.318, dtype=float16), array(0.1368, dtype=float16), array(0.7935, dtype=float16), array(0.6377, dtype=float16), array(0.4873, dtype=float16), array(0.1609, dtype=float16), array(0.885, dtype=float16), array(0.7446, dtype=float16), array(0.05804, dtype=float16), array(0.002958, dtype=float16), array(0.05484, dtype=float16), array(0.02586, dtype=float16), array(0.05698, dtype=float16), array(0.2654, dtype=float16), array(0.74, dtype=float16), array(0.04562, dtype=float16), array(0.01359, dtype=float16), array(0.3252, dtype=float16), array(0.8604, dtype=float16), array(0.01953, dtype=float16), array(0.2766, dtype=float16), array(0.02307, dtype=float16), array(0.096, dtype=float16), array(0.891, dtype=float16), array(0.4731, dtype=float16), array(0.814, dtype=float16), array(0.003975, dtype=float16), array(0.003593, dtype=float16), array(0.0009093, dtype=float16), array(0.01976, dtype=float16), array(0.01181, dtype=float16), array(0.3445, dtype=float16), array(0.878, dtype=float16), array(0.2905, dtype=float16), array(0.2186, dtype=float16), array(0.6763, dtype=float16), array(0.00833, dtype=float16), array(0.5186, dtype=float16), array(0.919, dtype=float16), array(0.2026, dtype=float16), array(0.962, dtype=float16), array(0.06354, dtype=float16), array(0.768, dtype=float16), array(0.3179, dtype=float16), array(0.698, dtype=float16), array(0.761, dtype=float16), array(0.3464, dtype=float16), array(0.03226, dtype=float16), array(0.003998, dtype=float16), array(0.2435, dtype=float16), array(0.0747, dtype=float16), array(0.8022, dtype=float16), array(0.02483, dtype=float16), array(0.009605, dtype=float16), array(0.0002373, dtype=float16), array(0.00991, dtype=float16), array(0.5356, dtype=float16), array(0.10223, dtype=float16), array(0.3296, dtype=float16), array(0.0006948, dtype=float16), array(0.645, dtype=float16), array(0.753, dtype=float16), array(0.701, dtype=float16), array(0.704, dtype=float16), array(0.2211, dtype=float16), array(0.85, dtype=float16), array(0.2306, dtype=float16), array(0.001262, dtype=float16), array(0.003206, dtype=float16), array(0.362, dtype=float16), array(0.006577, dtype=float16), array(0.07764, dtype=float16), array(0.338, dtype=float16), array(4.4e-05, dtype=float16), array(0.008675, dtype=float16), array(0.08154, dtype=float16), array(0.1199, dtype=float16), array(0.321, dtype=float16), array(0.00588, dtype=float16), array(0.1163, dtype=float16), array(0.2815, dtype=float16), array(0.0456, dtype=float16), array(1.01e-05, dtype=float16), array(2.07e-05, dtype=float16), array(0.5947, dtype=float16), array(0.3872, dtype=float16), array(5.04e-05, dtype=float16), array(0.146, dtype=float16), array(0.04984, dtype=float16), array(0.0003164, dtype=float16), array(0.02893, dtype=float16), array(0.5273, dtype=float16), array(0.0194, dtype=float16), array(0.1543, dtype=float16), array(0.8184, dtype=float16), array(0.932, dtype=float16), array(0.02975, dtype=float16), array(0.9346, dtype=float16), array(0.02992, dtype=float16), array(0.8315, dtype=float16), array(0.3992, dtype=float16), array(0.004314, dtype=float16), array(0.03146, dtype=float16), array(0.866, dtype=float16), array(0.9766, dtype=float16), array(0.01096, dtype=float16), array(0.03317, dtype=float16), array(0.62, dtype=float16), array(0.11664, dtype=float16), array(0.8813, dtype=float16), array(0.708, dtype=float16), array(0.577, dtype=float16), array(0.9844, dtype=float16), array(0.09015, dtype=float16), array(0.068, dtype=float16), array(0.03757, dtype=float16), array(0.8877, dtype=float16), array(0.361, dtype=float16), array(0.0651, dtype=float16), array(0.9097, dtype=float16), array(0.00363, dtype=float16), array(0.4824, dtype=float16), array(0.0237, dtype=float16), array(0.0791, dtype=float16), array(0.9346, dtype=float16), array(0.3723, dtype=float16), array(0.0717, dtype=float16), array(0.0362, dtype=float16), array(0.3738, dtype=float16), array(0.4883, dtype=float16), array(0.465, dtype=float16), array(0.0003138, dtype=float16), array(0.03052, dtype=float16), array(0.001219, dtype=float16), array(0.354, dtype=float16), array(4.91e-05, dtype=float16), array(0.02763, dtype=float16), array(0.6387, dtype=float16), array(0.02443, dtype=float16), array(0.001965, dtype=float16), array(0.453, dtype=float16), array(0.007965, dtype=float16), array(0.00981, dtype=float16), array(0.2705, dtype=float16), array(0.4517, dtype=float16), array(0.3667, dtype=float16), array(0.1249, dtype=float16), array(0.5483, dtype=float16), array(0.795, dtype=float16), array(0.7954, dtype=float16), array(0.03156, dtype=float16), array(0.7246, dtype=float16), array(0.5986, dtype=float16), array(0.3904, dtype=float16), array(0.03024, dtype=float16), array(0.277, dtype=float16), array(0.3274, dtype=float16), array(0.02054, dtype=float16), array(5.9e-06, dtype=float16), array(0.0132, dtype=float16), array(0.3032, dtype=float16), array(3.4e-06, dtype=float16), array(0.02867, dtype=float16), array(0.01889, dtype=float16), array(0.02559, dtype=float16), array(0.03726, dtype=float16), array(0.01428, dtype=float16), array(0.01172, dtype=float16), array(0.4663, dtype=float16), array(0.01084, dtype=float16), array(0.0409, dtype=float16), array(0.2319, dtype=float16), array(0.06232, dtype=float16), array(0.0399, dtype=float16), array(0.2078, dtype=float16), array(0.02098, dtype=float16), array(0.0764, dtype=float16), array(0.01837, dtype=float16), array(0.1874, dtype=float16), array(0.3823, dtype=float16), array(0.01357, dtype=float16), array(0.0532, dtype=float16), array(0.00896, dtype=float16), array(0.0825, dtype=float16), array(0.02313, dtype=float16), array(0.10913, dtype=float16), array(0.0002694, dtype=float16), array(0.0009236, dtype=float16), array(0.007614, dtype=float16), array(0.5796, dtype=float16), array(0.2462, dtype=float16), array(0.01408, dtype=float16), array(0.10425, dtype=float16), array(0.004173, dtype=float16), array(0.1412, dtype=float16), array(0.1079, dtype=float16), array(0.494, dtype=float16), array(0.3586, dtype=float16), array(0.012985, dtype=float16), array(0.02069, dtype=float16), array(0.02771, dtype=float16), array(0.01431, dtype=float16), array(0.3723, dtype=float16), array(4.17e-05, dtype=float16), array(0.2313, dtype=float16), array(0.01, dtype=float16), array(0.003239, dtype=float16), array(0.01525, dtype=float16), array(0.0431, dtype=float16), array(0.3726, dtype=float16), array(0.177, dtype=float16), array(0.1549, dtype=float16), array(0.0013075, dtype=float16), array(0.2018, dtype=float16), array(0.0346, dtype=float16), array(0.03354, dtype=float16), array(0.03366, dtype=float16), array(0.03162, dtype=float16), array(0.03317, dtype=float16), array(0.03506, dtype=float16), array(0.11505, dtype=float16), array(0.02405, dtype=float16), array(0.00706, dtype=float16), array(0.00551, dtype=float16), array(0.0002066, dtype=float16), array(0.0196, dtype=float16), array(0.006382, dtype=float16), array(0.1915, dtype=float16), array(0.04434, dtype=float16), array(0.012825, dtype=float16), array(5.37e-05, dtype=float16), array(0.0799, dtype=float16), array(0.1945, dtype=float16), array(0.000881, dtype=float16), array(0.02177, dtype=float16), array(0.004375, dtype=float16), array(0.03757, dtype=float16), array(1.4e-05, dtype=float16), array(0.624, dtype=float16), array(0.351, dtype=float16), array(0.014786, dtype=float16), array(0.0384, dtype=float16), array(0.12, dtype=float16), array(0.02225, dtype=float16), array(0.01464, dtype=float16), array(0.003765, dtype=float16), array(0.0019045, dtype=float16), array(0.521, dtype=float16), array(0.01793, dtype=float16), array(0.1199, dtype=float16), array(0.00611, dtype=float16), array(0.03018, dtype=float16), array(0.06, dtype=float16), array(0.0737, dtype=float16), array(0.04028, dtype=float16), array(0.00313, dtype=float16), array(5.156e-05, dtype=float16), array(0.1533, dtype=float16), array(0.01562, dtype=float16), array(0.59, dtype=float16), array(0.001274, dtype=float16), array(0.03552, dtype=float16), array(0.001642, dtype=float16), array(0.0401, dtype=float16), array(0.0547, dtype=float16), array(0.585, dtype=float16), array(0.004425, dtype=float16), array(0.3105, dtype=float16), array(0.00914, dtype=float16), array(0.00801, dtype=float16), array(0.6426, dtype=float16), array(0.000614, dtype=float16), array(0.001934, dtype=float16), array(0.02182, dtype=float16), array(0.0707, dtype=float16), array(0.0611, dtype=float16), array(0.03244, dtype=float16), array(0.02443, dtype=float16), array(0.02444, dtype=float16), array(0.08966, dtype=float16), array(0.05328, dtype=float16), array(0.004185, dtype=float16), array(0.02025, dtype=float16), array(0.1444, dtype=float16), array(0.010796, dtype=float16), array(0.0211, dtype=float16), array(0.02298, dtype=float16), array(0.22, dtype=float16), array(0.10443, dtype=float16), array(0.8726, dtype=float16), array(0.8574, dtype=float16), array(0.0003355, dtype=float16), array(0.001789, dtype=float16), array(0.03845, dtype=float16), array(0.0536, dtype=float16), array(0.2588, dtype=float16), array(0.02986, dtype=float16), array(0.0671, dtype=float16), array(0.04974, dtype=float16), array(0.5674, dtype=float16), array(0.04132, dtype=float16), array(0.03427, dtype=float16), array(0.03262, dtype=float16), array(0.01852, dtype=float16), array(0.0112, dtype=float16), array(0.00883, dtype=float16), array(0.01259, dtype=float16), array(0.0005894, dtype=float16), array(0.01055, dtype=float16), array(0.5957, dtype=float16), array(0.1901, dtype=float16), array(0.01936, dtype=float16), array(0.01929, dtype=float16), array(0.3687, dtype=float16), array(0.3525, dtype=float16), array(0.1366, dtype=float16), array(0.5547, dtype=float16), array(0.196, dtype=float16), array(0.1971, dtype=float16), array(0.798, dtype=float16), array(0.687, dtype=float16), array(0.613, dtype=float16), array(2.104e-05, dtype=float16), array(0.02065, dtype=float16), array(1.13e-05, dtype=float16), array(6.18e-05, dtype=float16), array(0.0854, dtype=float16), array(0.1666, dtype=float16), array(0.04196, dtype=float16), array(0.04385, dtype=float16), array(0.008705, dtype=float16), array(0.023, dtype=float16), array(0.0205, dtype=float16), array(0.05435, dtype=float16), array(0.01087, dtype=float16), array(0.294, dtype=float16), array(0.0211, dtype=float16), array(0.001367, dtype=float16), array(0.567, dtype=float16), array(0.00847, dtype=float16), array(0.00089, dtype=float16), array(0.04813, dtype=float16), array(0.011246, dtype=float16), array(0.662, dtype=float16), array(0.0764, dtype=float16), array(0.0001196, dtype=float16), array(0.02103, dtype=float16), array(0.542, dtype=float16), array(0.3796, dtype=float16), array(0.7637, dtype=float16), array(0.01283, dtype=float16), array(0.01646, dtype=float16), array(0.0938, dtype=float16), array(0.01125, dtype=float16), array(0.01628, dtype=float16), array(0.01065, dtype=float16), array(0.619, dtype=float16), array(0.3828, dtype=float16), array(0.3418, dtype=float16), array(0.0705, dtype=float16), array(0.08954, dtype=float16), array(0.3955, dtype=float16), array(0.1586, dtype=float16), array(0.2123, dtype=float16), array(0.067, dtype=float16), array(0.0121, dtype=float16), array(0.05887, dtype=float16), array(0.0327, dtype=float16), array(0.0001072, dtype=float16), array(0.564, dtype=float16), array(0.272, dtype=float16), array(0.0605, dtype=float16), array(0.405, dtype=float16), array(0.355, dtype=float16), array(0.014656, dtype=float16), array(0.5664, dtype=float16), array(0.908, dtype=float16), array(0.846, dtype=float16), array(0.08307, dtype=float16), array(0.1743, dtype=float16), array(0.06165, dtype=float16), array(0.00392, dtype=float16), array(0.03665, dtype=float16), array(0.04504, dtype=float16), array(0.5586, dtype=float16), array(0.9443, dtype=float16), array(0.02995, dtype=float16), array(0.204, dtype=float16), array(0.0831, dtype=float16), array(0.2157, dtype=float16), array(0.04868, dtype=float16), array(0.4585, dtype=float16), array(0.010124, dtype=float16), array(0.04034, dtype=float16), array(0.03406, dtype=float16), array(0.2932, dtype=float16), array(0.2134, dtype=float16), array(0.010994, dtype=float16), array(0.0315, dtype=float16), array(0.1503, dtype=float16), array(0.02051, dtype=float16), array(0.909, dtype=float16), array(0.3132, dtype=float16), array(0.1055, dtype=float16), array(0.4097, dtype=float16), array(0.465, dtype=float16), array(0.01686, dtype=float16), array(0.02235, dtype=float16), array(0.0464, dtype=float16), array(0.05457, dtype=float16), array(0.431, dtype=float16), array(0.05188, dtype=float16), array(0.013405, dtype=float16), array(0.01021, dtype=float16), array(0.2324, dtype=float16), array(0.1761, dtype=float16), array(0.662, dtype=float16), array(0.3638, dtype=float16), array(0.01357, dtype=float16), array(0.4072, dtype=float16), array(0.0709, dtype=float16), array(0.831, dtype=float16), array(0.02533, dtype=float16), array(0.3108, dtype=float16), array(0.2722, dtype=float16), array(0.889, dtype=float16), array(0.03476, dtype=float16), array(0.01695, dtype=float16), array(0.0231, dtype=float16), array(0.02188, dtype=float16), array(0.01449, dtype=float16), array(0.01993, dtype=float16), array(0.0918, dtype=float16), array(0.4001, dtype=float16), array(0.0151, dtype=float16), array(0.04626, dtype=float16), array(0.28, dtype=float16), array(0.03105, dtype=float16), array(0.02655, dtype=float16), array(0.835, dtype=float16), array(0.4104, dtype=float16), array(0.07697, dtype=float16), array(0.2262, dtype=float16), array(0.123, dtype=float16), array(0.01447, dtype=float16), array(0.469, dtype=float16), array(0.6133, dtype=float16), array(0.1207, dtype=float16), array(0.01935, dtype=float16), array(0.0001102, dtype=float16), array(0.08276, dtype=float16), array(0.4573, dtype=float16), array(0.3894, dtype=float16), array(0.0516, dtype=float16), array(0.8687, dtype=float16), array(0.3127, dtype=float16), array(0.314, dtype=float16), array(0.628, dtype=float16), array(0.01183, dtype=float16), array(0.04724, dtype=float16), array(0.853, dtype=float16), array(0.010376, dtype=float16), array(0.0738, dtype=float16), array(0.0244, dtype=float16), array(0.03041, dtype=float16), array(0.10657, dtype=float16), array(0.0352, dtype=float16), array(0.3774, dtype=float16), array(0.6396, dtype=float16), array(0.06052, dtype=float16), array(0.02724, dtype=float16), array(0.0001806, dtype=float16), array(0.01472, dtype=float16), array(6.455e-05, dtype=float16), array(0.01104, dtype=float16), array(0.03278, dtype=float16), array(0.01283, dtype=float16), array(0.0913, dtype=float16), array(0.03888, dtype=float16), array(0.003765, dtype=float16), array(0.006115, dtype=float16), array(0.0006695, dtype=float16), array(0.1451, dtype=float16), array(0.4512, dtype=float16), array(8.22e-05, dtype=float16), array(0.00563, dtype=float16), array(0.01027, dtype=float16), array(0.00543, dtype=float16), array(0.02449, dtype=float16), array(0.911, dtype=float16), array(0.955, dtype=float16), array(0.296, dtype=float16), array(0.231, dtype=float16), array(0.11176, dtype=float16), array(0.01747, dtype=float16), array(0.07086, dtype=float16), array(0.9575, dtype=float16), array(0.477, dtype=float16), array(0.0363, dtype=float16), array(0.004665, dtype=float16), array(0.001245, dtype=float16), array(0.5127, dtype=float16), array(0.02188, dtype=float16), array(0.04407, dtype=float16), array(0.598, dtype=float16), array(0.7773, dtype=float16), array(0.005512, dtype=float16), array(0.02834, dtype=float16), array(0.00936, dtype=float16), array(0.825, dtype=float16), array(0.02696, dtype=float16), array(0.10046, dtype=float16), array(0.01564, dtype=float16), array(0.346, dtype=float16), array(0.0003047, dtype=float16), array(0.6367, dtype=float16), array(0.0421, dtype=float16), array(0.07574, dtype=float16), array(0.9556, dtype=float16), array(0.8174, dtype=float16), array(0.6616, dtype=float16), array(0.254, dtype=float16), array(0.7017, dtype=float16), array(0.6543, dtype=float16), array(0.2117, dtype=float16), array(0.8433, dtype=float16), array(0.2688, dtype=float16), array(0.706, dtype=float16), array(0.5884, dtype=float16), array(0.007374, dtype=float16), array(0.001965, dtype=float16), array(0.06085, dtype=float16), array(0.941, dtype=float16), array(3.535e-05, dtype=float16), array(0.5312, dtype=float16), array(0.634, dtype=float16), array(0.6855, dtype=float16), array(0.11005, dtype=float16), array(0.0006614, dtype=float16), array(0.003773, dtype=float16), array(0.3389, dtype=float16), array(0.02034, dtype=float16), array(0.2294, dtype=float16), array(0.0146, dtype=float16), array(0.02505, dtype=float16), array(0.557, dtype=float16), array(0.4387, dtype=float16), array(0.1638, dtype=float16), array(0.002157, dtype=float16), array(0.001691, dtype=float16), array(0.2006, dtype=float16), array(0.0428, dtype=float16), array(0.00785, dtype=float16), array(0.05627, dtype=float16), array(0.05313, dtype=float16), array(0.03802, dtype=float16), array(0.119, dtype=float16), array(0.004623, dtype=float16), array(0.00546, dtype=float16), array(0.1477, dtype=float16), array(0.001154, dtype=float16), array(0.6157, dtype=float16), array(0.1489, dtype=float16), array(0.9775, dtype=float16), array(0.757, dtype=float16), array(0.3037, dtype=float16), array(0.000655, dtype=float16), array(0.3003, dtype=float16), array(0.0007825, dtype=float16), array(0.326, dtype=float16), array(0.713, dtype=float16), array(0.06445, dtype=float16), array(0.02567, dtype=float16), array(0.613, dtype=float16), array(0.3164, dtype=float16), array(0.0006814, dtype=float16), array(0.4487, dtype=float16), array(0.04547, dtype=float16), array(0.0378, dtype=float16), array(0.2551, dtype=float16), array(0.01807, dtype=float16), array(0.3567, dtype=float16), array(0.02748, dtype=float16), array(0.03192, dtype=float16), array(0.0849, dtype=float16), array(0.02505, dtype=float16), array(3.65e-05, dtype=float16), array(0.825, dtype=float16), array(0.596, dtype=float16), array(0.726, dtype=float16), array(0.9463, dtype=float16), array(0.9565, dtype=float16), array(0.4272, dtype=float16), array(0.311, dtype=float16), array(0.6987, dtype=float16), array(0.4363, dtype=float16), array(0.1709, dtype=float16), array(8.92e-05, dtype=float16), array(0.1133, dtype=float16), array(0.07263, dtype=float16), array(0.01345, dtype=float16), array(0.03796, dtype=float16), array(0.4065, dtype=float16), array(0.334, dtype=float16), array(0.977, dtype=float16), array(0.01654, dtype=float16), array(0.781, dtype=float16), array(0.812, dtype=float16), array(0.869, dtype=float16), array(0.8237, dtype=float16), array(0.4714, dtype=float16), array(0.1599, dtype=float16), array(0.01456, dtype=float16), array(0.7085, dtype=float16), array(0.6187, dtype=float16), array(0.8853, dtype=float16), array(0.05048, dtype=float16), array(0.04327, dtype=float16), array(0.0002351, dtype=float16), array(4.4e-05, dtype=float16), array(0.3777, dtype=float16), array(0.042, dtype=float16), array(0.1973, dtype=float16), array(0.0159, dtype=float16), array(0.0705, dtype=float16), array(0.03815, dtype=float16), array(0.00172, dtype=float16), array(0.0105, dtype=float16), array(0.4033, dtype=float16)]\n",
      "Classification Report:\n",
      "              precision    recall  f1-score   support\n",
      "\n",
      "         0.0       0.95      0.89      0.92      5005\n",
      "         1.0       0.33      0.54      0.41       475\n",
      "\n",
      "    accuracy                           0.86      5480\n",
      "   macro avg       0.64      0.72      0.66      5480\n",
      "weighted avg       0.90      0.86      0.88      5480\n",
      "\n",
      "Balanced Accuracy Score: 0.7182322940217677\n",
      "Accuracy Score: 0.862956204379562\n",
      "F1 Score: 0.40726124704025257\n",
      "Precision: 0.32575757575757575\n",
      "Recall: 0.5431578947368421\n",
      "ROC AUC Score: 0.8561859193438142\n",
      "R0: 0.8933066933066933\n",
      "R1: 0.5431578947368421\n",
      "G-Mean: 0.6965677159406639\n"
     ]
    },
    {
     "data": {
      "text/plain": [
       "(np.float64(0.8561859193438142), np.float64(0.6965677159406639))"
      ]
     },
     "execution_count": 28,
     "metadata": {},
     "output_type": "execute_result"
    }
   ],
   "source": [
    "import numpy as np\n",
    "\n",
    "generate_predictions(model,test_df)\n",
    "get_metrics_result(test_df)"
   ]
  },
  {
   "cell_type": "markdown",
   "metadata": {
    "id": "aey53ZZKywBZ"
   },
   "source": [
    "## Training data preparation"
   ]
  },
  {
   "cell_type": "code",
   "execution_count": null,
   "metadata": {
    "id": "2Kyeb-dLzFNY"
   },
   "outputs": [],
   "source": [
    "filename = \"data/changes_train_lst.pkl\""
   ]
  },
  {
   "cell_type": "code",
   "execution_count": null,
   "metadata": {
    "id": "660H9Y1JzLDU"
   },
   "outputs": [],
   "source": [
    "import pickle\n",
    "\n",
    "with open(filename, 'rb') as f:\n",
    "    changes_train = pickle.load(f)"
   ]
  },
  {
   "cell_type": "code",
   "execution_count": null,
   "metadata": {
    "id": "IEQiVf7wzOQS"
   },
   "outputs": [],
   "source": [
    "filename = \"data/changes_valid_lst.pkl\""
   ]
  },
  {
   "cell_type": "code",
   "execution_count": null,
   "metadata": {
    "id": "wJA5_dvwzRlj"
   },
   "outputs": [],
   "source": [
    "with open(filename, 'rb') as f:\n",
    "    changes_eval = pickle.load(f)"
   ]
  },
  {
   "cell_type": "code",
   "execution_count": null,
   "metadata": {
    "colab": {
     "base_uri": "https://localhost:8080/"
    },
    "id": "AcQQignfACl4",
    "outputId": "bdd16934-dec2-49d3-92e8-dd21f4573058"
   },
   "outputs": [
    {
     "name": "stderr",
     "output_type": "stream",
     "text": [
      "100%|██████████| 172/172 [04:01<00:00,  1.40s/it]\n"
     ]
    },
    {
     "name": "stdout",
     "output_type": "stream",
     "text": [
      "[array(0.4597, dtype=float16), array(0.416, dtype=float16), array(0.893, dtype=float16), array(0.8564, dtype=float16), array(0.719, dtype=float16), array(0.745, dtype=float16), array(0.659, dtype=float16), array(0.506, dtype=float16), array(0.8213, dtype=float16), array(0.1453, dtype=float16), array(0.0867, dtype=float16), array(0.7036, dtype=float16), array(0.632, dtype=float16), array(0.521, dtype=float16), array(0.5864, dtype=float16), array(0.705, dtype=float16), array(0.668, dtype=float16), array(0.1458, dtype=float16), array(0.3474, dtype=float16), array(0.7017, dtype=float16), array(0.6016, dtype=float16), array(0.662, dtype=float16), array(0.6226, dtype=float16), array(0.723, dtype=float16), array(0.05807, dtype=float16), array(0.6777, dtype=float16), array(0.1071, dtype=float16), array(0.5713, dtype=float16), array(0.882, dtype=float16), array(0.701, dtype=float16), array(0.756, dtype=float16), array(0.8276, dtype=float16), array(0.676, dtype=float16), array(0.3262, dtype=float16), array(0.6606, dtype=float16), array(0.1278, dtype=float16), array(0.5435, dtype=float16), array(0.741, dtype=float16), array(0.2339, dtype=float16), array(0.2715, dtype=float16), array(0.6865, dtype=float16), array(0.7153, dtype=float16), array(0.1691, dtype=float16), array(0.6567, dtype=float16), array(0.566, dtype=float16), array(0.9185, dtype=float16), array(0.65, dtype=float16), array(0.6216, dtype=float16), array(0.65, dtype=float16), array(0.602, dtype=float16), array(0.8887, dtype=float16), array(0.734, dtype=float16), array(0.1293, dtype=float16), array(0.733, dtype=float16), array(0.9023, dtype=float16), array(0.843, dtype=float16), array(0.639, dtype=float16), array(0.738, dtype=float16), array(0.881, dtype=float16), array(0.1406, dtype=float16), array(0.6953, dtype=float16), array(0.12195, dtype=float16), array(0.73, dtype=float16), array(0.6533, dtype=float16), array(0.708, dtype=float16), array(0.631, dtype=float16), array(0.2632, dtype=float16), array(0.3684, dtype=float16), array(0.528, dtype=float16), array(0.742, dtype=float16), array(0.738, dtype=float16), array(0.734, dtype=float16), array(0.2922, dtype=float16), array(0.609, dtype=float16), array(0.6104, dtype=float16), array(0.2644, dtype=float16), array(0.351, dtype=float16), array(0.652, dtype=float16), array(0.7446, dtype=float16), array(0.6494, dtype=float16), array(0.9473, dtype=float16), array(0.6216, dtype=float16), array(0.2808, dtype=float16), array(0.1622, dtype=float16), array(0.636, dtype=float16), array(0.6753, dtype=float16), array(0.725, dtype=float16), array(0.7114, dtype=float16), array(0.757, dtype=float16), array(0.10266, dtype=float16), array(0.0476, dtype=float16), array(0.6104, dtype=float16), array(0.721, dtype=float16), array(0.768, dtype=float16), array(0.706, dtype=float16), array(0.694, dtype=float16), array(0.671, dtype=float16), array(0.7876, dtype=float16), array(0.5635, dtype=float16), array(0.742, dtype=float16), array(0.5977, dtype=float16), array(0.7925, dtype=float16), array(0.874, dtype=float16), array(0.2072, dtype=float16), array(0.692, dtype=float16), array(0.1439, dtype=float16), array(0.6553, dtype=float16), array(0.569, dtype=float16), array(0.832, dtype=float16), array(0.3552, dtype=float16), array(0.536, dtype=float16), array(0.9175, dtype=float16), array(0.743, dtype=float16), array(0.619, dtype=float16), array(0.6445, dtype=float16), array(0.6255, dtype=float16), array(0.725, dtype=float16), array(0.739, dtype=float16), array(0.682, dtype=float16), array(0.667, dtype=float16), array(0.7373, dtype=float16), array(0.2408, dtype=float16), array(0.4895, dtype=float16), array(0.1898, dtype=float16), array(0.5137, dtype=float16), array(0.7, dtype=float16), array(0.3452, dtype=float16), array(0.6846, dtype=float16), array(0.7065, dtype=float16), array(0.2886, dtype=float16), array(0.7373, dtype=float16), array(0.0956, dtype=float16), array(0.4004, dtype=float16), array(0.5923, dtype=float16), array(0.2343, dtype=float16), array(0.4631, dtype=float16), array(0.6875, dtype=float16), array(0.6606, dtype=float16), array(0.678, dtype=float16), array(0.618, dtype=float16), array(0.6875, dtype=float16), array(0.715, dtype=float16), array(0.678, dtype=float16), array(0.7183, dtype=float16), array(0.6934, dtype=float16), array(0.8477, dtype=float16), array(0.546, dtype=float16), array(0.6587, dtype=float16), array(0.555, dtype=float16), array(0.4946, dtype=float16), array(0.1855, dtype=float16), array(0.3667, dtype=float16), array(0.488, dtype=float16), array(0.7046, dtype=float16), array(0.667, dtype=float16), array(0.3044, dtype=float16), array(0.7524, dtype=float16), array(0.3079, dtype=float16), array(0.836, dtype=float16), array(0.483, dtype=float16), array(0.6963, dtype=float16), array(0.6226, dtype=float16), array(0.56, dtype=float16), array(0.5957, dtype=float16), array(0.8145, dtype=float16), array(0.8716, dtype=float16), array(0.7554, dtype=float16), array(0.4912, dtype=float16), array(0.168, dtype=float16), array(0.659, dtype=float16), array(0.1157, dtype=float16), array(0.308, dtype=float16), array(0.941, dtype=float16), array(0.6987, dtype=float16), array(0.688, dtype=float16), array(0.3486, dtype=float16), array(0.4001, dtype=float16), array(0.6816, dtype=float16), array(0.4968, dtype=float16), array(0.4382, dtype=float16), array(0.8257, dtype=float16), array(0.659, dtype=float16), array(0.0273, dtype=float16), array(0.705, dtype=float16), array(0.11285, dtype=float16), array(0.6436, dtype=float16), array(0.7104, dtype=float16), array(0.657, dtype=float16), array(0.7837, dtype=float16), array(0.7026, dtype=float16), array(0.7065, dtype=float16), array(0.8516, dtype=float16), array(0.8564, dtype=float16), array(0.2544, dtype=float16), array(0.934, dtype=float16), array(0.395, dtype=float16), array(0.6646, dtype=float16), array(0.4902, dtype=float16), array(0.7197, dtype=float16), array(0.721, dtype=float16), array(0.64, dtype=float16), array(0.665, dtype=float16), array(0.5684, dtype=float16), array(0.6904, dtype=float16), array(0.61, dtype=float16), array(0.607, dtype=float16), array(0.7207, dtype=float16), array(0.1337, dtype=float16), array(0.965, dtype=float16), array(0.356, dtype=float16), array(0.4058, dtype=float16), array(0.695, dtype=float16), array(0.82, dtype=float16), array(0.1475, dtype=float16), array(0.392, dtype=float16), array(0.654, dtype=float16), array(0.786, dtype=float16), array(0.0676, dtype=float16), array(0.727, dtype=float16), array(0.1128, dtype=float16), array(0.6924, dtype=float16), array(0.1423, dtype=float16), array(0.6807, dtype=float16), array(0.705, dtype=float16), array(0.634, dtype=float16), array(0.6084, dtype=float16), array(0.6055, dtype=float16), array(0.5938, dtype=float16), array(0.1409, dtype=float16), array(0.914, dtype=float16), array(0.544, dtype=float16), array(0.237, dtype=float16), array(0.62, dtype=float16), array(0.7046, dtype=float16), array(0.07733, dtype=float16), array(0.703, dtype=float16), array(0.6504, dtype=float16), array(0.8096, dtype=float16), array(0.0715, dtype=float16), array(0.874, dtype=float16), array(0.6606, dtype=float16), array(0.7446, dtype=float16), array(0.1969, dtype=float16), array(0.2788, dtype=float16), array(0.425, dtype=float16), array(0.657, dtype=float16), array(0.957, dtype=float16), array(0.548, dtype=float16), array(0.412, dtype=float16), array(0.2542, dtype=float16), array(0.2261, dtype=float16), array(0.912, dtype=float16), array(0.4087, dtype=float16), array(0.6353, dtype=float16), array(0.394, dtype=float16), array(0.783, dtype=float16), array(0.3657, dtype=float16), array(0.754, dtype=float16), array(0.712, dtype=float16), array(0.2812, dtype=float16), array(0.6797, dtype=float16), array(0.1862, dtype=float16), array(0.3315, dtype=float16), array(0.295, dtype=float16), array(0.1696, dtype=float16), array(0.4734, dtype=float16), array(0.5835, dtype=float16), array(0.5996, dtype=float16), array(0.7617, dtype=float16), array(0.2426, dtype=float16), array(0.6616, dtype=float16), array(0.1416, dtype=float16), array(0.706, dtype=float16), array(0.5454, dtype=float16), array(0.4001, dtype=float16), array(0.7124, dtype=float16), array(0.7046, dtype=float16), array(0.1663, dtype=float16), array(0.1746, dtype=float16), array(0.656, dtype=float16), array(0.2764, dtype=float16), array(0.971, dtype=float16), array(0.4546, dtype=float16), array(0.889, dtype=float16), array(0.949, dtype=float16), array(0.651, dtype=float16), array(0.773, dtype=float16), array(0.2096, dtype=float16), array(0.1117, dtype=float16), array(0.694, dtype=float16), array(0.582, dtype=float16), array(0.7437, dtype=float16), array(0.5845, dtype=float16), array(0.67, dtype=float16), array(0.6865, dtype=float16), array(0.3516, dtype=float16), array(0.693, dtype=float16), array(0.683, dtype=float16), array(0.74, dtype=float16), array(0.7017, dtype=float16), array(0.765, dtype=float16), array(0.336, dtype=float16), array(0.6787, dtype=float16), array(0.8926, dtype=float16), array(0.7773, dtype=float16), array(0.1887, dtype=float16), array(0.595, dtype=float16), array(0.9053, dtype=float16), array(0.9243, dtype=float16), array(0.922, dtype=float16), array(0.4023, dtype=float16), array(0.7617, dtype=float16), array(0.677, dtype=float16), array(0.682, dtype=float16), array(0.7417, dtype=float16), array(0.33, dtype=float16), array(0.4019, dtype=float16), array(0.679, dtype=float16), array(0.1818, dtype=float16), array(0.247, dtype=float16), array(0.5312, dtype=float16), array(0.6777, dtype=float16), array(0.5625, dtype=float16), array(0.6973, dtype=float16), array(0.6987, dtype=float16), array(0.509, dtype=float16), array(0.728, dtype=float16), array(0.7505, dtype=float16), array(0.7446, dtype=float16), array(0.328, dtype=float16), array(0.4792, dtype=float16), array(0.944, dtype=float16), array(0.7295, dtype=float16), array(0.3203, dtype=float16), array(0.404, dtype=float16), array(0.4004, dtype=float16), array(0.7627, dtype=float16), array(0.7207, dtype=float16), array(0.8857, dtype=float16), array(0.3118, dtype=float16), array(0.71, dtype=float16), array(0.4912, dtype=float16), array(0.1437, dtype=float16), array(0.781, dtype=float16), array(0.7363, dtype=float16), array(0.679, dtype=float16), array(0.2423, dtype=float16), array(0.737, dtype=float16), array(0.654, dtype=float16), array(0.7065, dtype=float16), array(0.639, dtype=float16), array(0.2295, dtype=float16), array(0.6763, dtype=float16), array(0.803, dtype=float16), array(0.7593, dtype=float16), array(0.6543, dtype=float16), array(0.08545, dtype=float16), array(0.4756, dtype=float16), array(0.4207, dtype=float16), array(0.09186, dtype=float16), array(0.678, dtype=float16), array(0.569, dtype=float16), array(0.724, dtype=float16), array(0.7183, dtype=float16), array(0.656, dtype=float16), array(0.942, dtype=float16), array(0.753, dtype=float16), array(0.1744, dtype=float16), array(0.1777, dtype=float16), array(0.6763, dtype=float16), array(0.1372, dtype=float16), array(0.671, dtype=float16), array(0.773, dtype=float16), array(0.539, dtype=float16), array(0.594, dtype=float16), array(0.675, dtype=float16), array(0.676, dtype=float16), array(0.1696, dtype=float16), array(0.8486, dtype=float16), array(0.253, dtype=float16), array(0.3457, dtype=float16), array(0.6235, dtype=float16), array(0.7783, dtype=float16), array(0.3813, dtype=float16), array(0.1282, dtype=float16), array(0.1934, dtype=float16), array(0.1313, dtype=float16), array(0.8433, dtype=float16), array(0.776, dtype=float16), array(0.04196, dtype=float16), array(0.2915, dtype=float16), array(0.9053, dtype=float16), array(0.115, dtype=float16), array(0.85, dtype=float16), array(0.2303, dtype=float16), array(0.976, dtype=float16), array(0.02347, dtype=float16), array(0.616, dtype=float16), array(0.3452, dtype=float16), array(0.5444, dtype=float16), array(0.7397, dtype=float16), array(0.5063, dtype=float16), array(0.05994, dtype=float16), array(0.667, dtype=float16), array(0.6875, dtype=float16), array(0.6143, dtype=float16), array(0.699, dtype=float16), array(0.7725, dtype=float16), array(0.439, dtype=float16), array(0.0961, dtype=float16), array(0.1439, dtype=float16), array(0.12366, dtype=float16), array(0.4934, dtype=float16), array(0.9, dtype=float16), array(0.7266, dtype=float16), array(0.7993, dtype=float16), array(0.658, dtype=float16), array(0.379, dtype=float16), array(0.8354, dtype=float16), array(0.6484, dtype=float16), array(0.706, dtype=float16), array(0.887, dtype=float16), array(0.7314, dtype=float16), array(0.2233, dtype=float16), array(0.6465, dtype=float16), array(0.763, dtype=float16), array(0.943, dtype=float16), array(0.6875, dtype=float16), array(0.635, dtype=float16), array(0.632, dtype=float16), array(0.6387, dtype=float16), array(0.7437, dtype=float16), array(0.3682, dtype=float16), array(0.5894, dtype=float16), array(0.203, dtype=float16), array(0.6606, dtype=float16), array(0.417, dtype=float16), array(0.8296, dtype=float16), array(0.666, dtype=float16), array(0.9126, dtype=float16), array(0.9087, dtype=float16), array(0.6777, dtype=float16), array(0.4238, dtype=float16), array(0.1917, dtype=float16), array(0.869, dtype=float16), array(0.769, dtype=float16), array(0.6665, dtype=float16), array(0.762, dtype=float16), array(0.2988, dtype=float16), array(0.1015, dtype=float16), array(0.6606, dtype=float16), array(0.1521, dtype=float16), array(0.1946, dtype=float16), array(0.6777, dtype=float16), array(0.5923, dtype=float16), array(0.894, dtype=float16), array(0.6313, dtype=float16), array(0.708, dtype=float16), array(0.3306, dtype=float16), array(0.835, dtype=float16), array(0.1483, dtype=float16), array(0.9795, dtype=float16), array(0.0669, dtype=float16), array(0.3381, dtype=float16), array(0.3606, dtype=float16), array(0.3662, dtype=float16), array(0.652, dtype=float16), array(0.4514, dtype=float16), array(0.645, dtype=float16), array(0.393, dtype=float16), array(0.4219, dtype=float16), array(0.7163, dtype=float16), array(0.7944, dtype=float16), array(0.0801, dtype=float16), array(0.1946, dtype=float16), array(0.6245, dtype=float16), array(0.854, dtype=float16), array(0.556, dtype=float16), array(0.743, dtype=float16), array(0.0789, dtype=float16), array(0.8657, dtype=float16), array(0.557, dtype=float16), array(0.36, dtype=float16), array(0.666, dtype=float16), array(0.65, dtype=float16), array(0.569, dtype=float16), array(0.503, dtype=float16), array(0.6113, dtype=float16), array(0.721, dtype=float16), array(0.976, dtype=float16), array(0.2382, dtype=float16), array(0.145, dtype=float16), array(0.8457, dtype=float16), array(0.69, dtype=float16), array(0.893, dtype=float16), array(0.2219, dtype=float16), array(0.5386, dtype=float16), array(0.698, dtype=float16), array(0.634, dtype=float16), array(0.8433, dtype=float16), array(0.679, dtype=float16), array(0.7227, dtype=float16), array(0.757, dtype=float16), array(0.613, dtype=float16), array(0.6025, dtype=float16), array(0.864, dtype=float16), array(0.1865, dtype=float16), array(0.737, dtype=float16), array(0.9634, dtype=float16), array(0.259, dtype=float16), array(0.798, dtype=float16), array(0.6094, dtype=float16), array(0.5947, dtype=float16), array(0.256, dtype=float16), array(0.689, dtype=float16), array(0.1969, dtype=float16), array(0.8735, dtype=float16), array(0.4678, dtype=float16), array(0.6616, dtype=float16), array(0.6367, dtype=float16), array(0.421, dtype=float16), array(0.695, dtype=float16), array(0.4119, dtype=float16), array(0.7534, dtype=float16), array(0.665, dtype=float16), array(0.971, dtype=float16), array(0.854, dtype=float16), array(0.5386, dtype=float16), array(0.675, dtype=float16), array(0.915, dtype=float16), array(0.7476, dtype=float16), array(0.6953, dtype=float16), array(0.5225, dtype=float16), array(0.6895, dtype=float16), array(0.2546, dtype=float16), array(0.172, dtype=float16), array(0.7627, dtype=float16), array(0.8003, dtype=float16), array(0.8086, dtype=float16), array(0.6626, dtype=float16), array(0.954, dtype=float16), array(0.606, dtype=float16), array(0.6987, dtype=float16), array(0.3884, dtype=float16), array(0.625, dtype=float16), array(0.17, dtype=float16), array(0.5557, dtype=float16), array(0.294, dtype=float16), array(0.663, dtype=float16), array(0.635, dtype=float16), array(0.7246, dtype=float16), array(0.698, dtype=float16), array(0.5854, dtype=float16), array(0.6133, dtype=float16), array(0.8867, dtype=float16), array(0.4407, dtype=float16), array(0.2651, dtype=float16), array(0.6377, dtype=float16), array(0.2634, dtype=float16), array(0.713, dtype=float16), array(0.4753, dtype=float16), array(0.6377, dtype=float16), array(0.699, dtype=float16), array(0.81, dtype=float16), array(0.55, dtype=float16), array(0.618, dtype=float16), array(0.7046, dtype=float16), array(0.4475, dtype=float16), array(0.639, dtype=float16), array(0.614, dtype=float16), array(0.8027, dtype=float16), array(0.769, dtype=float16), array(0.718, dtype=float16), array(0.643, dtype=float16), array(0.3745, dtype=float16), array(0.3787, dtype=float16), array(0.379, dtype=float16), array(0.924, dtype=float16), array(0.7163, dtype=float16), array(0.6177, dtype=float16), array(0.7437, dtype=float16), array(0.698, dtype=float16), array(0.664, dtype=float16), array(0.69, dtype=float16), array(0.9263, dtype=float16), array(0.8794, dtype=float16), array(0.7227, dtype=float16), array(0.5093, dtype=float16), array(0.3079, dtype=float16), array(0.267, dtype=float16), array(0.397, dtype=float16), array(0.2296, dtype=float16), array(0.5156, dtype=float16), array(0.6963, dtype=float16), array(0.6724, dtype=float16), array(0.654, dtype=float16), array(0.7812, dtype=float16), array(0.2798, dtype=float16), array(0.7, dtype=float16), array(0.613, dtype=float16), array(0.388, dtype=float16), array(0.727, dtype=float16), array(0.663, dtype=float16), array(0.0638, dtype=float16), array(0.2947, dtype=float16), array(0.0761, dtype=float16), array(0.768, dtype=float16), array(0.1869, dtype=float16), array(0.6826, dtype=float16), array(0.638, dtype=float16), array(0.323, dtype=float16), array(0.6685, dtype=float16), array(0.663, dtype=float16), array(0.4116, dtype=float16), array(0.686, dtype=float16), array(0.6074, dtype=float16), array(0.579, dtype=float16), array(0.694, dtype=float16), array(0.3376, dtype=float16), array(0.4397, dtype=float16), array(0.688, dtype=float16), array(0.2788, dtype=float16), array(0.671, dtype=float16), array(0.661, dtype=float16), array(0.6396, dtype=float16), array(0.02554, dtype=float16), array(0.743, dtype=float16), array(0.0888, dtype=float16), array(0.03833, dtype=float16), array(0.7095, dtype=float16), array(0.645, dtype=float16), array(0.628, dtype=float16), array(0.707, dtype=float16), array(0.6445, dtype=float16), array(0.584, dtype=float16), array(0.379, dtype=float16), array(0.531, dtype=float16), array(0.8813, dtype=float16), array(0.4187, dtype=float16), array(0.4626, dtype=float16), array(0.5537, dtype=float16), array(0.8755, dtype=float16), array(0.694, dtype=float16), array(0.792, dtype=float16), array(0.742, dtype=float16), array(0.6953, dtype=float16), array(0.7124, dtype=float16), array(0.7095, dtype=float16), array(0.637, dtype=float16), array(0.714, dtype=float16), array(0.667, dtype=float16), array(0.478, dtype=float16), array(0.7827, dtype=float16), array(0.746, dtype=float16), array(0.566, dtype=float16), array(0.554, dtype=float16), array(0.1733, dtype=float16), array(0.2625, dtype=float16), array(0.631, dtype=float16), array(0.6, dtype=float16), array(0.6357, dtype=float16), array(0.7227, dtype=float16), array(0.5474, dtype=float16), array(0.6616, dtype=float16), array(0.6426, dtype=float16), array(0.4915, dtype=float16), array(0.6533, dtype=float16), array(0.7153, dtype=float16), array(0.2316, dtype=float16), array(0.6626, dtype=float16), array(0.877, dtype=float16), array(0.695, dtype=float16), array(0.6543, dtype=float16), array(0.591, dtype=float16), array(0.734, dtype=float16), array(0.557, dtype=float16), array(0.792, dtype=float16), array(0.3933, dtype=float16), array(0.6973, dtype=float16), array(0.758, dtype=float16), array(0.7974, dtype=float16), array(0.5566, dtype=float16), array(0.2057, dtype=float16), array(0.139, dtype=float16), array(0.567, dtype=float16), array(0.6753, dtype=float16), array(0.04047, dtype=float16), array(0.6274, dtype=float16), array(0.677, dtype=float16), array(0.6235, dtype=float16), array(0.512, dtype=float16), array(0.4407, dtype=float16), array(0.2957, dtype=float16), array(0.751, dtype=float16), array(0.6836, dtype=float16), array(0.6025, dtype=float16), array(0.8374, dtype=float16), array(0.729, dtype=float16), array(0.6733, dtype=float16), array(0.745, dtype=float16), array(0.7285, dtype=float16), array(0.6514, dtype=float16), array(0.68, dtype=float16), array(0.6943, dtype=float16), array(0.6636, dtype=float16), array(0.6704, dtype=float16), array(0.3667, dtype=float16), array(0.704, dtype=float16), array(0.656, dtype=float16), array(0.612, dtype=float16), array(0.435, dtype=float16), array(0.782, dtype=float16), array(0.934, dtype=float16), array(0.644, dtype=float16), array(0.5947, dtype=float16), array(0.8604, dtype=float16), array(0.717, dtype=float16), array(0.824, dtype=float16), array(0.548, dtype=float16), array(0.648, dtype=float16), array(0.6665, dtype=float16), array(0.1292, dtype=float16), array(0.6484, dtype=float16), array(0.4084, dtype=float16), array(0.9614, dtype=float16), array(0.6865, dtype=float16), array(0.586, dtype=float16), array(0.672, dtype=float16), array(0.417, dtype=float16), array(0.6406, dtype=float16), array(0.568, dtype=float16), array(0.4482, dtype=float16), array(0.2426, dtype=float16), array(0.187, dtype=float16), array(0.3252, dtype=float16), array(0.6562, dtype=float16), array(0.717, dtype=float16), array(0.8345, dtype=float16), array(0.4646, dtype=float16), array(0.6655, dtype=float16), array(0.6704, dtype=float16), array(0.625, dtype=float16), array(0.3179, dtype=float16), array(0.655, dtype=float16), array(0.585, dtype=float16), array(0.6123, dtype=float16), array(0.6377, dtype=float16), array(0.7295, dtype=float16), array(0.477, dtype=float16), array(0.5405, dtype=float16), array(0.1501, dtype=float16), array(0.763, dtype=float16), array(0.5186, dtype=float16), array(0.0741, dtype=float16), array(0.5083, dtype=float16), array(0.518, dtype=float16), array(0.2487, dtype=float16), array(0.3923, dtype=float16), array(0.8755, dtype=float16), array(0.533, dtype=float16), array(0.539, dtype=float16), array(0.4438, dtype=float16), array(0.569, dtype=float16), array(0.599, dtype=float16), array(0.2473, dtype=float16), array(0.7427, dtype=float16), array(0.6885, dtype=float16), array(0.6562, dtype=float16), array(0.6914, dtype=float16), array(0.604, dtype=float16), array(0.669, dtype=float16), array(0.681, dtype=float16), array(0.248, dtype=float16), array(0.7627, dtype=float16), array(0.5664, dtype=float16), array(0.536, dtype=float16), array(0.8213, dtype=float16), array(0.5186, dtype=float16), array(0.877, dtype=float16), array(0.5864, dtype=float16), array(0.747, dtype=float16), array(0.606, dtype=float16), array(0.1404, dtype=float16), array(0.6157, dtype=float16), array(0.3425, dtype=float16), array(0.6255, dtype=float16), array(0.676, dtype=float16), array(0.66, dtype=float16), array(0.686, dtype=float16), array(0.35, dtype=float16), array(0.5923, dtype=float16), array(0.65, dtype=float16), array(0.663, dtype=float16), array(0.524, dtype=float16), array(0.849, dtype=float16), array(0.746, dtype=float16), array(0.8413, dtype=float16), array(0.2437, dtype=float16), array(0.0327, dtype=float16), array(0.6704, dtype=float16), array(0.11584, dtype=float16), array(0.1448, dtype=float16), array(0.6353, dtype=float16), array(0.679, dtype=float16), array(0.6646, dtype=float16), array(0.1569, dtype=float16), array(0.78, dtype=float16), array(0.6577, dtype=float16), array(0.4587, dtype=float16), array(0.6587, dtype=float16), array(0.8633, dtype=float16), array(0.711, dtype=float16), array(0.0927, dtype=float16), array(0.3901, dtype=float16), array(0.5645, dtype=float16), array(0.5103, dtype=float16), array(0.716, dtype=float16), array(0.6733, dtype=float16), array(0.0665, dtype=float16), array(0.744, dtype=float16), array(0.7266, dtype=float16), array(0.3086, dtype=float16), array(0.416, dtype=float16), array(0.2559, dtype=float16), array(0.7036, dtype=float16), array(0.3567, dtype=float16), array(0.686, dtype=float16), array(0.6675, dtype=float16), array(0.676, dtype=float16), array(0.369, dtype=float16), array(0.1129, dtype=float16), array(0.6875, dtype=float16), array(0.671, dtype=float16), array(0.6616, dtype=float16), array(0.6196, dtype=float16), array(0.7075, dtype=float16), array(0.6445, dtype=float16), array(0.42, dtype=float16), array(0.3103, dtype=float16), array(0.7266, dtype=float16), array(0.7017, dtype=float16), array(0.7563, dtype=float16), array(0.3354, dtype=float16), array(0.1533, dtype=float16), array(0.663, dtype=float16), array(0.6626, dtype=float16), array(0.659, dtype=float16), array(0.8354, dtype=float16), array(0.6284, dtype=float16), array(0.6553, dtype=float16), array(0.6606, dtype=float16), array(0.547, dtype=float16), array(0.6343, dtype=float16), array(0.04794, dtype=float16), array(0.4004, dtype=float16), array(0.08057, dtype=float16), array(0.6772, dtype=float16), array(0.6675, dtype=float16), array(0.684, dtype=float16), array(0.2856, dtype=float16), array(0.672, dtype=float16), array(0.684, dtype=float16), array(0.8384, dtype=float16), array(0.6895, dtype=float16), array(0.4485, dtype=float16), array(0.715, dtype=float16), array(0.6353, dtype=float16), array(0.2291, dtype=float16), array(0.6455, dtype=float16), array(0.5654, dtype=float16), array(0.7446, dtype=float16), array(0.668, dtype=float16), array(0.581, dtype=float16), array(0.692, dtype=float16), array(0.5977, dtype=float16), array(0.7363, dtype=float16), array(0.733, dtype=float16), array(0.7275, dtype=float16), array(0.469, dtype=float16), array(0.9653, dtype=float16), array(0.257, dtype=float16), array(0.9053, dtype=float16), array(0.9033, dtype=float16), array(0.831, dtype=float16), array(0.1217, dtype=float16), array(0.6187, dtype=float16), array(0.6616, dtype=float16), array(0.499, dtype=float16), array(0.11444, dtype=float16), array(0.648, dtype=float16), array(0.796, dtype=float16), array(0.903, dtype=float16), array(0.2045, dtype=float16), array(0.8257, dtype=float16), array(0.2068, dtype=float16), array(0.3376, dtype=float16), array(0.5645, dtype=float16), array(0.566, dtype=float16), array(0.7104, dtype=float16), array(0.4634, dtype=float16), array(0.7695, dtype=float16), array(0.6567, dtype=float16), array(0.683, dtype=float16), array(0.5156, dtype=float16), array(0.5005, dtype=float16), array(0.1827, dtype=float16), array(0.7974, dtype=float16), array(0.0651, dtype=float16), array(0.445, dtype=float16), array(0.02744, dtype=float16), array(0.8887, dtype=float16), array(0.7417, dtype=float16), array(0.634, dtype=float16), array(0.5107, dtype=float16), array(0.295, dtype=float16), array(0.5664, dtype=float16), array(0.614, dtype=float16), array(0.578, dtype=float16), array(0.211, dtype=float16), array(0.04968, dtype=float16), array(0.7236, dtype=float16), array(0.4368, dtype=float16), array(0.1804, dtype=float16), array(0.6216, dtype=float16), array(0.3193, dtype=float16), array(0.303, dtype=float16), array(0.1671, dtype=float16), array(0.2484, dtype=float16), array(0.946, dtype=float16), array(0.2566, dtype=float16), array(0.4656, dtype=float16), array(0.976, dtype=float16), array(0.3018, dtype=float16), array(0.5996, dtype=float16), array(0.3699, dtype=float16), array(0.5093, dtype=float16), array(0.8516, dtype=float16), array(0.766, dtype=float16), array(0.65, dtype=float16), array(0.5967, dtype=float16), array(0.672, dtype=float16), array(0.6626, dtype=float16), array(0.2732, dtype=float16), array(0.5117, dtype=float16), array(0.763, dtype=float16), array(0.7515, dtype=float16), array(0.5415, dtype=float16), array(0.9062, dtype=float16), array(0.962, dtype=float16), array(0.955, dtype=float16), array(0.792, dtype=float16), array(0.868, dtype=float16), array(0.6694, dtype=float16), array(0.12225, dtype=float16), array(0.11145, dtype=float16), array(0.6216, dtype=float16), array(0.2461, dtype=float16), array(0.9854, dtype=float16), array(0.71, dtype=float16), array(0.10565, dtype=float16), array(0.687, dtype=float16), array(0.736, dtype=float16), array(0.8604, dtype=float16), array(0.8623, dtype=float16), array(0.693, dtype=float16), array(0.7603, dtype=float16), array(0.2207, dtype=float16), array(0.0938, dtype=float16), array(0.981, dtype=float16), array(0.7236, dtype=float16), array(0.3027, dtype=float16), array(0.7075, dtype=float16), array(0.7466, dtype=float16), array(0.6743, dtype=float16), array(0.56, dtype=float16), array(0.6685, dtype=float16), array(0.728, dtype=float16), array(0.6553, dtype=float16), array(0.7803, dtype=float16), array(0.645, dtype=float16), array(0.638, dtype=float16), array(0.5137, dtype=float16), array(0.586, dtype=float16), array(0.704, dtype=float16), array(0.2429, dtype=float16), array(0.616, dtype=float16), array(0.768, dtype=float16), array(0.6763, dtype=float16), array(0.639, dtype=float16), array(0.611, dtype=float16), array(0.686, dtype=float16), array(0.06854, dtype=float16), array(0.733, dtype=float16), array(0.653, dtype=float16), array(0.1702, dtype=float16), array(0.5244, dtype=float16), array(0.7144, dtype=float16), array(0.6743, dtype=float16), array(0.649, dtype=float16), array(0.8667, dtype=float16), array(0.04565, dtype=float16), array(0.7, dtype=float16), array(0.777, dtype=float16), array(0.666, dtype=float16), array(0.7734, dtype=float16), array(0.861, dtype=float16), array(0.4512, dtype=float16), array(0.7847, dtype=float16), array(0.628, dtype=float16), array(0.659, dtype=float16), array(0.848, dtype=float16), array(0.6406, dtype=float16), array(0.3708, dtype=float16), array(0.73, dtype=float16), array(0.9697, dtype=float16), array(0.11395, dtype=float16), array(0.139, dtype=float16), array(0.584, dtype=float16), array(0.096, dtype=float16), array(0.7124, dtype=float16), array(0.6597, dtype=float16), array(0.2646, dtype=float16), array(0.86, dtype=float16), array(0.6587, dtype=float16), array(0.554, dtype=float16), array(0.554, dtype=float16), array(0.745, dtype=float16), array(0.4497, dtype=float16), array(0.846, dtype=float16), array(0.4648, dtype=float16), array(0.6074, dtype=float16), array(0.3728, dtype=float16), array(0.327, dtype=float16), array(0.7373, dtype=float16), array(0.6675, dtype=float16), array(0.6934, dtype=float16), array(0.8955, dtype=float16), array(0.7197, dtype=float16), array(0.1648, dtype=float16), array(0.6157, dtype=float16), array(0.9004, dtype=float16), array(0.7017, dtype=float16), array(0.7344, dtype=float16), array(0.709, dtype=float16), array(0.745, dtype=float16), array(0.6, dtype=float16), array(0.739, dtype=float16), array(0.68, dtype=float16), array(0.876, dtype=float16), array(0.6255, dtype=float16), array(0.638, dtype=float16), array(0.8813, dtype=float16), array(0.6978, dtype=float16), array(0.649, dtype=float16), array(0.672, dtype=float16), array(0.6387, dtype=float16), array(0.3586, dtype=float16), array(0.62, dtype=float16), array(0.738, dtype=float16), array(0.635, dtype=float16), array(0.677, dtype=float16), array(0.7056, dtype=float16), array(0.899, dtype=float16), array(0.646, dtype=float16), array(0.6074, dtype=float16), array(0.5605, dtype=float16), array(0.542, dtype=float16), array(0.195, dtype=float16), array(0.561, dtype=float16), array(0.2664, dtype=float16), array(0.1891, dtype=float16), array(0.7383, dtype=float16), array(0.696, dtype=float16), array(0.8306, dtype=float16), array(0.1528, dtype=float16), array(0.2174, dtype=float16), array(0.714, dtype=float16), array(0.6963, dtype=float16), array(0.65, dtype=float16), array(0.4988, dtype=float16), array(0.2058, dtype=float16), array(0.617, dtype=float16), array(0.6577, dtype=float16), array(0.1528, dtype=float16), array(0.7764, dtype=float16), array(0.7183, dtype=float16), array(0.6953, dtype=float16), array(0.665, dtype=float16), array(0.7646, dtype=float16), array(0.6064, dtype=float16), array(0.2534, dtype=float16), array(0.4634, dtype=float16), array(0.1395, dtype=float16), array(0.7837, dtype=float16), array(0.7617, dtype=float16), array(0.1273, dtype=float16), array(0.1821, dtype=float16), array(0.738, dtype=float16), array(0.3608, dtype=float16), array(0.8784, dtype=float16), array(0.6963, dtype=float16), array(0.6313, dtype=float16), array(0.01581, dtype=float16), array(0.707, dtype=float16), array(0.3005, dtype=float16), array(0.774, dtype=float16), array(0.6704, dtype=float16), array(0.5786, dtype=float16), array(0.0704, dtype=float16), array(0.7324, dtype=float16), array(0.6846, dtype=float16), array(0.7266, dtype=float16), array(0.4568, dtype=float16), array(0.2954, dtype=float16), array(0.4185, dtype=float16), array(0.1542, dtype=float16), array(0.4644, dtype=float16), array(0.6772, dtype=float16), array(0.0993, dtype=float16), array(0.6113, dtype=float16), array(0.6875, dtype=float16), array(0.493, dtype=float16), array(0.702, dtype=float16), array(0.5464, dtype=float16), array(0.6543, dtype=float16), array(0.1048, dtype=float16), array(0.2344, dtype=float16), array(0.7207, dtype=float16), array(0.4543, dtype=float16), array(0.583, dtype=float16), array(0.6465, dtype=float16), array(0.05444, dtype=float16), array(0.7847, dtype=float16), array(0.6035, dtype=float16), array(0.872, dtype=float16), array(0.8384, dtype=float16), array(0.654, dtype=float16), array(0.4153, dtype=float16), array(0.4517, dtype=float16), array(0.6294, dtype=float16), array(0.624, dtype=float16), array(0.683, dtype=float16), array(0.756, dtype=float16), array(0.6943, dtype=float16), array(0.3606, dtype=float16), array(0.4895, dtype=float16), array(0.3848, dtype=float16), array(0.2869, dtype=float16), array(0.6206, dtype=float16), array(0.6743, dtype=float16), array(0.7007, dtype=float16), array(0.7754, dtype=float16), array(0.1334, dtype=float16), array(0.2375, dtype=float16), array(0.5645, dtype=float16), array(0.4404, dtype=float16), array(0.55, dtype=float16), array(0.562, dtype=float16), array(0.766, dtype=float16), array(0.8555, dtype=float16), array(0.8115, dtype=float16), array(0.7295, dtype=float16), array(0.01614, dtype=float16), array(0.722, dtype=float16), array(0.1346, dtype=float16), array(0.2727, dtype=float16), array(0.7715, dtype=float16), array(0.1848, dtype=float16), array(0.6763, dtype=float16), array(0.2021, dtype=float16), array(0.9854, dtype=float16), array(0.8003, dtype=float16), array(0.1937, dtype=float16), array(0.5566, dtype=float16), array(0.8545, dtype=float16), array(0.4136, dtype=float16), array(0.278, dtype=float16), array(0.6123, dtype=float16), array(0.713, dtype=float16), array(0.7036, dtype=float16), array(0.7485, dtype=float16), array(0.653, dtype=float16), array(0.4473, dtype=float16), array(0.8354, dtype=float16), array(0.2174, dtype=float16), array(0.6973, dtype=float16), array(0.5435, dtype=float16), array(0.4182, dtype=float16), array(0.761, dtype=float16), array(0.2445, dtype=float16), array(0.835, dtype=float16), array(0.7476, dtype=float16), array(0.753, dtype=float16), array(0.7183, dtype=float16), array(0.2507, dtype=float16), array(0.3752, dtype=float16), array(0.77, dtype=float16), array(0.2393, dtype=float16), array(0.682, dtype=float16), array(0.471, dtype=float16), array(0.4612, dtype=float16), array(0.3906, dtype=float16), array(0.76, dtype=float16), array(0.3745, dtype=float16), array(0.111, dtype=float16), array(0.7407, dtype=float16), array(0.592, dtype=float16), array(0.655, dtype=float16), array(0.698, dtype=float16), array(0.11237, dtype=float16), array(0.809, dtype=float16), array(0.3147, dtype=float16), array(0.618, dtype=float16), array(0.759, dtype=float16), array(0.742, dtype=float16), array(0.744, dtype=float16), array(0.758, dtype=float16), array(0.817, dtype=float16), array(0.711, dtype=float16), array(0.595, dtype=float16), array(0.1904, dtype=float16), array(0.958, dtype=float16), array(0.7915, dtype=float16), array(0.552, dtype=float16), array(0.8027, dtype=float16), array(0.504, dtype=float16), array(0.2551, dtype=float16), array(0.483, dtype=float16), array(0.839, dtype=float16), array(0.763, dtype=float16), array(0.7803, dtype=float16), array(0.2761, dtype=float16), array(0.4907, dtype=float16), array(0.1628, dtype=float16), array(0.2134, dtype=float16), array(0.8213, dtype=float16), array(0.2915, dtype=float16), array(0.385, dtype=float16), array(0.4802, dtype=float16), array(0.498, dtype=float16), array(0.789, dtype=float16), array(0.7495, dtype=float16), array(0.7334, dtype=float16), array(0.909, dtype=float16), array(0.47, dtype=float16), array(0.7637, dtype=float16), array(0.4634, dtype=float16), array(0.6606, dtype=float16), array(0.06256, dtype=float16), array(0.8794, dtype=float16), array(0.6714, dtype=float16), array(0.4302, dtype=float16), array(0.737, dtype=float16), array(0.5977, dtype=float16), array(0.7974, dtype=float16), array(0.7646, dtype=float16), array(0.804, dtype=float16), array(0.805, dtype=float16), array(0.2445, dtype=float16), array(0.5405, dtype=float16), array(0.3223, dtype=float16), array(0.4714, dtype=float16), array(0.382, dtype=float16), array(0.8843, dtype=float16), array(0.5513, dtype=float16), array(0.4622, dtype=float16), array(0.4456, dtype=float16), array(0.5757, dtype=float16), array(0.4446, dtype=float16), array(0.3455, dtype=float16), array(0.758, dtype=float16), array(0.9194, dtype=float16), array(0.765, dtype=float16), array(0.1838, dtype=float16), array(0.545, dtype=float16), array(0.951, dtype=float16), array(0.848, dtype=float16), array(0.8525, dtype=float16), array(0.777, dtype=float16), array(0.405, dtype=float16), array(0.2998, dtype=float16), array(0.279, dtype=float16), array(0.5537, dtype=float16), array(0.75, dtype=float16), array(0.824, dtype=float16), array(0.6567, dtype=float16), array(0.1886, dtype=float16), array(0.4006, dtype=float16), array(0.948, dtype=float16), array(0.808, dtype=float16), array(0.6724, dtype=float16), array(0.8057, dtype=float16), array(0.3894, dtype=float16), array(0.771, dtype=float16), array(0.79, dtype=float16), array(0.954, dtype=float16), array(0.761, dtype=float16), array(0.2847, dtype=float16), array(0.5483, dtype=float16), array(0.8506, dtype=float16), array(0.7866, dtype=float16), array(0.1672, dtype=float16), array(0.2329, dtype=float16), array(0.778, dtype=float16), array(0.6895, dtype=float16), array(0.0757, dtype=float16), array(0.593, dtype=float16), array(0.76, dtype=float16), array(0.672, dtype=float16), array(0.3188, dtype=float16), array(0.6797, dtype=float16), array(0.5693, dtype=float16), array(0.779, dtype=float16), array(0.826, dtype=float16), array(0.7295, dtype=float16), array(0.7437, dtype=float16), array(0.8667, dtype=float16), array(0.8228, dtype=float16), array(0.3298, dtype=float16), array(0.78, dtype=float16), array(0.6455, dtype=float16), array(0.7236, dtype=float16), array(0.3809, dtype=float16), array(0.6333, dtype=float16), array(0.3877, dtype=float16), array(0.6685, dtype=float16), array(0.728, dtype=float16), array(0.555, dtype=float16), array(0.865, dtype=float16), array(0.7686, dtype=float16), array(0.827, dtype=float16), array(0.625, dtype=float16), array(0.654, dtype=float16), array(0.363, dtype=float16), array(0.6562, dtype=float16), array(0.7563, dtype=float16), array(0.755, dtype=float16), array(0.1654, dtype=float16), array(0.751, dtype=float16), array(0.8022, dtype=float16), array(0.1445, dtype=float16), array(0.788, dtype=float16), array(0.4556, dtype=float16), array(0.893, dtype=float16), array(0.5264, dtype=float16), array(0.816, dtype=float16), array(0.7446, dtype=float16), array(0.663, dtype=float16), array(0.731, dtype=float16), array(0.597, dtype=float16), array(0.8228, dtype=float16), array(0.453, dtype=float16), array(0.7974, dtype=float16), array(0.201, dtype=float16), array(0.8022, dtype=float16), array(0.7163, dtype=float16), array(0.4646, dtype=float16), array(0.9126, dtype=float16), array(0.7427, dtype=float16), array(0.7285, dtype=float16), array(0.1082, dtype=float16), array(0.3079, dtype=float16), array(0.789, dtype=float16), array(0.713, dtype=float16), array(0.2152, dtype=float16), array(0.7554, dtype=float16), array(0.4224, dtype=float16), array(0.8726, dtype=float16), array(0.796, dtype=float16), array(0.836, dtype=float16), array(0.555, dtype=float16), array(0.803, dtype=float16), array(0.782, dtype=float16), array(0.05225, dtype=float16), array(0.2603, dtype=float16), array(0.2686, dtype=float16), array(0.5986, dtype=float16), array(0.752, dtype=float16), array(0.779, dtype=float16), array(0.282, dtype=float16), array(0.5674, dtype=float16), array(0.2428, dtype=float16), array(0.2913, dtype=float16), array(0.2238, dtype=float16), array(0.1522, dtype=float16), array(0.2499, dtype=float16), array(0.7515, dtype=float16), array(0.566, dtype=float16), array(0.5786, dtype=float16), array(0.6875, dtype=float16), array(0.3738, dtype=float16), array(0.6963, dtype=float16), array(0.1678, dtype=float16), array(0.7573, dtype=float16), array(0.756, dtype=float16), array(0.818, dtype=float16), array(0.858, dtype=float16), array(0.498, dtype=float16), array(0.498, dtype=float16), array(0.9062, dtype=float16), array(0.908, dtype=float16), array(0.39, dtype=float16), array(0.2776, dtype=float16), array(0.2776, dtype=float16), array(0.5356, dtype=float16), array(0.5356, dtype=float16), array(0.54, dtype=float16), array(0.594, dtype=float16), array(0.775, dtype=float16), array(0.519, dtype=float16), array(0.769, dtype=float16), array(0.722, dtype=float16), array(0.5005, dtype=float16), array(0.5654, dtype=float16), array(0.4158, dtype=float16), array(0.6377, dtype=float16), array(0.3435, dtype=float16), array(0.7534, dtype=float16), array(0.6084, dtype=float16), array(0.35, dtype=float16), array(0.5205, dtype=float16), array(0.869, dtype=float16), array(0.5947, dtype=float16), array(0.51, dtype=float16), array(0.1259, dtype=float16), array(0.7266, dtype=float16), array(0.742, dtype=float16), array(0.877, dtype=float16), array(0.8193, dtype=float16), array(0.7217, dtype=float16), array(0.696, dtype=float16), array(0.83, dtype=float16), array(0.252, dtype=float16), array(0.65, dtype=float16), array(0.2216, dtype=float16), array(0.1365, dtype=float16), array(0.902, dtype=float16), array(0.633, dtype=float16), array(0.6987, dtype=float16), array(0.63, dtype=float16), array(0.4832, dtype=float16), array(0.6006, dtype=float16), array(0.8823, dtype=float16), array(0.1781, dtype=float16), array(0.567, dtype=float16), array(0.5747, dtype=float16), array(0.07336, dtype=float16), array(0.628, dtype=float16), array(0.1763, dtype=float16), array(0.8877, dtype=float16), array(0.7515, dtype=float16), array(0.3845, dtype=float16), array(0.9473, dtype=float16), array(0.7407, dtype=float16), array(0.95, dtype=float16), array(0.947, dtype=float16), array(0.6143, dtype=float16), array(0.3142, dtype=float16), array(0.4878, dtype=float16), array(0.678, dtype=float16), array(0.719, dtype=float16), array(0.1294, dtype=float16), array(0.62, dtype=float16), array(0.3154, dtype=float16), array(0.856, dtype=float16), array(0.7812, dtype=float16), array(0.442, dtype=float16), array(0.8687, dtype=float16), array(0.3223, dtype=float16), array(0.906, dtype=float16), array(0.0909, dtype=float16), array(0.3264, dtype=float16), array(0.4412, dtype=float16), array(0.563, dtype=float16), array(0.7124, dtype=float16), array(0.774, dtype=float16), array(0.714, dtype=float16), array(0.857, dtype=float16), array(0.7, dtype=float16), array(0.711, dtype=float16), array(0.1943, dtype=float16), array(0.777, dtype=float16), array(0.753, dtype=float16), array(0.776, dtype=float16), array(0.6787, dtype=float16), array(0.5693, dtype=float16), array(0.838, dtype=float16), array(0.893, dtype=float16), array(0.3887, dtype=float16), array(0.7183, dtype=float16), array(0.2155, dtype=float16), array(0.5264, dtype=float16), array(0.7456, dtype=float16), array(0.7935, dtype=float16), array(0.4287, dtype=float16), array(0.5166, dtype=float16), array(0.402, dtype=float16), array(0.62, dtype=float16), array(0.588, dtype=float16), array(0.8496, dtype=float16), array(0.2952, dtype=float16), array(0.239, dtype=float16), array(0.509, dtype=float16), array(0.32, dtype=float16), array(0.705, dtype=float16), array(0.7925, dtype=float16), array(0.91, dtype=float16), array(0.5215, dtype=float16), array(0.705, dtype=float16), array(0.649, dtype=float16), array(0.2788, dtype=float16), array(0.3606, dtype=float16), array(0.6943, dtype=float16), array(0.25, dtype=float16), array(0.10474, dtype=float16), array(0.6406, dtype=float16), array(0.5435, dtype=float16), array(0.3496, dtype=float16), array(0.7075, dtype=float16), array(0.611, dtype=float16), array(0.6504, dtype=float16), array(0.7544, dtype=float16), array(0.847, dtype=float16), array(0.2124, dtype=float16), array(0.804, dtype=float16), array(0.6157, dtype=float16), array(0.8564, dtype=float16), array(0.748, dtype=float16), array(0.669, dtype=float16), array(0.652, dtype=float16), array(0.3481, dtype=float16), array(0.6934, dtype=float16), array(0.838, dtype=float16), array(0.1449, dtype=float16), array(0.7183, dtype=float16), array(0.3562, dtype=float16), array(0.754, dtype=float16), array(0.686, dtype=float16), array(0.511, dtype=float16), array(0.52, dtype=float16), array(0.1265, dtype=float16), array(0.212, dtype=float16), array(0.819, dtype=float16), array(0.3103, dtype=float16), array(0.9297, dtype=float16), array(0.2693, dtype=float16), array(0.5933, dtype=float16), array(0.2338, dtype=float16), array(0.04062, dtype=float16), array(0.523, dtype=float16), array(0.2515, dtype=float16), array(0.555, dtype=float16), array(0.7886, dtype=float16), array(0.2751, dtype=float16), array(0.8687, dtype=float16), array(0.468, dtype=float16), array(0.701, dtype=float16), array(0.6147, dtype=float16), array(0.4822, dtype=float16), array(0.1043, dtype=float16), array(0.513, dtype=float16), array(0.04938, dtype=float16), array(0.789, dtype=float16), array(0.8657, dtype=float16), array(0.1718, dtype=float16), array(0.2253, dtype=float16), array(0.5244, dtype=float16), array(0.6177, dtype=float16), array(0.6597, dtype=float16), array(0.4355, dtype=float16), array(0.1666, dtype=float16), array(0.528, dtype=float16), array(0.04465, dtype=float16), array(0.703, dtype=float16), array(0.5264, dtype=float16), array(0.3574, dtype=float16), array(0.4468, dtype=float16), array(0.7188, dtype=float16), array(0.1422, dtype=float16), array(0.2634, dtype=float16), array(0.666, dtype=float16), array(0.567, dtype=float16), array(0.686, dtype=float16), array(0.8623, dtype=float16), array(0.6274, dtype=float16), array(0.7227, dtype=float16), array(0.6514, dtype=float16), array(0.773, dtype=float16), array(0.6157, dtype=float16), array(0.724, dtype=float16), array(0.49, dtype=float16), array(0.6704, dtype=float16), array(0.6606, dtype=float16), array(0.636, dtype=float16), array(0.639, dtype=float16), array(0.739, dtype=float16), array(0.5605, dtype=float16), array(0.608, dtype=float16), array(0.586, dtype=float16), array(0.4502, dtype=float16), array(0.651, dtype=float16), array(0.8125, dtype=float16), array(0.8633, dtype=float16), array(0.586, dtype=float16), array(0.218, dtype=float16), array(0.6807, dtype=float16), array(0.711, dtype=float16), array(0.704, dtype=float16), array(0.649, dtype=float16), array(0.716, dtype=float16), array(0.656, dtype=float16), array(0.81, dtype=float16), array(0.118, dtype=float16), array(0.9443, dtype=float16), array(0.632, dtype=float16), array(0.806, dtype=float16), array(0.2825, dtype=float16), array(0.293, dtype=float16), array(0.68, dtype=float16), array(0.3213, dtype=float16), array(0.276, dtype=float16), array(0.6074, dtype=float16), array(0.749, dtype=float16), array(0.1499, dtype=float16), array(0.2124, dtype=float16), array(0.138, dtype=float16), array(0.824, dtype=float16), array(0.709, dtype=float16), array(0.7476, dtype=float16), array(0.05435, dtype=float16), array(0.7983, dtype=float16), array(0.3342, dtype=float16), array(0.698, dtype=float16), array(0.665, dtype=float16), array(0.675, dtype=float16), array(0.688, dtype=float16), array(0.8467, dtype=float16), array(0.6406, dtype=float16), array(0.7017, dtype=float16), array(0.6704, dtype=float16), array(0.6978, dtype=float16), array(0.683, dtype=float16), array(0.6133, dtype=float16), array(0.736, dtype=float16), array(0.4258, dtype=float16), array(0.4473, dtype=float16), array(0.626, dtype=float16), array(0.6914, dtype=float16), array(0.7134, dtype=float16), array(0.1333, dtype=float16), array(0.1765, dtype=float16), array(0.622, dtype=float16), array(0.637, dtype=float16), array(0.752, dtype=float16), array(0.707, dtype=float16), array(0.767, dtype=float16), array(0.1621, dtype=float16), array(0.6084, dtype=float16), array(0.7866, dtype=float16), array(0.492, dtype=float16), array(0.691, dtype=float16), array(0.7373, dtype=float16), array(0.743, dtype=float16), array(0.713, dtype=float16), array(0.257, dtype=float16), array(0.7896, dtype=float16), array(0.743, dtype=float16), array(0.698, dtype=float16), array(0.6973, dtype=float16), array(0.1577, dtype=float16), array(0.9004, dtype=float16), array(0.2751, dtype=float16), array(0.07837, dtype=float16), array(0.8003, dtype=float16), array(0.7446, dtype=float16), array(0.619, dtype=float16), array(0.667, dtype=float16), array(0.811, dtype=float16), array(0.6343, dtype=float16), array(0.71, dtype=float16), array(0.7007, dtype=float16), array(0.7847, dtype=float16), array(0.7026, dtype=float16), array(0.2207, dtype=float16), array(0.2455, dtype=float16), array(0.654, dtype=float16), array(0.5693, dtype=float16), array(0.4497, dtype=float16), array(0.657, dtype=float16), array(0.495, dtype=float16), array(0.873, dtype=float16), array(0.7407, dtype=float16), array(0.6855, dtype=float16), array(0.7217, dtype=float16), array(0.2786, dtype=float16), array(0.596, dtype=float16), array(0.6836, dtype=float16), array(0.7563, dtype=float16), array(0.584, dtype=float16), array(0.749, dtype=float16), array(0.4827, dtype=float16), array(0.857, dtype=float16), array(0.7705, dtype=float16), array(0.6577, dtype=float16), array(0.759, dtype=float16), array(0.3264, dtype=float16), array(0.6587, dtype=float16), array(0.2107, dtype=float16), array(0.7397, dtype=float16), array(0.69, dtype=float16), array(0.7456, dtype=float16), array(0.745, dtype=float16), array(0.7603, dtype=float16), array(0.684, dtype=float16), array(0.7754, dtype=float16), array(0.807, dtype=float16), array(0.7017, dtype=float16), array(0.6665, dtype=float16), array(0.09375, dtype=float16), array(0.7397, dtype=float16), array(0.7305, dtype=float16), array(0.5815, dtype=float16), array(0.683, dtype=float16), array(0.0769, dtype=float16), array(0.7456, dtype=float16), array(0.3872, dtype=float16), array(0.4895, dtype=float16), array(0.6514, dtype=float16), array(0.6973, dtype=float16), array(0.735, dtype=float16), array(0.2769, dtype=float16), array(0.59, dtype=float16), array(0.725, dtype=float16), array(0.7744, dtype=float16), array(0.7354, dtype=float16), array(0.1675, dtype=float16), array(0.7944, dtype=float16), array(0.3523, dtype=float16), array(0.6523, dtype=float16), array(0.9185, dtype=float16), array(0.2617, dtype=float16), array(0.6226, dtype=float16), array(0.565, dtype=float16), array(0.563, dtype=float16), array(0.9277, dtype=float16), array(0.712, dtype=float16), array(0.1932, dtype=float16), array(0.5957, dtype=float16), array(0.6396, dtype=float16), array(0.4146, dtype=float16), array(0.755, dtype=float16), array(0.801, dtype=float16), array(0.0676, dtype=float16), array(0.6616, dtype=float16), array(0.6577, dtype=float16), array(0.6895, dtype=float16), array(0.933, dtype=float16), array(0.6934, dtype=float16), array(0.606, dtype=float16), array(0.6426, dtype=float16), array(0.7524, dtype=float16), array(0.5605, dtype=float16), array(0.2117, dtype=float16), array(0.6133, dtype=float16), array(0.1528, dtype=float16), array(0.2844, dtype=float16), array(0.603, dtype=float16), array(0.6157, dtype=float16), array(0.913, dtype=float16), array(0.7, dtype=float16), array(0.126, dtype=float16), array(0.7876, dtype=float16), array(0.764, dtype=float16), array(0.2406, dtype=float16), array(0.625, dtype=float16), array(0.848, dtype=float16), array(0.761, dtype=float16), array(0.919, dtype=float16), array(0.2113, dtype=float16), array(0.6904, dtype=float16), array(0.152, dtype=float16), array(0.2113, dtype=float16), array(0.3013, dtype=float16), array(0.1583, dtype=float16), array(0.6685, dtype=float16), array(0.7314, dtype=float16), array(0.726, dtype=float16), array(0.273, dtype=float16), array(0.768, dtype=float16), array(0.731, dtype=float16), array(0.652, dtype=float16), array(0.736, dtype=float16), array(0.3806, dtype=float16), array(0.631, dtype=float16), array(0.699, dtype=float16), array(0.663, dtype=float16), array(0.1649, dtype=float16), array(0.6797, dtype=float16), array(0.671, dtype=float16), array(0.847, dtype=float16), array(0.3008, dtype=float16), array(0.7373, dtype=float16), array(0.66, dtype=float16), array(0.5107, dtype=float16), array(0.8794, dtype=float16), array(0.922, dtype=float16), array(0.5767, dtype=float16), array(0.778, dtype=float16), array(0.496, dtype=float16), array(0.3315, dtype=float16), array(0.8, dtype=float16), array(0.4795, dtype=float16), array(0.762, dtype=float16), array(0.6245, dtype=float16), array(0.3506, dtype=float16), array(0.6978, dtype=float16), array(0.7026, dtype=float16), array(0.3242, dtype=float16), array(0.651, dtype=float16), array(0.162, dtype=float16), array(0.04163, dtype=float16), array(0.434, dtype=float16), array(0.6416, dtype=float16), array(0.8755, dtype=float16), array(0.2246, dtype=float16), array(0.586, dtype=float16), array(0.324, dtype=float16), array(0.1946, dtype=float16), array(0.304, dtype=float16), array(0.3457, dtype=float16), array(0.6714, dtype=float16), array(0.5386, dtype=float16), array(0.773, dtype=float16), array(0.2035, dtype=float16), array(0.903, dtype=float16), array(0.7324, dtype=float16), array(0.708, dtype=float16), array(0.684, dtype=float16), array(0.6396, dtype=float16), array(0.2288, dtype=float16), array(0.6587, dtype=float16), array(0.581, dtype=float16), array(0.4705, dtype=float16), array(0.6675, dtype=float16), array(0.743, dtype=float16), array(0.5776, dtype=float16), array(0.2043, dtype=float16), array(0.152, dtype=float16), array(0.7476, dtype=float16), array(0.666, dtype=float16), array(0.6445, dtype=float16), array(0.6294, dtype=float16), array(0.1738, dtype=float16), array(0.6904, dtype=float16), array(0.571, dtype=float16), array(0.6963, dtype=float16), array(0.6724, dtype=float16), array(0.693, dtype=float16), array(0.1783, dtype=float16), array(0.718, dtype=float16), array(0.763, dtype=float16), array(0.4922, dtype=float16), array(0.633, dtype=float16), array(0.76, dtype=float16), array(0.7363, dtype=float16), array(0.6426, dtype=float16), array(0.647, dtype=float16), array(0.8555, dtype=float16), array(0.8438, dtype=float16), array(0.6987, dtype=float16), array(0.4736, dtype=float16), array(0.519, dtype=float16), array(0.262, dtype=float16), array(0.6543, dtype=float16), array(0.7407, dtype=float16), array(0.644, dtype=float16), array(0.696, dtype=float16), array(0.6646, dtype=float16), array(0.1528, dtype=float16), array(0.696, dtype=float16), array(0.7173, dtype=float16), array(0.1626, dtype=float16), array(0.7427, dtype=float16), array(0.7046, dtype=float16), array(0.3574, dtype=float16), array(0.942, dtype=float16), array(0.5786, dtype=float16), array(0.7217, dtype=float16), array(0.75, dtype=float16), array(0.966, dtype=float16), array(0.899, dtype=float16), array(0.2693, dtype=float16), array(0.699, dtype=float16), array(0.9077, dtype=float16), array(0.638, dtype=float16), array(0.888, dtype=float16), array(0.597, dtype=float16), array(0.838, dtype=float16), array(0.689, dtype=float16), array(0.7637, dtype=float16), array(0.6743, dtype=float16), array(0.718, dtype=float16), array(0.715, dtype=float16), array(0.665, dtype=float16), array(0.763, dtype=float16), array(0.724, dtype=float16), array(0.944, dtype=float16), array(0.8447, dtype=float16), array(0.678, dtype=float16), array(0.6353, dtype=float16), array(0.259, dtype=float16), array(0.695, dtype=float16), array(0.772, dtype=float16), array(0.7285, dtype=float16), array(0.7407, dtype=float16), array(0.7446, dtype=float16), array(0.71, dtype=float16), array(0.7666, dtype=float16), array(0.4338, dtype=float16), array(0.71, dtype=float16), array(0.6357, dtype=float16), array(0.6396, dtype=float16), array(0.5566, dtype=float16), array(0.607, dtype=float16), array(0.7144, dtype=float16), array(0.664, dtype=float16), array(0.4224, dtype=float16), array(0.6226, dtype=float16), array(0.647, dtype=float16), array(0.621, dtype=float16), array(0.6196, dtype=float16), array(0.7207, dtype=float16), array(0.7236, dtype=float16), array(0.702, dtype=float16), array(0.937, dtype=float16), array(0.8936, dtype=float16), array(0.67, dtype=float16), array(0.675, dtype=float16), array(0.7847, dtype=float16), array(0.6646, dtype=float16), array(0.561, dtype=float16), array(0.5396, dtype=float16), array(0.7227, dtype=float16), array(0.519, dtype=float16), array(0.805, dtype=float16), array(0.5835, dtype=float16), array(0.846, dtype=float16), array(0.773, dtype=float16), array(0.1371, dtype=float16), array(0.718, dtype=float16), array(0.628, dtype=float16), array(0.777, dtype=float16), array(0.5654, dtype=float16), array(0.6626, dtype=float16), array(0.7603, dtype=float16), array(0.1952, dtype=float16), array(0.731, dtype=float16), array(0.6865, dtype=float16), array(0.0516, dtype=float16), array(0.7905, dtype=float16), array(0.4487, dtype=float16), array(0.6196, dtype=float16), array(0.1497, dtype=float16), array(0.0769, dtype=float16), array(0.7236, dtype=float16), array(0.503, dtype=float16), array(0.6846, dtype=float16), array(0.6147, dtype=float16), array(0.2383, dtype=float16), array(0.7524, dtype=float16), array(0.7886, dtype=float16), array(0.0538, dtype=float16), array(0.748, dtype=float16), array(0.793, dtype=float16), array(0.783, dtype=float16), array(0.7085, dtype=float16), array(0.712, dtype=float16), array(0.648, dtype=float16), array(0.4458, dtype=float16), array(0.5757, dtype=float16), array(0.821, dtype=float16), array(0.4478, dtype=float16), array(0.7314, dtype=float16), array(0.776, dtype=float16), array(0.4473, dtype=float16), array(0.713, dtype=float16), array(0.2117, dtype=float16), array(0.7974, dtype=float16), array(0.5815, dtype=float16), array(0.3774, dtype=float16), array(0.698, dtype=float16), array(0.693, dtype=float16), array(0.5747, dtype=float16), array(0.0867, dtype=float16), array(0.6895, dtype=float16), array(0.6016, dtype=float16), array(0.728, dtype=float16), array(0.311, dtype=float16), array(0.954, dtype=float16), array(0.671, dtype=float16), array(0.389, dtype=float16), array(0.908, dtype=float16), array(0.6953, dtype=float16), array(0.2896, dtype=float16), array(0.5796, dtype=float16), array(0.2732, dtype=float16), array(0.738, dtype=float16), array(0.639, dtype=float16), array(0.8506, dtype=float16), array(0.687, dtype=float16), array(0.706, dtype=float16), array(0.4988, dtype=float16), array(0.6226, dtype=float16), array(0.6436, dtype=float16), array(0.0576, dtype=float16), array(0.7144, dtype=float16), array(0.7705, dtype=float16), array(0.4387, dtype=float16), array(0.7324, dtype=float16), array(0.7734, dtype=float16), array(0.2588, dtype=float16), array(0.1364, dtype=float16), array(0.8525, dtype=float16), array(0.9893, dtype=float16), array(0.6426, dtype=float16), array(0.773, dtype=float16), array(0.6255, dtype=float16), array(0.10547, dtype=float16), array(0.1537, dtype=float16), array(0.632, dtype=float16), array(0.699, dtype=float16), array(0.621, dtype=float16), array(0.745, dtype=float16), array(0.2008, dtype=float16), array(0.64, dtype=float16), array(0.2255, dtype=float16), array(0.6997, dtype=float16), array(0.7886, dtype=float16), array(0.2522, dtype=float16), array(0.725, dtype=float16), array(0.7217, dtype=float16), array(0.6733, dtype=float16), array(0.6064, dtype=float16), array(0.757, dtype=float16), array(0.7383, dtype=float16), array(0.1055, dtype=float16), array(0.309, dtype=float16), array(0.78, dtype=float16), array(0.684, dtype=float16), array(0.673, dtype=float16), array(0.8833, dtype=float16), array(0.563, dtype=float16), array(0.7974, dtype=float16), array(0.646, dtype=float16), array(0.803, dtype=float16), array(0.585, dtype=float16), array(0.11206, dtype=float16), array(0.695, dtype=float16), array(0.699, dtype=float16), array(0.62, dtype=float16), array(0.861, dtype=float16), array(0.661, dtype=float16), array(0.0959, dtype=float16), array(0.7334, dtype=float16), array(0.691, dtype=float16), array(0.794, dtype=float16), array(0.742, dtype=float16), array(0.2258, dtype=float16), array(0.6855, dtype=float16), array(0.647, dtype=float16), array(0.697, dtype=float16), array(0.6636, dtype=float16), array(0.7617, dtype=float16), array(0.725, dtype=float16), array(0.773, dtype=float16), array(0.758, dtype=float16), array(0.645, dtype=float16), array(0.74, dtype=float16), array(0.712, dtype=float16), array(0.6514, dtype=float16), array(0.6743, dtype=float16), array(0.112, dtype=float16), array(0.686, dtype=float16), array(0.2637, dtype=float16), array(0.676, dtype=float16), array(0.9507, dtype=float16), array(0.6094, dtype=float16), array(0.4016, dtype=float16), array(0.7593, dtype=float16), array(0.725, dtype=float16), array(0.3738, dtype=float16), array(0.3435, dtype=float16), array(0.49, dtype=float16), array(0.3396, dtype=float16), array(0.7573, dtype=float16), array(0.569, dtype=float16), array(0.7075, dtype=float16), array(0.7383, dtype=float16), array(0.7544, dtype=float16), array(0.3096, dtype=float16), array(0.4417, dtype=float16), array(0.6997, dtype=float16), array(0.6733, dtype=float16), array(0.7554, dtype=float16), array(0.7236, dtype=float16), array(0.7417, dtype=float16), array(0.1969, dtype=float16), array(0.2522, dtype=float16), array(0.7544, dtype=float16), array(0.676, dtype=float16), array(0.6553, dtype=float16), array(0.6606, dtype=float16), array(0.6846, dtype=float16), array(0.62, dtype=float16), array(0.7104, dtype=float16), array(0.731, dtype=float16), array(0.2205, dtype=float16), array(0.608, dtype=float16), array(0.2208, dtype=float16), array(0.808, dtype=float16), array(0.7275, dtype=float16), array(0.707, dtype=float16), array(0.7744, dtype=float16), array(0.8423, dtype=float16), array(0.6133, dtype=float16), array(0.7397, dtype=float16), array(0.6445, dtype=float16), array(0.7114, dtype=float16), array(0.6836, dtype=float16), array(0.6396, dtype=float16), array(0.7593, dtype=float16), array(0.6436, dtype=float16), array(0.763, dtype=float16), array(0.624, dtype=float16), array(0.0978, dtype=float16), array(0.622, dtype=float16), array(0.06744, dtype=float16), array(0.771, dtype=float16), array(0.7344, dtype=float16), array(0.6245, dtype=float16), array(0.7007, dtype=float16), array(0.6787, dtype=float16), array(0.6626, dtype=float16), array(0.821, dtype=float16), array(0.6626, dtype=float16), array(0.595, dtype=float16), array(0.5786, dtype=float16), array(0.642, dtype=float16), array(0.688, dtype=float16), array(0.685, dtype=float16), array(0.8784, dtype=float16), array(0.2502, dtype=float16), array(0.9673, dtype=float16), array(0.719, dtype=float16), array(0.677, dtype=float16), array(0.5713, dtype=float16), array(0.674, dtype=float16), array(0.297, dtype=float16), array(0.7437, dtype=float16), array(0.6533, dtype=float16), array(0.698, dtype=float16), array(0.2083, dtype=float16), array(0.8247, dtype=float16), array(0.07654, dtype=float16), array(0.4958, dtype=float16), array(0.7026, dtype=float16), array(0.686, dtype=float16), array(0.5137, dtype=float16), array(0.679, dtype=float16), array(0.6724, dtype=float16), array(0.6553, dtype=float16), array(0.756, dtype=float16), array(0.526, dtype=float16), array(0.982, dtype=float16), array(0.982, dtype=float16), array(0.08276, dtype=float16), array(0.3774, dtype=float16), array(0.7026, dtype=float16), array(0.83, dtype=float16), array(0.5503, dtype=float16), array(0.7554, dtype=float16), array(0.4768, dtype=float16), array(0.8286, dtype=float16), array(0.3691, dtype=float16), array(0.302, dtype=float16), array(0.469, dtype=float16), array(0.7188, dtype=float16), array(0.2832, dtype=float16), array(0.3892, dtype=float16), array(0.6973, dtype=float16), array(0.714, dtype=float16), array(0.875, dtype=float16), array(0.2374, dtype=float16), array(0.2632, dtype=float16), array(0.896, dtype=float16), array(0.406, dtype=float16), array(0.6562, dtype=float16), array(0.3672, dtype=float16), array(0.04468, dtype=float16), array(0.6455, dtype=float16), array(0.6064, dtype=float16), array(0.7437, dtype=float16), array(0.7007, dtype=float16), array(0.714, dtype=float16), array(0.8545, dtype=float16), array(0.6426, dtype=float16), array(0.704, dtype=float16), array(0.745, dtype=float16), array(0.6636, dtype=float16), array(0.792, dtype=float16), array(0.627, dtype=float16), array(0.772, dtype=float16), array(0.6387, dtype=float16), array(0.2563, dtype=float16), array(0.575, dtype=float16), array(0.474, dtype=float16), array(0.707, dtype=float16), array(0.662, dtype=float16), array(0.7056, dtype=float16), array(0.7866, dtype=float16), array(0.737, dtype=float16), array(0.4983, dtype=float16), array(0.6865, dtype=float16), array(0.764, dtype=float16), array(0.2966, dtype=float16), array(0.653, dtype=float16), array(0.7773, dtype=float16), array(0.4988, dtype=float16), array(0.733, dtype=float16), array(0.702, dtype=float16), array(0.95, dtype=float16), array(0.4077, dtype=float16), array(0.734, dtype=float16), array(0.67, dtype=float16), array(0.2351, dtype=float16), array(0.7085, dtype=float16), array(0.7285, dtype=float16), array(0.669, dtype=float16), array(0.715, dtype=float16), array(0.7266, dtype=float16), array(0.8003, dtype=float16), array(0.6133, dtype=float16), array(0.678, dtype=float16), array(0.737, dtype=float16), array(0.563, dtype=float16), array(0.2399, dtype=float16), array(0.3892, dtype=float16), array(0.517, dtype=float16), array(0.2795, dtype=float16), array(0.05276, dtype=float16), array(0.744, dtype=float16), array(0.646, dtype=float16), array(0.565, dtype=float16), array(0.893, dtype=float16), array(0.424, dtype=float16), array(0.7256, dtype=float16), array(0.6216, dtype=float16), array(0.8364, dtype=float16), array(0.883, dtype=float16), array(0.65, dtype=float16), array(0.6636, dtype=float16), array(0.186, dtype=float16), array(0.7246, dtype=float16), array(0.9365, dtype=float16), array(0.317, dtype=float16), array(0.6978, dtype=float16), array(0.644, dtype=float16), array(0.7856, dtype=float16), array(0.645, dtype=float16), array(0.4546, dtype=float16), array(0.683, dtype=float16), array(0.2063, dtype=float16), array(0.282, dtype=float16), array(0.5063, dtype=float16), array(0.705, dtype=float16), array(0.6807, dtype=float16), array(0.607, dtype=float16), array(0.6895, dtype=float16), array(0.6416, dtype=float16), array(0.62, dtype=float16), array(0.7764, dtype=float16), array(0.6245, dtype=float16), array(0.2356, dtype=float16), array(0.5737, dtype=float16), array(0.6865, dtype=float16), array(0.8613, dtype=float16), array(0.6875, dtype=float16), array(0.6616, dtype=float16), array(0.1727, dtype=float16), array(0.375, dtype=float16), array(0.6455, dtype=float16), array(0.8296, dtype=float16), array(0.626, dtype=float16), array(0.08417, dtype=float16), array(0.6377, dtype=float16), array(0.11926, dtype=float16), array(0.5283, dtype=float16), array(0.7275, dtype=float16), array(0.6914, dtype=float16), array(0.2439, dtype=float16), array(0.403, dtype=float16), array(0.6855, dtype=float16), array(0.5, dtype=float16), array(0.698, dtype=float16), array(0.7095, dtype=float16), array(0.787, dtype=float16), array(0.682, dtype=float16), array(0.6997, dtype=float16), array(0.3325, dtype=float16), array(0.7324, dtype=float16), array(0.708, dtype=float16), array(0.907, dtype=float16), array(0.687, dtype=float16), array(0.6875, dtype=float16), array(0.741, dtype=float16), array(0.2496, dtype=float16), array(0.6875, dtype=float16), array(0.228, dtype=float16), array(0.6904, dtype=float16), array(0.75, dtype=float16), array(0.2927, dtype=float16), array(0.6187, dtype=float16), array(0.6694, dtype=float16), array(0.7075, dtype=float16), array(0.6753, dtype=float16), array(0.7114, dtype=float16), array(0.695, dtype=float16), array(0.75, dtype=float16), array(0.1333, dtype=float16), array(0.7354, dtype=float16), array(0.3704, dtype=float16), array(0.7495, dtype=float16), array(0.618, dtype=float16), array(0.4114, dtype=float16), array(0.573, dtype=float16), array(0.6865, dtype=float16), array(0.6836, dtype=float16), array(0.767, dtype=float16), array(0.1011, dtype=float16), array(0.7754, dtype=float16), array(0.6543, dtype=float16), array(0.6123, dtype=float16), array(0.656, dtype=float16), array(0.6523, dtype=float16), array(0.6772, dtype=float16), array(0.69, dtype=float16), array(0.6353, dtype=float16), array(0.6484, dtype=float16), array(0.614, dtype=float16), array(0.666, dtype=float16), array(0.7114, dtype=float16), array(0.679, dtype=float16), array(0.703, dtype=float16), array(0.7485, dtype=float16), array(0.7495, dtype=float16), array(0.6553, dtype=float16), array(0.746, dtype=float16), array(0.2786, dtype=float16), array(0.718, dtype=float16), array(0.3735, dtype=float16), array(0.847, dtype=float16), array(0.725, dtype=float16), array(0.7754, dtype=float16), array(0.367, dtype=float16), array(0.6787, dtype=float16), array(0.3718, dtype=float16), array(0.6226, dtype=float16), array(0.4995, dtype=float16), array(0.5625, dtype=float16), array(0.712, dtype=float16), array(0.1255, dtype=float16), array(0.908, dtype=float16), array(0.796, dtype=float16), array(0.6475, dtype=float16), array(0.553, dtype=float16), array(0.7153, dtype=float16), array(0.7036, dtype=float16), array(0.5225, dtype=float16), array(0.683, dtype=float16), array(0.609, dtype=float16), array(0.1259, dtype=float16), array(0.04184, dtype=float16), array(0.6196, dtype=float16), array(0.7964, dtype=float16), array(0.6743, dtype=float16), array(0.6035, dtype=float16), array(0.7124, dtype=float16), array(0.7437, dtype=float16), array(0.6816, dtype=float16), array(0.4453, dtype=float16), array(0.2253, dtype=float16), array(0.6255, dtype=float16), array(0.7446, dtype=float16), array(0.7207, dtype=float16), array(0.639, dtype=float16), array(0.5347, dtype=float16), array(0.4082, dtype=float16), array(0.8276, dtype=float16), array(0.7324, dtype=float16), array(0.9434, dtype=float16), array(0.706, dtype=float16), array(0.455, dtype=float16), array(0.612, dtype=float16), array(0.6895, dtype=float16), array(0.6523, dtype=float16), array(0.6245, dtype=float16), array(0.653, dtype=float16), array(0.6187, dtype=float16), array(0.935, dtype=float16), array(0.796, dtype=float16), array(0.664, dtype=float16), array(0.6934, dtype=float16), array(0.6357, dtype=float16), array(0.77, dtype=float16), array(0.101, dtype=float16), array(0.1672, dtype=float16), array(0.6924, dtype=float16), array(0.9546, dtype=float16), array(0.7637, dtype=float16), array(0.6304, dtype=float16), array(0.71, dtype=float16), array(0.713, dtype=float16), array(0.05682, dtype=float16), array(0.7188, dtype=float16), array(0.0639, dtype=float16), array(0.5464, dtype=float16), array(0.85, dtype=float16), array(0.3013, dtype=float16), array(0.619, dtype=float16), array(0.2292, dtype=float16), array(0.6694, dtype=float16), array(0.7563, dtype=float16), array(0.6777, dtype=float16), array(0.257, dtype=float16), array(0.584, dtype=float16), array(0.722, dtype=float16), array(0.6167, dtype=float16), array(0.6343, dtype=float16), array(0.656, dtype=float16), array(0.637, dtype=float16), array(0.5996, dtype=float16), array(0.5776, dtype=float16), array(0.7563, dtype=float16), array(0.8486, dtype=float16), array(0.6533, dtype=float16), array(0.616, dtype=float16), array(0.698, dtype=float16), array(0.6377, dtype=float16), array(0.684, dtype=float16), array(0.7305, dtype=float16), array(0.78, dtype=float16), array(0.71, dtype=float16), array(0.7725, dtype=float16), array(0.726, dtype=float16), array(0.7246, dtype=float16), array(0.7363, dtype=float16), array(0.7666, dtype=float16), array(0.7495, dtype=float16), array(0.786, dtype=float16), array(0.5757, dtype=float16), array(0.6094, dtype=float16), array(0.6973, dtype=float16), array(0.648, dtype=float16), array(0.7095, dtype=float16), array(0.7017, dtype=float16), array(0.467, dtype=float16), array(0.393, dtype=float16), array(0.717, dtype=float16), array(0.7437, dtype=float16), array(0.7305, dtype=float16), array(0.652, dtype=float16), array(0.651, dtype=float16), array(0.8975, dtype=float16), array(0.701, dtype=float16), array(0.734, dtype=float16), array(0.6387, dtype=float16), array(0.623, dtype=float16), array(0.2952, dtype=float16), array(0.667, dtype=float16), array(0.7334, dtype=float16), array(0.7397, dtype=float16), array(0.7314, dtype=float16), array(0.3193, dtype=float16), array(0.3296, dtype=float16), array(0.4746, dtype=float16), array(0.5874, dtype=float16), array(0.4514, dtype=float16), array(0.2466, dtype=float16), array(0.797, dtype=float16), array(0.6416, dtype=float16), array(0.0307, dtype=float16), array(0.1265, dtype=float16), array(0.8784, dtype=float16), array(0.6777, dtype=float16), array(0.7705, dtype=float16), array(0.4272, dtype=float16), array(0.5674, dtype=float16), array(0.6094, dtype=float16), array(0.647, dtype=float16), array(0.868, dtype=float16), array(0.6753, dtype=float16), array(0.3218, dtype=float16), array(0.7485, dtype=float16), array(0.681, dtype=float16), array(0.6616, dtype=float16), array(0.301, dtype=float16), array(0.7476, dtype=float16), array(0.615, dtype=float16), array(0.674, dtype=float16), array(0.714, dtype=float16), array(0.6553, dtype=float16), array(0.6177, dtype=float16), array(0.5527, dtype=float16), array(0.04404, dtype=float16), array(0.2438, dtype=float16), array(0.702, dtype=float16), array(0.683, dtype=float16), array(0.2325, dtype=float16), array(0.3071, dtype=float16), array(0.755, dtype=float16), array(0.7603, dtype=float16), array(0.857, dtype=float16), array(0.8867, dtype=float16), array(0.534, dtype=float16), array(0.1915, dtype=float16), array(0.279, dtype=float16), array(0.06964, dtype=float16), array(0.7666, dtype=float16), array(0.726, dtype=float16), array(0.576, dtype=float16), array(0.6816, dtype=float16), array(0.7495, dtype=float16), array(0.7505, dtype=float16), array(0.2424, dtype=float16), array(0.9365, dtype=float16), array(0.9253, dtype=float16), array(0.3577, dtype=float16), array(0.6743, dtype=float16), array(0.662, dtype=float16), array(0.6255, dtype=float16), array(0.673, dtype=float16), array(0.5874, dtype=float16), array(0.676, dtype=float16), array(0.632, dtype=float16), array(0.67, dtype=float16), array(0.6157, dtype=float16), array(0.6357, dtype=float16), array(0.631, dtype=float16), array(0.698, dtype=float16), array(0.6743, dtype=float16), array(0.6143, dtype=float16), array(0.6216, dtype=float16), array(0.618, dtype=float16), array(0.623, dtype=float16), array(0.6426, dtype=float16), array(0.554, dtype=float16), array(0.5806, dtype=float16), array(0.6, dtype=float16), array(0.6167, dtype=float16), array(0.613, dtype=float16), array(0.6465, dtype=float16), array(0.6714, dtype=float16), array(0.6587, dtype=float16), array(0.7197, dtype=float16), array(0.653, dtype=float16), array(0.63, dtype=float16), array(0.657, dtype=float16), array(0.628, dtype=float16), array(0.7793, dtype=float16), array(0.662, dtype=float16), array(0.5723, dtype=float16), array(0.3665, dtype=float16), array(0.6826, dtype=float16), array(0.649, dtype=float16), array(0.63, dtype=float16), array(0.8516, dtype=float16), array(0.8716, dtype=float16), array(0.7217, dtype=float16), array(0.681, dtype=float16), array(0.677, dtype=float16), array(0.708, dtype=float16), array(0.8125, dtype=float16), array(0.2463, dtype=float16), array(0.2432, dtype=float16), array(0.6084, dtype=float16), array(0.6587, dtype=float16), array(0.7285, dtype=float16), array(0.8228, dtype=float16), array(0.6187, dtype=float16), array(0.5723, dtype=float16), array(0.719, dtype=float16), array(0.2279, dtype=float16), array(0.2722, dtype=float16), array(0.0784, dtype=float16), array(0.719, dtype=float16), array(0.657, dtype=float16), array(0.679, dtype=float16), array(0.633, dtype=float16), array(0.653, dtype=float16), array(0.596, dtype=float16), array(0.6177, dtype=float16), array(0.611, dtype=float16), array(0.5005, dtype=float16), array(0.6753, dtype=float16), array(0.659, dtype=float16), array(0.619, dtype=float16), array(0.615, dtype=float16), array(0.2361, dtype=float16), array(0.1156, dtype=float16), array(0.1981, dtype=float16), array(0.7334, dtype=float16), array(0.653, dtype=float16), array(0.7075, dtype=float16), array(0.8643, dtype=float16), array(0.6704, dtype=float16), array(0.4783, dtype=float16), array(0.4001, dtype=float16), array(0.7705, dtype=float16), array(0.3499, dtype=float16), array(0.789, dtype=float16), array(0.7695, dtype=float16), array(0.69, dtype=float16), array(0.0927, dtype=float16), array(0.6313, dtype=float16), array(0.69, dtype=float16), array(0.781, dtype=float16), array(0.579, dtype=float16), array(0.1307, dtype=float16), array(0.603, dtype=float16), array(0.7534, dtype=float16), array(0.6123, dtype=float16), array(0.222, dtype=float16), array(0.7007, dtype=float16), array(0.6914, dtype=float16), array(0.894, dtype=float16), array(0.673, dtype=float16), array(0.10754, dtype=float16), array(0.664, dtype=float16), array(0.665, dtype=float16), array(0.323, dtype=float16), array(0.8813, dtype=float16), array(0.4578, dtype=float16), array(0.7915, dtype=float16), array(0.3438, dtype=float16), array(0.6313, dtype=float16), array(0.745, dtype=float16), array(0.676, dtype=float16), array(0.65, dtype=float16), array(0.828, dtype=float16), array(0.6777, dtype=float16), array(0.36, dtype=float16), array(0.8633, dtype=float16), array(0.7495, dtype=float16), array(0.3787, dtype=float16), array(0.2327, dtype=float16), array(0.2542, dtype=float16), array(0.2695, dtype=float16), array(0.01405, dtype=float16), array(0.741, dtype=float16), array(0.469, dtype=float16), array(0.1774, dtype=float16), array(0.4932, dtype=float16), array(0.3232, dtype=float16), array(0.5454, dtype=float16), array(0.8945, dtype=float16), array(0.6187, dtype=float16), array(0.6934, dtype=float16), array(0.8154, dtype=float16), array(0.728, dtype=float16), array(0.4575, dtype=float16), array(0.842, dtype=float16), array(0.4907, dtype=float16), array(0.302, dtype=float16), array(0.5933, dtype=float16), array(0.9067, dtype=float16), array(0.8643, dtype=float16), array(0.754, dtype=float16), array(0.66, dtype=float16), array(0.742, dtype=float16), array(0.592, dtype=float16), array(0.6934, dtype=float16), array(0.671, dtype=float16), array(0.238, dtype=float16), array(0.68, dtype=float16), array(0.7446, dtype=float16), array(0.2646, dtype=float16), array(0.762, dtype=float16), array(0.966, dtype=float16), array(0.6465, dtype=float16), array(0.676, dtype=float16), array(0.6235, dtype=float16), array(0.4268, dtype=float16), array(0.55, dtype=float16), array(0.6606, dtype=float16), array(0.1537, dtype=float16), array(0.4011, dtype=float16), array(0.834, dtype=float16), array(0.7295, dtype=float16), array(0.3237, dtype=float16), array(0.6323, dtype=float16), array(0.3606, dtype=float16), array(0.7153, dtype=float16), array(0.7603, dtype=float16), array(0.1216, dtype=float16), array(0.1191, dtype=float16), array(0.6304, dtype=float16), array(0.601, dtype=float16), array(0.594, dtype=float16), array(0.723, dtype=float16), array(0.889, dtype=float16), array(0.745, dtype=float16), array(0.0868, dtype=float16), array(0.62, dtype=float16), array(0.886, dtype=float16), array(0.1588, dtype=float16), array(0.526, dtype=float16), array(0.6865, dtype=float16), array(0.737, dtype=float16), array(0.709, dtype=float16), array(0.5845, dtype=float16), array(0.723, dtype=float16), array(0.5063, dtype=float16), array(0.7476, dtype=float16), array(0.6675, dtype=float16), array(0.4263, dtype=float16), array(0.51, dtype=float16), array(0.6924, dtype=float16), array(0.654, dtype=float16), array(0.737, dtype=float16), array(0.692, dtype=float16), array(0.4702, dtype=float16), array(0.644, dtype=float16), array(0.5923, dtype=float16), array(0.771, dtype=float16), array(0.2751, dtype=float16), array(0.7056, dtype=float16), array(0.627, dtype=float16), array(0.72, dtype=float16), array(0.656, dtype=float16), array(0.741, dtype=float16), array(0.3154, dtype=float16), array(0.666, dtype=float16), array(0.6924, dtype=float16), array(0.681, dtype=float16), array(0.7554, dtype=float16), array(0.575, dtype=float16), array(0.741, dtype=float16), array(0.2837, dtype=float16), array(0.8364, dtype=float16), array(0.699, dtype=float16), array(0.699, dtype=float16), array(0.0553, dtype=float16), array(0.3618, dtype=float16), array(0.6465, dtype=float16), array(0.1414, dtype=float16), array(0.713, dtype=float16), array(0.4636, dtype=float16), array(0.3113, dtype=float16), array(0.3577, dtype=float16), array(0.3142, dtype=float16), array(0.07825, dtype=float16), array(0.8228, dtype=float16), array(0.715, dtype=float16), array(0.579, dtype=float16), array(0.715, dtype=float16), array(0.431, dtype=float16), array(0.2803, dtype=float16), array(0.2844, dtype=float16), array(0.6826, dtype=float16), array(0.681, dtype=float16), array(0.8413, dtype=float16), array(0.4585, dtype=float16), array(0.4368, dtype=float16), array(0.457, dtype=float16), array(0.402, dtype=float16), array(0.677, dtype=float16), array(0.7095, dtype=float16), array(0.7495, dtype=float16), array(0.6836, dtype=float16), array(0.579, dtype=float16), array(0.309, dtype=float16), array(0.929, dtype=float16), array(0.8022, dtype=float16), array(0.725, dtype=float16), array(0.7046, dtype=float16), array(0.4612, dtype=float16), array(0.7656, dtype=float16), array(0.5864, dtype=float16), array(0.3313, dtype=float16), array(0.1599, dtype=float16), array(0.5503, dtype=float16), array(0.7505, dtype=float16), array(0.6504, dtype=float16), array(0.7896, dtype=float16), array(0.7544, dtype=float16), array(0.7983, dtype=float16), array(0.6934, dtype=float16), array(0.614, dtype=float16), array(0.6196, dtype=float16), array(0.6616, dtype=float16), array(0.628, dtype=float16), array(0.7134, dtype=float16), array(0.6665, dtype=float16), array(0.6343, dtype=float16), array(0.689, dtype=float16), array(0.6074, dtype=float16), array(0.7085, dtype=float16), array(0.2454, dtype=float16), array(0.7944, dtype=float16), array(0.521, dtype=float16), array(0.5063, dtype=float16), array(0.349, dtype=float16), array(0.086, dtype=float16), array(0.709, dtype=float16), array(0.686, dtype=float16), array(0.6387, dtype=float16), array(0.1368, dtype=float16), array(0.658, dtype=float16), array(0.3525, dtype=float16), array(0.6416, dtype=float16), array(0.659, dtype=float16), array(0.673, dtype=float16), array(0.752, dtype=float16), array(0.7007, dtype=float16), array(0.3733, dtype=float16), array(0.1177, dtype=float16), array(0.6553, dtype=float16), array(0.787, dtype=float16), array(0.6885, dtype=float16), array(0.3992, dtype=float16), array(0.3572, dtype=float16), array(0.7856, dtype=float16), array(0.11725, dtype=float16), array(0.2947, dtype=float16), array(0.776, dtype=float16), array(0.792, dtype=float16), array(0.7285, dtype=float16), array(0.726, dtype=float16), array(0.1663, dtype=float16), array(0.6724, dtype=float16), array(0.606, dtype=float16), array(0.1865, dtype=float16), array(0.6177, dtype=float16), array(0.662, dtype=float16), array(0.5483, dtype=float16), array(0.643, dtype=float16), array(0.6655, dtype=float16), array(0.641, dtype=float16), array(0.7046, dtype=float16), array(0.657, dtype=float16), array(0.634, dtype=float16), array(0.738, dtype=float16), array(0.6973, dtype=float16), array(0.7188, dtype=float16), array(0.661, dtype=float16), array(0.74, dtype=float16), array(0.7134, dtype=float16), array(0.685, dtype=float16), array(0.415, dtype=float16), array(0.558, dtype=float16), array(0.542, dtype=float16), array(0.609, dtype=float16), array(0.6763, dtype=float16), array(0.2874, dtype=float16), array(0.617, dtype=float16), array(0.75, dtype=float16), array(0.707, dtype=float16), array(0.6724, dtype=float16), array(0.708, dtype=float16), array(0.1554, dtype=float16), array(0.764, dtype=float16), array(0.6733, dtype=float16), array(0.772, dtype=float16), array(0.659, dtype=float16), array(0.649, dtype=float16), array(0.2184, dtype=float16), array(0.7485, dtype=float16), array(0.1532, dtype=float16), array(0.3616, dtype=float16), array(0.506, dtype=float16), array(0.7495, dtype=float16), array(0.7363, dtype=float16), array(0.8364, dtype=float16), array(0.4788, dtype=float16), array(0.6646, dtype=float16), array(0.596, dtype=float16), array(0.5654, dtype=float16), array(0.8213, dtype=float16), array(0.726, dtype=float16), array(0.7075, dtype=float16), array(0.297, dtype=float16), array(0.4602, dtype=float16), array(0.7695, dtype=float16), array(0.7144, dtype=float16), array(0.5366, dtype=float16), array(0.6016, dtype=float16), array(0.4778, dtype=float16), array(0.7305, dtype=float16), array(0.648, dtype=float16), array(0.5737, dtype=float16), array(0.0449, dtype=float16), array(0.701, dtype=float16), array(0.533, dtype=float16), array(0.545, dtype=float16), array(0.87, dtype=float16), array(0.654, dtype=float16), array(0.551, dtype=float16), array(0.0613, dtype=float16), array(0.8623, dtype=float16), array(0.2622, dtype=float16), array(0.252, dtype=float16), array(0.517, dtype=float16), array(0.368, dtype=float16), array(0.4136, dtype=float16), array(0.7427, dtype=float16), array(0.772, dtype=float16), array(0.6064, dtype=float16), array(0.0891, dtype=float16), array(0.4014, dtype=float16), array(0.5933, dtype=float16), array(0.2487, dtype=float16), array(0.7026, dtype=float16), array(0.432, dtype=float16), array(0.4263, dtype=float16), array(0.8486, dtype=float16), array(0.551, dtype=float16), array(0.652, dtype=float16), array(0.887, dtype=float16), array(0.3914, dtype=float16), array(0.2007, dtype=float16), array(0.1951, dtype=float16), array(0.6685, dtype=float16), array(0.1129, dtype=float16), array(0.1755, dtype=float16), array(0.6626, dtype=float16), array(0.404, dtype=float16), array(0.731, dtype=float16), array(0.904, dtype=float16), array(0.693, dtype=float16), array(0.6533, dtype=float16), array(0.6606, dtype=float16), array(0.3, dtype=float16), array(0.1887, dtype=float16), array(0.6655, dtype=float16), array(0.6025, dtype=float16), array(0.671, dtype=float16), array(0.7485, dtype=float16), array(0.6104, dtype=float16), array(0.5835, dtype=float16), array(0.07764, dtype=float16), array(0.5537, dtype=float16), array(0.6665, dtype=float16), array(0.6357, dtype=float16), array(0.6396, dtype=float16), array(0.668, dtype=float16), array(0.1627, dtype=float16), array(0.954, dtype=float16), array(0.5625, dtype=float16), array(0.69, dtype=float16), array(0.6006, dtype=float16), array(0.6475, dtype=float16), array(0.82, dtype=float16), array(0.678, dtype=float16), array(0.658, dtype=float16), array(0.6484, dtype=float16), array(0.6733, dtype=float16), array(0.728, dtype=float16), array(0.7085, dtype=float16), array(0.6895, dtype=float16), array(0.8027, dtype=float16), array(0.618, dtype=float16), array(0.6353, dtype=float16), array(0.645, dtype=float16), array(0.682, dtype=float16), array(0.134, dtype=float16), array(0.5435, dtype=float16), array(0.666, dtype=float16), array(0.4995, dtype=float16), array(0.707, dtype=float16), array(0.7954, dtype=float16), array(0.7056, dtype=float16), array(0.613, dtype=float16), array(0.7, dtype=float16), array(0.696, dtype=float16), array(0.8657, dtype=float16), array(0.1521, dtype=float16), array(0.6426, dtype=float16), array(0.666, dtype=float16), array(0.309, dtype=float16), array(0.91, dtype=float16), array(0.6514, dtype=float16), array(0.762, dtype=float16), array(0.602, dtype=float16), array(0.6504, dtype=float16), array(0.5835, dtype=float16), array(0.6855, dtype=float16), array(0.596, dtype=float16), array(0.811, dtype=float16), array(0.1058, dtype=float16), array(0.5405, dtype=float16), array(0.6973, dtype=float16), array(0.6353, dtype=float16), array(0.5405, dtype=float16), array(0.728, dtype=float16), array(0.09534, dtype=float16), array(0.7183, dtype=float16), array(0.7334, dtype=float16), array(0.8296, dtype=float16), array(0.6523, dtype=float16), array(0.545, dtype=float16), array(0.4856, dtype=float16), array(0.677, dtype=float16), array(0.0437, dtype=float16), array(0.1998, dtype=float16), array(0.6943, dtype=float16), array(0.663, dtype=float16), array(0.6787, dtype=float16), array(0.652, dtype=float16), array(0.3052, dtype=float16), array(0.7207, dtype=float16), array(0.725, dtype=float16), array(0.0389, dtype=float16), array(0.2595, dtype=float16), array(0.6675, dtype=float16), array(0.2168, dtype=float16), array(0.1605, dtype=float16), array(0.6953, dtype=float16), array(0.677, dtype=float16), array(0.703, dtype=float16), array(0.579, dtype=float16), array(0.0526, dtype=float16), array(0.6094, dtype=float16), array(0.8403, dtype=float16), array(0.6636, dtype=float16), array(0.719, dtype=float16), array(0.6235, dtype=float16), array(0.635, dtype=float16), array(0.681, dtype=float16), array(0.6475, dtype=float16), array(0.617, dtype=float16), array(0.542, dtype=float16), array(0.4536, dtype=float16), array(0.2185, dtype=float16), array(0.675, dtype=float16), array(0.8774, dtype=float16), array(0.562, dtype=float16), array(0.321, dtype=float16), array(0.59, dtype=float16), array(0.662, dtype=float16), array(0.595, dtype=float16), array(0.683, dtype=float16), array(0.7466, dtype=float16), array(0.7573, dtype=float16), array(0.728, dtype=float16), array(0.655, dtype=float16), array(0.7227, dtype=float16), array(0.7417, dtype=float16), array(0.7656, dtype=float16), array(0.96, dtype=float16), array(0.5044, dtype=float16), array(0.6616, dtype=float16), array(0.707, dtype=float16), array(0.739, dtype=float16), array(0.732, dtype=float16), array(0.693, dtype=float16), array(0.589, dtype=float16), array(0.1863, dtype=float16), array(0.31, dtype=float16), array(0.674, dtype=float16), array(0.738, dtype=float16), array(0.721, dtype=float16), array(0.6963, dtype=float16), array(0.751, dtype=float16), array(0.4453, dtype=float16), array(0.4353, dtype=float16), array(0.7036, dtype=float16), array(0.807, dtype=float16), array(0.4607, dtype=float16), array(0.7124, dtype=float16), array(0.762, dtype=float16), array(0.646, dtype=float16), array(0.4946, dtype=float16), array(0.513, dtype=float16), array(0.2769, dtype=float16), array(0.7295, dtype=float16), array(0.6445, dtype=float16), array(0.672, dtype=float16), array(0.625, dtype=float16), array(0.2305, dtype=float16), array(0.7603, dtype=float16), array(0.4946, dtype=float16), array(0.731, dtype=float16), array(0.6606, dtype=float16), array(0.4607, dtype=float16), array(0.3914, dtype=float16), array(0.4026, dtype=float16), array(0.6797, dtype=float16), array(0.3599, dtype=float16), array(0.7476, dtype=float16), array(0.712, dtype=float16), array(0.5107, dtype=float16), array(0.7505, dtype=float16), array(0.7896, dtype=float16), array(0.511, dtype=float16), array(0.7197, dtype=float16), array(0.8027, dtype=float16), array(0.8022, dtype=float16), array(0.7124, dtype=float16), array(0.7456, dtype=float16), array(0.693, dtype=float16), array(0.724, dtype=float16), array(0.679, dtype=float16), array(0.591, dtype=float16), array(0.4429, dtype=float16), array(0.798, dtype=float16), array(0.7275, dtype=float16), array(0.7695, dtype=float16), array(0.712, dtype=float16), array(0.8965, dtype=float16), array(0.7856, dtype=float16), array(0.7363, dtype=float16), array(0.1395, dtype=float16), array(0.4807, dtype=float16), array(0.7476, dtype=float16), array(0.7983, dtype=float16), array(0.273, dtype=float16), array(0.7036, dtype=float16), array(0.5347, dtype=float16), array(0.3047, dtype=float16), array(0.679, dtype=float16), array(0.652, dtype=float16), array(0.7383, dtype=float16), array(0.317, dtype=float16), array(0.602, dtype=float16), array(0.0835, dtype=float16), array(0.0755, dtype=float16), array(0.6616, dtype=float16), array(0.7324, dtype=float16), array(0.574, dtype=float16), array(0.6787, dtype=float16), array(0.6675, dtype=float16), array(0.635, dtype=float16), array(0.6665, dtype=float16), array(0.687, dtype=float16), array(0.1726, dtype=float16), array(0.2264, dtype=float16), array(0.6147, dtype=float16), array(0.562, dtype=float16), array(0.596, dtype=float16), array(0.8237, dtype=float16), array(0.6885, dtype=float16), array(0.6797, dtype=float16), array(0.541, dtype=float16), array(0.553, dtype=float16), array(0.7256, dtype=float16), array(0.1041, dtype=float16), array(0.3635, dtype=float16), array(0.2024, dtype=float16), array(0.7954, dtype=float16), array(0.04068, dtype=float16), array(0.1471, dtype=float16), array(0.2057, dtype=float16), array(0.6445, dtype=float16), array(0.2798, dtype=float16), array(0.624, dtype=float16), array(0.6885, dtype=float16), array(0.6694, dtype=float16), array(0.348, dtype=float16), array(0.11334, dtype=float16), array(0.3135, dtype=float16), array(0.753, dtype=float16), array(0.594, dtype=float16), array(0.679, dtype=float16), array(0.7197, dtype=float16), array(0.675, dtype=float16), array(0.2578, dtype=float16), array(0.2108, dtype=float16), array(0.626, dtype=float16), array(0.744, dtype=float16), array(0.704, dtype=float16), array(0.7485, dtype=float16), array(0.726, dtype=float16), array(0.797, dtype=float16), array(0.4888, dtype=float16), array(0.753, dtype=float16), array(0.8643, dtype=float16), array(0.695, dtype=float16), array(0.0974, dtype=float16), array(0.2349, dtype=float16), array(0.73, dtype=float16), array(0.3926, dtype=float16), array(0.2383, dtype=float16), array(0.804, dtype=float16), array(0.721, dtype=float16), array(0.8247, dtype=float16), array(0.543, dtype=float16), array(0.6655, dtype=float16), array(0.3762, dtype=float16), array(0.6294, dtype=float16), array(0.06012, dtype=float16), array(0.288, dtype=float16), array(0.4294, dtype=float16), array(0.2842, dtype=float16), array(0.2174, dtype=float16), array(0.1338, dtype=float16), array(0.688, dtype=float16), array(0.3364, dtype=float16), array(0.2695, dtype=float16), array(0.6626, dtype=float16), array(0.629, dtype=float16), array(0.7144, dtype=float16), array(0.6113, dtype=float16), array(0.9653, dtype=float16), array(0.735, dtype=float16), array(0.7188, dtype=float16), array(0.7524, dtype=float16), array(0.8, dtype=float16), array(0.7676, dtype=float16), array(0.7627, dtype=float16), array(0.6577, dtype=float16), array(0.691, dtype=float16), array(0.646, dtype=float16), array(0.739, dtype=float16), array(0.6553, dtype=float16), array(0.7036, dtype=float16), array(0.6235, dtype=float16), array(0.455, dtype=float16), array(0.7144, dtype=float16), array(0.619, dtype=float16), array(0.532, dtype=float16), array(0.723, dtype=float16), array(0.6934, dtype=float16), array(0.4663, dtype=float16), array(0.7495, dtype=float16), array(0.4631, dtype=float16), array(0.6816, dtype=float16), array(0.4868, dtype=float16), array(0.2358, dtype=float16), array(0.07166, dtype=float16), array(0.58, dtype=float16), array(0.752, dtype=float16), array(0.717, dtype=float16), array(0.79, dtype=float16), array(0.683, dtype=float16), array(0.6885, dtype=float16), array(0.4175, dtype=float16), array(0.4968, dtype=float16), array(0.62, dtype=float16), array(0.723, dtype=float16), array(0.7114, dtype=float16), array(0.568, dtype=float16), array(0.627, dtype=float16), array(0.754, dtype=float16), array(0.2869, dtype=float16), array(0.9097, dtype=float16), array(0.709, dtype=float16), array(0.0631, dtype=float16), array(0.2133, dtype=float16), array(0.6445, dtype=float16), array(0.2236, dtype=float16), array(0.8203, dtype=float16), array(0.6846, dtype=float16), array(0.7236, dtype=float16), array(0.6543, dtype=float16), array(0.621, dtype=float16), array(0.1528, dtype=float16), array(0.6885, dtype=float16), array(0.791, dtype=float16), array(0.2222, dtype=float16), array(0.551, dtype=float16), array(0.5327, dtype=float16), array(0.857, dtype=float16), array(0.691, dtype=float16), array(0.578, dtype=float16), array(0.6226, dtype=float16), array(0.39, dtype=float16), array(0.438, dtype=float16), array(0.2252, dtype=float16), array(0.62, dtype=float16), array(0.3953, dtype=float16), array(0.6914, dtype=float16), array(0.66, dtype=float16), array(0.5605, dtype=float16), array(0.626, dtype=float16), array(0.635, dtype=float16), array(0.6953, dtype=float16), array(0.6836, dtype=float16), array(0.631, dtype=float16), array(0.807, dtype=float16), array(0.321, dtype=float16), array(0.0607, dtype=float16), array(0.526, dtype=float16), array(0.613, dtype=float16), array(0.683, dtype=float16), array(0.7764, dtype=float16), array(0.6763, dtype=float16), array(0.616, dtype=float16), array(0.9624, dtype=float16), array(0.6567, dtype=float16), array(0.7617, dtype=float16), array(0.8013, dtype=float16), array(0.769, dtype=float16), array(0.6655, dtype=float16), array(0.749, dtype=float16), array(0.4297, dtype=float16), array(0.666, dtype=float16), array(0.6733, dtype=float16), array(0.787, dtype=float16), array(0.7144, dtype=float16), array(0.2822, dtype=float16), array(0.7266, dtype=float16), array(0.4106, dtype=float16), array(0.7505, dtype=float16), array(0.631, dtype=float16), array(0.7124, dtype=float16), array(0.7056, dtype=float16), array(0.742, dtype=float16), array(0.716, dtype=float16), array(0.2625, dtype=float16), array(0.4353, dtype=float16), array(0.6543, dtype=float16), array(0.6577, dtype=float16), array(0.676, dtype=float16), array(0.6895, dtype=float16), array(0.1284, dtype=float16), array(0.948, dtype=float16), array(0.846, dtype=float16), array(0.8228, dtype=float16), array(0.2456, dtype=float16), array(0.743, dtype=float16), array(0.802, dtype=float16), array(0.5947, dtype=float16), array(0.6367, dtype=float16), array(0.7036, dtype=float16), array(0.608, dtype=float16), array(0.6743, dtype=float16), array(0.6006, dtype=float16), array(0.68, dtype=float16), array(0.7, dtype=float16), array(0.955, dtype=float16), array(0.7344, dtype=float16), array(0.5415, dtype=float16), array(0.3875, dtype=float16), array(0.764, dtype=float16), array(0.11743, dtype=float16), array(0.7114, dtype=float16), array(0.575, dtype=float16), array(0.9688, dtype=float16), array(0.688, dtype=float16), array(0.756, dtype=float16), array(0.7173, dtype=float16), array(0.591, dtype=float16), array(0.3691, dtype=float16), array(0.6616, dtype=float16), array(0.714, dtype=float16), array(0.2715, dtype=float16), array(0.3066, dtype=float16), array(0.7734, dtype=float16), array(0.628, dtype=float16), array(0.7666, dtype=float16), array(0.6533, dtype=float16), array(0.7334, dtype=float16), array(0.7314, dtype=float16), array(0.337, dtype=float16), array(0.616, dtype=float16), array(0.699, dtype=float16), array(0.257, dtype=float16), array(0.4102, dtype=float16), array(0.7393, dtype=float16), array(0.505, dtype=float16), array(0.7344, dtype=float16), array(0.277, dtype=float16), array(0.1102, dtype=float16), array(0.2795, dtype=float16), array(0.7114, dtype=float16), array(0.409, dtype=float16), array(0.725, dtype=float16), array(0.875, dtype=float16), array(0.135, dtype=float16), array(0.6904, dtype=float16), array(0.7773, dtype=float16), array(0.7085, dtype=float16), array(0.647, dtype=float16), array(0.747, dtype=float16), array(0.2563, dtype=float16), array(0.71, dtype=float16), array(0.6978, dtype=float16), array(0.1332, dtype=float16), array(0.7495, dtype=float16), array(0.8184, dtype=float16), array(0.6963, dtype=float16), array(0.661, dtype=float16), array(0.614, dtype=float16), array(0.437, dtype=float16), array(0.203, dtype=float16), array(0.3445, dtype=float16), array(0.3547, dtype=float16), array(0.0747, dtype=float16), array(0.4883, dtype=float16), array(0.61, dtype=float16), array(0.6147, dtype=float16), array(0.642, dtype=float16), array(0.6553, dtype=float16), array(0.6777, dtype=float16), array(0.4175, dtype=float16), array(0.8853, dtype=float16), array(0.3628, dtype=float16), array(0.6504, dtype=float16), array(0.704, dtype=float16), array(0.6914, dtype=float16), array(0.1399, dtype=float16), array(0.07434, dtype=float16), array(0.75, dtype=float16), array(0.2769, dtype=float16), array(0.7676, dtype=float16), array(0.7017, dtype=float16), array(0.782, dtype=float16), array(0.11304, dtype=float16), array(0.3108, dtype=float16), array(0.7173, dtype=float16), array(0.5977, dtype=float16), array(0.7217, dtype=float16), array(0.12286, dtype=float16), array(0.6543, dtype=float16), array(0.6445, dtype=float16), array(0.656, dtype=float16), array(0.68, dtype=float16), array(0.6133, dtype=float16), array(0.6816, dtype=float16), array(0.10364, dtype=float16), array(0.7764, dtype=float16), array(0.7007, dtype=float16), array(0.738, dtype=float16), array(0.647, dtype=float16), array(0.638, dtype=float16), array(0.1958, dtype=float16), array(0.226, dtype=float16), array(0.73, dtype=float16), array(0.651, dtype=float16), array(0.791, dtype=float16), array(0.722, dtype=float16), array(0.6826, dtype=float16), array(0.844, dtype=float16), array(0.6626, dtype=float16), array(0.311, dtype=float16), array(0.816, dtype=float16), array(0.584, dtype=float16), array(0.7866, dtype=float16), array(0.3855, dtype=float16), array(0.729, dtype=float16), array(0.6787, dtype=float16), array(0.6714, dtype=float16), array(0.5264, dtype=float16), array(0.621, dtype=float16), array(0.656, dtype=float16), array(0.9453, dtype=float16), array(0.569, dtype=float16), array(0.4536, dtype=float16), array(0.4155, dtype=float16), array(0.7896, dtype=float16), array(0.748, dtype=float16), array(0.4573, dtype=float16), array(0.8853, dtype=float16), array(0.871, dtype=float16), array(0.289, dtype=float16), array(0.825, dtype=float16), array(0.815, dtype=float16), array(0.2123, dtype=float16), array(0.543, dtype=float16), array(0.6147, dtype=float16), array(0.686, dtype=float16), array(0.699, dtype=float16), array(0.692, dtype=float16), array(0.714, dtype=float16), array(0.2294, dtype=float16), array(0.639, dtype=float16), array(0.702, dtype=float16), array(0.8145, dtype=float16), array(0.899, dtype=float16), array(0.5195, dtype=float16), array(0.859, dtype=float16), array(0.72, dtype=float16), array(0.449, dtype=float16), array(0.9033, dtype=float16), array(0.7305, dtype=float16), array(0.2052, dtype=float16), array(0.6333, dtype=float16), array(0.7524, dtype=float16), array(0.1715, dtype=float16), array(0.3228, dtype=float16), array(0.825, dtype=float16), array(0.7183, dtype=float16), array(0.2073, dtype=float16), array(0.617, dtype=float16), array(0.704, dtype=float16), array(0.2854, dtype=float16), array(0.0949, dtype=float16), array(0.4243, dtype=float16), array(0.6855, dtype=float16), array(0.6973, dtype=float16), array(0.1093, dtype=float16), array(0.7, dtype=float16), array(0.6494, dtype=float16), array(0.667, dtype=float16), array(0.2837, dtype=float16), array(0.9214, dtype=float16), array(0.1641, dtype=float16), array(0.5225, dtype=float16), array(0.702, dtype=float16), array(0.9536, dtype=float16), array(0.1587, dtype=float16), array(0.9414, dtype=float16), array(0.6953, dtype=float16), array(0.713, dtype=float16), array(0.6694, dtype=float16), array(0.6504, dtype=float16), array(0.661, dtype=float16), array(0.6997, dtype=float16), array(0.7095, dtype=float16), array(0.0425, dtype=float16), array(0.606, dtype=float16), array(0.657, dtype=float16), array(0.6733, dtype=float16), array(0.891, dtype=float16), array(0.719, dtype=float16), array(0.6816, dtype=float16), array(0.6533, dtype=float16), array(0.6484, dtype=float16), array(0.724, dtype=float16), array(0.595, dtype=float16), array(0.6187, dtype=float16), array(0.6865, dtype=float16), array(0.721, dtype=float16), array(0.818, dtype=float16), array(0.108, dtype=float16), array(0.7236, dtype=float16), array(0.583, dtype=float16), array(0.7188, dtype=float16), array(0.5405, dtype=float16), array(0.5054, dtype=float16), array(0.712, dtype=float16), array(0.4758, dtype=float16), array(0.745, dtype=float16), array(0.3665, dtype=float16), array(0.798, dtype=float16), array(0.7026, dtype=float16), array(0.5527, dtype=float16), array(0.739, dtype=float16), array(0.6533, dtype=float16), array(0.6826, dtype=float16), array(0.786, dtype=float16), array(0.6484, dtype=float16), array(0.63, dtype=float16), array(0.6797, dtype=float16), array(0.298, dtype=float16), array(0.6807, dtype=float16), array(0.726, dtype=float16), array(0.494, dtype=float16), array(0.1738, dtype=float16), array(0.7935, dtype=float16), array(0.7026, dtype=float16), array(0.53, dtype=float16), array(0.714, dtype=float16), array(0.1873, dtype=float16), array(0.687, dtype=float16), array(0.741, dtype=float16), array(0.669, dtype=float16), array(0.7583, dtype=float16), array(0.774, dtype=float16), array(0.6904, dtype=float16), array(0.676, dtype=float16), array(0.639, dtype=float16), array(0.699, dtype=float16), array(0.7085, dtype=float16), array(0.6646, dtype=float16), array(0.6846, dtype=float16), array(0.6636, dtype=float16), array(0.6436, dtype=float16), array(0.6025, dtype=float16), array(0.6753, dtype=float16), array(0.633, dtype=float16), array(0.6807, dtype=float16), array(0.682, dtype=float16), array(0.6665, dtype=float16), array(0.707, dtype=float16), array(0.6562, dtype=float16), array(0.6943, dtype=float16), array(0.7085, dtype=float16), array(0.634, dtype=float16), array(0.6475, dtype=float16), array(0.6646, dtype=float16), array(0.7095, dtype=float16), array(0.6245, dtype=float16), array(0.765, dtype=float16), array(0.7393, dtype=float16), array(0.663, dtype=float16), array(0.66, dtype=float16), array(0.632, dtype=float16), array(0.6562, dtype=float16), array(0.655, dtype=float16), array(0.6216, dtype=float16), array(0.6836, dtype=float16), array(0.6016, dtype=float16), array(0.7104, dtype=float16), array(0.6665, dtype=float16), array(0.6533, dtype=float16), array(0.6943, dtype=float16), array(0.6973, dtype=float16), array(0.6846, dtype=float16), array(0.6343, dtype=float16), array(0.698, dtype=float16), array(0.7285, dtype=float16), array(0.6973, dtype=float16), array(0.6133, dtype=float16), array(0.6567, dtype=float16), array(0.699, dtype=float16), array(0.699, dtype=float16), array(0.6333, dtype=float16), array(0.6924, dtype=float16), array(0.6772, dtype=float16), array(0.6895, dtype=float16), array(0.672, dtype=float16), array(0.7124, dtype=float16), array(0.737, dtype=float16), array(0.7534, dtype=float16), array(0.7163, dtype=float16), array(0.4583, dtype=float16), array(0.628, dtype=float16), array(0.6475, dtype=float16), array(0.416, dtype=float16), array(0.46, dtype=float16), array(0.6846, dtype=float16), array(0.768, dtype=float16), array(0.674, dtype=float16), array(0.7983, dtype=float16), array(0.791, dtype=float16), array(0.663, dtype=float16), array(0.5654, dtype=float16), array(0.8677, dtype=float16), array(0.3809, dtype=float16), array(0.3591, dtype=float16), array(0.669, dtype=float16), array(0.9375, dtype=float16), array(0.423, dtype=float16), array(0.658, dtype=float16), array(0.4705, dtype=float16), array(0.8716, dtype=float16), array(0.455, dtype=float16), array(0.66, dtype=float16), array(0.3772, dtype=float16), array(0.494, dtype=float16), array(0.5044, dtype=float16), array(0.7617, dtype=float16), array(0.6973, dtype=float16), array(0.512, dtype=float16), array(0.6987, dtype=float16), array(0.315, dtype=float16), array(0.3462, dtype=float16), array(0.4827, dtype=float16), array(0.6104, dtype=float16), array(0.5547, dtype=float16), array(0.1223, dtype=float16), array(0.523, dtype=float16), array(0.671, dtype=float16), array(0.5674, dtype=float16), array(0.613, dtype=float16), array(0.5586, dtype=float16), array(0.8174, dtype=float16), array(0.544, dtype=float16), array(0.6655, dtype=float16), array(0.8604, dtype=float16), array(0.3838, dtype=float16), array(0.5596, dtype=float16), array(0.1462, dtype=float16), array(0.681, dtype=float16), array(0.1478, dtype=float16), array(0.2258, dtype=float16), array(0.6333, dtype=float16), array(0.8022, dtype=float16), array(0.862, dtype=float16), array(0.776, dtype=float16), array(0.667, dtype=float16), array(0.667, dtype=float16), array(0.594, dtype=float16), array(0.6465, dtype=float16), array(0.2944, dtype=float16), array(0.7266, dtype=float16), array(0.68, dtype=float16), array(0.4614, dtype=float16), array(0.662, dtype=float16), array(0.636, dtype=float16), array(0.639, dtype=float16), array(0.6157, dtype=float16), array(0.6987, dtype=float16), array(0.2942, dtype=float16), array(0.6553, dtype=float16), array(0.641, dtype=float16), array(0.4907, dtype=float16), array(0.753, dtype=float16), array(0.10065, dtype=float16), array(0.533, dtype=float16), array(0.1385, dtype=float16), array(0.5757, dtype=float16), array(0.3027, dtype=float16), array(0.662, dtype=float16), array(0.569, dtype=float16), array(0.719, dtype=float16), array(0.2502, dtype=float16), array(0.7764, dtype=float16), array(0.669, dtype=float16), array(0.828, dtype=float16), array(0.723, dtype=float16), array(0.9053, dtype=float16), array(0.6426, dtype=float16), array(0.7007, dtype=float16), array(0.707, dtype=float16), array(0.6562, dtype=float16), array(0.2676, dtype=float16), array(0.7183, dtype=float16), array(0.671, dtype=float16), array(0.6, dtype=float16), array(0.646, dtype=float16), array(0.8774, dtype=float16), array(0.2332, dtype=float16), array(0.2457, dtype=float16), array(0.3218, dtype=float16), array(0.8276, dtype=float16), array(0.6797, dtype=float16), array(0.92, dtype=float16), array(0.3179, dtype=float16), array(0.6836, dtype=float16), array(0.8076, dtype=float16), array(0.7446, dtype=float16), array(0.744, dtype=float16), array(0.0888, dtype=float16), array(0.705, dtype=float16), array(0.7544, dtype=float16), array(0.697, dtype=float16), array(0.652, dtype=float16), array(0.714, dtype=float16), array(0.707, dtype=float16), array(0.6987, dtype=float16), array(0.634, dtype=float16), array(0.707, dtype=float16), array(0.7, dtype=float16), array(0.2222, dtype=float16), array(0.695, dtype=float16), array(0.3447, dtype=float16), array(0.732, dtype=float16), array(0.7236, dtype=float16), array(0.3867, dtype=float16), array(0.5337, dtype=float16), array(0.6016, dtype=float16), array(0.789, dtype=float16), array(0.67, dtype=float16), array(0.6685, dtype=float16), array(0.2812, dtype=float16), array(0.7466, dtype=float16), array(0.8203, dtype=float16), array(0.9434, dtype=float16), array(0.918, dtype=float16), array(0.538, dtype=float16), array(0.585, dtype=float16), array(0.934, dtype=float16), array(0.6445, dtype=float16), array(0.659, dtype=float16), array(0.681, dtype=float16), array(0.6973, dtype=float16), array(0.2817, dtype=float16), array(0.722, dtype=float16), array(0.728, dtype=float16), array(0.784, dtype=float16), array(0.658, dtype=float16), array(0.6313, dtype=float16), array(0.867, dtype=float16), array(0.639, dtype=float16), array(0.561, dtype=float16), array(0.6157, dtype=float16), array(0.5664, dtype=float16), array(0.795, dtype=float16), array(0.1519, dtype=float16), array(0.68, dtype=float16), array(0.713, dtype=float16), array(0.68, dtype=float16), array(0.578, dtype=float16), array(0.653, dtype=float16), array(0.735, dtype=float16), array(0.6826, dtype=float16), array(0.652, dtype=float16), array(0.587, dtype=float16), array(0.7065, dtype=float16), array(0.6685, dtype=float16), array(0.764, dtype=float16), array(0.631, dtype=float16), array(0.7837, dtype=float16), array(0.6567, dtype=float16), array(0.6323, dtype=float16), array(0.7764, dtype=float16), array(0.39, dtype=float16), array(0.777, dtype=float16), array(0.6914, dtype=float16), array(0.6987, dtype=float16), array(0.849, dtype=float16), array(0.6396, dtype=float16), array(0.05804, dtype=float16), array(0.7407, dtype=float16), array(0.636, dtype=float16), array(0.679, dtype=float16), array(0.6367, dtype=float16), array(0.509, dtype=float16), array(0.7466, dtype=float16), array(0.7085, dtype=float16), array(0.7666, dtype=float16), array(0.739, dtype=float16), array(0.6934, dtype=float16), array(0.751, dtype=float16), array(0.2542, dtype=float16), array(0.5996, dtype=float16), array(0.571, dtype=float16), array(0.933, dtype=float16), array(0.6523, dtype=float16), array(0.849, dtype=float16), array(0.05777, dtype=float16), array(0.7695, dtype=float16), array(0.7036, dtype=float16), array(0.683, dtype=float16), array(0.7104, dtype=float16), array(0.7373, dtype=float16), array(0.649, dtype=float16), array(0.6743, dtype=float16), array(0.319, dtype=float16), array(0.7485, dtype=float16), array(0.709, dtype=float16), array(0.47, dtype=float16), array(0.71, dtype=float16), array(0.65, dtype=float16), array(0.7095, dtype=float16), array(0.6377, dtype=float16), array(0.638, dtype=float16), array(0.6274, dtype=float16), array(0.6865, dtype=float16), array(0.711, dtype=float16), array(0.617, dtype=float16), array(0.635, dtype=float16), array(0.6387, dtype=float16), array(0.1593, dtype=float16), array(0.7007, dtype=float16), array(0.659, dtype=float16), array(0.375, dtype=float16), array(0.635, dtype=float16), array(0.6733, dtype=float16), array(0.6274, dtype=float16), array(0.6865, dtype=float16), array(0.679, dtype=float16), array(0.6973, dtype=float16), array(0.6787, dtype=float16), array(0.656, dtype=float16), array(0.772, dtype=float16), array(0.685, dtype=float16), array(0.71, dtype=float16), array(0.7104, dtype=float16), array(0.733, dtype=float16), array(0.6626, dtype=float16), array(0.6685, dtype=float16), array(0.6333, dtype=float16), array(0.7837, dtype=float16), array(0.455, dtype=float16), array(0.2074, dtype=float16), array(0.6475, dtype=float16), array(0.87, dtype=float16), array(0.451, dtype=float16), array(0.7036, dtype=float16), array(0.45, dtype=float16), array(0.1483, dtype=float16), array(0.9033, dtype=float16), array(0.654, dtype=float16), array(0.6445, dtype=float16), array(0.78, dtype=float16), array(0.4124, dtype=float16), array(0.407, dtype=float16), array(0.768, dtype=float16), array(0.6665, dtype=float16), array(0.7476, dtype=float16), array(0.883, dtype=float16), array(0.651, dtype=float16), array(0.422, dtype=float16), array(0.605, dtype=float16), array(0.1465, dtype=float16), array(0.5894, dtype=float16), array(0.679, dtype=float16), array(0.81, dtype=float16), array(0.8643, dtype=float16), array(0.736, dtype=float16), array(0.708, dtype=float16), array(0.679, dtype=float16), array(0.04834, dtype=float16), array(0.2314, dtype=float16), array(0.6777, dtype=float16), array(0.594, dtype=float16), array(0.387, dtype=float16), array(0.7183, dtype=float16), array(0.382, dtype=float16), array(0.5107, dtype=float16), array(0.2754, dtype=float16), array(0.5137, dtype=float16), array(0.9873, dtype=float16), array(0.2073, dtype=float16), array(0.4644, dtype=float16), array(0.8584, dtype=float16), array(0.6055, dtype=float16), array(0.596, dtype=float16), array(0.7124, dtype=float16), array(0.651, dtype=float16), array(0.583, dtype=float16), array(0.1007, dtype=float16), array(0.3171, dtype=float16), array(0.692, dtype=float16), array(0.665, dtype=float16), array(0.6675, dtype=float16), array(0.6675, dtype=float16), array(0.7456, dtype=float16), array(0.6313, dtype=float16), array(0.1952, dtype=float16), array(0.1666, dtype=float16), array(0.6895, dtype=float16), array(0.6787, dtype=float16), array(0.1235, dtype=float16), array(0.728, dtype=float16), array(0.64, dtype=float16), array(0.71, dtype=float16), array(0.591, dtype=float16), array(0.648, dtype=float16), array(0.4824, dtype=float16), array(0.364, dtype=float16), array(0.6406, dtype=float16), array(0.505, dtype=float16), array(0.8047, dtype=float16), array(0.1069, dtype=float16), array(0.6445, dtype=float16), array(0.5938, dtype=float16), array(0.5034, dtype=float16), array(0.9272, dtype=float16), array(0.2744, dtype=float16), array(0.3538, dtype=float16), array(0.3167, dtype=float16), array(0.702, dtype=float16), array(0.642, dtype=float16), array(0.6626, dtype=float16), array(0.8013, dtype=float16), array(0.654, dtype=float16), array(0.7607, dtype=float16), array(0.81, dtype=float16), array(0.7266, dtype=float16), array(0.8037, dtype=float16), array(0.2406, dtype=float16), array(0.1853, dtype=float16), array(0.694, dtype=float16), array(0.636, dtype=float16), array(0.6772, dtype=float16), array(0.58, dtype=float16), array(0.693, dtype=float16), array(0.7363, dtype=float16), array(0.698, dtype=float16), array(0.8574, dtype=float16), array(0.0973, dtype=float16), array(0.6465, dtype=float16), array(0.7183, dtype=float16), array(0.2722, dtype=float16), array(0.631, dtype=float16), array(0.6494, dtype=float16), array(0.1935, dtype=float16), array(0.255, dtype=float16), array(0.593, dtype=float16), array(0.6846, dtype=float16), array(0.2286, dtype=float16), array(0.714, dtype=float16), array(0.4246, dtype=float16), array(0.617, dtype=float16), array(0.858, dtype=float16), array(0.2162, dtype=float16), array(0.361, dtype=float16), array(0.657, dtype=float16), array(0.6235, dtype=float16), array(0.6445, dtype=float16), array(0.7896, dtype=float16), array(0.636, dtype=float16), array(0.469, dtype=float16), array(0.575, dtype=float16), array(0.5537, dtype=float16), array(0.6606, dtype=float16), array(0.413, dtype=float16), array(0.4065, dtype=float16), array(0.6943, dtype=float16), array(0.7383, dtype=float16), array(0.695, dtype=float16), array(0.2886, dtype=float16), array(0.677, dtype=float16), array(0.649, dtype=float16), array(0.701, dtype=float16), array(0.8037, dtype=float16), array(0.652, dtype=float16), array(0.6855, dtype=float16), array(0.725, dtype=float16), array(0.5557, dtype=float16), array(0.75, dtype=float16), array(0.557, dtype=float16), array(0.618, dtype=float16), array(0.6284, dtype=float16), array(0.601, dtype=float16), array(0.7676, dtype=float16), array(0.6685, dtype=float16), array(0.6343, dtype=float16), array(0.641, dtype=float16), array(0.4976, dtype=float16), array(0.4556, dtype=float16), array(0.9336, dtype=float16), array(0.666, dtype=float16), array(0.635, dtype=float16), array(0.752, dtype=float16), array(0.6553, dtype=float16), array(0.669, dtype=float16), array(0.6904, dtype=float16), array(0.1667, dtype=float16), array(0.7075, dtype=float16), array(0.77, dtype=float16), array(0.4011, dtype=float16), array(0.2668, dtype=float16), array(0.6084, dtype=float16), array(0.4292, dtype=float16), array(0.7183, dtype=float16), array(0.3909, dtype=float16), array(0.649, dtype=float16), array(0.928, dtype=float16), array(0.526, dtype=float16), array(0.0467, dtype=float16), array(0.688, dtype=float16), array(0.6704, dtype=float16), array(0.678, dtype=float16), array(0.7686, dtype=float16), array(0.633, dtype=float16), array(0.8423, dtype=float16), array(0.589, dtype=float16), array(0.586, dtype=float16), array(0.6265, dtype=float16), array(0.672, dtype=float16), array(0.1475, dtype=float16), array(0.5923, dtype=float16), array(0.6895, dtype=float16), array(0.6523, dtype=float16), array(0.5854, dtype=float16), array(0.3713, dtype=float16), array(0.7188, dtype=float16), array(0.72, dtype=float16), array(0.1124, dtype=float16), array(0.7, dtype=float16), array(0.2179, dtype=float16), array(0.5737, dtype=float16), array(0.718, dtype=float16), array(0.7856, dtype=float16), array(0.4944, dtype=float16), array(0.287, dtype=float16), array(0.6665, dtype=float16), array(0.278, dtype=float16), array(0.7246, dtype=float16), array(0.6597, dtype=float16), array(0.696, dtype=float16), array(0.9106, dtype=float16), array(0.8037, dtype=float16), array(0.9473, dtype=float16), array(0.893, dtype=float16), array(0.7324, dtype=float16), array(0.657, dtype=float16), array(0.701, dtype=float16), array(0.7407, dtype=float16), array(0.734, dtype=float16), array(0.525, dtype=float16), array(0.7295, dtype=float16), array(0.163, dtype=float16), array(0.1833, dtype=float16), array(0.6733, dtype=float16), array(0.5576, dtype=float16), array(0.6094, dtype=float16), array(0.6226, dtype=float16), array(0.5205, dtype=float16), array(0.3499, dtype=float16), array(0.6577, dtype=float16), array(0.286, dtype=float16), array(0.618, dtype=float16), array(0.95, dtype=float16), array(0.6377, dtype=float16), array(0.689, dtype=float16), array(0.674, dtype=float16), array(0.717, dtype=float16), array(0.6553, dtype=float16), array(0.5444, dtype=float16), array(0.795, dtype=float16), array(0.7007, dtype=float16), array(0.1527, dtype=float16), array(0.742, dtype=float16), array(0.7603, dtype=float16), array(0.694, dtype=float16), array(0.6924, dtype=float16), array(0.08014, dtype=float16), array(0.4854, dtype=float16), array(0.79, dtype=float16), array(0.7573, dtype=float16), array(0.564, dtype=float16), array(0.4736, dtype=float16), array(0.637, dtype=float16), array(0.9473, dtype=float16), array(0.647, dtype=float16), array(0.347, dtype=float16), array(0.6323, dtype=float16), array(0.677, dtype=float16), array(0.6445, dtype=float16), array(0.3088, dtype=float16), array(0.4463, dtype=float16), array(0.7007, dtype=float16), array(0.616, dtype=float16), array(0.7656, dtype=float16), array(0.66, dtype=float16), array(0.514, dtype=float16), array(0.6416, dtype=float16), array(0.659, dtype=float16), array(0.3408, dtype=float16), array(0.4092, dtype=float16), array(0.908, dtype=float16), array(0.645, dtype=float16), array(0.2443, dtype=float16), array(0.2593, dtype=float16), array(0.5996, dtype=float16), array(0.8022, dtype=float16), array(0.4624, dtype=float16), array(0.6567, dtype=float16), array(0.5454, dtype=float16), array(0.746, dtype=float16), array(0.584, dtype=float16), array(0.585, dtype=float16), array(0.699, dtype=float16), array(0.3303, dtype=float16), array(0.5015, dtype=float16), array(0.68, dtype=float16), array(0.686, dtype=float16), array(0.6216, dtype=float16), array(0.052, dtype=float16), array(0.6807, dtype=float16), array(0.5654, dtype=float16), array(0.5537, dtype=float16), array(0.4514, dtype=float16), array(0.559, dtype=float16), array(0.6064, dtype=float16), array(0.216, dtype=float16), array(0.571, dtype=float16), array(0.6294, dtype=float16), array(0.6587, dtype=float16), array(0.605, dtype=float16), array(0.6875, dtype=float16), array(0.8604, dtype=float16), array(0.665, dtype=float16), array(0.743, dtype=float16), array(0.821, dtype=float16), array(0.6733, dtype=float16), array(0.6865, dtype=float16), array(0.788, dtype=float16), array(0.6133, dtype=float16), array(0.3267, dtype=float16), array(0.1301, dtype=float16), array(0.3325, dtype=float16), array(0.746, dtype=float16), array(0.682, dtype=float16), array(0.6616, dtype=float16), array(0.692, dtype=float16), array(0.7524, dtype=float16), array(0.2178, dtype=float16), array(0.7007, dtype=float16), array(0.688, dtype=float16), array(0.7017, dtype=float16), array(0.644, dtype=float16), array(0.688, dtype=float16), array(0.6816, dtype=float16), array(0.662, dtype=float16), array(0.7554, dtype=float16), array(0.2058, dtype=float16), array(0.434, dtype=float16), array(0.725, dtype=float16), array(0.3406, dtype=float16), array(0.7397, dtype=float16), array(0.3303, dtype=float16), array(0.9243, dtype=float16), array(0.66, dtype=float16), array(0.08154, dtype=float16), array(0.6323, dtype=float16), array(0.5366, dtype=float16), array(0.6377, dtype=float16), array(0.7646, dtype=float16), array(0.7246, dtype=float16), array(0.938, dtype=float16), array(0.843, dtype=float16), array(0.599, dtype=float16), array(0.8203, dtype=float16), array(0.96, dtype=float16), array(0.706, dtype=float16), array(0.6978, dtype=float16), array(0.5615, dtype=float16), array(0.6797, dtype=float16), array(0.733, dtype=float16), array(0.7134, dtype=float16), array(0.1694, dtype=float16), array(0.7285, dtype=float16), array(0.654, dtype=float16), array(0.977, dtype=float16), array(0.7026, dtype=float16), array(0.7285, dtype=float16), array(0.8267, dtype=float16), array(0.692, dtype=float16), array(0.6953, dtype=float16), array(0.0932, dtype=float16), array(0.8027, dtype=float16), array(0.937, dtype=float16), array(0.457, dtype=float16), array(0.701, dtype=float16), array(0.759, dtype=float16), array(0.637, dtype=float16), array(0.8027, dtype=float16), array(0.6436, dtype=float16), array(0.895, dtype=float16), array(0.6626, dtype=float16), array(0.4539, dtype=float16), array(0.949, dtype=float16), array(0.745, dtype=float16), array(0.474, dtype=float16), array(0.6294, dtype=float16), array(0.2664, dtype=float16), array(0.3333, dtype=float16), array(0.7666, dtype=float16), array(0.4775, dtype=float16), array(0.9536, dtype=float16), array(0.6143, dtype=float16), array(0.7583, dtype=float16), array(0.725, dtype=float16), array(0.6875, dtype=float16), array(0.763, dtype=float16), array(0.66, dtype=float16), array(0.716, dtype=float16), array(0.711, dtype=float16), array(0.7075, dtype=float16), array(0.6836, dtype=float16), array(0.6494, dtype=float16), array(0.6406, dtype=float16), array(0.651, dtype=float16), array(0.681, dtype=float16), array(0.5586, dtype=float16), array(0.63, dtype=float16), array(0.5933, dtype=float16), array(0.6035, dtype=float16), array(0.691, dtype=float16), array(0.782, dtype=float16), array(0.669, dtype=float16), array(0.3462, dtype=float16), array(0.7007, dtype=float16), array(0.761, dtype=float16), array(0.7227, dtype=float16), array(0.6626, dtype=float16), array(0.5635, dtype=float16), array(0.5205, dtype=float16), array(0.6416, dtype=float16), array(0.408, dtype=float16), array(0.8345, dtype=float16), array(0.762, dtype=float16), array(0.3916, dtype=float16), array(0.5103, dtype=float16), array(0.7217, dtype=float16), array(0.5615, dtype=float16), array(0.572, dtype=float16), array(0.695, dtype=float16), array(0.6597, dtype=float16), array(0.2605, dtype=float16), array(0.6865, dtype=float16), array(0.6143, dtype=float16), array(0.2864, dtype=float16), array(0.7646, dtype=float16), array(0.2893, dtype=float16), array(0.6694, dtype=float16), array(0.6714, dtype=float16), array(0.6626, dtype=float16), array(0.6943, dtype=float16), array(0.7285, dtype=float16), array(0.742, dtype=float16), array(0.6064, dtype=float16), array(0.714, dtype=float16), array(0.77, dtype=float16), array(0.7314, dtype=float16), array(0.8066, dtype=float16), array(0.655, dtype=float16), array(0.6963, dtype=float16), array(0.6943, dtype=float16), array(0.726, dtype=float16), array(0.3394, dtype=float16), array(0.624, dtype=float16), array(0.3584, dtype=float16), array(0.7, dtype=float16), array(0.864, dtype=float16), array(0.708, dtype=float16), array(0.08417, dtype=float16), array(0.52, dtype=float16), array(0.3125, dtype=float16), array(0.1906, dtype=float16), array(0.158, dtype=float16), array(0.2065, dtype=float16), array(0.7285, dtype=float16), array(0.8413, dtype=float16), array(0.8, dtype=float16), array(0.1603, dtype=float16), array(0.636, dtype=float16), array(0.6255, dtype=float16), array(0.3367, dtype=float16), array(0.741, dtype=float16), array(0.8247, dtype=float16), array(0.6904, dtype=float16), array(0.6494, dtype=float16), array(0.5947, dtype=float16), array(0.793, dtype=float16), array(0.8594, dtype=float16), array(0.2961, dtype=float16), array(0.6694, dtype=float16), array(0.3157, dtype=float16), array(0.645, dtype=float16), array(0.663, dtype=float16), array(0.04868, dtype=float16), array(0.7524, dtype=float16), array(0.803, dtype=float16), array(0.1887, dtype=float16), array(0.599, dtype=float16), array(0.6484, dtype=float16), array(0.04822, dtype=float16), array(0.638, dtype=float16), array(0.4968, dtype=float16), array(0.701, dtype=float16), array(0.906, dtype=float16), array(0.906, dtype=float16), array(0.795, dtype=float16), array(0.701, dtype=float16), array(0.6553, dtype=float16), array(0.5103, dtype=float16), array(0.652, dtype=float16), array(0.6724, dtype=float16), array(0.09515, dtype=float16), array(0.652, dtype=float16), array(0.7085, dtype=float16), array(0.7163, dtype=float16), array(0.68, dtype=float16), array(0.6646, dtype=float16), array(0.6978, dtype=float16), array(0.664, dtype=float16), array(0.7393, dtype=float16), array(0.7573, dtype=float16), array(0.848, dtype=float16), array(0.326, dtype=float16), array(0.722, dtype=float16), array(0.6406, dtype=float16), array(0.2062, dtype=float16), array(0.629, dtype=float16), array(0.547, dtype=float16), array(0.6167, dtype=float16), array(0.6943, dtype=float16), array(0.939, dtype=float16), array(0.5137, dtype=float16), array(0.711, dtype=float16), array(0.68, dtype=float16), array(0.835, dtype=float16), array(0.09033, dtype=float16), array(0.6094, dtype=float16), array(0.197, dtype=float16), array(0.5684, dtype=float16), array(0.2056, dtype=float16), array(0.1515, dtype=float16), array(0.6943, dtype=float16), array(0.04263, dtype=float16), array(0.4846, dtype=float16), array(0.862, dtype=float16), array(0.6245, dtype=float16), array(0.6772, dtype=float16), array(0.1142, dtype=float16), array(0.631, dtype=float16), array(0.687, dtype=float16), array(0.596, dtype=float16), array(0.908, dtype=float16), array(0.5864, dtype=float16), array(0.7344, dtype=float16), array(0.4233, dtype=float16), array(0.02365, dtype=float16), array(0.07965, dtype=float16), array(0.155, dtype=float16), array(0.1195, dtype=float16), array(0.6855, dtype=float16), array(0.835, dtype=float16), array(0.3462, dtype=float16), array(0.247, dtype=float16), array(0.1289, dtype=float16), array(0.8296, dtype=float16), array(0.793, dtype=float16), array(0.5903, dtype=float16), array(0.7417, dtype=float16), array(0.2344, dtype=float16), array(0.5947, dtype=float16), array(0.57, dtype=float16), array(0.3171, dtype=float16), array(0.64, dtype=float16), array(0.2568, dtype=float16), array(0.2238, dtype=float16), array(0.1501, dtype=float16), array(0.0662, dtype=float16), array(0.252, dtype=float16), array(0.536, dtype=float16), array(0.2035, dtype=float16), array(0.665, dtype=float16), array(0.519, dtype=float16), array(0.509, dtype=float16), array(0.569, dtype=float16), array(0.6, dtype=float16), array(0.69, dtype=float16), array(0.2344, dtype=float16), array(0.431, dtype=float16), array(0.5376, dtype=float16), array(0.1808, dtype=float16), array(0.5454, dtype=float16), array(0.616, dtype=float16), array(0.506, dtype=float16), array(0.4521, dtype=float16), array(0.6416, dtype=float16), array(0.3743, dtype=float16), array(0.1292, dtype=float16), array(0.425, dtype=float16), array(0.563, dtype=float16), array(0.4639, dtype=float16), array(0.615, dtype=float16), array(0.853, dtype=float16), array(0.435, dtype=float16), array(0.7524, dtype=float16), array(0.7476, dtype=float16), array(0.6313, dtype=float16), array(0.666, dtype=float16), array(0.6587, dtype=float16), array(0.579, dtype=float16), array(0.596, dtype=float16), array(0.6953, dtype=float16), array(0.668, dtype=float16), array(0.629, dtype=float16), array(0.5557, dtype=float16), array(0.05377, dtype=float16), array(0.799, dtype=float16), array(0.8745, dtype=float16), array(0.461, dtype=float16), array(0.4016, dtype=float16), array(0.7905, dtype=float16), array(0.2563, dtype=float16), array(0.1381, dtype=float16), array(0.6064, dtype=float16), array(0.1395, dtype=float16), array(0.613, dtype=float16), array(0.7188, dtype=float16), array(0.5986, dtype=float16), array(0.613, dtype=float16), array(0.9756, dtype=float16), array(0.536, dtype=float16), array(0.5156, dtype=float16), array(0.57, dtype=float16), array(0.3923, dtype=float16), array(0.2556, dtype=float16), array(0.63, dtype=float16), array(0.1859, dtype=float16), array(0.734, dtype=float16), array(0.4092, dtype=float16), array(0.68, dtype=float16), array(0.626, dtype=float16), array(0.707, dtype=float16), array(0.7954, dtype=float16), array(0.2595, dtype=float16), array(0.69, dtype=float16), array(0.1904, dtype=float16), array(0.1907, dtype=float16), array(0.3572, dtype=float16), array(0.2947, dtype=float16), array(0.277, dtype=float16), array(0.538, dtype=float16), array(0.7144, dtype=float16), array(0.3164, dtype=float16), array(0.5195, dtype=float16), array(0.1815, dtype=float16), array(0.7896, dtype=float16), array(0.764, dtype=float16), array(0.2388, dtype=float16), array(0.6665, dtype=float16), array(0.4436, dtype=float16), array(0.51, dtype=float16), array(0.682, dtype=float16), array(0.6626, dtype=float16), array(0.5757, dtype=float16), array(0.576, dtype=float16), array(0.6963, dtype=float16), array(0.718, dtype=float16), array(0.6484, dtype=float16), array(0.0921, dtype=float16), array(0.7437, dtype=float16), array(0.6943, dtype=float16), array(0.871, dtype=float16), array(0.703, dtype=float16), array(0.5547, dtype=float16), array(0.4827, dtype=float16), array(0.6836, dtype=float16), array(0.527, dtype=float16), array(0.712, dtype=float16), array(0.79, dtype=float16), array(0.7446, dtype=float16), array(0.7515, dtype=float16), array(0.645, dtype=float16), array(0.8296, dtype=float16), array(0.655, dtype=float16), array(0.798, dtype=float16), array(0.533, dtype=float16), array(0.8027, dtype=float16), array(0.7466, dtype=float16), array(0.756, dtype=float16), array(0.7373, dtype=float16), array(0.3997, dtype=float16), array(0.6406, dtype=float16), array(0.2869, dtype=float16), array(0.746, dtype=float16), array(0.692, dtype=float16), array(0.83, dtype=float16), array(0.722, dtype=float16), array(0.658, dtype=float16), array(0.669, dtype=float16), array(0.4062, dtype=float16), array(0.8174, dtype=float16), array(0.818, dtype=float16), array(0.728, dtype=float16), array(0.6724, dtype=float16), array(0.6396, dtype=float16), array(0.045, dtype=float16), array(0.5347, dtype=float16), array(0.876, dtype=float16), array(0.621, dtype=float16), array(0.7573, dtype=float16), array(0.1837, dtype=float16), array(0.727, dtype=float16), array(0.766, dtype=float16), array(0.5386, dtype=float16), array(0.712, dtype=float16), array(0.7324, dtype=float16), array(0.615, dtype=float16), array(0.683, dtype=float16), array(0.7383, dtype=float16), array(0.7236, dtype=float16), array(0.7246, dtype=float16), array(0.06067, dtype=float16), array(0.7715, dtype=float16), array(0.719, dtype=float16), array(0.685, dtype=float16), array(0.691, dtype=float16), array(0.6616, dtype=float16), array(0.1038, dtype=float16), array(0.761, dtype=float16), array(0.7344, dtype=float16), array(0.752, dtype=float16), array(0.7725, dtype=float16), array(0.761, dtype=float16), array(0.854, dtype=float16), array(0.6147, dtype=float16), array(0.7505, dtype=float16), array(0.766, dtype=float16), array(0.583, dtype=float16), array(0.2424, dtype=float16), array(0.7305, dtype=float16), array(0.761, dtype=float16), array(0.7886, dtype=float16), array(0.767, dtype=float16), array(0.7993, dtype=float16), array(0.646, dtype=float16), array(0.7007, dtype=float16), array(0.6953, dtype=float16), array(0.7163, dtype=float16), array(0.7515, dtype=float16), array(0.7227, dtype=float16), array(0.716, dtype=float16), array(0.723, dtype=float16), array(0.6973, dtype=float16), array(0.869, dtype=float16), array(0.686, dtype=float16), array(0.6816, dtype=float16), array(0.2996, dtype=float16), array(0.741, dtype=float16), array(0.7266, dtype=float16), array(0.731, dtype=float16), array(0.731, dtype=float16), array(0.5938, dtype=float16), array(0.613, dtype=float16), array(0.7593, dtype=float16), array(0.8623, dtype=float16), array(0.05542, dtype=float16), array(0.7744, dtype=float16), array(0.688, dtype=float16), array(0.78, dtype=float16), array(0.647, dtype=float16), array(0.0866, dtype=float16), array(0.773, dtype=float16), array(0.4983, dtype=float16), array(0.809, dtype=float16), array(0.626, dtype=float16), array(0.45, dtype=float16), array(0.0683, dtype=float16), array(0.658, dtype=float16), array(0.6865, dtype=float16), array(0.7266, dtype=float16), array(0.642, dtype=float16), array(0.905, dtype=float16), array(0.456, dtype=float16), array(0.7373, dtype=float16), array(0.04248, dtype=float16), array(0.6895, dtype=float16), array(0.725, dtype=float16), array(0.3699, dtype=float16), array(0.04886, dtype=float16), array(0.9536, dtype=float16), array(0.265, dtype=float16), array(0.721, dtype=float16), array(0.563, dtype=float16), array(0.11505, dtype=float16), array(0.5596, dtype=float16), array(0.2498, dtype=float16), array(0.6304, dtype=float16), array(0.6484, dtype=float16), array(0.2861, dtype=float16), array(0.5894, dtype=float16), array(0.573, dtype=float16), array(0.6816, dtype=float16), array(0.5596, dtype=float16), array(0.3076, dtype=float16), array(0.366, dtype=float16), array(0.2595, dtype=float16), array(0.5107, dtype=float16), array(0.576, dtype=float16), array(0.5225, dtype=float16), array(0.788, dtype=float16), array(0.7246, dtype=float16), array(0.7124, dtype=float16), array(0.642, dtype=float16), array(0.5894, dtype=float16), array(0.57, dtype=float16), array(0.679, dtype=float16), array(0.02841, dtype=float16), array(0.1466, dtype=float16), array(0.7095, dtype=float16), array(0.835, dtype=float16), array(0.6523, dtype=float16), array(0.74, dtype=float16), array(0.0937, dtype=float16), array(0.698, dtype=float16), array(0.6904, dtype=float16), array(0.692, dtype=float16), array(0.757, dtype=float16), array(0.04013, dtype=float16), array(0.837, dtype=float16), array(0.709, dtype=float16), array(0.66, dtype=float16), array(0.5645, dtype=float16), array(0.8623, dtype=float16), array(0.587, dtype=float16), array(0.756, dtype=float16), array(0.6797, dtype=float16), array(0.3535, dtype=float16), array(0.6426, dtype=float16), array(0.669, dtype=float16), array(0.5166, dtype=float16), array(0.584, dtype=float16), array(0.6226, dtype=float16), array(0.8096, dtype=float16), array(0.63, dtype=float16), array(0.2089, dtype=float16), array(0.6665, dtype=float16), array(0.63, dtype=float16), array(0.1, dtype=float16), array(0.641, dtype=float16), array(0.689, dtype=float16), array(0.2358, dtype=float16), array(0.7344, dtype=float16), array(0.7314, dtype=float16), array(0.671, dtype=float16), array(0.3374, dtype=float16), array(0.3142, dtype=float16), array(0.08356, dtype=float16), array(0.7275, dtype=float16), array(0.04742, dtype=float16), array(0.722, dtype=float16), array(0.3423, dtype=float16), array(0.4717, dtype=float16), array(0.4792, dtype=float16), array(0.177, dtype=float16), array(0.8794, dtype=float16), array(0.712, dtype=float16), array(0.543, dtype=float16), array(0.5586, dtype=float16), array(0.5747, dtype=float16), array(0.674, dtype=float16), array(0.612, dtype=float16), array(0.6924, dtype=float16), array(0.4922, dtype=float16), array(0.7236, dtype=float16), array(0.628, dtype=float16), array(0.67, dtype=float16), array(0.57, dtype=float16), array(0.6914, dtype=float16), array(0.729, dtype=float16), array(0.5835, dtype=float16), array(0.2153, dtype=float16), array(0.608, dtype=float16), array(0.9146, dtype=float16), array(0.726, dtype=float16), array(0.6665, dtype=float16), array(0.7095, dtype=float16), array(0.7124, dtype=float16), array(0.7803, dtype=float16), array(0.296, dtype=float16), array(0.7646, dtype=float16), array(0.273, dtype=float16), array(0.677, dtype=float16), array(0.343, dtype=float16), array(0.5693, dtype=float16), array(0.692, dtype=float16), array(0.704, dtype=float16), array(0.7056, dtype=float16), array(0.711, dtype=float16), array(0.2744, dtype=float16), array(0.615, dtype=float16), array(0.684, dtype=float16), array(0.754, dtype=float16), array(0.4492, dtype=float16), array(0.3003, dtype=float16), array(0.7095, dtype=float16), array(0.7725, dtype=float16), array(0.811, dtype=float16), array(0.7495, dtype=float16), array(0.6562, dtype=float16), array(0.6133, dtype=float16), array(0.635, dtype=float16), array(0.589, dtype=float16), array(0.6606, dtype=float16), array(0.3413, dtype=float16), array(0.73, dtype=float16), array(0.691, dtype=float16), array(0.722, dtype=float16), array(0.7017, dtype=float16), array(0.645, dtype=float16), array(0.668, dtype=float16), array(0.6626, dtype=float16), array(0.7075, dtype=float16), array(0.1453, dtype=float16), array(0.598, dtype=float16), array(0.5874, dtype=float16), array(0.4011, dtype=float16), array(0.7656, dtype=float16), array(0.6777, dtype=float16), array(0.692, dtype=float16), array(0.6875, dtype=float16), array(0.667, dtype=float16), array(0.693, dtype=float16), array(0.6895, dtype=float16), array(0.6836, dtype=float16), array(0.678, dtype=float16), array(0.6714, dtype=float16), array(0.6953, dtype=float16), array(0.6, dtype=float16), array(0.5957, dtype=float16), array(0.6553, dtype=float16), array(0.6597, dtype=float16), array(0.705, dtype=float16), array(0.6626, dtype=float16), array(0.7227, dtype=float16), array(0.8164, dtype=float16), array(0.8237, dtype=float16), array(0.055, dtype=float16), array(0.677, dtype=float16), array(0.346, dtype=float16), array(0.625, dtype=float16), array(0.2822, dtype=float16), array(0.6675, dtype=float16), array(0.5757, dtype=float16), array(0.637, dtype=float16), array(0.5747, dtype=float16), array(0.6616, dtype=float16), array(0.2542, dtype=float16), array(0.8745, dtype=float16), array(0.609, dtype=float16), array(0.5947, dtype=float16), array(0.6475, dtype=float16), array(0.2698, dtype=float16), array(0.5347, dtype=float16), array(0.707, dtype=float16), array(0.6987, dtype=float16), array(0.768, dtype=float16), array(0.6655, dtype=float16), array(0.7085, dtype=float16), array(0.7466, dtype=float16), array(0.3228, dtype=float16), array(0.6616, dtype=float16), array(0.1907, dtype=float16), array(0.6567, dtype=float16), array(0.616, dtype=float16), array(0.6636, dtype=float16), array(0.6685, dtype=float16), array(0.6606, dtype=float16), array(0.8804, dtype=float16), array(0.665, dtype=float16), array(0.7603, dtype=float16), array(0.596, dtype=float16), array(0.3694, dtype=float16), array(0.4182, dtype=float16), array(0.4705, dtype=float16), array(0.5503, dtype=float16), array(0.568, dtype=float16), array(0.2688, dtype=float16), array(0.5415, dtype=float16), array(0.291, dtype=float16), array(0.658, dtype=float16), array(0.5566, dtype=float16), array(0.718, dtype=float16), array(0.3713, dtype=float16), array(0.569, dtype=float16), array(0.898, dtype=float16), array(0.4478, dtype=float16), array(0.429, dtype=float16), array(0.739, dtype=float16), array(0.57, dtype=float16), array(0.1449, dtype=float16), array(0.5103, dtype=float16), array(0.8643, dtype=float16), array(0.941, dtype=float16), array(0.6216, dtype=float16), array(0.8315, dtype=float16), array(0.2576, dtype=float16), array(0.8877, dtype=float16), array(0.9062, dtype=float16), array(0.251, dtype=float16), array(0.2463, dtype=float16), array(0.866, dtype=float16), array(0.593, dtype=float16), array(0.7407, dtype=float16), array(0.3901, dtype=float16), array(0.658, dtype=float16), array(0.2096, dtype=float16), array(0.2325, dtype=float16), array(0.197, dtype=float16), array(0.1979, dtype=float16), array(0.6357, dtype=float16), array(0.2573, dtype=float16), array(0.802, dtype=float16), array(0.7964, dtype=float16), array(0.5923, dtype=float16), array(0.809, dtype=float16), array(0.2487, dtype=float16), array(0.65, dtype=float16), array(0.2057, dtype=float16), array(0.669, dtype=float16), array(0.3008, dtype=float16), array(0.7114, dtype=float16), array(0.608, dtype=float16), array(0.5347, dtype=float16), array(0.6763, dtype=float16), array(0.3494, dtype=float16), array(0.8037, dtype=float16), array(0.586, dtype=float16), array(0.4026, dtype=float16), array(0.155, dtype=float16), array(0.12396, dtype=float16), array(0.4414, dtype=float16), array(0.971, dtype=float16), array(0.6094, dtype=float16), array(0.6396, dtype=float16), array(0.2505, dtype=float16), array(0.6826, dtype=float16), array(0.5938, dtype=float16), array(0.557, dtype=float16), array(0.3303, dtype=float16), array(0.277, dtype=float16), array(0.824, dtype=float16), array(0.424, dtype=float16), array(0.7607, dtype=float16), array(0.6562, dtype=float16), array(0.4104, dtype=float16), array(0.9653, dtype=float16), array(0.5493, dtype=float16), array(0.4912, dtype=float16), array(0.2976, dtype=float16), array(0.2451, dtype=float16), array(0.6006, dtype=float16), array(0.3477, dtype=float16), array(0.6553, dtype=float16), array(0.2563, dtype=float16), array(0.1582, dtype=float16), array(0.256, dtype=float16), array(0.2563, dtype=float16), array(0.682, dtype=float16), array(0.663, dtype=float16), array(0.2651, dtype=float16), array(0.4106, dtype=float16), array(0.2004, dtype=float16), array(0.622, dtype=float16), array(0.2261, dtype=float16), array(0.2793, dtype=float16), array(0.2152, dtype=float16), array(0.8076, dtype=float16), array(0.832, dtype=float16), array(0.0865, dtype=float16), array(0.877, dtype=float16), array(0.669, dtype=float16), array(0.7393, dtype=float16), array(0.1392, dtype=float16), array(0.2708, dtype=float16), array(0.483, dtype=float16), array(0.681, dtype=float16), array(0.3464, dtype=float16), array(0.8433, dtype=float16), array(0.7935, dtype=float16), array(0.6846, dtype=float16), array(0.3125, dtype=float16), array(0.5796, dtype=float16), array(0.3977, dtype=float16), array(0.484, dtype=float16), array(0.3188, dtype=float16), array(0.3733, dtype=float16), array(0.7803, dtype=float16), array(0.9263, dtype=float16), array(0.665, dtype=float16), array(0.312, dtype=float16), array(0.311, dtype=float16), array(0.6494, dtype=float16), array(0.741, dtype=float16), array(0.831, dtype=float16), array(0.3289, dtype=float16), array(0.394, dtype=float16), array(0.2272, dtype=float16), array(0.4988, dtype=float16), array(0.7817, dtype=float16), array(0.653, dtype=float16), array(0.704, dtype=float16), array(0.1064, dtype=float16), array(0.5044, dtype=float16), array(0.5107, dtype=float16), array(0.7427, dtype=float16), array(0.6025, dtype=float16), array(0.2214, dtype=float16), array(0.1229, dtype=float16), array(0.3657, dtype=float16), array(0.628, dtype=float16), array(0.9175, dtype=float16), array(0.2172, dtype=float16), array(0.8335, dtype=float16), array(0.6377, dtype=float16), array(0.6587, dtype=float16), array(0.6543, dtype=float16), array(0.3347, dtype=float16), array(0.714, dtype=float16), array(0.2795, dtype=float16), array(0.808, dtype=float16), array(0.663, dtype=float16), array(0.559, dtype=float16), array(0.6694, dtype=float16), array(0.6772, dtype=float16), array(0.0779, dtype=float16), array(0.6953, dtype=float16), array(0.685, dtype=float16), array(0.503, dtype=float16), array(0.2637, dtype=float16), array(0.6655, dtype=float16), array(0.5957, dtype=float16), array(0.43, dtype=float16), array(0.247, dtype=float16), array(0.564, dtype=float16), array(0.651, dtype=float16), array(0.535, dtype=float16), array(0.618, dtype=float16), array(0.564, dtype=float16), array(0.4785, dtype=float16), array(0.6367, dtype=float16), array(0.2166, dtype=float16), array(0.278, dtype=float16), array(0.1857, dtype=float16), array(0.6475, dtype=float16), array(0.615, dtype=float16), array(0.573, dtype=float16), array(0.8066, dtype=float16), array(0.588, dtype=float16), array(0.718, dtype=float16), array(0.527, dtype=float16), array(0.621, dtype=float16), array(0.8525, dtype=float16), array(0.6587, dtype=float16), array(0.697, dtype=float16), array(0.8438, dtype=float16), array(0.7676, dtype=float16), array(0.683, dtype=float16), array(0.627, dtype=float16), array(0.7695, dtype=float16), array(0.7275, dtype=float16), array(0.0713, dtype=float16), array(0.6367, dtype=float16), array(0.693, dtype=float16), array(0.884, dtype=float16), array(0.711, dtype=float16), array(0.378, dtype=float16), array(0.7573, dtype=float16), array(0.774, dtype=float16), array(0.1675, dtype=float16), array(0.6772, dtype=float16), array(0.6465, dtype=float16), array(0.639, dtype=float16), array(0.706, dtype=float16), array(0.647, dtype=float16), array(0.6943, dtype=float16), array(0.751, dtype=float16), array(0.1943, dtype=float16), array(0.651, dtype=float16), array(0.4421, dtype=float16), array(0.779, dtype=float16), array(0.07983, dtype=float16), array(0.8955, dtype=float16), array(0.8857, dtype=float16), array(0.4888, dtype=float16), array(0.671, dtype=float16), array(0.6924, dtype=float16), array(0.2634, dtype=float16), array(0.666, dtype=float16), array(0.7666, dtype=float16), array(0.688, dtype=float16), array(0.7095, dtype=float16), array(0.685, dtype=float16), array(0.1153, dtype=float16), array(0.9487, dtype=float16), array(0.713, dtype=float16), array(0.636, dtype=float16), array(0.6367, dtype=float16), array(0.63, dtype=float16), array(0.6733, dtype=float16), array(0.1537, dtype=float16), array(0.734, dtype=float16), array(0.244, dtype=float16), array(0.2122, dtype=float16), array(0.6553, dtype=float16), array(0.4602, dtype=float16), array(0.6416, dtype=float16), array(0.667, dtype=float16), array(0.697, dtype=float16), array(0.724, dtype=float16), array(0.667, dtype=float16), array(0.7515, dtype=float16), array(0.404, dtype=float16), array(0.7334, dtype=float16), array(0.7397, dtype=float16), array(0.6865, dtype=float16), array(0.63, dtype=float16), array(0.3442, dtype=float16), array(0.4036, dtype=float16), array(0.614, dtype=float16), array(0.696, dtype=float16), array(0.5195, dtype=float16), array(0.7373, dtype=float16), array(0.729, dtype=float16), array(0.74, dtype=float16), array(0.7407, dtype=float16), array(0.7446, dtype=float16), array(0.745, dtype=float16), array(0.668, dtype=float16), array(0.755, dtype=float16), array(0.6396, dtype=float16), array(0.6187, dtype=float16), array(0.685, dtype=float16), array(0.7954, dtype=float16), array(0.2847, dtype=float16), array(0.3235, dtype=float16), array(0.701, dtype=float16), array(0.684, dtype=float16), array(0.03378, dtype=float16), array(0.8003, dtype=float16), array(0.429, dtype=float16), array(0.6733, dtype=float16), array(0.6025, dtype=float16), array(0.6655, dtype=float16), array(0.702, dtype=float16), array(0.1664, dtype=float16), array(0.619, dtype=float16), array(0.6196, dtype=float16), array(0.6294, dtype=float16), array(0.281, dtype=float16), array(0.6694, dtype=float16), array(0.7017, dtype=float16), array(0.744, dtype=float16), array(0.8003, dtype=float16), array(0.6855, dtype=float16), array(0.2203, dtype=float16), array(0.7354, dtype=float16), array(0.758, dtype=float16), array(0.6787, dtype=float16), array(0.724, dtype=float16), array(0.7437, dtype=float16), array(0.773, dtype=float16), array(0.7046, dtype=float16), array(0.1971, dtype=float16), array(0.677, dtype=float16), array(0.4717, dtype=float16), array(0.71, dtype=float16), array(0.07654, dtype=float16), array(0.4, dtype=float16), array(0.6265, dtype=float16), array(0.373, dtype=float16), array(0.5806, dtype=float16), array(0.7134, dtype=float16), array(0.2361, dtype=float16), array(0.5093, dtype=float16), array(0.726, dtype=float16), array(0.7773, dtype=float16), array(0.7363, dtype=float16), array(0.2382, dtype=float16), array(0.8115, dtype=float16), array(0.698, dtype=float16), array(0.657, dtype=float16), array(0.682, dtype=float16), array(0.666, dtype=float16), array(0.6914, dtype=float16), array(0.6846, dtype=float16), array(0.2708, dtype=float16), array(0.04477, dtype=float16), array(0.723, dtype=float16), array(0.1631, dtype=float16), array(0.728, dtype=float16), array(0.7295, dtype=float16), array(0.6396, dtype=float16), array(0.682, dtype=float16), array(0.6885, dtype=float16), array(0.9414, dtype=float16), array(0.3425, dtype=float16), array(0.7197, dtype=float16), array(0.556, dtype=float16), array(0.756, dtype=float16), array(0.75, dtype=float16), array(0.5977, dtype=float16), array(0.8726, dtype=float16), array(0.7896, dtype=float16), array(0.66, dtype=float16), array(0.6274, dtype=float16), array(0.6416, dtype=float16), array(0.0692, dtype=float16), array(0.36, dtype=float16), array(0.7324, dtype=float16), array(0.663, dtype=float16), array(0.686, dtype=float16), array(0.6826, dtype=float16), array(0.63, dtype=float16), array(0.673, dtype=float16), array(0.2358, dtype=float16), array(0.749, dtype=float16), array(0.604, dtype=float16), array(0.513, dtype=float16), array(0.676, dtype=float16), array(0.663, dtype=float16), array(0.7085, dtype=float16), array(0.8315, dtype=float16), array(0.1735, dtype=float16), array(0.217, dtype=float16), array(0.7744, dtype=float16), array(0.7114, dtype=float16), array(0.3784, dtype=float16), array(0.884, dtype=float16), array(0.7036, dtype=float16), array(0.8667, dtype=float16), array(0.7476, dtype=float16), array(0.7812, dtype=float16), array(0.1453, dtype=float16), array(0.639, dtype=float16), array(0.625, dtype=float16), array(0.2285, dtype=float16), array(0.7495, dtype=float16), array(0.4927, dtype=float16), array(0.647, dtype=float16), array(0.7236, dtype=float16), array(0.75, dtype=float16), array(0.9277, dtype=float16), array(0.4685, dtype=float16), array(0.7344, dtype=float16), array(0.8003, dtype=float16), array(0.5234, dtype=float16), array(0.703, dtype=float16), array(0.722, dtype=float16), array(0.7007, dtype=float16), array(0.749, dtype=float16), array(0.2207, dtype=float16), array(0.699, dtype=float16), array(0.3955, dtype=float16), array(0.7207, dtype=float16), array(0.1426, dtype=float16), array(0.7754, dtype=float16), array(0.874, dtype=float16), array(0.634, dtype=float16), array(0.6997, dtype=float16), array(0.5586, dtype=float16), array(0.6978, dtype=float16), array(0.6377, dtype=float16), array(0.72, dtype=float16), array(0.2744, dtype=float16), array(0.7476, dtype=float16), array(0.9316, dtype=float16), array(0.5547, dtype=float16), array(0.1509, dtype=float16), array(0.2922, dtype=float16), array(0.2124, dtype=float16), array(0.0994, dtype=float16), array(0.7036, dtype=float16), array(0.681, dtype=float16), array(0.666, dtype=float16), array(0.2524, dtype=float16), array(0.4238, dtype=float16), array(0.2996, dtype=float16), array(0.2659, dtype=float16), array(0.536, dtype=float16), array(0.3662, dtype=float16), array(0.739, dtype=float16), array(0.628, dtype=float16), array(0.386, dtype=float16), array(0.691, dtype=float16), array(0.1097, dtype=float16), array(0.785, dtype=float16), array(0.817, dtype=float16), array(0.709, dtype=float16), array(0.717, dtype=float16), array(0.665, dtype=float16), array(0.4297, dtype=float16), array(0.3127, dtype=float16), array(0.6777, dtype=float16), array(0.63, dtype=float16), array(0.1398, dtype=float16), array(0.2098, dtype=float16), array(0.2206, dtype=float16), array(0.7534, dtype=float16), array(0.9253, dtype=float16), array(0.6978, dtype=float16), array(0.64, dtype=float16), array(0.6865, dtype=float16), array(0.5566, dtype=float16), array(0.7285, dtype=float16), array(0.6978, dtype=float16), array(0.69, dtype=float16), array(0.706, dtype=float16), array(0.6646, dtype=float16), array(0.7656, dtype=float16), array(0.8384, dtype=float16), array(0.08167, dtype=float16), array(0.419, dtype=float16), array(0.633, dtype=float16), array(0.631, dtype=float16), array(0.6733, dtype=float16), array(0.599, dtype=float16), array(0.1774, dtype=float16), array(0.3862, dtype=float16), array(0.688, dtype=float16), array(0.693, dtype=float16), array(0.6313, dtype=float16), array(0.2976, dtype=float16), array(0.1392, dtype=float16), array(0.05594, dtype=float16), array(0.5674, dtype=float16), array(0.649, dtype=float16), array(0.5415, dtype=float16), array(0.05496, dtype=float16), array(0.4485, dtype=float16), array(0.672, dtype=float16), array(0.6406, dtype=float16), array(0.1405, dtype=float16), array(0.6646, dtype=float16), array(0.662, dtype=float16), array(0.715, dtype=float16), array(0.719, dtype=float16), array(0.578, dtype=float16), array(0.632, dtype=float16), array(0.649, dtype=float16), array(0.559, dtype=float16), array(0.8438, dtype=float16), array(0.655, dtype=float16), array(0.675, dtype=float16), array(0.962, dtype=float16), array(0.6377, dtype=float16), array(0.676, dtype=float16), array(0.7476, dtype=float16), array(0.63, dtype=float16), array(0.2113, dtype=float16), array(0.4094, dtype=float16), array(0.7744, dtype=float16), array(0.714, dtype=float16), array(0.5283, dtype=float16), array(0.6987, dtype=float16), array(0.867, dtype=float16), array(0.232, dtype=float16), array(0.538, dtype=float16), array(0.58, dtype=float16), array(0.8657, dtype=float16), array(0.6484, dtype=float16), array(0.3926, dtype=float16), array(0.7256, dtype=float16), array(0.03436, dtype=float16), array(0.563, dtype=float16), array(0.572, dtype=float16), array(0.678, dtype=float16), array(0.4248, dtype=float16), array(0.762, dtype=float16), array(0.652, dtype=float16), array(0.727, dtype=float16), array(0.73, dtype=float16), array(0.64, dtype=float16), array(0.3816, dtype=float16), array(0.08826, dtype=float16), array(0.51, dtype=float16), array(0.7163, dtype=float16), array(0.7554, dtype=float16), array(0.7295, dtype=float16), array(0.965, dtype=float16), array(0.753, dtype=float16), array(0.8896, dtype=float16), array(0.7075, dtype=float16), array(0.7446, dtype=float16), array(0.7354, dtype=float16), array(0.8013, dtype=float16), array(0.735, dtype=float16), array(0.2383, dtype=float16), array(0.7407, dtype=float16), array(0.2438, dtype=float16), array(0.815, dtype=float16), array(0.317, dtype=float16), array(0.3562, dtype=float16), array(0.1214, dtype=float16), array(0.6646, dtype=float16), array(0.713, dtype=float16), array(0.917, dtype=float16), array(0.7793, dtype=float16), array(0.7485, dtype=float16), array(0.9224, dtype=float16), array(0.868, dtype=float16), array(0.726, dtype=float16), array(0.6753, dtype=float16), array(0.7876, dtype=float16), array(0.7744, dtype=float16), array(0.7236, dtype=float16), array(0.637, dtype=float16), array(0.92, dtype=float16), array(0.158, dtype=float16), array(0.5176, dtype=float16), array(0.5684, dtype=float16), array(0.6924, dtype=float16), array(0.1287, dtype=float16), array(0.624, dtype=float16), array(0.6484, dtype=float16), array(0.319, dtype=float16), array(0.648, dtype=float16), array(0.715, dtype=float16), array(0.7485, dtype=float16), array(0.683, dtype=float16), array(0.05765, dtype=float16), array(0.615, dtype=float16), array(0.2651, dtype=float16), array(0.544, dtype=float16), array(0.783, dtype=float16), array(0.67, dtype=float16), array(0.4897, dtype=float16), array(0.7197, dtype=float16), array(0.4622, dtype=float16), array(0.2106, dtype=float16), array(0.858, dtype=float16), array(0.326, dtype=float16), array(0.5234, dtype=float16), array(0.4575, dtype=float16), array(0.793, dtype=float16), array(0.907, dtype=float16), array(0.6675, dtype=float16), array(0.5747, dtype=float16), array(0.3306, dtype=float16), array(0.687, dtype=float16), array(0.7764, dtype=float16), array(0.8335, dtype=float16), array(0.877, dtype=float16), array(0.03088, dtype=float16), array(0.8, dtype=float16), array(0.5464, dtype=float16), array(0.08014, dtype=float16), array(0.9683, dtype=float16), array(0.385, dtype=float16), array(0.549, dtype=float16), array(0.7744, dtype=float16), array(0.623, dtype=float16), array(0.645, dtype=float16), array(0.4272, dtype=float16), array(0.542, dtype=float16), array(0.2152, dtype=float16), array(0.7773, dtype=float16), array(0.9644, dtype=float16), array(0.7856, dtype=float16), array(0.6387, dtype=float16), array(0.645, dtype=float16), array(0.1937, dtype=float16), array(0.658, dtype=float16), array(0.2249, dtype=float16), array(0.3662, dtype=float16), array(0.648, dtype=float16), array(0.6978, dtype=float16), array(0.5, dtype=float16), array(0.4114, dtype=float16), array(0.1483, dtype=float16), array(0.4539, dtype=float16), array(0.4072, dtype=float16), array(0.776, dtype=float16), array(0.602, dtype=float16), array(0.7085, dtype=float16), array(0.4927, dtype=float16), array(0.7456, dtype=float16), array(0.5493, dtype=float16), array(0.8726, dtype=float16), array(0.668, dtype=float16), array(0.623, dtype=float16), array(0.549, dtype=float16), array(0.6904, dtype=float16), array(0.5566, dtype=float16), array(0.543, dtype=float16), array(0.653, dtype=float16), array(0.567, dtype=float16), array(0.0723, dtype=float16), array(0.6934, dtype=float16), array(0.867, dtype=float16), array(0.644, dtype=float16), array(0.7827, dtype=float16), array(0.502, dtype=float16), array(0.634, dtype=float16), array(0.814, dtype=float16), array(0.3284, dtype=float16), array(0.686, dtype=float16), array(0.3164, dtype=float16), array(0.772, dtype=float16), array(0.6553, dtype=float16), array(0.1946, dtype=float16), array(0.962, dtype=float16), array(0.2732, dtype=float16), array(0.11426, dtype=float16), array(0.2394, dtype=float16), array(0.5137, dtype=float16), array(0.046, dtype=float16), array(0.7134, dtype=float16), array(0.6816, dtype=float16), array(0.0271, dtype=float16), array(0.9375, dtype=float16), array(0.3623, dtype=float16), array(0.808, dtype=float16), array(0.1683, dtype=float16), array(0.0982, dtype=float16), array(0.169, dtype=float16), array(0.3953, dtype=float16), array(0.8516, dtype=float16), array(0.808, dtype=float16), array(0.608, dtype=float16), array(0.2522, dtype=float16), array(0.7, dtype=float16), array(0.263, dtype=float16), array(0.731, dtype=float16), array(0.697, dtype=float16), array(0.749, dtype=float16), array(0.1615, dtype=float16), array(0.4324, dtype=float16), array(0.3867, dtype=float16), array(0.7036, dtype=float16), array(0.4504, dtype=float16), array(0.6426, dtype=float16), array(0.644, dtype=float16), array(0.9746, dtype=float16), array(0.7554, dtype=float16), array(0.6675, dtype=float16), array(0.727, dtype=float16)]\n"
     ]
    }
   ],
   "source": [
    "generate_predictions(model,test_df)\n"
   ]
  },
  {
   "cell_type": "code",
   "execution_count": null,
   "metadata": {
    "colab": {
     "base_uri": "https://localhost:8080/",
     "height": 206
    },
    "id": "s_Flb4WcFRP7",
    "outputId": "b1e84c92-61e8-40fe-9a36-941deb6e5dd1"
   },
   "outputs": [
    {
     "data": {
      "application/vnd.google.colaboratory.intrinsic+json": {
       "summary": "{\n  \"name\": \"test_df\",\n  \"rows\": 5480,\n  \"fields\": [\n    {\n      \"column\": \"text\",\n      \"properties\": {\n        \"dtype\": \"string\",\n        \"num_unique_values\": 5480,\n        \"samples\": [\n          \"COMMIT MESSAGE: COMPRESS - 405 Create Fixed Length Block OutputStream / WriteableByteChannel This commit provides a new class that is an OutputStream and WritableByteChannel , and which supports writing to a destination output stream or byte channel in fixed size blocks . Internally , all writes are made using NIO . If the destination is a FileOutputStream the existing channel is used . Other OutputStreams are wrapped with a custom channel implementation which does not attempt to split writes into chunks . If the target channel fails to write the entire buffer in a single call , an exception is thrown , Incoming data is accumulated in a ByteBuffer until a complete block is ready , then written to the target . If WritableByteChannel : : write ( ByteBuffer ) method is called , the code will attempt to avoid copying data into the buffer if the buffer is empty , and a complete block is available . The class and UnitTest are in compress / utils . This is a MINOR change - thus the version number for the package should be increated to 1 . 15 . 0 . Signed - off - by : Simon Spero < sesuncedu @ gmail . com >\\n              ADDED LINES: ['MockWritableByteChannel mock = new MockWritableByteChannel ( blockSize , false ) ;', 'testWriteAndPadToStream ( 512 , \\\"hello world! \\\\\\\\ n\\\" , false ) ;', 'out . write ( buffer . array ( ) , buffer . arrayOffset ( ) + pos , len ) ;', 'import java . io . IOException ;', 'ByteArrayOutputStream bos = new ByteArrayOutputStream ( ) ;', 'double v = Math . ceil ( msg . length / ( double ) blockSize ) * blockSize ;', 'private ByteBuffer getByteBuffer ( byte [ ] msg ) {', 'private void testWriteAndPad ( int blockSize , String text , boolean doPartialWrite )', 'out . write ( ByteBuffer . wrap ( new byte [ ] { 0 , 1 , 2 , 3 } ) ) ;', '} finally {', 'assertEquals ( String . format ( \\\" % s ( [ % d ] ) \\\" , msg , i ) , expected [ i ] , actual [ i + offset ] ) ;', 'public int write ( ByteBuffer src ) throws IOException {', 'assertEquals ( \\\"wrong size\\\" , ( long ) v , actualBytes . length ) ;', 'private final OutputStream out ;', 'int strLen = msg . length * reps ;', 'Runtime . getRuntime ( ) . addShutdownHook ( new Thread ( ) {', 'assertTrue ( out . isOpen ( ) ) ;', 'import static org . junit . Assert . assertTrue ;', 'String l = new String ( output , 0 , strLen ) ;', 'testWriteAndPad ( 512 , \\\"hello world! \\\\\\\\ n\\\" , false ) ;', 'private FixedLengthBlockOutputStream getClosedFLBOS ( ) throws IOException {', 'bos . close ( ) ;', 'public void testWriteFailsAfterDestClosedThrowsException ( ) {', 'private AtomicBoolean closed = new AtomicBoolean ( ) ;', 'testWriteAndPadToStream ( 10240 , \\\"hello world! \\\\\\\\ n\\\" , false ) ;', 'while ( src . hasRemaining ( ) ) {', 'String l = new String ( output , 0 , msg . length ) ;', 'int i = out . write ( buffer ) ;', 'public void close ( ) throws IOException {', 'this . requiredWriteSize = requiredWriteSize ;', 'import java . nio . channels . WritableByteChannel ;', 'srcLeft - = blockSize ;', 'os , blockSize ) ) {', 'if ( !buffer . hasRemaining ( ) ) {', 'for ( int i = expectedBytes . length ; i < actualBytes . length ; i + + ) {', 'int len = msg . length ;', 'int reps = 17 ;', 'src . limit ( src . position ( ) + n ) ;', 'assertEquals ( buf . toString ( ) , l ) ;', 'assertEquals ( \\\"wrong size\\\" , ( long ) v , bos . size ( ) ) ;', 'buf . flip ( ) ;', 'out . close ( ) ;', 'FixedLengthBlockOutputStream out =', 'src . limit ( src . limit ( ) - 1 ) ;', 'len - - ;', 'new MockOutputStream ( blockSize , false ) , blockSize ) ;', 'assertEquals ( String . format ( \\\"output [ % d ] \\\" , i ) , 0 , actualBytes [ i ] ) ;', 'testWriteAndPad ( 3 , \\\"hello world! \\\\\\\\ n\\\" , false ) ;', 'testBuf ( 10240 , hwa ) ;', 'out . write ( src ) ;', 'assertEquals ( 0 , din . read ( ) ) ;', '@ Test', 'private void testBuf ( int blockSize , String text ) throws IOException {', 'buffer . clear ( ) ;', 'checkIsOpen ( ) ;', 'assertEquals ( text , l ) ;', 'assertEquals ( 0 , output [ i ] ) ;', 'if ( buffer . position ( ) ! = 0 ) {', 'int pos = buffer . position ( ) ;', 'import java . util . concurrent . atomic . AtomicBoolean ;', 'AutoCloseable {', 'fail ( \\\"expected Closed Channel Exception\\\" ) ;', 'byte [ ] msg = text . getBytes ( StandardCharsets . US ASCII ) ;', 'if ( closed . compareAndSet ( false , true ) ) {', 'import static org . junit . Assert . assertFalse ;', 'int blockSize = 512 ;', 'public void testWriteBuf ( ) throws IOException {', 'public FixedLengthBlockOutputStream ( OutputStream os , int blockSize ) {', 'FixedLengthBlockOutputStream out = getClosedFLBOS ( ) ;', 'import java . nio . charset . StandardCharsets ;', 'testWriteAndPadToStream ( 11 , \\\"hello world! \\\\\\\\ n\\\" , false ) ;', 'import java . io . OutputStream ;', 'private static class MockWritableByteChannel implements WritableByteChannel {', 'long expectedDataSize = reps * 4L ;', 'private MockWritableByteChannel ( int requiredWriteSize , boolean doPartialWrite ) {', 'private final ByteBuffer buffer ;', 'assert isOpen ( ) : \\\"somehow trying to write to closed BufferAtATimeOutputChannel\\\" ;', 'OutputStream os = new FileOutputStream ( tempFile . toFile ( ) ) ;', 'int srcRemaining = src . remaining ( ) ;', 'long expectedFileSize = ( long ) Math . ceil ( expectedDataSize / ( double ) blockSize ) * blockSize ;', 'ByteBuffer buf = ByteBuffer . allocate ( len ) ;', 'private static class BufferAtATimeOutputChannel implements WritableByteChannel {', 'assertEquals ( \\\"file size\\\" , expectedFileSize , Files . size ( tempFile ) ) ;', 'this . buffer = ByteBuffer . allocateDirect ( blockSize ) ;', 'public void testSmallWriteToStream ( ) throws IOException {', 'double v = Math . ceil ( ( reps * msg . length ) / ( double ) blockSize ) * blockSize ;', 'ByteArrayOutputStream bos = mock . bos ;', 'off + = n ;', 'public class FixedLengthBlockOutputStreamTest {', 'import static org . junit . Assert . assertEquals ;', 'private void checkIsOpen ( ) throws IOException {', 'testBuf ( 512 , hwa ) ;', 'for ( int i = 0 ; i < limit ; i + + ) {', 'assert buffer . hasArray ( ) :', 'public void testMultiWriteBuf ( ) throws IOException {', 'return srcRemaining ;', 'assertThat ( e , IsInstanceOf . instanceOf ( ClosedChannelException . class ) ) ;', 'DataInputStream din = new DataInputStream ( Files . newInputStream ( tempFile ) ) ;', 'Files . deleteIfExists ( tempFile ) ;', 'import org . mockito . internal . matchers . GreaterOrEqual ;', 'buf . put ( msg ) ;', 'import org . junit . Test ;', 'try ( FixedLengthBlockOutputStream out = new FixedLengthBlockOutputStream (', 'buffer . order ( ByteOrder . nativeOrder ( ) ) ;', 'dos . writeInt ( i ) ;', 'import java . nio . file . Files ;', 'import org . hamcrest . core . IsInstanceOf ;', 'out . write ( new byte [ ] { 0 , 1 , 2 , 3 } ) ;', 'int srcLeft = srcRemaining ;', 'throws IOException {', 'assertEquals ( \\\"file int\\\" , i , din . readInt ( ) ) ;', 'blockSize , i ) ;', 'if ( !isOpen ( ) ) {', 'return len ;', 'final Path tempFile = Files . createTempFile ( \\\"xxx\\\" , \\\"yyy\\\" ) ;', 'throw new ClosedChannelException ( ) ;', 'public FixedLengthBlockOutputStream ( WritableByteChannel out , int blockSize ) {', 'AtomicBoolean closed = new AtomicBoolean ( ) ;', 'new FixedLengthBlockOutputStream ( mock , blockSize ) ;', 'int limit = 8 - align ;', 'writeBlock ( ) ;', 'testWriteAndPad ( 512 , \\\"hello world! \\\\\\\\ n\\\" , true ) ;', 'assertEquals ( String . format ( \\\"output [ % d ] \\\" , i ) , 0 , output [ i ] ) ;', 'this . blockSize = blockSize ;', 'bos . write ( src . get ( ) ) ;', 'if ( !out . isOpen ( ) ) {', 'import java . io . ByteArrayOutputStream ;', 'public void run ( ) {', '. format ( \\\"Failed to write % , d bytes atomically . Only wrote % , d\\\" ,', 'try {', 'String testString = \\\"hello world\\\" ;', 'if ( closed . get ( ) ) {', 'private void validate ( int blockSize , byte [ ] expectedBytes , byte [ ] actualBytes ) {', 'int bytesToWrite = buffer . remaining ( ) ;', 'srcLeft - = n ;', '\\\"direct buffer somehow written to BufferAtATimeOutputChannel\\\" ;', 'assertThat ( actual . length , new GreaterOrEqual < > ( offset + expected . length ) ) ;', 'buf . append ( testString ) ;', 'DataOutputStream dos = new DataOutputStream ( out ) ;', 'testWriteAndPadToStream ( 3 , \\\"hello world! \\\\\\\\ n\\\" , false ) ;', 'out . write ( 1 ) ;', 'buffer . put ( ( byte ) b ) ;', 'private static void assertContainsAtOffset ( String msg , byte [ ] expected , int offset ,', 'close ( ) ;', 'while ( srcLeft > = blockSize ) {', 'bytesToWrite - = limit ;', 'testWriteAndPad ( 10240 , \\\"hello world! \\\\\\\\ n\\\" , false ) ;', 'int blockSize = 2 ;', 'this . doPartialWrite = doPartialWrite ;', '} ) ;', 'mock . close ( ) ;', 'private MockOutputStream ( int requiredWriteSize , boolean doPartialWrite ) {', 'int blockSize = 4 ;', 'public boolean isOpen ( ) {', 'assertEquals ( \\\"exception message\\\" ,', 'private void maybeFlush ( ) throws IOException {', 'assertContainsAtOffset ( \\\"output\\\" , expectedBytes , 0 , actualBytes ) ;', 'return !closed . get ( ) ;', 'byte msg [ ] = testString . getBytes ( ) ;', 'import java . io . DataInputStream ;', 'int reps = 1000 ;', 'private final int blockSize ;', 'testBuf ( 4 , hwa ) ;', 'if ( align ! = 0 ) {', 'String text = \\\"hello world avengers\\\" ;', '}', 'out . write ( msg ) ;', 'IOException e = new IOException ( \\\"Closed\\\" ) ;', 'MockOutputStream mock = new MockOutputStream ( blockSize , false ) ;', 'buffer . position ( buffer . limit ( ) ) ;', 'import java . io . DataOutputStream ;', 'int n = buffer . remaining ( ) ;', 'StringBuilder buf = new StringBuilder ( strLen ) ;', 'import java . io . FileOutputStream ;', 'assertEquals ( - 1 , din . read ( ) ) ;', 'for ( int i = strLen ; i < output . length ; i + + ) {', 'assertEquals ( \\\"write size\\\" , requiredWriteSize , len ) ;', 'testBuf ( 11 , hwa + hwa + hwa ) ;', 'throw e ;', 'out = fileOutputStream . getChannel ( ) ;', 'public void write ( byte [ ] b , int off , int len ) throws IOException {', 'buffer . put ( b , off , n ) ;', 'private final int requiredWriteSize ;', 'int len = buffer . limit ( ) - pos ;', 'bytesToWrite - = 8 ;', 'out . write ( buf ) ;', 'ByteBuffer buf = getByteBuffer ( msg ) ;', 'out = new BufferAtATimeOutputChannel ( os ) ;', 'buffer . put ( ( byte ) 0 ) ;', 'public void write ( int b ) throws IOException {', 'if ( srcRemaining < buffer . remaining ( ) ) {', 'private void testWriteAndPadToStream ( int blockSize , String text , boolean doPartialWrite )', 'MockWritableByteChannel mock = new MockWritableByteChannel ( blockSize , doPartialWrite ) ;', 'import java . nio . channels . ClosedChannelException ;', 'import java . nio . ByteBuffer ;', 'public void testSmallWrite ( ) throws IOException {', 'while ( bytesToWrite > = 8 ) {', '} else {', 'private void padLastBlock ( ) {', 'buffer = ByteBuffer . allocateDirect ( blockSize ) ;', 'for ( int i = msg . length ; i < bos . size ( ) ; i + + ) {', 'byte msg [ ] = text . getBytes ( ) ;', 'public void testPartialWritingThrowsException ( ) {', 'buffer . flip ( ) ;', 'padLastBlock ( ) ;', 'int savedLimit = src . limit ( ) ;', 'assertEquals ( \\\"write size\\\" , requiredWriteSize , 1 ) ;', 'return buf ;', 'closed . compareAndSet ( false , true ) ;', 'if ( bytesToWrite > 8 ) {', 'byte [ ] output = bos . toByteArray ( ) ;', 'for ( int i = 0 ; i < len ; i + + ) {', 'String hwa = \\\"hello world avengers\\\" ;', 'while ( len > 0 ) {', 'package org . apache . commons . compress . utils ;', 'if ( i ! = blockSize | | hasRemaining ) {', 'src . limit ( savedLimit ) ;', 'try ( FixedLengthBlockOutputStream out = new FixedLengthBlockOutputStream ( mock , blockSize ) ) {', 'public class FixedLengthBlockOutputStream extends OutputStream implements WritableByteChannel ,', 'FileOutputStream fileOutputStream = ( FileOutputStream ) os ;', '} catch ( IOException e ) {', 'out . write ( msg [ i ] ) ;', 'bos . write ( b ) ;', 'len - = n ;', 'maybeFlush ( ) ;', 'throw new IOException ( msg ) ;', 'import java . nio . ByteOrder ;', 'private final boolean doPartialWrite ;', 'MockOutputStream mock = new MockOutputStream ( blockSize , doPartialWrite ) ;', 'private void writeBlock ( ) throws IOException {', 'buffer . putLong ( 0L ) ;', 'bos . write ( b , off , len ) ;', 'closed . set ( true ) ;', 'import static org . junit . Assert . fail ;', 'double v = Math . ceil ( expectedBytes . length / ( double ) blockSize ) * blockSize ;', 'return out ;', 'int align = ( buffer . position ( ) & 7 ) ;', 'String msg = e . getMessage ( ) ;', 'if ( os instanceof FileOutputStream ) {', 'public int write ( ByteBuffer buffer ) throws IOException {', 'while ( buffer . hasRemaining ( ) ) {', 'public void testWithFileOutputStream ( ) throws IOException {', 'if ( doPartialWrite ) {', 'private final AtomicBoolean closed = new AtomicBoolean ( false ) ;', 'FixedLengthBlockOutputStream out = new FixedLengthBlockOutputStream (', 'buffer = ByteBuffer . allocate ( blockSize ) ;', 'public void testWriteFailsAfterFLClosedThrowsException ( ) {', 'return bytesOut ;', 'int blockSize = 13 ;', 'for ( int i = 0 ; i < expected . length ; i + + ) {', 'assertEquals ( \\\"write size\\\" , requiredWriteSize , src . remaining ( ) ) ;', 'int n = Math . min ( len , buffer . remaining ( ) ) ;', 'validate ( blockSize , msg , bos . toByteArray ( ) ) ;', 'for ( int i = 0 ; i < expectedFileSize - expectedDataSize ; i + + ) {', 'boolean hasRemaining = buffer . hasRemaining ( ) ;', 'src . limit ( src . position ( ) + blockSize ) ;', 'public void testWriteSingleBytes ( ) throws IOException {', 'assertFalse ( out . isOpen ( ) ) ;', 'private static class MockOutputStream extends OutputStream {', 'validate ( blockSize , msg , output ) ;', 'int bytesOut = src . remaining ( ) ;', 'fail ( \\\"Exception for partial write not thrown\\\" ) ;', 'this . out = out ;', 'buffer . put ( src ) ;', 'fail ( \\\"expected IO Exception\\\" ) ;', 'for ( int i = 0 ; i < reps ; i + + ) {', '@ Override', 'import java . nio . file . Path ;', 'import static org . junit . Assert . assertThat ;', 'private BufferAtATimeOutputChannel ( OutputStream out ) {', 'byte [ ] actual ) {', 'private final WritableByteChannel out ;', 'assertEquals ( \\\"no partial write\\\" , ( msg . length / blockSize ) * blockSize , bos . size ( ) ) ;', '\\\"Failed to write 512 bytes atomically . Only wrote 511\\\" , msg ) ;', 'String msg = String', 'testWriteAndPad ( 11 , \\\"hello world! \\\\\\\\ n\\\" , false ) ;']\\n               \\n               \\n\\n    MODIFIED SUBSYSTEMS: 1\\n    MODIFIED DIRECTORIES: 2\\n    MODIFIED FILES: 2\\n    ENTROPY: 0.9460432032784787\\n    LINES OF CODE ADDED: 574\\n    LINES OF CODE DELETED: 0\\n    LINES OF CODE IN A FILE BEFORE THE CHANGE: 0.0\\n    FIX: True\\n    DEVELOPERS THAT CHANGED THE MOFIFIED FILES: 1\\n    AVERAGE TIME BETWEEN THE LAST AND THE CURRENT CHANGE: 0.0\\n    UNIQUE CHANGES TO THE MODIFIED FILES: 0\\n    DEVELOPER EXPERIENCE: below average\\n    RECENT DEVELOPER EXPERIENCE: below average\\n    DEVELOPER EXPERIANCE ON THE CURRENT SUBSYSTEM: below average\\n    \\n               \",\n          \"COMMIT MESSAGE: PropertiesConfigurationLayout no longer reacts on RELOAD events . Because PropertiesConfiguration no longer extends AbstractFileConfiguration such events will never be fired .\\n              ADDED LINES: ['if ( !event . isBeforeUpdate ( ) )']\\n               REMOVED LINES: ['if ( AbstractFileConfiguration . EVENT RELOAD = = event . getType ( ) )', 'if ( event . isBeforeUpdate ( ) )', '{', 'else', 'clear ( ) ;', '}']\\n               \\n\\n    MODIFIED SUBSYSTEMS: 1\\n    MODIFIED DIRECTORIES: 2\\n    MODIFIED FILES: 2\\n    ENTROPY: 0.8112781244591328\\n    LINES OF CODE ADDED: 1\\n    LINES OF CODE DELETED: 39\\n    LINES OF CODE IN A FILE BEFORE THE CHANGE: 32.0\\n    FIX: False\\n    DEVELOPERS THAT CHANGED THE MOFIFIED FILES: 2\\n    AVERAGE TIME BETWEEN THE LAST AND THE CURRENT CHANGE: 15.940208333333333\\n    UNIQUE CHANGES TO THE MODIFIED FILES: 13\\n    DEVELOPER EXPERIENCE: above average\\n    RECENT DEVELOPER EXPERIENCE: above average\\n    DEVELOPER EXPERIANCE ON THE CURRENT SUBSYSTEM: above average\\n    \\n               \",\n          \"COMMIT MESSAGE: FIX : Can't download files containing space or + in their names by HTTP ( IVY - 923 )\\n              ADDED LINES: ['protected String normalizeToString ( URL url ) throws IOException {', 'ioe . initCause ( e ) ;', 'String uriString = uri . toString ( ) ;', 'throw ioe ;', '}', 'protected URL normalizeToURL ( URL url ) throws IOException {', 'import java . net . MalformedURLException ;', 'return url ;', 'import java . net . URI ;', '} catch ( URISyntaxException e ) {', 'url . getPort ( ) , url . getPath ( ) , url . getQuery ( ) , url . getRef ( ) ) ;', 'URI uri = new URI ( url . getProtocol ( ) , url . getUserInfo ( ) , url . getHost ( ) ,', 'IOException ioe = new MalformedURLException ( \\\"Couldn\\\\'t convert \\\\'\\\"', 'try {', '+ url . toString ( ) + \\\"\\\\' to a valid URI\\\" ) ;', 'return new URL ( normalizeToString ( url ) ) ;', 'return ESCAPE PATTERN . matcher ( uriString ) . replaceAll ( \\\" % $1\\\" ) ;', 'private static final Pattern ESCAPE PATTERN = Pattern . compile ( \\\" % 25 ( [ 0 - 9a - fA - F ] [ 0 - 9a - fA - F ] ) \\\" ) ;', 'if ( !\\\"http\\\" . equals ( url . getProtocol ( ) ) & & !\\\"https\\\" . equals ( url . getProtocol ( ) ) ) {', 'return url . toExternalForm ( ) ;', 'import java . util . regex . Pattern ;', 'import java . net . URISyntaxException ;', 'uriString = uriString . replaceAll ( \\\" \\\\\\\\ \\\\\\\\ + \\\" , \\\" % 2B\\\" ) ;']\\n               \\n               \\n\\n    MODIFIED SUBSYSTEMS: 1\\n    MODIFIED DIRECTORIES: 1\\n    MODIFIED FILES: 3\\n    ENTROPY: 1.3049201523582001\\n    LINES OF CODE ADDED: 47\\n    LINES OF CODE DELETED: 33\\n    LINES OF CODE IN A FILE BEFORE THE CHANGE: 85.66666666666667\\n    FIX: True\\n    DEVELOPERS THAT CHANGED THE MOFIFIED FILES: 4\\n    AVERAGE TIME BETWEEN THE LAST AND THE CURRENT CHANGE: 5.399390432098765\\n    UNIQUE CHANGES TO THE MODIFIED FILES: 40\\n    DEVELOPER EXPERIENCE: above average\\n    RECENT DEVELOPER EXPERIENCE: above average\\n    DEVELOPER EXPERIANCE ON THE CURRENT SUBSYSTEM: above average\\n    \\n               \"\n        ],\n        \"semantic_type\": \"\",\n        \"description\": \"\"\n      }\n    },\n    {\n      \"column\": \"label\",\n      \"properties\": {\n        \"dtype\": \"number\",\n        \"std\": 0.2813895184542628,\n        \"min\": 0.0,\n        \"max\": 1.0,\n        \"num_unique_values\": 2,\n        \"samples\": [\n          0.0,\n          1.0\n        ],\n        \"semantic_type\": \"\",\n        \"description\": \"\"\n      }\n    },\n    {\n      \"column\": \"pred_prob\",\n      \"properties\": {\n        \"dtype\": \"object\",\n        \"semantic_type\": \"\",\n        \"description\": \"\"\n      }\n    },\n    {\n      \"column\": \"predictions\",\n      \"properties\": {\n        \"dtype\": \"number\",\n        \"std\": 0,\n        \"min\": 0,\n        \"max\": 1,\n        \"num_unique_values\": 2,\n        \"samples\": [\n          1,\n          0\n        ],\n        \"semantic_type\": \"\",\n        \"description\": \"\"\n      }\n    }\n  ]\n}",
       "type": "dataframe",
       "variable_name": "test_df"
      },
      "text/html": [
       "\n",
       "  <div id=\"df-14ea39c8-0e99-4bd8-b429-c85be2f8d507\" class=\"colab-df-container\">\n",
       "    <div>\n",
       "<style scoped>\n",
       "    .dataframe tbody tr th:only-of-type {\n",
       "        vertical-align: middle;\n",
       "    }\n",
       "\n",
       "    .dataframe tbody tr th {\n",
       "        vertical-align: top;\n",
       "    }\n",
       "\n",
       "    .dataframe thead th {\n",
       "        text-align: right;\n",
       "    }\n",
       "</style>\n",
       "<table border=\"1\" class=\"dataframe\">\n",
       "  <thead>\n",
       "    <tr style=\"text-align: right;\">\n",
       "      <th></th>\n",
       "      <th>text</th>\n",
       "      <th>label</th>\n",
       "      <th>pred_prob</th>\n",
       "      <th>predictions</th>\n",
       "    </tr>\n",
       "  </thead>\n",
       "  <tbody>\n",
       "    <tr>\n",
       "      <th>0</th>\n",
       "      <td>COMMIT MESSAGE: FIX : Invalid URL when using d...</td>\n",
       "      <td>1.0</td>\n",
       "      <td>0.4597</td>\n",
       "      <td>0</td>\n",
       "    </tr>\n",
       "    <tr>\n",
       "      <th>1</th>\n",
       "      <td>COMMIT MESSAGE: IMPROVEMENT : Parse license in...</td>\n",
       "      <td>1.0</td>\n",
       "      <td>0.416</td>\n",
       "      <td>0</td>\n",
       "    </tr>\n",
       "    <tr>\n",
       "      <th>2</th>\n",
       "      <td>COMMIT MESSAGE: IMPROVEMENT : write home page ...</td>\n",
       "      <td>1.0</td>\n",
       "      <td>0.893</td>\n",
       "      <td>1</td>\n",
       "    </tr>\n",
       "    <tr>\n",
       "      <th>3</th>\n",
       "      <td>COMMIT MESSAGE: FIX : Ivy ibiblio resolver cho...</td>\n",
       "      <td>1.0</td>\n",
       "      <td>0.8564</td>\n",
       "      <td>1</td>\n",
       "    </tr>\n",
       "    <tr>\n",
       "      <th>4</th>\n",
       "      <td>COMMIT MESSAGE: fix style\\n              ADDED...</td>\n",
       "      <td>1.0</td>\n",
       "      <td>0.719</td>\n",
       "      <td>1</td>\n",
       "    </tr>\n",
       "  </tbody>\n",
       "</table>\n",
       "</div>\n",
       "    <div class=\"colab-df-buttons\">\n",
       "\n",
       "  <div class=\"colab-df-container\">\n",
       "    <button class=\"colab-df-convert\" onclick=\"convertToInteractive('df-14ea39c8-0e99-4bd8-b429-c85be2f8d507')\"\n",
       "            title=\"Convert this dataframe to an interactive table.\"\n",
       "            style=\"display:none;\">\n",
       "\n",
       "  <svg xmlns=\"http://www.w3.org/2000/svg\" height=\"24px\" viewBox=\"0 -960 960 960\">\n",
       "    <path d=\"M120-120v-720h720v720H120Zm60-500h600v-160H180v160Zm220 220h160v-160H400v160Zm0 220h160v-160H400v160ZM180-400h160v-160H180v160Zm440 0h160v-160H620v160ZM180-180h160v-160H180v160Zm440 0h160v-160H620v160Z\"/>\n",
       "  </svg>\n",
       "    </button>\n",
       "\n",
       "  <style>\n",
       "    .colab-df-container {\n",
       "      display:flex;\n",
       "      gap: 12px;\n",
       "    }\n",
       "\n",
       "    .colab-df-convert {\n",
       "      background-color: #E8F0FE;\n",
       "      border: none;\n",
       "      border-radius: 50%;\n",
       "      cursor: pointer;\n",
       "      display: none;\n",
       "      fill: #1967D2;\n",
       "      height: 32px;\n",
       "      padding: 0 0 0 0;\n",
       "      width: 32px;\n",
       "    }\n",
       "\n",
       "    .colab-df-convert:hover {\n",
       "      background-color: #E2EBFA;\n",
       "      box-shadow: 0px 1px 2px rgba(60, 64, 67, 0.3), 0px 1px 3px 1px rgba(60, 64, 67, 0.15);\n",
       "      fill: #174EA6;\n",
       "    }\n",
       "\n",
       "    .colab-df-buttons div {\n",
       "      margin-bottom: 4px;\n",
       "    }\n",
       "\n",
       "    [theme=dark] .colab-df-convert {\n",
       "      background-color: #3B4455;\n",
       "      fill: #D2E3FC;\n",
       "    }\n",
       "\n",
       "    [theme=dark] .colab-df-convert:hover {\n",
       "      background-color: #434B5C;\n",
       "      box-shadow: 0px 1px 3px 1px rgba(0, 0, 0, 0.15);\n",
       "      filter: drop-shadow(0px 1px 2px rgba(0, 0, 0, 0.3));\n",
       "      fill: #FFFFFF;\n",
       "    }\n",
       "  </style>\n",
       "\n",
       "    <script>\n",
       "      const buttonEl =\n",
       "        document.querySelector('#df-14ea39c8-0e99-4bd8-b429-c85be2f8d507 button.colab-df-convert');\n",
       "      buttonEl.style.display =\n",
       "        google.colab.kernel.accessAllowed ? 'block' : 'none';\n",
       "\n",
       "      async function convertToInteractive(key) {\n",
       "        const element = document.querySelector('#df-14ea39c8-0e99-4bd8-b429-c85be2f8d507');\n",
       "        const dataTable =\n",
       "          await google.colab.kernel.invokeFunction('convertToInteractive',\n",
       "                                                    [key], {});\n",
       "        if (!dataTable) return;\n",
       "\n",
       "        const docLinkHtml = 'Like what you see? Visit the ' +\n",
       "          '<a target=\"_blank\" href=https://colab.research.google.com/notebooks/data_table.ipynb>data table notebook</a>'\n",
       "          + ' to learn more about interactive tables.';\n",
       "        element.innerHTML = '';\n",
       "        dataTable['output_type'] = 'display_data';\n",
       "        await google.colab.output.renderOutput(dataTable, element);\n",
       "        const docLink = document.createElement('div');\n",
       "        docLink.innerHTML = docLinkHtml;\n",
       "        element.appendChild(docLink);\n",
       "      }\n",
       "    </script>\n",
       "  </div>\n",
       "\n",
       "\n",
       "    <div id=\"df-e3f5e7c0-0544-4c9f-92cf-d2307beaf937\">\n",
       "      <button class=\"colab-df-quickchart\" onclick=\"quickchart('df-e3f5e7c0-0544-4c9f-92cf-d2307beaf937')\"\n",
       "                title=\"Suggest charts\"\n",
       "                style=\"display:none;\">\n",
       "\n",
       "<svg xmlns=\"http://www.w3.org/2000/svg\" height=\"24px\"viewBox=\"0 0 24 24\"\n",
       "     width=\"24px\">\n",
       "    <g>\n",
       "        <path d=\"M19 3H5c-1.1 0-2 .9-2 2v14c0 1.1.9 2 2 2h14c1.1 0 2-.9 2-2V5c0-1.1-.9-2-2-2zM9 17H7v-7h2v7zm4 0h-2V7h2v10zm4 0h-2v-4h2v4z\"/>\n",
       "    </g>\n",
       "</svg>\n",
       "      </button>\n",
       "\n",
       "<style>\n",
       "  .colab-df-quickchart {\n",
       "      --bg-color: #E8F0FE;\n",
       "      --fill-color: #1967D2;\n",
       "      --hover-bg-color: #E2EBFA;\n",
       "      --hover-fill-color: #174EA6;\n",
       "      --disabled-fill-color: #AAA;\n",
       "      --disabled-bg-color: #DDD;\n",
       "  }\n",
       "\n",
       "  [theme=dark] .colab-df-quickchart {\n",
       "      --bg-color: #3B4455;\n",
       "      --fill-color: #D2E3FC;\n",
       "      --hover-bg-color: #434B5C;\n",
       "      --hover-fill-color: #FFFFFF;\n",
       "      --disabled-bg-color: #3B4455;\n",
       "      --disabled-fill-color: #666;\n",
       "  }\n",
       "\n",
       "  .colab-df-quickchart {\n",
       "    background-color: var(--bg-color);\n",
       "    border: none;\n",
       "    border-radius: 50%;\n",
       "    cursor: pointer;\n",
       "    display: none;\n",
       "    fill: var(--fill-color);\n",
       "    height: 32px;\n",
       "    padding: 0;\n",
       "    width: 32px;\n",
       "  }\n",
       "\n",
       "  .colab-df-quickchart:hover {\n",
       "    background-color: var(--hover-bg-color);\n",
       "    box-shadow: 0 1px 2px rgba(60, 64, 67, 0.3), 0 1px 3px 1px rgba(60, 64, 67, 0.15);\n",
       "    fill: var(--button-hover-fill-color);\n",
       "  }\n",
       "\n",
       "  .colab-df-quickchart-complete:disabled,\n",
       "  .colab-df-quickchart-complete:disabled:hover {\n",
       "    background-color: var(--disabled-bg-color);\n",
       "    fill: var(--disabled-fill-color);\n",
       "    box-shadow: none;\n",
       "  }\n",
       "\n",
       "  .colab-df-spinner {\n",
       "    border: 2px solid var(--fill-color);\n",
       "    border-color: transparent;\n",
       "    border-bottom-color: var(--fill-color);\n",
       "    animation:\n",
       "      spin 1s steps(1) infinite;\n",
       "  }\n",
       "\n",
       "  @keyframes spin {\n",
       "    0% {\n",
       "      border-color: transparent;\n",
       "      border-bottom-color: var(--fill-color);\n",
       "      border-left-color: var(--fill-color);\n",
       "    }\n",
       "    20% {\n",
       "      border-color: transparent;\n",
       "      border-left-color: var(--fill-color);\n",
       "      border-top-color: var(--fill-color);\n",
       "    }\n",
       "    30% {\n",
       "      border-color: transparent;\n",
       "      border-left-color: var(--fill-color);\n",
       "      border-top-color: var(--fill-color);\n",
       "      border-right-color: var(--fill-color);\n",
       "    }\n",
       "    40% {\n",
       "      border-color: transparent;\n",
       "      border-right-color: var(--fill-color);\n",
       "      border-top-color: var(--fill-color);\n",
       "    }\n",
       "    60% {\n",
       "      border-color: transparent;\n",
       "      border-right-color: var(--fill-color);\n",
       "    }\n",
       "    80% {\n",
       "      border-color: transparent;\n",
       "      border-right-color: var(--fill-color);\n",
       "      border-bottom-color: var(--fill-color);\n",
       "    }\n",
       "    90% {\n",
       "      border-color: transparent;\n",
       "      border-bottom-color: var(--fill-color);\n",
       "    }\n",
       "  }\n",
       "</style>\n",
       "\n",
       "      <script>\n",
       "        async function quickchart(key) {\n",
       "          const quickchartButtonEl =\n",
       "            document.querySelector('#' + key + ' button');\n",
       "          quickchartButtonEl.disabled = true;  // To prevent multiple clicks.\n",
       "          quickchartButtonEl.classList.add('colab-df-spinner');\n",
       "          try {\n",
       "            const charts = await google.colab.kernel.invokeFunction(\n",
       "                'suggestCharts', [key], {});\n",
       "          } catch (error) {\n",
       "            console.error('Error during call to suggestCharts:', error);\n",
       "          }\n",
       "          quickchartButtonEl.classList.remove('colab-df-spinner');\n",
       "          quickchartButtonEl.classList.add('colab-df-quickchart-complete');\n",
       "        }\n",
       "        (() => {\n",
       "          let quickchartButtonEl =\n",
       "            document.querySelector('#df-e3f5e7c0-0544-4c9f-92cf-d2307beaf937 button');\n",
       "          quickchartButtonEl.style.display =\n",
       "            google.colab.kernel.accessAllowed ? 'block' : 'none';\n",
       "        })();\n",
       "      </script>\n",
       "    </div>\n",
       "\n",
       "    </div>\n",
       "  </div>\n"
      ],
      "text/plain": [
       "                                                text  label pred_prob  \\\n",
       "0  COMMIT MESSAGE: FIX : Invalid URL when using d...    1.0    0.4597   \n",
       "1  COMMIT MESSAGE: IMPROVEMENT : Parse license in...    1.0     0.416   \n",
       "2  COMMIT MESSAGE: IMPROVEMENT : write home page ...    1.0     0.893   \n",
       "3  COMMIT MESSAGE: FIX : Ivy ibiblio resolver cho...    1.0    0.8564   \n",
       "4  COMMIT MESSAGE: fix style\\n              ADDED...    1.0     0.719   \n",
       "\n",
       "   predictions  \n",
       "0            0  \n",
       "1            0  \n",
       "2            1  \n",
       "3            1  \n",
       "4            1  "
      ]
     },
     "execution_count": 49,
     "metadata": {},
     "output_type": "execute_result"
    }
   ],
   "source": [
    "test_df.head()"
   ]
  },
  {
   "cell_type": "code",
   "execution_count": null,
   "metadata": {
    "id": "GqI-yWtgFTn_"
   },
   "outputs": [],
   "source": [
    "import numpy as np"
   ]
  },
  {
   "cell_type": "code",
   "execution_count": null,
   "metadata": {
    "id": "fOvlUzpQFWGD"
   },
   "outputs": [],
   "source": [
    "get_metrics_result(test_df)"
   ]
  },
  {
   "cell_type": "markdown",
   "metadata": {
    "id": "d7LanBLdpt9o"
   },
   "source": [
    "### Semantic features + expert features"
   ]
  },
  {
   "cell_type": "code",
   "execution_count": null,
   "metadata": {
    "id": "wmYjAN_eqpU3"
   },
   "outputs": [],
   "source": [
    "filename = \"data/features_valid.pkl\""
   ]
  },
  {
   "cell_type": "code",
   "execution_count": null,
   "metadata": {
    "colab": {
     "base_uri": "https://localhost:8080/"
    },
    "id": "EYUtbq_GquWW",
    "outputId": "5b196a41-8b3c-4305-c110-f42e36f6d846"
   },
   "outputs": [
    {
     "name": "stderr",
     "output_type": "stream",
     "text": [
      "<ipython-input-22-b6d822b26641>:2: DeprecationWarning: numpy.core.numeric is deprecated and has been renamed to numpy._core.numeric. The numpy._core namespace contains private NumPy internals and its use is discouraged, as NumPy internals can change without warning in any release. In practice, most real-world usage of numpy.core is to access functionality in the public NumPy API. If that is the case, use the public NumPy API. If not, you are using NumPy internals. If you would still like to access an internal attribute, use numpy._core.numeric._frombuffer.\n",
      "  features_eval = pickle.load(f)\n"
     ]
    }
   ],
   "source": [
    "with open(filename, 'rb') as f:\n",
    "    features_eval = pickle.load(f)"
   ]
  },
  {
   "cell_type": "code",
   "execution_count": null,
   "metadata": {
    "id": "BNApDwU4rPEc"
   },
   "outputs": [],
   "source": [
    "train_texts = []\n",
    "\n",
    "for i in range(len(changes_train[0])):\n",
    "    added_lines = \"\"\n",
    "    if len(changes_train[3][i][\"added_code\"]) > 0:\n",
    "        added_lines = \"ADDED LINES: \" + str(changes_train[3][i][\"added_code\"])\n",
    "\n",
    "    removed_lines = \"\"\n",
    "    if len(changes_train[3][i][\"removed_code\"]) > 0:\n",
    "        removed_lines = \"REMOVED LINES: \" + str(changes_train[3][i][\"removed_code\"])\n",
    "\n",
    "    exp_prompt = f\"\"\"\\n\n",
    "    MODIFIED SUBSYSTEMS: {features_train.loc[i,'ns']}\n",
    "    MODIFIED DIRECTORIES: {features_train.loc[i,'nd']}\n",
    "    MODIFIED FILES: {features_train.loc[i,'nf']}\n",
    "    ENTROPY: {features_train.loc[i,'entropy']}\n",
    "    LINES OF CODE ADDED: {features_train.loc[i,'la']}\n",
    "    LINES OF CODE DELETED: {features_train.loc[i,'ld']}\n",
    "    LINES OF CODE IN A FILE BEFORE THE CHANGE: {features_train.loc[i,'lt']}\n",
    "    FIX: {features_train.loc[i,'fix']}\n",
    "    DEVELOPERS THAT CHANGED THE MOFIFIED FILES: {features_train.loc[i,'ndev']}\n",
    "    AVERAGE TIME BETWEEN THE LAST AND THE CURRENT CHANGE: {features_train.loc[i,'age']}\n",
    "    UNIQUE CHANGES TO THE MODIFIED FILES: {features_train.loc[i,'nuc']}\n",
    "    DEVELOPER EXPERIENCE: {get_exp_desc(exp_mean, features_train.loc[i,'exp'])}\n",
    "    RECENT DEVELOPER EXPERIENCE: {get_exp_desc(rexp_mean, features_train.loc[i,'rexp'])}\n",
    "    DEVELOPER EXPERIANCE ON THE CURRENT SUBSYSTEM: {get_exp_desc(sexp_mean, features_train.loc[i,'sexp'])}\n",
    "    \"\"\"\n",
    "\n",
    "    text = f\"\"\"COMMIT MESSAGE: {changes_train[2][i]}\n",
    "              {added_lines}\n",
    "               {removed_lines}\n",
    "               {exp_prompt}\n",
    "               \"\"\"\n",
    "\n",
    "    train_texts.append(text)"
   ]
  },
  {
   "cell_type": "code",
   "execution_count": null,
   "metadata": {
    "colab": {
     "base_uri": "https://localhost:8080/"
    },
    "id": "yjMr6nf0x39x",
    "outputId": "4616edd3-b17a-4403-fb25-6759c255f5aa"
   },
   "outputs": [
    {
     "data": {
      "text/plain": [
       "5465"
      ]
     },
     "execution_count": 24,
     "metadata": {},
     "output_type": "execute_result"
    }
   ],
   "source": [
    "len(changes_eval[0])"
   ]
  },
  {
   "cell_type": "code",
   "execution_count": null,
   "metadata": {
    "id": "ALqSgGbhuVbQ"
   },
   "outputs": [],
   "source": [
    "eval_texts = []\n",
    "\n",
    "for i in range(len(changes_eval[0])):\n",
    "    added_lines = \"\"\n",
    "    if len(changes_eval[3][i][\"added_code\"]) > 0:\n",
    "        added_lines = \"ADDED LINES: \" + str(changes_eval[3][i][\"added_code\"])\n",
    "\n",
    "    removed_lines = \"\"\n",
    "    if len(changes_eval[3][i][\"removed_code\"]) > 0:\n",
    "        removed_lines = \"REMOVED LINES: \" + str(changes_eval[3][i][\"removed_code\"])\n",
    "\n",
    "    exp_prompt = f\"\"\"\\n\n",
    "    MODIFIED SUBSYSTEMS: {features_eval.loc[i,'ns']}\n",
    "    MODIFIED DIRECTORIES: {features_eval.loc[i,'nd']}\n",
    "    MODIFIED FILES: {features_eval.loc[i,'nf']}\n",
    "    ENTROPY: {features_eval.loc[i,'entropy']}\n",
    "    LINES OF CODE ADDED: {features_eval.loc[i,'la']}\n",
    "    LINES OF CODE DELETED: {features_eval.loc[i,'ld']}\n",
    "    LINES OF CODE IN A FILE BEFORE THE CHANGE: {features_eval.loc[i,'lt']}\n",
    "    FIX: {features_eval.loc[i,'fix']}\n",
    "    DEVELOPERS THAT CHANGED THE MOFIFIED FILES: {features_eval.loc[i,'ndev']}\n",
    "    AVERAGE TIME BETWEEN THE LAST AND THE CURRENT CHANGE: {features_eval.loc[i,'age']}\n",
    "    UNIQUE CHANGES TO THE MODIFIED FILES: {features_eval.loc[i,'nuc']}\n",
    "    DEVELOPER EXPERIENCE: {get_exp_desc(exp_mean, features_eval.loc[i,'exp'])}\n",
    "    RECENT DEVELOPER EXPERIENCE: {get_exp_desc(rexp_mean, features_eval.loc[i,'rexp'])}\n",
    "    DEVELOPER EXPERIANCE ON THE CURRENT SUBSYSTEM: {get_exp_desc(sexp_mean, features_eval.loc[i,'sexp'])}\n",
    "    \"\"\"\n",
    "\n",
    "    text = f\"\"\"COMMIT MESSAGE: {changes_eval[2][i]}\n",
    "              {added_lines}\n",
    "               {removed_lines}\n",
    "               {exp_prompt}\n",
    "               \"\"\"\n",
    "\n",
    "    eval_texts.append(text)"
   ]
  },
  {
   "cell_type": "code",
   "execution_count": null,
   "metadata": {
    "colab": {
     "base_uri": "https://localhost:8080/"
    },
    "id": "3jSK_Htatl1Y",
    "outputId": "7726e72e-7c00-425e-c167-25fc42c74b7e"
   },
   "outputs": [
    {
     "name": "stdout",
     "output_type": "stream",
     "text": [
      "COMMIT MESSAGE: publish task now uses srcivypattern for ivy files finding for delivery\n",
      "              ADDED LINES: ['public String getSrcivypattern ( ) {', 'File ivyFile = new File ( cache , IvyPatternHelper . substitute ( srcivypattern , organisation , module , pubRevision , \"ivy\" , \"ivy\" , \"xml\" ) ) ;', 'srcivypattern = artifactspattern ;', 'if ( srcivypattern = = null ) {', 'public void setSrcivypattern ( String destivypattern ) {', 'srcivypattern = destivypattern ;', 'deliver . setDeliverpattern ( getSrcivypattern ( ) ) ;', 'private String srcivypattern ;', 'return srcivypattern ;', 'Collection missing = ivy . publish ( mrid , pubRevision , cache , artifactspattern , publishResolverName , publishivy ? srcivypattern : null , doValidate ( ivy ) ) ;', '}']\n",
      "               REMOVED LINES: ['deliver . setDeliverpattern ( getDeliverivypattern ( ) ) ;', 'deliverivypattern = artifactspattern ;', 'File ivyFile = new File ( cache , IvyPatternHelper . substitute ( deliverivypattern , organisation , module , pubRevision , \"ivy\" , \"ivy\" , \"xml\" ) ) ;', 'return deliverivypattern ;', 'private String deliverivypattern ;', 'if ( deliverivypattern = = null ) {', 'Collection missing = ivy . publish ( mrid , pubRevision , cache , artifactspattern , publishResolverName , publishivy , doValidate ( ivy ) ) ;', 'deliverivypattern = destivypattern ;']\n",
      "               \n",
      "\n",
      "    MODIFIED SUBSYSTEMS: 1\n",
      "    MODIFIED DIRECTORIES: 2\n",
      "    MODIFIED FILES: 2\n",
      "    ENTROPY: 0.8112781244591328\n",
      "    LINES OF CODE ADDED: 28\n",
      "    LINES OF CODE DELETED: 12\n",
      "    LINES OF CODE IN A FILE BEFORE THE CHANGE: 849.0\n",
      "    FIX: False\n",
      "    DEVELOPERS THAT CHANGED THE MOFIFIED FILES: 1\n",
      "    AVERAGE TIME BETWEEN THE LAST AND THE CURRENT CHANGE: 0.2997685185185185\n",
      "    UNIQUE CHANGES TO THE MODIFIED FILES: 3\n",
      "    DEVELOPER EXPERIENCE: below average\n",
      "    RECENT DEVELOPER EXPERIENCE: below average\n",
      "    DEVELOPER EXPERIANCE ON THE CURRENT SUBSYSTEM: below average\n",
      "    \n",
      "               \n"
     ]
    }
   ],
   "source": [
    "print(train_texts[0])"
   ]
  },
  {
   "cell_type": "code",
   "execution_count": null,
   "metadata": {
    "colab": {
     "base_uri": "https://localhost:8080/"
    },
    "id": "pU-vQ3NxyLbq",
    "outputId": "f65a05dd-ab86-4628-a945-026faeca166a"
   },
   "outputs": [
    {
     "data": {
      "text/plain": [
       "(16374, 5465, 5480)"
      ]
     },
     "execution_count": 27,
     "metadata": {},
     "output_type": "execute_result"
    }
   ],
   "source": [
    "len(train_texts), len(eval_texts), len(test_texts)"
   ]
  },
  {
   "cell_type": "markdown",
   "metadata": {
    "id": "vcL2e75SqYtn"
   },
   "source": [
    "### Labels"
   ]
  },
  {
   "cell_type": "code",
   "execution_count": null,
   "metadata": {
    "id": "43EGOyv90HAW"
   },
   "outputs": [],
   "source": [
    "y_true_train = []\n",
    "\n",
    "for i in range(len(changes_train[0])):\n",
    "    y_true_train.append(changes_train[1][i])"
   ]
  },
  {
   "cell_type": "code",
   "execution_count": null,
   "metadata": {
    "id": "kwoeEixo0L65"
   },
   "outputs": [],
   "source": [
    "y_true_eval = []\n",
    "\n",
    "for i in range(len(changes_eval[0])):\n",
    "    y_true_eval.append(changes_eval[1][i])"
   ]
  },
  {
   "cell_type": "code",
   "execution_count": null,
   "metadata": {
    "colab": {
     "base_uri": "https://localhost:8080/"
    },
    "id": "WDbPCjpP3Lpr",
    "outputId": "72c51c72-8253-4803-9e9a-9ec012f58637"
   },
   "outputs": [
    {
     "data": {
      "text/plain": [
       "1390.0"
      ]
     },
     "execution_count": 30,
     "metadata": {},
     "output_type": "execute_result"
    }
   ],
   "source": [
    "sum(y_true_train)"
   ]
  },
  {
   "cell_type": "code",
   "execution_count": null,
   "metadata": {
    "colab": {
     "base_uri": "https://localhost:8080/"
    },
    "id": "K26IZ1xV27Ln",
    "outputId": "81d2b9d3-3e6b-4320-c1e8-23a333e5438d"
   },
   "outputs": [
    {
     "data": {
      "text/plain": [
       "0.08489068034689141"
      ]
     },
     "execution_count": 31,
     "metadata": {},
     "output_type": "execute_result"
    }
   ],
   "source": [
    "sum(y_true_train)/len(y_true_train)"
   ]
  },
  {
   "cell_type": "code",
   "execution_count": null,
   "metadata": {
    "id": "vcNVYH0G139c"
   },
   "outputs": [],
   "source": [
    "import pandas as pd\n",
    "\n",
    "train_df = pd.DataFrame({'text': train_texts, 'label': y_true_train})\n",
    "eval_df = pd.DataFrame({'text': eval_texts, 'label': y_true_eval})"
   ]
  },
  {
   "cell_type": "code",
   "execution_count": null,
   "metadata": {
    "colab": {
     "base_uri": "https://localhost:8080/",
     "height": 178
    },
    "id": "RCn3f8GujdE2",
    "outputId": "a810d576-3648-4329-89da-46ba97bbbee1"
   },
   "outputs": [
    {
     "data": {
      "text/html": [
       "<div>\n",
       "<style scoped>\n",
       "    .dataframe tbody tr th:only-of-type {\n",
       "        vertical-align: middle;\n",
       "    }\n",
       "\n",
       "    .dataframe tbody tr th {\n",
       "        vertical-align: top;\n",
       "    }\n",
       "\n",
       "    .dataframe thead th {\n",
       "        text-align: right;\n",
       "    }\n",
       "</style>\n",
       "<table border=\"1\" class=\"dataframe\">\n",
       "  <thead>\n",
       "    <tr style=\"text-align: right;\">\n",
       "      <th></th>\n",
       "      <th>proportion</th>\n",
       "    </tr>\n",
       "    <tr>\n",
       "      <th>label</th>\n",
       "      <th></th>\n",
       "    </tr>\n",
       "  </thead>\n",
       "  <tbody>\n",
       "    <tr>\n",
       "      <th>0.0</th>\n",
       "      <td>0.915109</td>\n",
       "    </tr>\n",
       "    <tr>\n",
       "      <th>1.0</th>\n",
       "      <td>0.084891</td>\n",
       "    </tr>\n",
       "  </tbody>\n",
       "</table>\n",
       "</div><br><label><b>dtype:</b> float64</label>"
      ],
      "text/plain": [
       "label\n",
       "0.0    0.915109\n",
       "1.0    0.084891\n",
       "Name: proportion, dtype: float64"
      ]
     },
     "execution_count": 33,
     "metadata": {},
     "output_type": "execute_result"
    }
   ],
   "source": [
    "train_df.label.value_counts(normalize=True)"
   ]
  },
  {
   "cell_type": "code",
   "execution_count": null,
   "metadata": {
    "id": "kJ9cld2qj3sG"
   },
   "outputs": [],
   "source": [
    "# Shuffle the dataframes to ensure randomness\n",
    "train_df = train_df.sample(frac=1).reset_index(drop=True)"
   ]
  },
  {
   "cell_type": "code",
   "execution_count": null,
   "metadata": {
    "colab": {
     "base_uri": "https://localhost:8080/",
     "height": 178
    },
    "id": "-FilIZPMkO2m",
    "outputId": "f2d25a99-1df8-42e3-b3b4-cb804e90d3cf"
   },
   "outputs": [
    {
     "data": {
      "text/html": [
       "<div>\n",
       "<style scoped>\n",
       "    .dataframe tbody tr th:only-of-type {\n",
       "        vertical-align: middle;\n",
       "    }\n",
       "\n",
       "    .dataframe tbody tr th {\n",
       "        vertical-align: top;\n",
       "    }\n",
       "\n",
       "    .dataframe thead th {\n",
       "        text-align: right;\n",
       "    }\n",
       "</style>\n",
       "<table border=\"1\" class=\"dataframe\">\n",
       "  <thead>\n",
       "    <tr style=\"text-align: right;\">\n",
       "      <th></th>\n",
       "      <th>count</th>\n",
       "    </tr>\n",
       "    <tr>\n",
       "      <th>label</th>\n",
       "      <th></th>\n",
       "    </tr>\n",
       "  </thead>\n",
       "  <tbody>\n",
       "    <tr>\n",
       "      <th>0.0</th>\n",
       "      <td>14984</td>\n",
       "    </tr>\n",
       "    <tr>\n",
       "      <th>1.0</th>\n",
       "      <td>1390</td>\n",
       "    </tr>\n",
       "  </tbody>\n",
       "</table>\n",
       "</div><br><label><b>dtype:</b> int64</label>"
      ],
      "text/plain": [
       "label\n",
       "0.0    14984\n",
       "1.0     1390\n",
       "Name: count, dtype: int64"
      ]
     },
     "execution_count": 35,
     "metadata": {},
     "output_type": "execute_result"
    }
   ],
   "source": [
    "train_df.label.value_counts()"
   ]
  },
  {
   "cell_type": "code",
   "execution_count": null,
   "metadata": {
    "colab": {
     "base_uri": "https://localhost:8080/"
    },
    "id": "S7DEHf_s6ZhQ",
    "outputId": "e4b61641-f9ec-4971-d255-06b4ece7a28a"
   },
   "outputs": [
    {
     "name": "stdout",
     "output_type": "stream",
     "text": [
      "Requirement already satisfied: datasets in /usr/local/lib/python3.11/dist-packages (3.5.0)\n",
      "Requirement already satisfied: filelock in /usr/local/lib/python3.11/dist-packages (from datasets) (3.18.0)\n",
      "Requirement already satisfied: numpy>=1.17 in /usr/local/lib/python3.11/dist-packages (from datasets) (2.0.2)\n",
      "Requirement already satisfied: pyarrow>=15.0.0 in /usr/local/lib/python3.11/dist-packages (from datasets) (18.1.0)\n",
      "Requirement already satisfied: dill<0.3.9,>=0.3.0 in /usr/local/lib/python3.11/dist-packages (from datasets) (0.3.8)\n",
      "Requirement already satisfied: pandas in /usr/local/lib/python3.11/dist-packages (from datasets) (2.2.2)\n",
      "Requirement already satisfied: requests>=2.32.2 in /usr/local/lib/python3.11/dist-packages (from datasets) (2.32.3)\n",
      "Requirement already satisfied: tqdm>=4.66.3 in /usr/local/lib/python3.11/dist-packages (from datasets) (4.67.1)\n",
      "Requirement already satisfied: xxhash in /usr/local/lib/python3.11/dist-packages (from datasets) (3.5.0)\n",
      "Requirement already satisfied: multiprocess<0.70.17 in /usr/local/lib/python3.11/dist-packages (from datasets) (0.70.16)\n",
      "Requirement already satisfied: fsspec<=2024.12.0,>=2023.1.0 in /usr/local/lib/python3.11/dist-packages (from fsspec[http]<=2024.12.0,>=2023.1.0->datasets) (2024.12.0)\n",
      "Requirement already satisfied: aiohttp in /usr/local/lib/python3.11/dist-packages (from datasets) (3.11.15)\n",
      "Requirement already satisfied: huggingface-hub>=0.24.0 in /usr/local/lib/python3.11/dist-packages (from datasets) (0.30.2)\n",
      "Requirement already satisfied: packaging in /usr/local/lib/python3.11/dist-packages (from datasets) (24.2)\n",
      "Requirement already satisfied: pyyaml>=5.1 in /usr/local/lib/python3.11/dist-packages (from datasets) (6.0.2)\n",
      "Requirement already satisfied: aiohappyeyeballs>=2.3.0 in /usr/local/lib/python3.11/dist-packages (from aiohttp->datasets) (2.6.1)\n",
      "Requirement already satisfied: aiosignal>=1.1.2 in /usr/local/lib/python3.11/dist-packages (from aiohttp->datasets) (1.3.2)\n",
      "Requirement already satisfied: attrs>=17.3.0 in /usr/local/lib/python3.11/dist-packages (from aiohttp->datasets) (25.3.0)\n",
      "Requirement already satisfied: frozenlist>=1.1.1 in /usr/local/lib/python3.11/dist-packages (from aiohttp->datasets) (1.6.0)\n",
      "Requirement already satisfied: multidict<7.0,>=4.5 in /usr/local/lib/python3.11/dist-packages (from aiohttp->datasets) (6.4.3)\n",
      "Requirement already satisfied: propcache>=0.2.0 in /usr/local/lib/python3.11/dist-packages (from aiohttp->datasets) (0.3.1)\n",
      "Requirement already satisfied: yarl<2.0,>=1.17.0 in /usr/local/lib/python3.11/dist-packages (from aiohttp->datasets) (1.20.0)\n",
      "Requirement already satisfied: typing-extensions>=3.7.4.3 in /usr/local/lib/python3.11/dist-packages (from huggingface-hub>=0.24.0->datasets) (4.13.2)\n",
      "Requirement already satisfied: charset-normalizer<4,>=2 in /usr/local/lib/python3.11/dist-packages (from requests>=2.32.2->datasets) (3.4.1)\n",
      "Requirement already satisfied: idna<4,>=2.5 in /usr/local/lib/python3.11/dist-packages (from requests>=2.32.2->datasets) (3.10)\n",
      "Requirement already satisfied: urllib3<3,>=1.21.1 in /usr/local/lib/python3.11/dist-packages (from requests>=2.32.2->datasets) (2.3.0)\n",
      "Requirement already satisfied: certifi>=2017.4.17 in /usr/local/lib/python3.11/dist-packages (from requests>=2.32.2->datasets) (2025.1.31)\n",
      "Requirement already satisfied: python-dateutil>=2.8.2 in /usr/local/lib/python3.11/dist-packages (from pandas->datasets) (2.8.2)\n",
      "Requirement already satisfied: pytz>=2020.1 in /usr/local/lib/python3.11/dist-packages (from pandas->datasets) (2025.2)\n",
      "Requirement already satisfied: tzdata>=2022.7 in /usr/local/lib/python3.11/dist-packages (from pandas->datasets) (2025.2)\n",
      "Requirement already satisfied: six>=1.5 in /usr/local/lib/python3.11/dist-packages (from python-dateutil>=2.8.2->pandas->datasets) (1.17.0)\n"
     ]
    }
   ],
   "source": [
    "!pip install datasets"
   ]
  },
  {
   "cell_type": "code",
   "execution_count": null,
   "metadata": {
    "colab": {
     "base_uri": "https://localhost:8080/"
    },
    "id": "tB81JSZQkiGD",
    "outputId": "08aa8862-2c68-47fb-b7cb-eb6211bf7b8a"
   },
   "outputs": [
    {
     "data": {
      "text/plain": [
       "DatasetDict({\n",
       "    train: Dataset({\n",
       "        features: ['text', 'label'],\n",
       "        num_rows: 16374\n",
       "    })\n",
       "    val: Dataset({\n",
       "        features: ['text', 'label'],\n",
       "        num_rows: 5465\n",
       "    })\n",
       "    test: Dataset({\n",
       "        features: ['text', 'label'],\n",
       "        num_rows: 5480\n",
       "    })\n",
       "})"
      ]
     },
     "execution_count": 37,
     "metadata": {},
     "output_type": "execute_result"
    }
   ],
   "source": [
    "from datasets import DatasetDict, Dataset\n",
    "\n",
    "# Converting pandas DataFrames into Hugging Face Dataset objects:\n",
    "dataset_train = Dataset.from_pandas(train_df)\n",
    "dataset_val = Dataset.from_pandas(eval_df)\n",
    "dataset_test = Dataset.from_pandas(test_df)\n",
    "\n",
    "# Combine them into a single DatasetDict\n",
    "dataset = DatasetDict({\n",
    "    'train': dataset_train,\n",
    "    'val': dataset_val,\n",
    "    'test': dataset_test\n",
    "})\n",
    "dataset"
   ]
  },
  {
   "cell_type": "code",
   "execution_count": null,
   "metadata": {
    "colab": {
     "base_uri": "https://localhost:8080/"
    },
    "id": "i1i0aRaVksSs",
    "outputId": "4d84cd9a-f454-4eab-a257-25a0cbb9bff0"
   },
   "outputs": [
    {
     "data": {
      "text/plain": [
       "tensor([0.0849, 0.9151])"
      ]
     },
     "execution_count": 38,
     "metadata": {},
     "output_type": "execute_result"
    }
   ],
   "source": [
    "class_weights=(1/train_df.label.value_counts(normalize=True).sort_index()).tolist()\n",
    "class_weights=torch.tensor(class_weights)\n",
    "class_weights=class_weights/class_weights.sum()\n",
    "class_weights"
   ]
  },
  {
   "cell_type": "code",
   "execution_count": null,
   "metadata": {
    "id": "_PHjk0C1qHHG"
   },
   "outputs": [],
   "source": [
    "model.config.pad_token_id = tokenizer.pad_token_id\n",
    "model.config.use_cache = False\n",
    "model.config.pretraining_tp = 1"
   ]
  },
  {
   "cell_type": "markdown",
   "metadata": {
    "id": "d0mpUQBKnIjO"
   },
   "source": [
    "## Testing original checkpoint"
   ]
  },
  {
   "cell_type": "code",
   "execution_count": null,
   "metadata": {
    "colab": {
     "base_uri": "https://localhost:8080/"
    },
    "id": "g5GecgeXxqyk",
    "outputId": "343a1a9b-5ea7-4ac0-8c38-c2f60722ab26"
   },
   "outputs": [],
   "source": [
    "import numpy as np\n",
    "\n",
    "generate_predictions(model,test_df)\n",
    "get_metrics_result(test_df)"
   ]
  },
  {
   "cell_type": "markdown",
   "metadata": {
    "id": "hCSPSuhkqKfu"
   },
   "source": [
    "## Model training"
   ]
  },
  {
   "cell_type": "code",
   "execution_count": null,
   "metadata": {
    "id": "jbJYI934hTs9"
   },
   "outputs": [],
   "source": [
    "from peft import LoraConfig, prepare_model_for_kbit_training, get_peft_model\n",
    "\n",
    "lora_config = LoraConfig(\n",
    "    r = 16,\n",
    "    lora_alpha = 8,\n",
    "    target_modules = ['q_proj', 'k_proj', 'v_proj', 'o_proj'],\n",
    "    lora_dropout = 0.05,\n",
    "    bias = 'none',\n",
    "    task_type = 'SEQ_CLS'\n",
    ")\n",
    "\n",
    "model = prepare_model_for_kbit_training(model)\n",
    "model = get_peft_model(model, lora_config)"
   ]
  },
  {
   "cell_type": "code",
   "execution_count": null,
   "metadata": {
    "colab": {
     "base_uri": "https://localhost:8080/",
     "height": 113,
     "referenced_widgets": [
      "42cfa816322a4b69add73238f3254095",
      "21f861a618de4c038f3abb26b2868e0f",
      "3bc3e3ed1c64430283969f5233a57184",
      "012b1a853d9a4c10bcd7c18865bf5fe0",
      "c57ec3e8714e43ffa27fa6200dfbedd3",
      "ff3e271a1b8d48e488b64c9bca99ca76",
      "cfd32129ac214ee3a477f6e781d5d769",
      "4e684355a7c844a0ab2a9beef19c8050",
      "7cd629dc28f9487e923e804b451a1569",
      "5fa394dd6efd4985a693c002afec4483",
      "23d780aedef64708a0076bd20a218e82",
      "bcfe41e5cf244aa1b4169b347151ef25",
      "3ce0810ecd0e42b9b8d488ecf22edbc5",
      "88cafd8c151a49b887fa589b38dad6a5",
      "4fe13d9b01ef441bad0218701be33982",
      "f3d4ddbb372a4c22b5d50228b15a004a",
      "6908eaef889f4344b0ea625ffa0b8cda",
      "8e46badcbf6a4d93b9751c4b9ca3f04b",
      "e9a2867afb8c4043b11b0de24619618d",
      "2ae587d5483e4083966937c3e215f0af",
      "ced89f0b98a349bfb70ca13c7df3af70",
      "c418e2a5d2d348c2bf0705ebb961b69b",
      "2f9da277bcd64bbfa28d2debda326cc9",
      "ea262082ba6948dfb6dc513ee437bcf8",
      "3796a38d4b1440f49ceec90859d74702",
      "810f97e0cbda435cb028933ee20a35f9",
      "5cb62031f6b34ccb9d0b22c309d737a6",
      "bf6d4a55dc7a4f15a5036baa70ab0f85",
      "230f81b3e5c3466da65e6696038bfc94",
      "b261aa1691e84ff7bfd4f0468eee5d3c",
      "09d7753536f842f89d9c90ac3fc23b52",
      "5d3bc37bb81749c3a1aa8c35ac05e299",
      "423b0819c976453994eed2f0c7a130c5"
     ]
    },
    "id": "JnAlfr2juwt1",
    "outputId": "b286c1c0-034e-41b5-b962-31e8529f8f3f"
   },
   "outputs": [
    {
     "data": {
      "application/vnd.jupyter.widget-view+json": {
       "model_id": "42cfa816322a4b69add73238f3254095",
       "version_major": 2,
       "version_minor": 0
      },
      "text/plain": [
       "Map:   0%|          | 0/16374 [00:00<?, ? examples/s]"
      ]
     },
     "metadata": {},
     "output_type": "display_data"
    },
    {
     "data": {
      "application/vnd.jupyter.widget-view+json": {
       "model_id": "bcfe41e5cf244aa1b4169b347151ef25",
       "version_major": 2,
       "version_minor": 0
      },
      "text/plain": [
       "Map:   0%|          | 0/5465 [00:00<?, ? examples/s]"
      ]
     },
     "metadata": {},
     "output_type": "display_data"
    },
    {
     "data": {
      "application/vnd.jupyter.widget-view+json": {
       "model_id": "2f9da277bcd64bbfa28d2debda326cc9",
       "version_major": 2,
       "version_minor": 0
      },
      "text/plain": [
       "Map:   0%|          | 0/5480 [00:00<?, ? examples/s]"
      ]
     },
     "metadata": {},
     "output_type": "display_data"
    }
   ],
   "source": [
    "def data_preprocesing(row):\n",
    "    return tokenizer(row['text'], truncation=True, max_length=1024)\n",
    "\n",
    "tokenized_data = dataset.map(data_preprocesing, batched=True,\n",
    "remove_columns=['text'])\n",
    "tokenized_data.set_format(\"torch\")"
   ]
  },
  {
   "cell_type": "code",
   "execution_count": null,
   "metadata": {
    "id": "N8rlKdoauxRn"
   },
   "outputs": [],
   "source": [
    "from transformers import DataCollatorWithPadding\n",
    "\n",
    "collate_fn = DataCollatorWithPadding(tokenizer=tokenizer)"
   ]
  },
  {
   "cell_type": "code",
   "execution_count": null,
   "metadata": {
    "id": "Y75oiaXBvT6Q"
   },
   "outputs": [],
   "source": [
    "def compute_metrics(evaluations):\n",
    "    predictions, labels = evaluations\n",
    "    predictions = np.argmax(predictions, axis=1)\n",
    "    print({'balanced_accuracy' : balanced_accuracy_score(predictions, labels),\n",
    "    'accuracy':accuracy_score(predictions,labels)})\n",
    "\n",
    "    f1 = f1_score(labels, predictions, average=\"binary\")\n",
    "    precision = precision_score(labels, predictions, average=\"binary\")\n",
    "    recall = recall_score(labels, predictions, average=\"binary\")\n",
    "    roc_auc = roc_auc_score(labels, predictions)\n",
    "    print(\"F1 Score:\", f1)\n",
    "    print(\"Precision:\", precision)\n",
    "    print(\"Recall:\", recall)\n",
    "    print(\"ROC AUC Score:\", roc_auc)\n",
    "\n",
    "    return {'balanced_accuracy' : balanced_accuracy_score(predictions, labels),\n",
    "    'accuracy':accuracy_score(predictions,labels), \"f1\": f1, \"precision\": precision,\n",
    "            \"recall\": recall, \"roc_auc\": roc_auc}"
   ]
  },
  {
   "cell_type": "code",
   "execution_count": null,
   "metadata": {
    "id": "R1VtnAY8w0p6"
   },
   "outputs": [],
   "source": [
    "from transformers import Trainer, TrainingArguments\n",
    "import torch.nn.functional as F\n",
    "import numpy as np"
   ]
  },
  {
   "cell_type": "code",
   "execution_count": null,
   "metadata": {
    "id": "JV8QFOHBvljS"
   },
   "outputs": [],
   "source": [
    "class CustomTrainer(Trainer):\n",
    "    def __init__(self, *args, class_weights=None, **kwargs):\n",
    "        super().__init__(*args, **kwargs)\n",
    "        if class_weights is not None:\n",
    "            self.class_weights = torch.tensor(class_weights,\n",
    "            dtype=torch.float32).to(self.args.device)\n",
    "        else:\n",
    "            self.class_weights = None\n",
    "\n",
    "    def compute_loss(self, model, inputs, return_outputs=False,\n",
    "                     num_items_in_batch=None):\n",
    "        labels = inputs.pop(\"labels\").long()\n",
    "\n",
    "        outputs = model(**inputs)\n",
    "\n",
    "        logits = outputs.get('logits')\n",
    "\n",
    "        if self.class_weights is not None:\n",
    "            loss = F.cross_entropy(logits, labels, weight=self.class_weights)\n",
    "        else:\n",
    "            loss = F.cross_entropy(logits, labels)\n",
    "\n",
    "        return (loss, outputs) if return_outputs else loss"
   ]
  },
  {
   "cell_type": "code",
   "execution_count": null,
   "metadata": {
    "colab": {
     "base_uri": "https://localhost:8080/"
    },
    "id": "GizLC1IqIy6z",
    "outputId": "0abb90e0-b765-48f6-be6e-1800c571d88c"
   },
   "outputs": [
    {
     "name": "stdout",
     "output_type": "stream",
     "text": [
      "rm: cannot remove '/content/drive/MyDrive/UFPE/Tese/code_llama/auto/trained_weigths': No such file or directory\n"
     ]
    }
   ],
   "source": [
    "!rm -r /content/drive/MyDrive/UFPE/Tese/code_llama/auto/trained_weigths"
   ]
  },
  {
   "cell_type": "code",
   "execution_count": null,
   "metadata": {
    "id": "XBNgn4d6TXnj"
   },
   "outputs": [],
   "source": [
    "output_dir = \"/content/drive/MyDrive/UFPE/Tese/code_llama/auto/trained_weigths\""
   ]
  },
  {
   "cell_type": "code",
   "execution_count": null,
   "metadata": {
    "id": "3sacaTDmwJd7"
   },
   "outputs": [],
   "source": [
    "training_args = TrainingArguments(\n",
    "    output_dir = output_dir,\n",
    "    learning_rate = 1e-4,\n",
    "    per_device_train_batch_size = 16,\n",
    "    per_device_eval_batch_size = 16,\n",
    "    #per_device_train_batch_size = 4,\n",
    "    #per_device_eval_batch_size = 4,\n",
    "    num_train_epochs = 1,\n",
    "    logging_steps=1,\n",
    "    weight_decay = 0.01,\n",
    "    eval_strategy = 'epoch',\n",
    "    save_strategy = 'epoch',\n",
    "    load_best_model_at_end=True,\n",
    "    metric_for_best_model=\"f1\",\n",
    "    greater_is_better=True,\n",
    "    push_to_hub=False,\n",
    ")"
   ]
  },
  {
   "cell_type": "code",
   "execution_count": null,
   "metadata": {
    "id": "WkpOpoB7JJ-q"
   },
   "outputs": [],
   "source": [
    "torch.set_warn_always(False)"
   ]
  },
  {
   "cell_type": "code",
   "execution_count": null,
   "metadata": {
    "colab": {
     "base_uri": "https://localhost:8080/",
     "height": 1000
    },
    "id": "YyOuknnfxEza",
    "outputId": "bac43551-adc7-4ca5-e711-ab929367cf95"
   },
   "outputs": [],
   "source": [
    "trainer = CustomTrainer(\n",
    "    model = model,\n",
    "    args = training_args,\n",
    "    train_dataset = tokenized_data['train'],\n",
    "    eval_dataset = tokenized_data['val'],\n",
    "    tokenizer = tokenizer,\n",
    "    data_collator = collate_fn,\n",
    "    compute_metrics = compute_metrics,\n",
    "    class_weights=class_weights,\n",
    ")\n",
    "\n",
    "train_result = trainer.train()"
   ]
  },
  {
   "cell_type": "code",
   "execution_count": null,
   "metadata": {
    "colab": {
     "base_uri": "https://localhost:8080/"
    },
    "id": "Nvqnx3G00EoH",
    "outputId": "65eed160-4e9a-49ce-e5d2-5d601f9d4d9a"
   },
   "outputs": [],
   "source": [
    "trainer.save_model()\n",
    "tokenizer.save_pretrained(output_dir)"
   ]
  },
  {
   "cell_type": "code",
   "execution_count": null,
   "metadata": {
    "id": "HlWcpimF8fF6"
   },
   "outputs": [],
   "source": [
    "generate_predictions(model,test_df)\n",
    "get_metrics_result(test_df)"
   ]
  }
 ],
 "metadata": {
  "accelerator": "GPU",
  "colab": {
   "gpuType": "A100",
   "machine_shape": "hm",
   "provenance": []
  },
  "kernelspec": {
   "display_name": "Python 3 (ipykernel)",
   "language": "python",
   "name": "python3"
  },
  "language_info": {
   "codemirror_mode": {
    "name": "ipython",
    "version": 3
   },
   "file_extension": ".py",
   "mimetype": "text/x-python",
   "name": "python",
   "nbconvert_exporter": "python",
   "pygments_lexer": "ipython3",
   "version": "3.12.7"
  },
  "widgets": {
   "application/vnd.jupyter.widget-state+json": {
    "00ae020981c3490cb4ebcbefbffb2e3e": {
     "model_module": "@jupyter-widgets/controls",
     "model_module_version": "1.5.0",
     "model_name": "DescriptionStyleModel",
     "state": {
      "_model_module": "@jupyter-widgets/controls",
      "_model_module_version": "1.5.0",
      "_model_name": "DescriptionStyleModel",
      "_view_count": null,
      "_view_module": "@jupyter-widgets/base",
      "_view_module_version": "1.2.0",
      "_view_name": "StyleView",
      "description_width": ""
     }
    },
    "012b1a853d9a4c10bcd7c18865bf5fe0": {
     "model_module": "@jupyter-widgets/controls",
     "model_module_version": "1.5.0",
     "model_name": "HTMLModel",
     "state": {
      "_dom_classes": [],
      "_model_module": "@jupyter-widgets/controls",
      "_model_module_version": "1.5.0",
      "_model_name": "HTMLModel",
      "_view_count": null,
      "_view_module": "@jupyter-widgets/controls",
      "_view_module_version": "1.5.0",
      "_view_name": "HTMLView",
      "description": "",
      "description_tooltip": null,
      "layout": "IPY_MODEL_5fa394dd6efd4985a693c002afec4483",
      "placeholder": "​",
      "style": "IPY_MODEL_23d780aedef64708a0076bd20a218e82",
      "value": " 16374/16374 [00:10&lt;00:00, 1435.06 examples/s]"
     }
    },
    "0282baaa4c4e4a59ab43133b5d138605": {
     "model_module": "@jupyter-widgets/controls",
     "model_module_version": "1.5.0",
     "model_name": "HTMLModel",
     "state": {
      "_dom_classes": [],
      "_model_module": "@jupyter-widgets/controls",
      "_model_module_version": "1.5.0",
      "_model_name": "HTMLModel",
      "_view_count": null,
      "_view_module": "@jupyter-widgets/controls",
      "_view_module_version": "1.5.0",
      "_view_name": "HTMLView",
      "description": "",
      "description_tooltip": null,
      "layout": "IPY_MODEL_21c7e88bad534ad9b4a390f789493894",
      "placeholder": "​",
      "style": "IPY_MODEL_69edddfe50f94500997aef4107b276cd",
      "value": " 25.1k/25.1k [00:00&lt;00:00, 2.88MB/s]"
     }
    },
    "02b3e0aff8fc4a7da9a825d2c21af85f": {
     "model_module": "@jupyter-widgets/controls",
     "model_module_version": "1.5.0",
     "model_name": "DescriptionStyleModel",
     "state": {
      "_model_module": "@jupyter-widgets/controls",
      "_model_module_version": "1.5.0",
      "_model_name": "DescriptionStyleModel",
      "_view_count": null,
      "_view_module": "@jupyter-widgets/base",
      "_view_module_version": "1.2.0",
      "_view_name": "StyleView",
      "description_width": ""
     }
    },
    "035c7bfa28be45a2867e020c86628fad": {
     "model_module": "@jupyter-widgets/controls",
     "model_module_version": "1.5.0",
     "model_name": "HTMLModel",
     "state": {
      "_dom_classes": [],
      "_model_module": "@jupyter-widgets/controls",
      "_model_module_version": "1.5.0",
      "_model_name": "HTMLModel",
      "_view_count": null,
      "_view_module": "@jupyter-widgets/controls",
      "_view_module_version": "1.5.0",
      "_view_name": "HTMLView",
      "description": "",
      "description_tooltip": null,
      "layout": "IPY_MODEL_f26531c047224744990d1ed97bcc3950",
      "placeholder": "​",
      "style": "IPY_MODEL_d4a00d0f16c44cfa9b176ad2be3b6aba",
      "value": " 637/637 [00:00&lt;00:00, 71.8kB/s]"
     }
    },
    "046417f676c14d68be638e960e116754": {
     "model_module": "@jupyter-widgets/controls",
     "model_module_version": "1.5.0",
     "model_name": "DescriptionStyleModel",
     "state": {
      "_model_module": "@jupyter-widgets/controls",
      "_model_module_version": "1.5.0",
      "_model_name": "DescriptionStyleModel",
      "_view_count": null,
      "_view_module": "@jupyter-widgets/base",
      "_view_module_version": "1.2.0",
      "_view_name": "StyleView",
      "description_width": ""
     }
    },
    "07205d56f04e440982f9e3c0f82ad8f7": {
     "model_module": "@jupyter-widgets/controls",
     "model_module_version": "1.5.0",
     "model_name": "HTMLModel",
     "state": {
      "_dom_classes": [],
      "_model_module": "@jupyter-widgets/controls",
      "_model_module_version": "1.5.0",
      "_model_name": "HTMLModel",
      "_view_count": null,
      "_view_module": "@jupyter-widgets/controls",
      "_view_module_version": "1.5.0",
      "_view_name": "HTMLView",
      "description": "",
      "description_tooltip": null,
      "layout": "IPY_MODEL_d18238ca5a744b2296c4b315f9679625",
      "placeholder": "​",
      "style": "IPY_MODEL_3c2cad12d8f4442084a9c3688d6c03db",
      "value": " 500k/500k [00:00&lt;00:00, 20.4MB/s]"
     }
    },
    "07cd57a7edaa409d951959f7b4e64cee": {
     "model_module": "@jupyter-widgets/base",
     "model_module_version": "1.2.0",
     "model_name": "LayoutModel",
     "state": {
      "_model_module": "@jupyter-widgets/base",
      "_model_module_version": "1.2.0",
      "_model_name": "LayoutModel",
      "_view_count": null,
      "_view_module": "@jupyter-widgets/base",
      "_view_module_version": "1.2.0",
      "_view_name": "LayoutView",
      "align_content": null,
      "align_items": null,
      "align_self": null,
      "border": null,
      "bottom": null,
      "display": null,
      "flex": null,
      "flex_flow": null,
      "grid_area": null,
      "grid_auto_columns": null,
      "grid_auto_flow": null,
      "grid_auto_rows": null,
      "grid_column": null,
      "grid_gap": null,
      "grid_row": null,
      "grid_template_areas": null,
      "grid_template_columns": null,
      "grid_template_rows": null,
      "height": null,
      "justify_content": null,
      "justify_items": null,
      "left": null,
      "margin": null,
      "max_height": null,
      "max_width": null,
      "min_height": null,
      "min_width": null,
      "object_fit": null,
      "object_position": null,
      "order": null,
      "overflow": null,
      "overflow_x": null,
      "overflow_y": null,
      "padding": null,
      "right": null,
      "top": null,
      "visibility": null,
      "width": null
     }
    },
    "09d7753536f842f89d9c90ac3fc23b52": {
     "model_module": "@jupyter-widgets/controls",
     "model_module_version": "1.5.0",
     "model_name": "ProgressStyleModel",
     "state": {
      "_model_module": "@jupyter-widgets/controls",
      "_model_module_version": "1.5.0",
      "_model_name": "ProgressStyleModel",
      "_view_count": null,
      "_view_module": "@jupyter-widgets/base",
      "_view_module_version": "1.2.0",
      "_view_name": "StyleView",
      "bar_color": null,
      "description_width": ""
     }
    },
    "0c72b78a9c824b7da6b852601bc236da": {
     "model_module": "@jupyter-widgets/controls",
     "model_module_version": "1.5.0",
     "model_name": "FloatProgressModel",
     "state": {
      "_dom_classes": [],
      "_model_module": "@jupyter-widgets/controls",
      "_model_module_version": "1.5.0",
      "_model_name": "FloatProgressModel",
      "_view_count": null,
      "_view_module": "@jupyter-widgets/controls",
      "_view_module_version": "1.5.0",
      "_view_name": "ProgressView",
      "bar_style": "success",
      "description": "",
      "description_tooltip": null,
      "layout": "IPY_MODEL_edb7e97865e14435a16a45c81b712c4b",
      "max": 411,
      "min": 0,
      "orientation": "horizontal",
      "style": "IPY_MODEL_5ab934c61af3420ab6ebcca896ea9020",
      "value": 411
     }
    },
    "0e8f9b1934924e52a461161b9a49188e": {
     "model_module": "@jupyter-widgets/controls",
     "model_module_version": "1.5.0",
     "model_name": "ProgressStyleModel",
     "state": {
      "_model_module": "@jupyter-widgets/controls",
      "_model_module_version": "1.5.0",
      "_model_name": "ProgressStyleModel",
      "_view_count": null,
      "_view_module": "@jupyter-widgets/base",
      "_view_module_version": "1.2.0",
      "_view_name": "StyleView",
      "bar_color": null,
      "description_width": ""
     }
    },
    "0ee6e4f7aab84846b46b43d29748e4d7": {
     "model_module": "@jupyter-widgets/base",
     "model_module_version": "1.2.0",
     "model_name": "LayoutModel",
     "state": {
      "_model_module": "@jupyter-widgets/base",
      "_model_module_version": "1.2.0",
      "_model_name": "LayoutModel",
      "_view_count": null,
      "_view_module": "@jupyter-widgets/base",
      "_view_module_version": "1.2.0",
      "_view_name": "LayoutView",
      "align_content": null,
      "align_items": null,
      "align_self": null,
      "border": null,
      "bottom": null,
      "display": null,
      "flex": null,
      "flex_flow": null,
      "grid_area": null,
      "grid_auto_columns": null,
      "grid_auto_flow": null,
      "grid_auto_rows": null,
      "grid_column": null,
      "grid_gap": null,
      "grid_row": null,
      "grid_template_areas": null,
      "grid_template_columns": null,
      "grid_template_rows": null,
      "height": null,
      "justify_content": null,
      "justify_items": null,
      "left": null,
      "margin": null,
      "max_height": null,
      "max_width": null,
      "min_height": null,
      "min_width": null,
      "object_fit": null,
      "object_position": null,
      "order": null,
      "overflow": null,
      "overflow_x": null,
      "overflow_y": null,
      "padding": null,
      "right": null,
      "top": null,
      "visibility": null,
      "width": null
     }
    },
    "0f1ca74b347b4b199d236fbef0cf19ab": {
     "model_module": "@jupyter-widgets/base",
     "model_module_version": "1.2.0",
     "model_name": "LayoutModel",
     "state": {
      "_model_module": "@jupyter-widgets/base",
      "_model_module_version": "1.2.0",
      "_model_name": "LayoutModel",
      "_view_count": null,
      "_view_module": "@jupyter-widgets/base",
      "_view_module_version": "1.2.0",
      "_view_name": "LayoutView",
      "align_content": null,
      "align_items": null,
      "align_self": null,
      "border": null,
      "bottom": null,
      "display": null,
      "flex": null,
      "flex_flow": null,
      "grid_area": null,
      "grid_auto_columns": null,
      "grid_auto_flow": null,
      "grid_auto_rows": null,
      "grid_column": null,
      "grid_gap": null,
      "grid_row": null,
      "grid_template_areas": null,
      "grid_template_columns": null,
      "grid_template_rows": null,
      "height": null,
      "justify_content": null,
      "justify_items": null,
      "left": null,
      "margin": null,
      "max_height": null,
      "max_width": null,
      "min_height": null,
      "min_width": null,
      "object_fit": null,
      "object_position": null,
      "order": null,
      "overflow": null,
      "overflow_x": null,
      "overflow_y": null,
      "padding": null,
      "right": null,
      "top": null,
      "visibility": null,
      "width": null
     }
    },
    "101015f62c9b42e89a30b5b4155bacc8": {
     "model_module": "@jupyter-widgets/base",
     "model_module_version": "1.2.0",
     "model_name": "LayoutModel",
     "state": {
      "_model_module": "@jupyter-widgets/base",
      "_model_module_version": "1.2.0",
      "_model_name": "LayoutModel",
      "_view_count": null,
      "_view_module": "@jupyter-widgets/base",
      "_view_module_version": "1.2.0",
      "_view_name": "LayoutView",
      "align_content": null,
      "align_items": null,
      "align_self": null,
      "border": null,
      "bottom": null,
      "display": null,
      "flex": null,
      "flex_flow": null,
      "grid_area": null,
      "grid_auto_columns": null,
      "grid_auto_flow": null,
      "grid_auto_rows": null,
      "grid_column": null,
      "grid_gap": null,
      "grid_row": null,
      "grid_template_areas": null,
      "grid_template_columns": null,
      "grid_template_rows": null,
      "height": null,
      "justify_content": null,
      "justify_items": null,
      "left": null,
      "margin": null,
      "max_height": null,
      "max_width": null,
      "min_height": null,
      "min_width": null,
      "object_fit": null,
      "object_position": null,
      "order": null,
      "overflow": null,
      "overflow_x": null,
      "overflow_y": null,
      "padding": null,
      "right": null,
      "top": null,
      "visibility": null,
      "width": null
     }
    },
    "12259ddd87574fbe88b497acac372f95": {
     "model_module": "@jupyter-widgets/base",
     "model_module_version": "1.2.0",
     "model_name": "LayoutModel",
     "state": {
      "_model_module": "@jupyter-widgets/base",
      "_model_module_version": "1.2.0",
      "_model_name": "LayoutModel",
      "_view_count": null,
      "_view_module": "@jupyter-widgets/base",
      "_view_module_version": "1.2.0",
      "_view_name": "LayoutView",
      "align_content": null,
      "align_items": null,
      "align_self": null,
      "border": null,
      "bottom": null,
      "display": null,
      "flex": null,
      "flex_flow": null,
      "grid_area": null,
      "grid_auto_columns": null,
      "grid_auto_flow": null,
      "grid_auto_rows": null,
      "grid_column": null,
      "grid_gap": null,
      "grid_row": null,
      "grid_template_areas": null,
      "grid_template_columns": null,
      "grid_template_rows": null,
      "height": null,
      "justify_content": null,
      "justify_items": null,
      "left": null,
      "margin": null,
      "max_height": null,
      "max_width": null,
      "min_height": null,
      "min_width": null,
      "object_fit": null,
      "object_position": null,
      "order": null,
      "overflow": null,
      "overflow_x": null,
      "overflow_y": null,
      "padding": null,
      "right": null,
      "top": null,
      "visibility": null,
      "width": null
     }
    },
    "125852cb30164c86bbb03b3f5e8ad9dc": {
     "model_module": "@jupyter-widgets/controls",
     "model_module_version": "1.5.0",
     "model_name": "HBoxModel",
     "state": {
      "_dom_classes": [],
      "_model_module": "@jupyter-widgets/controls",
      "_model_module_version": "1.5.0",
      "_model_name": "HBoxModel",
      "_view_count": null,
      "_view_module": "@jupyter-widgets/controls",
      "_view_module_version": "1.5.0",
      "_view_name": "HBoxView",
      "box_style": "",
      "children": [
       "IPY_MODEL_ca7628f4f7044eea84a8c481b8263ed0",
       "IPY_MODEL_5291f5d7cec14be0b1dcd0e858db14c5",
       "IPY_MODEL_6820911720e34902aa80ae4ea6bc969a"
      ],
      "layout": "IPY_MODEL_db2723412d18403ea15a571c5a61cf5d"
     }
    },
    "1a845c42cd69469f9bb6198a49f8d778": {
     "model_module": "@jupyter-widgets/controls",
     "model_module_version": "1.5.0",
     "model_name": "HBoxModel",
     "state": {
      "_dom_classes": [],
      "_model_module": "@jupyter-widgets/controls",
      "_model_module_version": "1.5.0",
      "_model_name": "HBoxModel",
      "_view_count": null,
      "_view_module": "@jupyter-widgets/controls",
      "_view_module_version": "1.5.0",
      "_view_name": "HBoxView",
      "box_style": "",
      "children": [
       "IPY_MODEL_a3ecc60ef057497b89b9c6d7fe903978",
       "IPY_MODEL_e039f0fdb60f42fd8228af9e59984672",
       "IPY_MODEL_b3323e391c9342159975b42d1ba60d43"
      ],
      "layout": "IPY_MODEL_d044f8b1eb0544d684a9e4311a6e4430"
     }
    },
    "1ad85231459f4d3ab2f010ac8051c639": {
     "model_module": "@jupyter-widgets/base",
     "model_module_version": "1.2.0",
     "model_name": "LayoutModel",
     "state": {
      "_model_module": "@jupyter-widgets/base",
      "_model_module_version": "1.2.0",
      "_model_name": "LayoutModel",
      "_view_count": null,
      "_view_module": "@jupyter-widgets/base",
      "_view_module_version": "1.2.0",
      "_view_name": "LayoutView",
      "align_content": null,
      "align_items": null,
      "align_self": null,
      "border": null,
      "bottom": null,
      "display": null,
      "flex": null,
      "flex_flow": null,
      "grid_area": null,
      "grid_auto_columns": null,
      "grid_auto_flow": null,
      "grid_auto_rows": null,
      "grid_column": null,
      "grid_gap": null,
      "grid_row": null,
      "grid_template_areas": null,
      "grid_template_columns": null,
      "grid_template_rows": null,
      "height": null,
      "justify_content": null,
      "justify_items": null,
      "left": null,
      "margin": null,
      "max_height": null,
      "max_width": null,
      "min_height": null,
      "min_width": null,
      "object_fit": null,
      "object_position": null,
      "order": null,
      "overflow": null,
      "overflow_x": null,
      "overflow_y": null,
      "padding": null,
      "right": null,
      "top": null,
      "visibility": null,
      "width": null
     }
    },
    "1b5796317be748b39f659ad75e269830": {
     "model_module": "@jupyter-widgets/controls",
     "model_module_version": "1.5.0",
     "model_name": "HBoxModel",
     "state": {
      "_dom_classes": [],
      "_model_module": "@jupyter-widgets/controls",
      "_model_module_version": "1.5.0",
      "_model_name": "HBoxModel",
      "_view_count": null,
      "_view_module": "@jupyter-widgets/controls",
      "_view_module_version": "1.5.0",
      "_view_name": "HBoxView",
      "box_style": "",
      "children": [
       "IPY_MODEL_f9338118c77d45afb5977a58531b3992",
       "IPY_MODEL_31ee50a5c2324b7897814967f47af3be",
       "IPY_MODEL_cf8eec0cad3f4136932bd707ae4ff245"
      ],
      "layout": "IPY_MODEL_bf23d613e17140a8a3e81d1d3e2c5375"
     }
    },
    "1b873a0295b5402e808b30bf3c77ba47": {
     "model_module": "@jupyter-widgets/base",
     "model_module_version": "1.2.0",
     "model_name": "LayoutModel",
     "state": {
      "_model_module": "@jupyter-widgets/base",
      "_model_module_version": "1.2.0",
      "_model_name": "LayoutModel",
      "_view_count": null,
      "_view_module": "@jupyter-widgets/base",
      "_view_module_version": "1.2.0",
      "_view_name": "LayoutView",
      "align_content": null,
      "align_items": null,
      "align_self": null,
      "border": null,
      "bottom": null,
      "display": null,
      "flex": null,
      "flex_flow": null,
      "grid_area": null,
      "grid_auto_columns": null,
      "grid_auto_flow": null,
      "grid_auto_rows": null,
      "grid_column": null,
      "grid_gap": null,
      "grid_row": null,
      "grid_template_areas": null,
      "grid_template_columns": null,
      "grid_template_rows": null,
      "height": null,
      "justify_content": null,
      "justify_items": null,
      "left": null,
      "margin": null,
      "max_height": null,
      "max_width": null,
      "min_height": null,
      "min_width": null,
      "object_fit": null,
      "object_position": null,
      "order": null,
      "overflow": null,
      "overflow_x": null,
      "overflow_y": null,
      "padding": null,
      "right": null,
      "top": null,
      "visibility": null,
      "width": null
     }
    },
    "1f92d3ddfb904f119558a0b80e1e3d9c": {
     "model_module": "@jupyter-widgets/controls",
     "model_module_version": "1.5.0",
     "model_name": "DescriptionStyleModel",
     "state": {
      "_model_module": "@jupyter-widgets/controls",
      "_model_module_version": "1.5.0",
      "_model_name": "DescriptionStyleModel",
      "_view_count": null,
      "_view_module": "@jupyter-widgets/base",
      "_view_module_version": "1.2.0",
      "_view_name": "StyleView",
      "description_width": ""
     }
    },
    "21439c23dd354a96b556009dbde19dd8": {
     "model_module": "@jupyter-widgets/base",
     "model_module_version": "1.2.0",
     "model_name": "LayoutModel",
     "state": {
      "_model_module": "@jupyter-widgets/base",
      "_model_module_version": "1.2.0",
      "_model_name": "LayoutModel",
      "_view_count": null,
      "_view_module": "@jupyter-widgets/base",
      "_view_module_version": "1.2.0",
      "_view_name": "LayoutView",
      "align_content": null,
      "align_items": null,
      "align_self": null,
      "border": null,
      "bottom": null,
      "display": null,
      "flex": null,
      "flex_flow": null,
      "grid_area": null,
      "grid_auto_columns": null,
      "grid_auto_flow": null,
      "grid_auto_rows": null,
      "grid_column": null,
      "grid_gap": null,
      "grid_row": null,
      "grid_template_areas": null,
      "grid_template_columns": null,
      "grid_template_rows": null,
      "height": null,
      "justify_content": null,
      "justify_items": null,
      "left": null,
      "margin": null,
      "max_height": null,
      "max_width": null,
      "min_height": null,
      "min_width": null,
      "object_fit": null,
      "object_position": null,
      "order": null,
      "overflow": null,
      "overflow_x": null,
      "overflow_y": null,
      "padding": null,
      "right": null,
      "top": null,
      "visibility": null,
      "width": null
     }
    },
    "21c7e88bad534ad9b4a390f789493894": {
     "model_module": "@jupyter-widgets/base",
     "model_module_version": "1.2.0",
     "model_name": "LayoutModel",
     "state": {
      "_model_module": "@jupyter-widgets/base",
      "_model_module_version": "1.2.0",
      "_model_name": "LayoutModel",
      "_view_count": null,
      "_view_module": "@jupyter-widgets/base",
      "_view_module_version": "1.2.0",
      "_view_name": "LayoutView",
      "align_content": null,
      "align_items": null,
      "align_self": null,
      "border": null,
      "bottom": null,
      "display": null,
      "flex": null,
      "flex_flow": null,
      "grid_area": null,
      "grid_auto_columns": null,
      "grid_auto_flow": null,
      "grid_auto_rows": null,
      "grid_column": null,
      "grid_gap": null,
      "grid_row": null,
      "grid_template_areas": null,
      "grid_template_columns": null,
      "grid_template_rows": null,
      "height": null,
      "justify_content": null,
      "justify_items": null,
      "left": null,
      "margin": null,
      "max_height": null,
      "max_width": null,
      "min_height": null,
      "min_width": null,
      "object_fit": null,
      "object_position": null,
      "order": null,
      "overflow": null,
      "overflow_x": null,
      "overflow_y": null,
      "padding": null,
      "right": null,
      "top": null,
      "visibility": null,
      "width": null
     }
    },
    "21f861a618de4c038f3abb26b2868e0f": {
     "model_module": "@jupyter-widgets/controls",
     "model_module_version": "1.5.0",
     "model_name": "HTMLModel",
     "state": {
      "_dom_classes": [],
      "_model_module": "@jupyter-widgets/controls",
      "_model_module_version": "1.5.0",
      "_model_name": "HTMLModel",
      "_view_count": null,
      "_view_module": "@jupyter-widgets/controls",
      "_view_module_version": "1.5.0",
      "_view_name": "HTMLView",
      "description": "",
      "description_tooltip": null,
      "layout": "IPY_MODEL_ff3e271a1b8d48e488b64c9bca99ca76",
      "placeholder": "​",
      "style": "IPY_MODEL_cfd32129ac214ee3a477f6e781d5d769",
      "value": "Map: 100%"
     }
    },
    "230f81b3e5c3466da65e6696038bfc94": {
     "model_module": "@jupyter-widgets/controls",
     "model_module_version": "1.5.0",
     "model_name": "DescriptionStyleModel",
     "state": {
      "_model_module": "@jupyter-widgets/controls",
      "_model_module_version": "1.5.0",
      "_model_name": "DescriptionStyleModel",
      "_view_count": null,
      "_view_module": "@jupyter-widgets/base",
      "_view_module_version": "1.2.0",
      "_view_name": "StyleView",
      "description_width": ""
     }
    },
    "23d780aedef64708a0076bd20a218e82": {
     "model_module": "@jupyter-widgets/controls",
     "model_module_version": "1.5.0",
     "model_name": "DescriptionStyleModel",
     "state": {
      "_model_module": "@jupyter-widgets/controls",
      "_model_module_version": "1.5.0",
      "_model_name": "DescriptionStyleModel",
      "_view_count": null,
      "_view_module": "@jupyter-widgets/base",
      "_view_module_version": "1.2.0",
      "_view_name": "StyleView",
      "description_width": ""
     }
    },
    "25eb240d007d49baa0d0285344345f20": {
     "model_module": "@jupyter-widgets/base",
     "model_module_version": "1.2.0",
     "model_name": "LayoutModel",
     "state": {
      "_model_module": "@jupyter-widgets/base",
      "_model_module_version": "1.2.0",
      "_model_name": "LayoutModel",
      "_view_count": null,
      "_view_module": "@jupyter-widgets/base",
      "_view_module_version": "1.2.0",
      "_view_name": "LayoutView",
      "align_content": null,
      "align_items": null,
      "align_self": null,
      "border": null,
      "bottom": null,
      "display": null,
      "flex": null,
      "flex_flow": null,
      "grid_area": null,
      "grid_auto_columns": null,
      "grid_auto_flow": null,
      "grid_auto_rows": null,
      "grid_column": null,
      "grid_gap": null,
      "grid_row": null,
      "grid_template_areas": null,
      "grid_template_columns": null,
      "grid_template_rows": null,
      "height": null,
      "justify_content": null,
      "justify_items": null,
      "left": null,
      "margin": null,
      "max_height": null,
      "max_width": null,
      "min_height": null,
      "min_width": null,
      "object_fit": null,
      "object_position": null,
      "order": null,
      "overflow": null,
      "overflow_x": null,
      "overflow_y": null,
      "padding": null,
      "right": null,
      "top": null,
      "visibility": null,
      "width": null
     }
    },
    "29bdf143e9c84c168d9cdf34e332064c": {
     "model_module": "@jupyter-widgets/base",
     "model_module_version": "1.2.0",
     "model_name": "LayoutModel",
     "state": {
      "_model_module": "@jupyter-widgets/base",
      "_model_module_version": "1.2.0",
      "_model_name": "LayoutModel",
      "_view_count": null,
      "_view_module": "@jupyter-widgets/base",
      "_view_module_version": "1.2.0",
      "_view_name": "LayoutView",
      "align_content": null,
      "align_items": null,
      "align_self": null,
      "border": null,
      "bottom": null,
      "display": null,
      "flex": null,
      "flex_flow": null,
      "grid_area": null,
      "grid_auto_columns": null,
      "grid_auto_flow": null,
      "grid_auto_rows": null,
      "grid_column": null,
      "grid_gap": null,
      "grid_row": null,
      "grid_template_areas": null,
      "grid_template_columns": null,
      "grid_template_rows": null,
      "height": null,
      "justify_content": null,
      "justify_items": null,
      "left": null,
      "margin": null,
      "max_height": null,
      "max_width": null,
      "min_height": null,
      "min_width": null,
      "object_fit": null,
      "object_position": null,
      "order": null,
      "overflow": null,
      "overflow_x": null,
      "overflow_y": null,
      "padding": null,
      "right": null,
      "top": null,
      "visibility": null,
      "width": null
     }
    },
    "29cf9e5bd02d4b2ab28c9e485ae6b200": {
     "model_module": "@jupyter-widgets/controls",
     "model_module_version": "1.5.0",
     "model_name": "ProgressStyleModel",
     "state": {
      "_model_module": "@jupyter-widgets/controls",
      "_model_module_version": "1.5.0",
      "_model_name": "ProgressStyleModel",
      "_view_count": null,
      "_view_module": "@jupyter-widgets/base",
      "_view_module_version": "1.2.0",
      "_view_name": "StyleView",
      "bar_color": null,
      "description_width": ""
     }
    },
    "2a2d762ed5654129b29f959c9b5b001c": {
     "model_module": "@jupyter-widgets/controls",
     "model_module_version": "1.5.0",
     "model_name": "DescriptionStyleModel",
     "state": {
      "_model_module": "@jupyter-widgets/controls",
      "_model_module_version": "1.5.0",
      "_model_name": "DescriptionStyleModel",
      "_view_count": null,
      "_view_module": "@jupyter-widgets/base",
      "_view_module_version": "1.2.0",
      "_view_name": "StyleView",
      "description_width": ""
     }
    },
    "2ae587d5483e4083966937c3e215f0af": {
     "model_module": "@jupyter-widgets/controls",
     "model_module_version": "1.5.0",
     "model_name": "ProgressStyleModel",
     "state": {
      "_model_module": "@jupyter-widgets/controls",
      "_model_module_version": "1.5.0",
      "_model_name": "ProgressStyleModel",
      "_view_count": null,
      "_view_module": "@jupyter-widgets/base",
      "_view_module_version": "1.2.0",
      "_view_name": "StyleView",
      "bar_color": null,
      "description_width": ""
     }
    },
    "2e13b1c3ef3446e6b245f5a50410efac": {
     "model_module": "@jupyter-widgets/controls",
     "model_module_version": "1.5.0",
     "model_name": "HTMLModel",
     "state": {
      "_dom_classes": [],
      "_model_module": "@jupyter-widgets/controls",
      "_model_module_version": "1.5.0",
      "_model_name": "HTMLModel",
      "_view_count": null,
      "_view_module": "@jupyter-widgets/controls",
      "_view_module_version": "1.5.0",
      "_view_name": "HTMLView",
      "description": "",
      "description_tooltip": null,
      "layout": "IPY_MODEL_1ad85231459f4d3ab2f010ac8051c639",
      "placeholder": "​",
      "style": "IPY_MODEL_44245bee4b4846a4b9cf4660919b8a1a",
      "value": " 749/749 [00:00&lt;00:00, 85.5kB/s]"
     }
    },
    "2e30ba5dfbf347ba916d7d8402434901": {
     "model_module": "@jupyter-widgets/controls",
     "model_module_version": "1.5.0",
     "model_name": "HBoxModel",
     "state": {
      "_dom_classes": [],
      "_model_module": "@jupyter-widgets/controls",
      "_model_module_version": "1.5.0",
      "_model_name": "HBoxModel",
      "_view_count": null,
      "_view_module": "@jupyter-widgets/controls",
      "_view_module_version": "1.5.0",
      "_view_name": "HBoxView",
      "box_style": "",
      "children": [
       "IPY_MODEL_7b8718515f3b4344810fba304db3bf49",
       "IPY_MODEL_9774f2b8fda947eaa7a0843ba8676ddd",
       "IPY_MODEL_035c7bfa28be45a2867e020c86628fad"
      ],
      "layout": "IPY_MODEL_835feb6c305940ee96661424dfbb8140"
     }
    },
    "2ea96db5a8174a6a80e82483caee2fcc": {
     "model_module": "@jupyter-widgets/controls",
     "model_module_version": "1.5.0",
     "model_name": "DescriptionStyleModel",
     "state": {
      "_model_module": "@jupyter-widgets/controls",
      "_model_module_version": "1.5.0",
      "_model_name": "DescriptionStyleModel",
      "_view_count": null,
      "_view_module": "@jupyter-widgets/base",
      "_view_module_version": "1.2.0",
      "_view_name": "StyleView",
      "description_width": ""
     }
    },
    "2f9da277bcd64bbfa28d2debda326cc9": {
     "model_module": "@jupyter-widgets/controls",
     "model_module_version": "1.5.0",
     "model_name": "HBoxModel",
     "state": {
      "_dom_classes": [],
      "_model_module": "@jupyter-widgets/controls",
      "_model_module_version": "1.5.0",
      "_model_name": "HBoxModel",
      "_view_count": null,
      "_view_module": "@jupyter-widgets/controls",
      "_view_module_version": "1.5.0",
      "_view_name": "HBoxView",
      "box_style": "",
      "children": [
       "IPY_MODEL_ea262082ba6948dfb6dc513ee437bcf8",
       "IPY_MODEL_3796a38d4b1440f49ceec90859d74702",
       "IPY_MODEL_810f97e0cbda435cb028933ee20a35f9"
      ],
      "layout": "IPY_MODEL_5cb62031f6b34ccb9d0b22c309d737a6"
     }
    },
    "2fa7e70370a648c9973d7ba9cb041ccc": {
     "model_module": "@jupyter-widgets/controls",
     "model_module_version": "1.5.0",
     "model_name": "DescriptionStyleModel",
     "state": {
      "_model_module": "@jupyter-widgets/controls",
      "_model_module_version": "1.5.0",
      "_model_name": "DescriptionStyleModel",
      "_view_count": null,
      "_view_module": "@jupyter-widgets/base",
      "_view_module_version": "1.2.0",
      "_view_name": "StyleView",
      "description_width": ""
     }
    },
    "3078481625f2477ab2ac4d58f3f62835": {
     "model_module": "@jupyter-widgets/controls",
     "model_module_version": "1.5.0",
     "model_name": "DescriptionStyleModel",
     "state": {
      "_model_module": "@jupyter-widgets/controls",
      "_model_module_version": "1.5.0",
      "_model_name": "DescriptionStyleModel",
      "_view_count": null,
      "_view_module": "@jupyter-widgets/base",
      "_view_module_version": "1.2.0",
      "_view_name": "StyleView",
      "description_width": ""
     }
    },
    "31a597ac998542cb8c2fb8514ee5c99f": {
     "model_module": "@jupyter-widgets/base",
     "model_module_version": "1.2.0",
     "model_name": "LayoutModel",
     "state": {
      "_model_module": "@jupyter-widgets/base",
      "_model_module_version": "1.2.0",
      "_model_name": "LayoutModel",
      "_view_count": null,
      "_view_module": "@jupyter-widgets/base",
      "_view_module_version": "1.2.0",
      "_view_name": "LayoutView",
      "align_content": null,
      "align_items": null,
      "align_self": null,
      "border": null,
      "bottom": null,
      "display": null,
      "flex": null,
      "flex_flow": null,
      "grid_area": null,
      "grid_auto_columns": null,
      "grid_auto_flow": null,
      "grid_auto_rows": null,
      "grid_column": null,
      "grid_gap": null,
      "grid_row": null,
      "grid_template_areas": null,
      "grid_template_columns": null,
      "grid_template_rows": null,
      "height": null,
      "justify_content": null,
      "justify_items": null,
      "left": null,
      "margin": null,
      "max_height": null,
      "max_width": null,
      "min_height": null,
      "min_width": null,
      "object_fit": null,
      "object_position": null,
      "order": null,
      "overflow": null,
      "overflow_x": null,
      "overflow_y": null,
      "padding": null,
      "right": null,
      "top": null,
      "visibility": null,
      "width": null
     }
    },
    "31ee50a5c2324b7897814967f47af3be": {
     "model_module": "@jupyter-widgets/controls",
     "model_module_version": "1.5.0",
     "model_name": "FloatProgressModel",
     "state": {
      "_dom_classes": [],
      "_model_module": "@jupyter-widgets/controls",
      "_model_module_version": "1.5.0",
      "_model_name": "FloatProgressModel",
      "_view_count": null,
      "_view_module": "@jupyter-widgets/controls",
      "_view_module_version": "1.5.0",
      "_view_name": "ProgressView",
      "bar_style": "success",
      "description": "",
      "description_tooltip": null,
      "layout": "IPY_MODEL_f151a1f09d5f4288bfd1d6fd3fb50734",
      "max": 9976701592,
      "min": 0,
      "orientation": "horizontal",
      "style": "IPY_MODEL_b2e450a957e344faabc4a39d42a36c5b",
      "value": 9976701592
     }
    },
    "323d3d071d8b4a4aa3ea3bca05623ebe": {
     "model_module": "@jupyter-widgets/controls",
     "model_module_version": "1.5.0",
     "model_name": "ProgressStyleModel",
     "state": {
      "_model_module": "@jupyter-widgets/controls",
      "_model_module_version": "1.5.0",
      "_model_name": "ProgressStyleModel",
      "_view_count": null,
      "_view_module": "@jupyter-widgets/base",
      "_view_module_version": "1.2.0",
      "_view_name": "StyleView",
      "bar_color": null,
      "description_width": ""
     }
    },
    "3594cf5f60e24cf5b6bf0ae1f120919f": {
     "model_module": "@jupyter-widgets/controls",
     "model_module_version": "1.5.0",
     "model_name": "HBoxModel",
     "state": {
      "_dom_classes": [],
      "_model_module": "@jupyter-widgets/controls",
      "_model_module_version": "1.5.0",
      "_model_name": "HBoxModel",
      "_view_count": null,
      "_view_module": "@jupyter-widgets/controls",
      "_view_module_version": "1.5.0",
      "_view_name": "HBoxView",
      "box_style": "",
      "children": [
       "IPY_MODEL_bbe1c7fa099148e180b9036a971438d8",
       "IPY_MODEL_4d608a9688654ebfaef2ec442fd9d467",
       "IPY_MODEL_2e13b1c3ef3446e6b245f5a50410efac"
      ],
      "layout": "IPY_MODEL_29bdf143e9c84c168d9cdf34e332064c"
     }
    },
    "3796a38d4b1440f49ceec90859d74702": {
     "model_module": "@jupyter-widgets/controls",
     "model_module_version": "1.5.0",
     "model_name": "FloatProgressModel",
     "state": {
      "_dom_classes": [],
      "_model_module": "@jupyter-widgets/controls",
      "_model_module_version": "1.5.0",
      "_model_name": "FloatProgressModel",
      "_view_count": null,
      "_view_module": "@jupyter-widgets/controls",
      "_view_module_version": "1.5.0",
      "_view_name": "ProgressView",
      "bar_style": "success",
      "description": "",
      "description_tooltip": null,
      "layout": "IPY_MODEL_b261aa1691e84ff7bfd4f0468eee5d3c",
      "max": 5480,
      "min": 0,
      "orientation": "horizontal",
      "style": "IPY_MODEL_09d7753536f842f89d9c90ac3fc23b52",
      "value": 5480
     }
    },
    "3bc3e3ed1c64430283969f5233a57184": {
     "model_module": "@jupyter-widgets/controls",
     "model_module_version": "1.5.0",
     "model_name": "FloatProgressModel",
     "state": {
      "_dom_classes": [],
      "_model_module": "@jupyter-widgets/controls",
      "_model_module_version": "1.5.0",
      "_model_name": "FloatProgressModel",
      "_view_count": null,
      "_view_module": "@jupyter-widgets/controls",
      "_view_module_version": "1.5.0",
      "_view_name": "ProgressView",
      "bar_style": "success",
      "description": "",
      "description_tooltip": null,
      "layout": "IPY_MODEL_4e684355a7c844a0ab2a9beef19c8050",
      "max": 16374,
      "min": 0,
      "orientation": "horizontal",
      "style": "IPY_MODEL_7cd629dc28f9487e923e804b451a1569",
      "value": 16374
     }
    },
    "3c2cad12d8f4442084a9c3688d6c03db": {
     "model_module": "@jupyter-widgets/controls",
     "model_module_version": "1.5.0",
     "model_name": "DescriptionStyleModel",
     "state": {
      "_model_module": "@jupyter-widgets/controls",
      "_model_module_version": "1.5.0",
      "_model_name": "DescriptionStyleModel",
      "_view_count": null,
      "_view_module": "@jupyter-widgets/base",
      "_view_module_version": "1.2.0",
      "_view_name": "StyleView",
      "description_width": ""
     }
    },
    "3ce0810ecd0e42b9b8d488ecf22edbc5": {
     "model_module": "@jupyter-widgets/controls",
     "model_module_version": "1.5.0",
     "model_name": "HTMLModel",
     "state": {
      "_dom_classes": [],
      "_model_module": "@jupyter-widgets/controls",
      "_model_module_version": "1.5.0",
      "_model_name": "HTMLModel",
      "_view_count": null,
      "_view_module": "@jupyter-widgets/controls",
      "_view_module_version": "1.5.0",
      "_view_name": "HTMLView",
      "description": "",
      "description_tooltip": null,
      "layout": "IPY_MODEL_6908eaef889f4344b0ea625ffa0b8cda",
      "placeholder": "​",
      "style": "IPY_MODEL_8e46badcbf6a4d93b9751c4b9ca3f04b",
      "value": "Map: 100%"
     }
    },
    "3e8debe14e4e4436bf405671299a9c0e": {
     "model_module": "@jupyter-widgets/base",
     "model_module_version": "1.2.0",
     "model_name": "LayoutModel",
     "state": {
      "_model_module": "@jupyter-widgets/base",
      "_model_module_version": "1.2.0",
      "_model_name": "LayoutModel",
      "_view_count": null,
      "_view_module": "@jupyter-widgets/base",
      "_view_module_version": "1.2.0",
      "_view_name": "LayoutView",
      "align_content": null,
      "align_items": null,
      "align_self": null,
      "border": null,
      "bottom": null,
      "display": null,
      "flex": null,
      "flex_flow": null,
      "grid_area": null,
      "grid_auto_columns": null,
      "grid_auto_flow": null,
      "grid_auto_rows": null,
      "grid_column": null,
      "grid_gap": null,
      "grid_row": null,
      "grid_template_areas": null,
      "grid_template_columns": null,
      "grid_template_rows": null,
      "height": null,
      "justify_content": null,
      "justify_items": null,
      "left": null,
      "margin": null,
      "max_height": null,
      "max_width": null,
      "min_height": null,
      "min_width": null,
      "object_fit": null,
      "object_position": null,
      "order": null,
      "overflow": null,
      "overflow_x": null,
      "overflow_y": null,
      "padding": null,
      "right": null,
      "top": null,
      "visibility": null,
      "width": null
     }
    },
    "423b0819c976453994eed2f0c7a130c5": {
     "model_module": "@jupyter-widgets/controls",
     "model_module_version": "1.5.0",
     "model_name": "DescriptionStyleModel",
     "state": {
      "_model_module": "@jupyter-widgets/controls",
      "_model_module_version": "1.5.0",
      "_model_name": "DescriptionStyleModel",
      "_view_count": null,
      "_view_module": "@jupyter-widgets/base",
      "_view_module_version": "1.2.0",
      "_view_name": "StyleView",
      "description_width": ""
     }
    },
    "42cfa816322a4b69add73238f3254095": {
     "model_module": "@jupyter-widgets/controls",
     "model_module_version": "1.5.0",
     "model_name": "HBoxModel",
     "state": {
      "_dom_classes": [],
      "_model_module": "@jupyter-widgets/controls",
      "_model_module_version": "1.5.0",
      "_model_name": "HBoxModel",
      "_view_count": null,
      "_view_module": "@jupyter-widgets/controls",
      "_view_module_version": "1.5.0",
      "_view_name": "HBoxView",
      "box_style": "",
      "children": [
       "IPY_MODEL_21f861a618de4c038f3abb26b2868e0f",
       "IPY_MODEL_3bc3e3ed1c64430283969f5233a57184",
       "IPY_MODEL_012b1a853d9a4c10bcd7c18865bf5fe0"
      ],
      "layout": "IPY_MODEL_c57ec3e8714e43ffa27fa6200dfbedd3"
     }
    },
    "44245bee4b4846a4b9cf4660919b8a1a": {
     "model_module": "@jupyter-widgets/controls",
     "model_module_version": "1.5.0",
     "model_name": "DescriptionStyleModel",
     "state": {
      "_model_module": "@jupyter-widgets/controls",
      "_model_module_version": "1.5.0",
      "_model_name": "DescriptionStyleModel",
      "_view_count": null,
      "_view_module": "@jupyter-widgets/base",
      "_view_module_version": "1.2.0",
      "_view_name": "StyleView",
      "description_width": ""
     }
    },
    "49024decd5494732adcbd86360f7aff0": {
     "model_module": "@jupyter-widgets/controls",
     "model_module_version": "1.5.0",
     "model_name": "DescriptionStyleModel",
     "state": {
      "_model_module": "@jupyter-widgets/controls",
      "_model_module_version": "1.5.0",
      "_model_name": "DescriptionStyleModel",
      "_view_count": null,
      "_view_module": "@jupyter-widgets/base",
      "_view_module_version": "1.2.0",
      "_view_name": "StyleView",
      "description_width": ""
     }
    },
    "4b3a94232d0349f4b557b106b5a1ea40": {
     "model_module": "@jupyter-widgets/controls",
     "model_module_version": "1.5.0",
     "model_name": "FloatProgressModel",
     "state": {
      "_dom_classes": [],
      "_model_module": "@jupyter-widgets/controls",
      "_model_module_version": "1.5.0",
      "_model_name": "FloatProgressModel",
      "_view_count": null,
      "_view_module": "@jupyter-widgets/controls",
      "_view_module_version": "1.5.0",
      "_view_name": "ProgressView",
      "bar_style": "success",
      "description": "",
      "description_tooltip": null,
      "layout": "IPY_MODEL_ba62bdd2ed3a4d0fa1d8c012da094be5",
      "max": 1843427,
      "min": 0,
      "orientation": "horizontal",
      "style": "IPY_MODEL_fca7e486e18f4762ad665f0835a2ca09",
      "value": 1843427
     }
    },
    "4d608a9688654ebfaef2ec442fd9d467": {
     "model_module": "@jupyter-widgets/controls",
     "model_module_version": "1.5.0",
     "model_name": "FloatProgressModel",
     "state": {
      "_dom_classes": [],
      "_model_module": "@jupyter-widgets/controls",
      "_model_module_version": "1.5.0",
      "_model_name": "FloatProgressModel",
      "_view_count": null,
      "_view_module": "@jupyter-widgets/controls",
      "_view_module_version": "1.5.0",
      "_view_name": "ProgressView",
      "bar_style": "success",
      "description": "",
      "description_tooltip": null,
      "layout": "IPY_MODEL_5905be4c10c9411a82bbded77cae1696",
      "max": 749,
      "min": 0,
      "orientation": "horizontal",
      "style": "IPY_MODEL_0e8f9b1934924e52a461161b9a49188e",
      "value": 749
     }
    },
    "4e684355a7c844a0ab2a9beef19c8050": {
     "model_module": "@jupyter-widgets/base",
     "model_module_version": "1.2.0",
     "model_name": "LayoutModel",
     "state": {
      "_model_module": "@jupyter-widgets/base",
      "_model_module_version": "1.2.0",
      "_model_name": "LayoutModel",
      "_view_count": null,
      "_view_module": "@jupyter-widgets/base",
      "_view_module_version": "1.2.0",
      "_view_name": "LayoutView",
      "align_content": null,
      "align_items": null,
      "align_self": null,
      "border": null,
      "bottom": null,
      "display": null,
      "flex": null,
      "flex_flow": null,
      "grid_area": null,
      "grid_auto_columns": null,
      "grid_auto_flow": null,
      "grid_auto_rows": null,
      "grid_column": null,
      "grid_gap": null,
      "grid_row": null,
      "grid_template_areas": null,
      "grid_template_columns": null,
      "grid_template_rows": null,
      "height": null,
      "justify_content": null,
      "justify_items": null,
      "left": null,
      "margin": null,
      "max_height": null,
      "max_width": null,
      "min_height": null,
      "min_width": null,
      "object_fit": null,
      "object_position": null,
      "order": null,
      "overflow": null,
      "overflow_x": null,
      "overflow_y": null,
      "padding": null,
      "right": null,
      "top": null,
      "visibility": null,
      "width": null
     }
    },
    "4fe13d9b01ef441bad0218701be33982": {
     "model_module": "@jupyter-widgets/controls",
     "model_module_version": "1.5.0",
     "model_name": "HTMLModel",
     "state": {
      "_dom_classes": [],
      "_model_module": "@jupyter-widgets/controls",
      "_model_module_version": "1.5.0",
      "_model_name": "HTMLModel",
      "_view_count": null,
      "_view_module": "@jupyter-widgets/controls",
      "_view_module_version": "1.5.0",
      "_view_name": "HTMLView",
      "description": "",
      "description_tooltip": null,
      "layout": "IPY_MODEL_ced89f0b98a349bfb70ca13c7df3af70",
      "placeholder": "​",
      "style": "IPY_MODEL_c418e2a5d2d348c2bf0705ebb961b69b",
      "value": " 5465/5465 [00:03&lt;00:00, 1639.90 examples/s]"
     }
    },
    "5291f5d7cec14be0b1dcd0e858db14c5": {
     "model_module": "@jupyter-widgets/controls",
     "model_module_version": "1.5.0",
     "model_name": "FloatProgressModel",
     "state": {
      "_dom_classes": [],
      "_model_module": "@jupyter-widgets/controls",
      "_model_module_version": "1.5.0",
      "_model_name": "FloatProgressModel",
      "_view_count": null,
      "_view_module": "@jupyter-widgets/controls",
      "_view_module_version": "1.5.0",
      "_view_name": "ProgressView",
      "bar_style": "success",
      "description": "",
      "description_tooltip": null,
      "layout": "IPY_MODEL_afaab0dd08d74814b3b827b8b764ff7d",
      "max": 2,
      "min": 0,
      "orientation": "horizontal",
      "style": "IPY_MODEL_e686f4ce6adc4e3fa7efe6911a9a9892",
      "value": 2
     }
    },
    "529e02c29a19486fae9eaea45cd96d48": {
     "model_module": "@jupyter-widgets/base",
     "model_module_version": "1.2.0",
     "model_name": "LayoutModel",
     "state": {
      "_model_module": "@jupyter-widgets/base",
      "_model_module_version": "1.2.0",
      "_model_name": "LayoutModel",
      "_view_count": null,
      "_view_module": "@jupyter-widgets/base",
      "_view_module_version": "1.2.0",
      "_view_name": "LayoutView",
      "align_content": null,
      "align_items": null,
      "align_self": null,
      "border": null,
      "bottom": null,
      "display": null,
      "flex": null,
      "flex_flow": null,
      "grid_area": null,
      "grid_auto_columns": null,
      "grid_auto_flow": null,
      "grid_auto_rows": null,
      "grid_column": null,
      "grid_gap": null,
      "grid_row": null,
      "grid_template_areas": null,
      "grid_template_columns": null,
      "grid_template_rows": null,
      "height": null,
      "justify_content": null,
      "justify_items": null,
      "left": null,
      "margin": null,
      "max_height": null,
      "max_width": null,
      "min_height": null,
      "min_width": null,
      "object_fit": null,
      "object_position": null,
      "order": null,
      "overflow": null,
      "overflow_x": null,
      "overflow_y": null,
      "padding": null,
      "right": null,
      "top": null,
      "visibility": null,
      "width": null
     }
    },
    "5373a7c35e2a48beac4f7d3141ef6a31": {
     "model_module": "@jupyter-widgets/controls",
     "model_module_version": "1.5.0",
     "model_name": "HBoxModel",
     "state": {
      "_dom_classes": [],
      "_model_module": "@jupyter-widgets/controls",
      "_model_module_version": "1.5.0",
      "_model_name": "HBoxModel",
      "_view_count": null,
      "_view_module": "@jupyter-widgets/controls",
      "_view_module_version": "1.5.0",
      "_view_name": "HBoxView",
      "box_style": "",
      "children": [
       "IPY_MODEL_85be01471da74e708f51e04982d0b295",
       "IPY_MODEL_80fbaea1a86048288a23accb0eaa42fd",
       "IPY_MODEL_07205d56f04e440982f9e3c0f82ad8f7"
      ],
      "layout": "IPY_MODEL_529e02c29a19486fae9eaea45cd96d48"
     }
    },
    "55a66db47597425cae501bd7a993c6f3": {
     "model_module": "@jupyter-widgets/controls",
     "model_module_version": "1.5.0",
     "model_name": "DescriptionStyleModel",
     "state": {
      "_model_module": "@jupyter-widgets/controls",
      "_model_module_version": "1.5.0",
      "_model_name": "DescriptionStyleModel",
      "_view_count": null,
      "_view_module": "@jupyter-widgets/base",
      "_view_module_version": "1.2.0",
      "_view_name": "StyleView",
      "description_width": ""
     }
    },
    "57c2365e78bd479f8819510fbec57c4c": {
     "model_module": "@jupyter-widgets/base",
     "model_module_version": "1.2.0",
     "model_name": "LayoutModel",
     "state": {
      "_model_module": "@jupyter-widgets/base",
      "_model_module_version": "1.2.0",
      "_model_name": "LayoutModel",
      "_view_count": null,
      "_view_module": "@jupyter-widgets/base",
      "_view_module_version": "1.2.0",
      "_view_name": "LayoutView",
      "align_content": null,
      "align_items": null,
      "align_self": null,
      "border": null,
      "bottom": null,
      "display": null,
      "flex": null,
      "flex_flow": null,
      "grid_area": null,
      "grid_auto_columns": null,
      "grid_auto_flow": null,
      "grid_auto_rows": null,
      "grid_column": null,
      "grid_gap": null,
      "grid_row": null,
      "grid_template_areas": null,
      "grid_template_columns": null,
      "grid_template_rows": null,
      "height": null,
      "justify_content": null,
      "justify_items": null,
      "left": null,
      "margin": null,
      "max_height": null,
      "max_width": null,
      "min_height": null,
      "min_width": null,
      "object_fit": null,
      "object_position": null,
      "order": null,
      "overflow": null,
      "overflow_x": null,
      "overflow_y": null,
      "padding": null,
      "right": null,
      "top": null,
      "visibility": null,
      "width": null
     }
    },
    "5905be4c10c9411a82bbded77cae1696": {
     "model_module": "@jupyter-widgets/base",
     "model_module_version": "1.2.0",
     "model_name": "LayoutModel",
     "state": {
      "_model_module": "@jupyter-widgets/base",
      "_model_module_version": "1.2.0",
      "_model_name": "LayoutModel",
      "_view_count": null,
      "_view_module": "@jupyter-widgets/base",
      "_view_module_version": "1.2.0",
      "_view_name": "LayoutView",
      "align_content": null,
      "align_items": null,
      "align_self": null,
      "border": null,
      "bottom": null,
      "display": null,
      "flex": null,
      "flex_flow": null,
      "grid_area": null,
      "grid_auto_columns": null,
      "grid_auto_flow": null,
      "grid_auto_rows": null,
      "grid_column": null,
      "grid_gap": null,
      "grid_row": null,
      "grid_template_areas": null,
      "grid_template_columns": null,
      "grid_template_rows": null,
      "height": null,
      "justify_content": null,
      "justify_items": null,
      "left": null,
      "margin": null,
      "max_height": null,
      "max_width": null,
      "min_height": null,
      "min_width": null,
      "object_fit": null,
      "object_position": null,
      "order": null,
      "overflow": null,
      "overflow_x": null,
      "overflow_y": null,
      "padding": null,
      "right": null,
      "top": null,
      "visibility": null,
      "width": null
     }
    },
    "5ab934c61af3420ab6ebcca896ea9020": {
     "model_module": "@jupyter-widgets/controls",
     "model_module_version": "1.5.0",
     "model_name": "ProgressStyleModel",
     "state": {
      "_model_module": "@jupyter-widgets/controls",
      "_model_module_version": "1.5.0",
      "_model_name": "ProgressStyleModel",
      "_view_count": null,
      "_view_module": "@jupyter-widgets/base",
      "_view_module_version": "1.2.0",
      "_view_name": "StyleView",
      "bar_color": null,
      "description_width": ""
     }
    },
    "5b690cdf0c594362be27e51c88b8c063": {
     "model_module": "@jupyter-widgets/controls",
     "model_module_version": "1.5.0",
     "model_name": "HBoxModel",
     "state": {
      "_dom_classes": [],
      "_model_module": "@jupyter-widgets/controls",
      "_model_module_version": "1.5.0",
      "_model_name": "HBoxModel",
      "_view_count": null,
      "_view_module": "@jupyter-widgets/controls",
      "_view_module_version": "1.5.0",
      "_view_name": "HBoxView",
      "box_style": "",
      "children": [
       "IPY_MODEL_b090770254eb41c9972d14163f7003c0",
       "IPY_MODEL_e76aac7a31c84e76b464e5f16966f668",
       "IPY_MODEL_0282baaa4c4e4a59ab43133b5d138605"
      ],
      "layout": "IPY_MODEL_1b873a0295b5402e808b30bf3c77ba47"
     }
    },
    "5cb62031f6b34ccb9d0b22c309d737a6": {
     "model_module": "@jupyter-widgets/base",
     "model_module_version": "1.2.0",
     "model_name": "LayoutModel",
     "state": {
      "_model_module": "@jupyter-widgets/base",
      "_model_module_version": "1.2.0",
      "_model_name": "LayoutModel",
      "_view_count": null,
      "_view_module": "@jupyter-widgets/base",
      "_view_module_version": "1.2.0",
      "_view_name": "LayoutView",
      "align_content": null,
      "align_items": null,
      "align_self": null,
      "border": null,
      "bottom": null,
      "display": null,
      "flex": null,
      "flex_flow": null,
      "grid_area": null,
      "grid_auto_columns": null,
      "grid_auto_flow": null,
      "grid_auto_rows": null,
      "grid_column": null,
      "grid_gap": null,
      "grid_row": null,
      "grid_template_areas": null,
      "grid_template_columns": null,
      "grid_template_rows": null,
      "height": null,
      "justify_content": null,
      "justify_items": null,
      "left": null,
      "margin": null,
      "max_height": null,
      "max_width": null,
      "min_height": null,
      "min_width": null,
      "object_fit": null,
      "object_position": null,
      "order": null,
      "overflow": null,
      "overflow_x": null,
      "overflow_y": null,
      "padding": null,
      "right": null,
      "top": null,
      "visibility": null,
      "width": null
     }
    },
    "5d16ec8c1d08453d81ea1437214b32c6": {
     "model_module": "@jupyter-widgets/base",
     "model_module_version": "1.2.0",
     "model_name": "LayoutModel",
     "state": {
      "_model_module": "@jupyter-widgets/base",
      "_model_module_version": "1.2.0",
      "_model_name": "LayoutModel",
      "_view_count": null,
      "_view_module": "@jupyter-widgets/base",
      "_view_module_version": "1.2.0",
      "_view_name": "LayoutView",
      "align_content": null,
      "align_items": null,
      "align_self": null,
      "border": null,
      "bottom": null,
      "display": null,
      "flex": null,
      "flex_flow": null,
      "grid_area": null,
      "grid_auto_columns": null,
      "grid_auto_flow": null,
      "grid_auto_rows": null,
      "grid_column": null,
      "grid_gap": null,
      "grid_row": null,
      "grid_template_areas": null,
      "grid_template_columns": null,
      "grid_template_rows": null,
      "height": null,
      "justify_content": null,
      "justify_items": null,
      "left": null,
      "margin": null,
      "max_height": null,
      "max_width": null,
      "min_height": null,
      "min_width": null,
      "object_fit": null,
      "object_position": null,
      "order": null,
      "overflow": null,
      "overflow_x": null,
      "overflow_y": null,
      "padding": null,
      "right": null,
      "top": null,
      "visibility": null,
      "width": null
     }
    },
    "5d3bc37bb81749c3a1aa8c35ac05e299": {
     "model_module": "@jupyter-widgets/base",
     "model_module_version": "1.2.0",
     "model_name": "LayoutModel",
     "state": {
      "_model_module": "@jupyter-widgets/base",
      "_model_module_version": "1.2.0",
      "_model_name": "LayoutModel",
      "_view_count": null,
      "_view_module": "@jupyter-widgets/base",
      "_view_module_version": "1.2.0",
      "_view_name": "LayoutView",
      "align_content": null,
      "align_items": null,
      "align_self": null,
      "border": null,
      "bottom": null,
      "display": null,
      "flex": null,
      "flex_flow": null,
      "grid_area": null,
      "grid_auto_columns": null,
      "grid_auto_flow": null,
      "grid_auto_rows": null,
      "grid_column": null,
      "grid_gap": null,
      "grid_row": null,
      "grid_template_areas": null,
      "grid_template_columns": null,
      "grid_template_rows": null,
      "height": null,
      "justify_content": null,
      "justify_items": null,
      "left": null,
      "margin": null,
      "max_height": null,
      "max_width": null,
      "min_height": null,
      "min_width": null,
      "object_fit": null,
      "object_position": null,
      "order": null,
      "overflow": null,
      "overflow_x": null,
      "overflow_y": null,
      "padding": null,
      "right": null,
      "top": null,
      "visibility": null,
      "width": null
     }
    },
    "5e3532ace7644b70ac018826308a2aa0": {
     "model_module": "@jupyter-widgets/controls",
     "model_module_version": "1.5.0",
     "model_name": "DescriptionStyleModel",
     "state": {
      "_model_module": "@jupyter-widgets/controls",
      "_model_module_version": "1.5.0",
      "_model_name": "DescriptionStyleModel",
      "_view_count": null,
      "_view_module": "@jupyter-widgets/base",
      "_view_module_version": "1.2.0",
      "_view_name": "StyleView",
      "description_width": ""
     }
    },
    "5fa394dd6efd4985a693c002afec4483": {
     "model_module": "@jupyter-widgets/base",
     "model_module_version": "1.2.0",
     "model_name": "LayoutModel",
     "state": {
      "_model_module": "@jupyter-widgets/base",
      "_model_module_version": "1.2.0",
      "_model_name": "LayoutModel",
      "_view_count": null,
      "_view_module": "@jupyter-widgets/base",
      "_view_module_version": "1.2.0",
      "_view_name": "LayoutView",
      "align_content": null,
      "align_items": null,
      "align_self": null,
      "border": null,
      "bottom": null,
      "display": null,
      "flex": null,
      "flex_flow": null,
      "grid_area": null,
      "grid_auto_columns": null,
      "grid_auto_flow": null,
      "grid_auto_rows": null,
      "grid_column": null,
      "grid_gap": null,
      "grid_row": null,
      "grid_template_areas": null,
      "grid_template_columns": null,
      "grid_template_rows": null,
      "height": null,
      "justify_content": null,
      "justify_items": null,
      "left": null,
      "margin": null,
      "max_height": null,
      "max_width": null,
      "min_height": null,
      "min_width": null,
      "object_fit": null,
      "object_position": null,
      "order": null,
      "overflow": null,
      "overflow_x": null,
      "overflow_y": null,
      "padding": null,
      "right": null,
      "top": null,
      "visibility": null,
      "width": null
     }
    },
    "64c180d7996b454a8d40b6810090faed": {
     "model_module": "@jupyter-widgets/controls",
     "model_module_version": "1.5.0",
     "model_name": "DescriptionStyleModel",
     "state": {
      "_model_module": "@jupyter-widgets/controls",
      "_model_module_version": "1.5.0",
      "_model_name": "DescriptionStyleModel",
      "_view_count": null,
      "_view_module": "@jupyter-widgets/base",
      "_view_module_version": "1.2.0",
      "_view_name": "StyleView",
      "description_width": ""
     }
    },
    "678c965664be40e4b9cd9fbe3e777772": {
     "model_module": "@jupyter-widgets/base",
     "model_module_version": "1.2.0",
     "model_name": "LayoutModel",
     "state": {
      "_model_module": "@jupyter-widgets/base",
      "_model_module_version": "1.2.0",
      "_model_name": "LayoutModel",
      "_view_count": null,
      "_view_module": "@jupyter-widgets/base",
      "_view_module_version": "1.2.0",
      "_view_name": "LayoutView",
      "align_content": null,
      "align_items": null,
      "align_self": null,
      "border": null,
      "bottom": null,
      "display": null,
      "flex": null,
      "flex_flow": null,
      "grid_area": null,
      "grid_auto_columns": null,
      "grid_auto_flow": null,
      "grid_auto_rows": null,
      "grid_column": null,
      "grid_gap": null,
      "grid_row": null,
      "grid_template_areas": null,
      "grid_template_columns": null,
      "grid_template_rows": null,
      "height": null,
      "justify_content": null,
      "justify_items": null,
      "left": null,
      "margin": null,
      "max_height": null,
      "max_width": null,
      "min_height": null,
      "min_width": null,
      "object_fit": null,
      "object_position": null,
      "order": null,
      "overflow": null,
      "overflow_x": null,
      "overflow_y": null,
      "padding": null,
      "right": null,
      "top": null,
      "visibility": null,
      "width": null
     }
    },
    "6820911720e34902aa80ae4ea6bc969a": {
     "model_module": "@jupyter-widgets/controls",
     "model_module_version": "1.5.0",
     "model_name": "HTMLModel",
     "state": {
      "_dom_classes": [],
      "_model_module": "@jupyter-widgets/controls",
      "_model_module_version": "1.5.0",
      "_model_name": "HTMLModel",
      "_view_count": null,
      "_view_module": "@jupyter-widgets/controls",
      "_view_module_version": "1.5.0",
      "_view_name": "HTMLView",
      "description": "",
      "description_tooltip": null,
      "layout": "IPY_MODEL_31a597ac998542cb8c2fb8514ee5c99f",
      "placeholder": "​",
      "style": "IPY_MODEL_2fa7e70370a648c9973d7ba9cb041ccc",
      "value": " 2/2 [00:16&lt;00:00,  7.60s/it]"
     }
    },
    "68e4545bd7804d51b647b4c515e7f8ef": {
     "model_module": "@jupyter-widgets/base",
     "model_module_version": "1.2.0",
     "model_name": "LayoutModel",
     "state": {
      "_model_module": "@jupyter-widgets/base",
      "_model_module_version": "1.2.0",
      "_model_name": "LayoutModel",
      "_view_count": null,
      "_view_module": "@jupyter-widgets/base",
      "_view_module_version": "1.2.0",
      "_view_name": "LayoutView",
      "align_content": null,
      "align_items": null,
      "align_self": null,
      "border": null,
      "bottom": null,
      "display": null,
      "flex": null,
      "flex_flow": null,
      "grid_area": null,
      "grid_auto_columns": null,
      "grid_auto_flow": null,
      "grid_auto_rows": null,
      "grid_column": null,
      "grid_gap": null,
      "grid_row": null,
      "grid_template_areas": null,
      "grid_template_columns": null,
      "grid_template_rows": null,
      "height": null,
      "justify_content": null,
      "justify_items": null,
      "left": null,
      "margin": null,
      "max_height": null,
      "max_width": null,
      "min_height": null,
      "min_width": null,
      "object_fit": null,
      "object_position": null,
      "order": null,
      "overflow": null,
      "overflow_x": null,
      "overflow_y": null,
      "padding": null,
      "right": null,
      "top": null,
      "visibility": null,
      "width": null
     }
    },
    "6908eaef889f4344b0ea625ffa0b8cda": {
     "model_module": "@jupyter-widgets/base",
     "model_module_version": "1.2.0",
     "model_name": "LayoutModel",
     "state": {
      "_model_module": "@jupyter-widgets/base",
      "_model_module_version": "1.2.0",
      "_model_name": "LayoutModel",
      "_view_count": null,
      "_view_module": "@jupyter-widgets/base",
      "_view_module_version": "1.2.0",
      "_view_name": "LayoutView",
      "align_content": null,
      "align_items": null,
      "align_self": null,
      "border": null,
      "bottom": null,
      "display": null,
      "flex": null,
      "flex_flow": null,
      "grid_area": null,
      "grid_auto_columns": null,
      "grid_auto_flow": null,
      "grid_auto_rows": null,
      "grid_column": null,
      "grid_gap": null,
      "grid_row": null,
      "grid_template_areas": null,
      "grid_template_columns": null,
      "grid_template_rows": null,
      "height": null,
      "justify_content": null,
      "justify_items": null,
      "left": null,
      "margin": null,
      "max_height": null,
      "max_width": null,
      "min_height": null,
      "min_width": null,
      "object_fit": null,
      "object_position": null,
      "order": null,
      "overflow": null,
      "overflow_x": null,
      "overflow_y": null,
      "padding": null,
      "right": null,
      "top": null,
      "visibility": null,
      "width": null
     }
    },
    "69edddfe50f94500997aef4107b276cd": {
     "model_module": "@jupyter-widgets/controls",
     "model_module_version": "1.5.0",
     "model_name": "DescriptionStyleModel",
     "state": {
      "_model_module": "@jupyter-widgets/controls",
      "_model_module_version": "1.5.0",
      "_model_name": "DescriptionStyleModel",
      "_view_count": null,
      "_view_module": "@jupyter-widgets/base",
      "_view_module_version": "1.2.0",
      "_view_name": "StyleView",
      "description_width": ""
     }
    },
    "71465863985d4ff6856c24b7a79ca44a": {
     "model_module": "@jupyter-widgets/base",
     "model_module_version": "1.2.0",
     "model_name": "LayoutModel",
     "state": {
      "_model_module": "@jupyter-widgets/base",
      "_model_module_version": "1.2.0",
      "_model_name": "LayoutModel",
      "_view_count": null,
      "_view_module": "@jupyter-widgets/base",
      "_view_module_version": "1.2.0",
      "_view_name": "LayoutView",
      "align_content": null,
      "align_items": null,
      "align_self": null,
      "border": null,
      "bottom": null,
      "display": null,
      "flex": null,
      "flex_flow": null,
      "grid_area": null,
      "grid_auto_columns": null,
      "grid_auto_flow": null,
      "grid_auto_rows": null,
      "grid_column": null,
      "grid_gap": null,
      "grid_row": null,
      "grid_template_areas": null,
      "grid_template_columns": null,
      "grid_template_rows": null,
      "height": null,
      "justify_content": null,
      "justify_items": null,
      "left": null,
      "margin": null,
      "max_height": null,
      "max_width": null,
      "min_height": null,
      "min_width": null,
      "object_fit": null,
      "object_position": null,
      "order": null,
      "overflow": null,
      "overflow_x": null,
      "overflow_y": null,
      "padding": null,
      "right": null,
      "top": null,
      "visibility": null,
      "width": null
     }
    },
    "7b8718515f3b4344810fba304db3bf49": {
     "model_module": "@jupyter-widgets/controls",
     "model_module_version": "1.5.0",
     "model_name": "HTMLModel",
     "state": {
      "_dom_classes": [],
      "_model_module": "@jupyter-widgets/controls",
      "_model_module_version": "1.5.0",
      "_model_name": "HTMLModel",
      "_view_count": null,
      "_view_module": "@jupyter-widgets/controls",
      "_view_module_version": "1.5.0",
      "_view_name": "HTMLView",
      "description": "",
      "description_tooltip": null,
      "layout": "IPY_MODEL_fe14c8b040e74d5a9d9883173c6ef6c6",
      "placeholder": "​",
      "style": "IPY_MODEL_046417f676c14d68be638e960e116754",
      "value": "config.json: 100%"
     }
    },
    "7c381075d883459dbd7fdf9a5d7dc0a6": {
     "model_module": "@jupyter-widgets/controls",
     "model_module_version": "1.5.0",
     "model_name": "HBoxModel",
     "state": {
      "_dom_classes": [],
      "_model_module": "@jupyter-widgets/controls",
      "_model_module_version": "1.5.0",
      "_model_name": "HBoxModel",
      "_view_count": null,
      "_view_module": "@jupyter-widgets/controls",
      "_view_module_version": "1.5.0",
      "_view_name": "HBoxView",
      "box_style": "",
      "children": [
       "IPY_MODEL_8abcd017e617430aa4155f1139ccd107",
       "IPY_MODEL_809842f4694e43d295fefa97e0e868e3",
       "IPY_MODEL_863176d5416047319047905da7c99719"
      ],
      "layout": "IPY_MODEL_9af5ef5080a243f582274d57903f8c19"
     }
    },
    "7cd629dc28f9487e923e804b451a1569": {
     "model_module": "@jupyter-widgets/controls",
     "model_module_version": "1.5.0",
     "model_name": "ProgressStyleModel",
     "state": {
      "_model_module": "@jupyter-widgets/controls",
      "_model_module_version": "1.5.0",
      "_model_name": "ProgressStyleModel",
      "_view_count": null,
      "_view_module": "@jupyter-widgets/base",
      "_view_module_version": "1.2.0",
      "_view_name": "StyleView",
      "bar_color": null,
      "description_width": ""
     }
    },
    "7cea31c22018490b96ac9b184036522b": {
     "model_module": "@jupyter-widgets/base",
     "model_module_version": "1.2.0",
     "model_name": "LayoutModel",
     "state": {
      "_model_module": "@jupyter-widgets/base",
      "_model_module_version": "1.2.0",
      "_model_name": "LayoutModel",
      "_view_count": null,
      "_view_module": "@jupyter-widgets/base",
      "_view_module_version": "1.2.0",
      "_view_name": "LayoutView",
      "align_content": null,
      "align_items": null,
      "align_self": null,
      "border": null,
      "bottom": null,
      "display": null,
      "flex": null,
      "flex_flow": null,
      "grid_area": null,
      "grid_auto_columns": null,
      "grid_auto_flow": null,
      "grid_auto_rows": null,
      "grid_column": null,
      "grid_gap": null,
      "grid_row": null,
      "grid_template_areas": null,
      "grid_template_columns": null,
      "grid_template_rows": null,
      "height": null,
      "justify_content": null,
      "justify_items": null,
      "left": null,
      "margin": null,
      "max_height": null,
      "max_width": null,
      "min_height": null,
      "min_width": null,
      "object_fit": null,
      "object_position": null,
      "order": null,
      "overflow": null,
      "overflow_x": null,
      "overflow_y": null,
      "padding": null,
      "right": null,
      "top": null,
      "visibility": null,
      "width": null
     }
    },
    "809842f4694e43d295fefa97e0e868e3": {
     "model_module": "@jupyter-widgets/controls",
     "model_module_version": "1.5.0",
     "model_name": "FloatProgressModel",
     "state": {
      "_dom_classes": [],
      "_model_module": "@jupyter-widgets/controls",
      "_model_module_version": "1.5.0",
      "_model_name": "FloatProgressModel",
      "_view_count": null,
      "_view_module": "@jupyter-widgets/controls",
      "_view_module_version": "1.5.0",
      "_view_name": "ProgressView",
      "bar_style": "success",
      "description": "",
      "description_tooltip": null,
      "layout": "IPY_MODEL_0ee6e4f7aab84846b46b43d29748e4d7",
      "max": 3500425616,
      "min": 0,
      "orientation": "horizontal",
      "style": "IPY_MODEL_ed63c3530bb745d1be4e97414ed7a0a6",
      "value": 3500425616
     }
    },
    "80fbaea1a86048288a23accb0eaa42fd": {
     "model_module": "@jupyter-widgets/controls",
     "model_module_version": "1.5.0",
     "model_name": "FloatProgressModel",
     "state": {
      "_dom_classes": [],
      "_model_module": "@jupyter-widgets/controls",
      "_model_module_version": "1.5.0",
      "_model_name": "FloatProgressModel",
      "_view_count": null,
      "_view_module": "@jupyter-widgets/controls",
      "_view_module_version": "1.5.0",
      "_view_name": "ProgressView",
      "bar_style": "success",
      "description": "",
      "description_tooltip": null,
      "layout": "IPY_MODEL_a7790ebb49b2447fad0b1b305144c4cd",
      "max": 500058,
      "min": 0,
      "orientation": "horizontal",
      "style": "IPY_MODEL_323d3d071d8b4a4aa3ea3bca05623ebe",
      "value": 500058
     }
    },
    "810f97e0cbda435cb028933ee20a35f9": {
     "model_module": "@jupyter-widgets/controls",
     "model_module_version": "1.5.0",
     "model_name": "HTMLModel",
     "state": {
      "_dom_classes": [],
      "_model_module": "@jupyter-widgets/controls",
      "_model_module_version": "1.5.0",
      "_model_name": "HTMLModel",
      "_view_count": null,
      "_view_module": "@jupyter-widgets/controls",
      "_view_module_version": "1.5.0",
      "_view_name": "HTMLView",
      "description": "",
      "description_tooltip": null,
      "layout": "IPY_MODEL_5d3bc37bb81749c3a1aa8c35ac05e299",
      "placeholder": "​",
      "style": "IPY_MODEL_423b0819c976453994eed2f0c7a130c5",
      "value": " 5480/5480 [00:03&lt;00:00, 1391.20 examples/s]"
     }
    },
    "82b0da738c944d479cf232589c4965ea": {
     "model_module": "@jupyter-widgets/base",
     "model_module_version": "1.2.0",
     "model_name": "LayoutModel",
     "state": {
      "_model_module": "@jupyter-widgets/base",
      "_model_module_version": "1.2.0",
      "_model_name": "LayoutModel",
      "_view_count": null,
      "_view_module": "@jupyter-widgets/base",
      "_view_module_version": "1.2.0",
      "_view_name": "LayoutView",
      "align_content": null,
      "align_items": null,
      "align_self": null,
      "border": null,
      "bottom": null,
      "display": null,
      "flex": null,
      "flex_flow": null,
      "grid_area": null,
      "grid_auto_columns": null,
      "grid_auto_flow": null,
      "grid_auto_rows": null,
      "grid_column": null,
      "grid_gap": null,
      "grid_row": null,
      "grid_template_areas": null,
      "grid_template_columns": null,
      "grid_template_rows": null,
      "height": null,
      "justify_content": null,
      "justify_items": null,
      "left": null,
      "margin": null,
      "max_height": null,
      "max_width": null,
      "min_height": null,
      "min_width": null,
      "object_fit": null,
      "object_position": null,
      "order": null,
      "overflow": null,
      "overflow_x": null,
      "overflow_y": null,
      "padding": null,
      "right": null,
      "top": null,
      "visibility": null,
      "width": null
     }
    },
    "835feb6c305940ee96661424dfbb8140": {
     "model_module": "@jupyter-widgets/base",
     "model_module_version": "1.2.0",
     "model_name": "LayoutModel",
     "state": {
      "_model_module": "@jupyter-widgets/base",
      "_model_module_version": "1.2.0",
      "_model_name": "LayoutModel",
      "_view_count": null,
      "_view_module": "@jupyter-widgets/base",
      "_view_module_version": "1.2.0",
      "_view_name": "LayoutView",
      "align_content": null,
      "align_items": null,
      "align_self": null,
      "border": null,
      "bottom": null,
      "display": null,
      "flex": null,
      "flex_flow": null,
      "grid_area": null,
      "grid_auto_columns": null,
      "grid_auto_flow": null,
      "grid_auto_rows": null,
      "grid_column": null,
      "grid_gap": null,
      "grid_row": null,
      "grid_template_areas": null,
      "grid_template_columns": null,
      "grid_template_rows": null,
      "height": null,
      "justify_content": null,
      "justify_items": null,
      "left": null,
      "margin": null,
      "max_height": null,
      "max_width": null,
      "min_height": null,
      "min_width": null,
      "object_fit": null,
      "object_position": null,
      "order": null,
      "overflow": null,
      "overflow_x": null,
      "overflow_y": null,
      "padding": null,
      "right": null,
      "top": null,
      "visibility": null,
      "width": null
     }
    },
    "85be01471da74e708f51e04982d0b295": {
     "model_module": "@jupyter-widgets/controls",
     "model_module_version": "1.5.0",
     "model_name": "HTMLModel",
     "state": {
      "_dom_classes": [],
      "_model_module": "@jupyter-widgets/controls",
      "_model_module_version": "1.5.0",
      "_model_name": "HTMLModel",
      "_view_count": null,
      "_view_module": "@jupyter-widgets/controls",
      "_view_module_version": "1.5.0",
      "_view_name": "HTMLView",
      "description": "",
      "description_tooltip": null,
      "layout": "IPY_MODEL_57c2365e78bd479f8819510fbec57c4c",
      "placeholder": "​",
      "style": "IPY_MODEL_2ea96db5a8174a6a80e82483caee2fcc",
      "value": "tokenizer.model: 100%"
     }
    },
    "863176d5416047319047905da7c99719": {
     "model_module": "@jupyter-widgets/controls",
     "model_module_version": "1.5.0",
     "model_name": "HTMLModel",
     "state": {
      "_dom_classes": [],
      "_model_module": "@jupyter-widgets/controls",
      "_model_module_version": "1.5.0",
      "_model_name": "HTMLModel",
      "_view_count": null,
      "_view_module": "@jupyter-widgets/controls",
      "_view_module_version": "1.5.0",
      "_view_name": "HTMLView",
      "description": "",
      "description_tooltip": null,
      "layout": "IPY_MODEL_101015f62c9b42e89a30b5b4155bacc8",
      "placeholder": "​",
      "style": "IPY_MODEL_55a66db47597425cae501bd7a993c6f3",
      "value": " 3.50G/3.50G [00:40&lt;00:00, 29.3MB/s]"
     }
    },
    "88cafd8c151a49b887fa589b38dad6a5": {
     "model_module": "@jupyter-widgets/controls",
     "model_module_version": "1.5.0",
     "model_name": "FloatProgressModel",
     "state": {
      "_dom_classes": [],
      "_model_module": "@jupyter-widgets/controls",
      "_model_module_version": "1.5.0",
      "_model_name": "FloatProgressModel",
      "_view_count": null,
      "_view_module": "@jupyter-widgets/controls",
      "_view_module_version": "1.5.0",
      "_view_name": "ProgressView",
      "bar_style": "success",
      "description": "",
      "description_tooltip": null,
      "layout": "IPY_MODEL_e9a2867afb8c4043b11b0de24619618d",
      "max": 5465,
      "min": 0,
      "orientation": "horizontal",
      "style": "IPY_MODEL_2ae587d5483e4083966937c3e215f0af",
      "value": 5465
     }
    },
    "8abcd017e617430aa4155f1139ccd107": {
     "model_module": "@jupyter-widgets/controls",
     "model_module_version": "1.5.0",
     "model_name": "HTMLModel",
     "state": {
      "_dom_classes": [],
      "_model_module": "@jupyter-widgets/controls",
      "_model_module_version": "1.5.0",
      "_model_name": "HTMLModel",
      "_view_count": null,
      "_view_module": "@jupyter-widgets/controls",
      "_view_module_version": "1.5.0",
      "_view_name": "HTMLView",
      "description": "",
      "description_tooltip": null,
      "layout": "IPY_MODEL_7cea31c22018490b96ac9b184036522b",
      "placeholder": "​",
      "style": "IPY_MODEL_49024decd5494732adcbd86360f7aff0",
      "value": "model-00002-of-00002.safetensors: 100%"
     }
    },
    "8dedfaea73e64775ae4e506bf702291a": {
     "model_module": "@jupyter-widgets/controls",
     "model_module_version": "1.5.0",
     "model_name": "HTMLModel",
     "state": {
      "_dom_classes": [],
      "_model_module": "@jupyter-widgets/controls",
      "_model_module_version": "1.5.0",
      "_model_name": "HTMLModel",
      "_view_count": null,
      "_view_module": "@jupyter-widgets/controls",
      "_view_module_version": "1.5.0",
      "_view_name": "HTMLView",
      "description": "",
      "description_tooltip": null,
      "layout": "IPY_MODEL_9113e03a2fd547c4bba16369cc3e38a5",
      "placeholder": "​",
      "style": "IPY_MODEL_2a2d762ed5654129b29f959c9b5b001c",
      "value": "tokenizer.json: 100%"
     }
    },
    "8e46badcbf6a4d93b9751c4b9ca3f04b": {
     "model_module": "@jupyter-widgets/controls",
     "model_module_version": "1.5.0",
     "model_name": "DescriptionStyleModel",
     "state": {
      "_model_module": "@jupyter-widgets/controls",
      "_model_module_version": "1.5.0",
      "_model_name": "DescriptionStyleModel",
      "_view_count": null,
      "_view_module": "@jupyter-widgets/base",
      "_view_module_version": "1.2.0",
      "_view_name": "StyleView",
      "description_width": ""
     }
    },
    "8ef3079e7cff4391b7d12ebec85e5b23": {
     "model_module": "@jupyter-widgets/controls",
     "model_module_version": "1.5.0",
     "model_name": "DescriptionStyleModel",
     "state": {
      "_model_module": "@jupyter-widgets/controls",
      "_model_module_version": "1.5.0",
      "_model_name": "DescriptionStyleModel",
      "_view_count": null,
      "_view_module": "@jupyter-widgets/base",
      "_view_module_version": "1.2.0",
      "_view_name": "StyleView",
      "description_width": ""
     }
    },
    "90c831e9cc464cdf8840524626cecaf1": {
     "model_module": "@jupyter-widgets/controls",
     "model_module_version": "1.5.0",
     "model_name": "HTMLModel",
     "state": {
      "_dom_classes": [],
      "_model_module": "@jupyter-widgets/controls",
      "_model_module_version": "1.5.0",
      "_model_name": "HTMLModel",
      "_view_count": null,
      "_view_module": "@jupyter-widgets/controls",
      "_view_module_version": "1.5.0",
      "_view_name": "HTMLView",
      "description": "",
      "description_tooltip": null,
      "layout": "IPY_MODEL_21439c23dd354a96b556009dbde19dd8",
      "placeholder": "​",
      "style": "IPY_MODEL_913f2b0fc3f94c808c67365d905289df",
      "value": " 1.84M/1.84M [00:00&lt;00:00, 4.25MB/s]"
     }
    },
    "9113e03a2fd547c4bba16369cc3e38a5": {
     "model_module": "@jupyter-widgets/base",
     "model_module_version": "1.2.0",
     "model_name": "LayoutModel",
     "state": {
      "_model_module": "@jupyter-widgets/base",
      "_model_module_version": "1.2.0",
      "_model_name": "LayoutModel",
      "_view_count": null,
      "_view_module": "@jupyter-widgets/base",
      "_view_module_version": "1.2.0",
      "_view_name": "LayoutView",
      "align_content": null,
      "align_items": null,
      "align_self": null,
      "border": null,
      "bottom": null,
      "display": null,
      "flex": null,
      "flex_flow": null,
      "grid_area": null,
      "grid_auto_columns": null,
      "grid_auto_flow": null,
      "grid_auto_rows": null,
      "grid_column": null,
      "grid_gap": null,
      "grid_row": null,
      "grid_template_areas": null,
      "grid_template_columns": null,
      "grid_template_rows": null,
      "height": null,
      "justify_content": null,
      "justify_items": null,
      "left": null,
      "margin": null,
      "max_height": null,
      "max_width": null,
      "min_height": null,
      "min_width": null,
      "object_fit": null,
      "object_position": null,
      "order": null,
      "overflow": null,
      "overflow_x": null,
      "overflow_y": null,
      "padding": null,
      "right": null,
      "top": null,
      "visibility": null,
      "width": null
     }
    },
    "913f2b0fc3f94c808c67365d905289df": {
     "model_module": "@jupyter-widgets/controls",
     "model_module_version": "1.5.0",
     "model_name": "DescriptionStyleModel",
     "state": {
      "_model_module": "@jupyter-widgets/controls",
      "_model_module_version": "1.5.0",
      "_model_name": "DescriptionStyleModel",
      "_view_count": null,
      "_view_module": "@jupyter-widgets/base",
      "_view_module_version": "1.2.0",
      "_view_name": "StyleView",
      "description_width": ""
     }
    },
    "96f29d6ea6704af285b2fc0d71fc9b16": {
     "model_module": "@jupyter-widgets/base",
     "model_module_version": "1.2.0",
     "model_name": "LayoutModel",
     "state": {
      "_model_module": "@jupyter-widgets/base",
      "_model_module_version": "1.2.0",
      "_model_name": "LayoutModel",
      "_view_count": null,
      "_view_module": "@jupyter-widgets/base",
      "_view_module_version": "1.2.0",
      "_view_name": "LayoutView",
      "align_content": null,
      "align_items": null,
      "align_self": null,
      "border": null,
      "bottom": null,
      "display": null,
      "flex": null,
      "flex_flow": null,
      "grid_area": null,
      "grid_auto_columns": null,
      "grid_auto_flow": null,
      "grid_auto_rows": null,
      "grid_column": null,
      "grid_gap": null,
      "grid_row": null,
      "grid_template_areas": null,
      "grid_template_columns": null,
      "grid_template_rows": null,
      "height": null,
      "justify_content": null,
      "justify_items": null,
      "left": null,
      "margin": null,
      "max_height": null,
      "max_width": null,
      "min_height": null,
      "min_width": null,
      "object_fit": null,
      "object_position": null,
      "order": null,
      "overflow": null,
      "overflow_x": null,
      "overflow_y": null,
      "padding": null,
      "right": null,
      "top": null,
      "visibility": null,
      "width": null
     }
    },
    "9774f2b8fda947eaa7a0843ba8676ddd": {
     "model_module": "@jupyter-widgets/controls",
     "model_module_version": "1.5.0",
     "model_name": "FloatProgressModel",
     "state": {
      "_dom_classes": [],
      "_model_module": "@jupyter-widgets/controls",
      "_model_module_version": "1.5.0",
      "_model_name": "FloatProgressModel",
      "_view_count": null,
      "_view_module": "@jupyter-widgets/controls",
      "_view_module_version": "1.5.0",
      "_view_name": "ProgressView",
      "bar_style": "success",
      "description": "",
      "description_tooltip": null,
      "layout": "IPY_MODEL_9bffef9fee0c4121bff472a6422d24b4",
      "max": 637,
      "min": 0,
      "orientation": "horizontal",
      "style": "IPY_MODEL_c77036de83d24b3b80018a8bce275ffb",
      "value": 637
     }
    },
    "9af5ef5080a243f582274d57903f8c19": {
     "model_module": "@jupyter-widgets/base",
     "model_module_version": "1.2.0",
     "model_name": "LayoutModel",
     "state": {
      "_model_module": "@jupyter-widgets/base",
      "_model_module_version": "1.2.0",
      "_model_name": "LayoutModel",
      "_view_count": null,
      "_view_module": "@jupyter-widgets/base",
      "_view_module_version": "1.2.0",
      "_view_name": "LayoutView",
      "align_content": null,
      "align_items": null,
      "align_self": null,
      "border": null,
      "bottom": null,
      "display": null,
      "flex": null,
      "flex_flow": null,
      "grid_area": null,
      "grid_auto_columns": null,
      "grid_auto_flow": null,
      "grid_auto_rows": null,
      "grid_column": null,
      "grid_gap": null,
      "grid_row": null,
      "grid_template_areas": null,
      "grid_template_columns": null,
      "grid_template_rows": null,
      "height": null,
      "justify_content": null,
      "justify_items": null,
      "left": null,
      "margin": null,
      "max_height": null,
      "max_width": null,
      "min_height": null,
      "min_width": null,
      "object_fit": null,
      "object_position": null,
      "order": null,
      "overflow": null,
      "overflow_x": null,
      "overflow_y": null,
      "padding": null,
      "right": null,
      "top": null,
      "visibility": null,
      "width": null
     }
    },
    "9bffef9fee0c4121bff472a6422d24b4": {
     "model_module": "@jupyter-widgets/base",
     "model_module_version": "1.2.0",
     "model_name": "LayoutModel",
     "state": {
      "_model_module": "@jupyter-widgets/base",
      "_model_module_version": "1.2.0",
      "_model_name": "LayoutModel",
      "_view_count": null,
      "_view_module": "@jupyter-widgets/base",
      "_view_module_version": "1.2.0",
      "_view_name": "LayoutView",
      "align_content": null,
      "align_items": null,
      "align_self": null,
      "border": null,
      "bottom": null,
      "display": null,
      "flex": null,
      "flex_flow": null,
      "grid_area": null,
      "grid_auto_columns": null,
      "grid_auto_flow": null,
      "grid_auto_rows": null,
      "grid_column": null,
      "grid_gap": null,
      "grid_row": null,
      "grid_template_areas": null,
      "grid_template_columns": null,
      "grid_template_rows": null,
      "height": null,
      "justify_content": null,
      "justify_items": null,
      "left": null,
      "margin": null,
      "max_height": null,
      "max_width": null,
      "min_height": null,
      "min_width": null,
      "object_fit": null,
      "object_position": null,
      "order": null,
      "overflow": null,
      "overflow_x": null,
      "overflow_y": null,
      "padding": null,
      "right": null,
      "top": null,
      "visibility": null,
      "width": null
     }
    },
    "9dcf591be1ce44a9b88e5c6a25eac881": {
     "model_module": "@jupyter-widgets/controls",
     "model_module_version": "1.5.0",
     "model_name": "DescriptionStyleModel",
     "state": {
      "_model_module": "@jupyter-widgets/controls",
      "_model_module_version": "1.5.0",
      "_model_name": "DescriptionStyleModel",
      "_view_count": null,
      "_view_module": "@jupyter-widgets/base",
      "_view_module_version": "1.2.0",
      "_view_name": "StyleView",
      "description_width": ""
     }
    },
    "a3ecc60ef057497b89b9c6d7fe903978": {
     "model_module": "@jupyter-widgets/controls",
     "model_module_version": "1.5.0",
     "model_name": "HTMLModel",
     "state": {
      "_dom_classes": [],
      "_model_module": "@jupyter-widgets/controls",
      "_model_module_version": "1.5.0",
      "_model_name": "HTMLModel",
      "_view_count": null,
      "_view_module": "@jupyter-widgets/controls",
      "_view_module_version": "1.5.0",
      "_view_name": "HTMLView",
      "description": "",
      "description_tooltip": null,
      "layout": "IPY_MODEL_68e4545bd7804d51b647b4c515e7f8ef",
      "placeholder": "​",
      "style": "IPY_MODEL_64c180d7996b454a8d40b6810090faed",
      "value": "Fetching 2 files: 100%"
     }
    },
    "a7790ebb49b2447fad0b1b305144c4cd": {
     "model_module": "@jupyter-widgets/base",
     "model_module_version": "1.2.0",
     "model_name": "LayoutModel",
     "state": {
      "_model_module": "@jupyter-widgets/base",
      "_model_module_version": "1.2.0",
      "_model_name": "LayoutModel",
      "_view_count": null,
      "_view_module": "@jupyter-widgets/base",
      "_view_module_version": "1.2.0",
      "_view_name": "LayoutView",
      "align_content": null,
      "align_items": null,
      "align_self": null,
      "border": null,
      "bottom": null,
      "display": null,
      "flex": null,
      "flex_flow": null,
      "grid_area": null,
      "grid_auto_columns": null,
      "grid_auto_flow": null,
      "grid_auto_rows": null,
      "grid_column": null,
      "grid_gap": null,
      "grid_row": null,
      "grid_template_areas": null,
      "grid_template_columns": null,
      "grid_template_rows": null,
      "height": null,
      "justify_content": null,
      "justify_items": null,
      "left": null,
      "margin": null,
      "max_height": null,
      "max_width": null,
      "min_height": null,
      "min_width": null,
      "object_fit": null,
      "object_position": null,
      "order": null,
      "overflow": null,
      "overflow_x": null,
      "overflow_y": null,
      "padding": null,
      "right": null,
      "top": null,
      "visibility": null,
      "width": null
     }
    },
    "afaab0dd08d74814b3b827b8b764ff7d": {
     "model_module": "@jupyter-widgets/base",
     "model_module_version": "1.2.0",
     "model_name": "LayoutModel",
     "state": {
      "_model_module": "@jupyter-widgets/base",
      "_model_module_version": "1.2.0",
      "_model_name": "LayoutModel",
      "_view_count": null,
      "_view_module": "@jupyter-widgets/base",
      "_view_module_version": "1.2.0",
      "_view_name": "LayoutView",
      "align_content": null,
      "align_items": null,
      "align_self": null,
      "border": null,
      "bottom": null,
      "display": null,
      "flex": null,
      "flex_flow": null,
      "grid_area": null,
      "grid_auto_columns": null,
      "grid_auto_flow": null,
      "grid_auto_rows": null,
      "grid_column": null,
      "grid_gap": null,
      "grid_row": null,
      "grid_template_areas": null,
      "grid_template_columns": null,
      "grid_template_rows": null,
      "height": null,
      "justify_content": null,
      "justify_items": null,
      "left": null,
      "margin": null,
      "max_height": null,
      "max_width": null,
      "min_height": null,
      "min_width": null,
      "object_fit": null,
      "object_position": null,
      "order": null,
      "overflow": null,
      "overflow_x": null,
      "overflow_y": null,
      "padding": null,
      "right": null,
      "top": null,
      "visibility": null,
      "width": null
     }
    },
    "b090770254eb41c9972d14163f7003c0": {
     "model_module": "@jupyter-widgets/controls",
     "model_module_version": "1.5.0",
     "model_name": "HTMLModel",
     "state": {
      "_dom_classes": [],
      "_model_module": "@jupyter-widgets/controls",
      "_model_module_version": "1.5.0",
      "_model_name": "HTMLModel",
      "_view_count": null,
      "_view_module": "@jupyter-widgets/controls",
      "_view_module_version": "1.5.0",
      "_view_name": "HTMLView",
      "description": "",
      "description_tooltip": null,
      "layout": "IPY_MODEL_3e8debe14e4e4436bf405671299a9c0e",
      "placeholder": "​",
      "style": "IPY_MODEL_9dcf591be1ce44a9b88e5c6a25eac881",
      "value": "model.safetensors.index.json: 100%"
     }
    },
    "b1bc738967d04e50ae037d4b988a96a8": {
     "model_module": "@jupyter-widgets/controls",
     "model_module_version": "1.5.0",
     "model_name": "HBoxModel",
     "state": {
      "_dom_classes": [],
      "_model_module": "@jupyter-widgets/controls",
      "_model_module_version": "1.5.0",
      "_model_name": "HBoxModel",
      "_view_count": null,
      "_view_module": "@jupyter-widgets/controls",
      "_view_module_version": "1.5.0",
      "_view_name": "HBoxView",
      "box_style": "",
      "children": [
       "IPY_MODEL_ec6c1d4e70e645eea06259130c8f2033",
       "IPY_MODEL_0c72b78a9c824b7da6b852601bc236da",
       "IPY_MODEL_d8579fdd601a495986096e2bdacb49c3"
      ],
      "layout": "IPY_MODEL_0f1ca74b347b4b199d236fbef0cf19ab"
     }
    },
    "b261aa1691e84ff7bfd4f0468eee5d3c": {
     "model_module": "@jupyter-widgets/base",
     "model_module_version": "1.2.0",
     "model_name": "LayoutModel",
     "state": {
      "_model_module": "@jupyter-widgets/base",
      "_model_module_version": "1.2.0",
      "_model_name": "LayoutModel",
      "_view_count": null,
      "_view_module": "@jupyter-widgets/base",
      "_view_module_version": "1.2.0",
      "_view_name": "LayoutView",
      "align_content": null,
      "align_items": null,
      "align_self": null,
      "border": null,
      "bottom": null,
      "display": null,
      "flex": null,
      "flex_flow": null,
      "grid_area": null,
      "grid_auto_columns": null,
      "grid_auto_flow": null,
      "grid_auto_rows": null,
      "grid_column": null,
      "grid_gap": null,
      "grid_row": null,
      "grid_template_areas": null,
      "grid_template_columns": null,
      "grid_template_rows": null,
      "height": null,
      "justify_content": null,
      "justify_items": null,
      "left": null,
      "margin": null,
      "max_height": null,
      "max_width": null,
      "min_height": null,
      "min_width": null,
      "object_fit": null,
      "object_position": null,
      "order": null,
      "overflow": null,
      "overflow_x": null,
      "overflow_y": null,
      "padding": null,
      "right": null,
      "top": null,
      "visibility": null,
      "width": null
     }
    },
    "b2e450a957e344faabc4a39d42a36c5b": {
     "model_module": "@jupyter-widgets/controls",
     "model_module_version": "1.5.0",
     "model_name": "ProgressStyleModel",
     "state": {
      "_model_module": "@jupyter-widgets/controls",
      "_model_module_version": "1.5.0",
      "_model_name": "ProgressStyleModel",
      "_view_count": null,
      "_view_module": "@jupyter-widgets/base",
      "_view_module_version": "1.2.0",
      "_view_name": "StyleView",
      "bar_color": null,
      "description_width": ""
     }
    },
    "b3323e391c9342159975b42d1ba60d43": {
     "model_module": "@jupyter-widgets/controls",
     "model_module_version": "1.5.0",
     "model_name": "HTMLModel",
     "state": {
      "_dom_classes": [],
      "_model_module": "@jupyter-widgets/controls",
      "_model_module_version": "1.5.0",
      "_model_name": "HTMLModel",
      "_view_count": null,
      "_view_module": "@jupyter-widgets/controls",
      "_view_module_version": "1.5.0",
      "_view_name": "HTMLView",
      "description": "",
      "description_tooltip": null,
      "layout": "IPY_MODEL_5d16ec8c1d08453d81ea1437214b32c6",
      "placeholder": "​",
      "style": "IPY_MODEL_02b3e0aff8fc4a7da9a825d2c21af85f",
      "value": " 2/2 [00:50&lt;00:00, 50.24s/it]"
     }
    },
    "ba62bdd2ed3a4d0fa1d8c012da094be5": {
     "model_module": "@jupyter-widgets/base",
     "model_module_version": "1.2.0",
     "model_name": "LayoutModel",
     "state": {
      "_model_module": "@jupyter-widgets/base",
      "_model_module_version": "1.2.0",
      "_model_name": "LayoutModel",
      "_view_count": null,
      "_view_module": "@jupyter-widgets/base",
      "_view_module_version": "1.2.0",
      "_view_name": "LayoutView",
      "align_content": null,
      "align_items": null,
      "align_self": null,
      "border": null,
      "bottom": null,
      "display": null,
      "flex": null,
      "flex_flow": null,
      "grid_area": null,
      "grid_auto_columns": null,
      "grid_auto_flow": null,
      "grid_auto_rows": null,
      "grid_column": null,
      "grid_gap": null,
      "grid_row": null,
      "grid_template_areas": null,
      "grid_template_columns": null,
      "grid_template_rows": null,
      "height": null,
      "justify_content": null,
      "justify_items": null,
      "left": null,
      "margin": null,
      "max_height": null,
      "max_width": null,
      "min_height": null,
      "min_width": null,
      "object_fit": null,
      "object_position": null,
      "order": null,
      "overflow": null,
      "overflow_x": null,
      "overflow_y": null,
      "padding": null,
      "right": null,
      "top": null,
      "visibility": null,
      "width": null
     }
    },
    "bbe1c7fa099148e180b9036a971438d8": {
     "model_module": "@jupyter-widgets/controls",
     "model_module_version": "1.5.0",
     "model_name": "HTMLModel",
     "state": {
      "_dom_classes": [],
      "_model_module": "@jupyter-widgets/controls",
      "_model_module_version": "1.5.0",
      "_model_name": "HTMLModel",
      "_view_count": null,
      "_view_module": "@jupyter-widgets/controls",
      "_view_module_version": "1.5.0",
      "_view_name": "HTMLView",
      "description": "",
      "description_tooltip": null,
      "layout": "IPY_MODEL_e90ee952a471497b8844375971a71777",
      "placeholder": "​",
      "style": "IPY_MODEL_3078481625f2477ab2ac4d58f3f62835",
      "value": "tokenizer_config.json: 100%"
     }
    },
    "bcfe41e5cf244aa1b4169b347151ef25": {
     "model_module": "@jupyter-widgets/controls",
     "model_module_version": "1.5.0",
     "model_name": "HBoxModel",
     "state": {
      "_dom_classes": [],
      "_model_module": "@jupyter-widgets/controls",
      "_model_module_version": "1.5.0",
      "_model_name": "HBoxModel",
      "_view_count": null,
      "_view_module": "@jupyter-widgets/controls",
      "_view_module_version": "1.5.0",
      "_view_name": "HBoxView",
      "box_style": "",
      "children": [
       "IPY_MODEL_3ce0810ecd0e42b9b8d488ecf22edbc5",
       "IPY_MODEL_88cafd8c151a49b887fa589b38dad6a5",
       "IPY_MODEL_4fe13d9b01ef441bad0218701be33982"
      ],
      "layout": "IPY_MODEL_f3d4ddbb372a4c22b5d50228b15a004a"
     }
    },
    "bf23d613e17140a8a3e81d1d3e2c5375": {
     "model_module": "@jupyter-widgets/base",
     "model_module_version": "1.2.0",
     "model_name": "LayoutModel",
     "state": {
      "_model_module": "@jupyter-widgets/base",
      "_model_module_version": "1.2.0",
      "_model_name": "LayoutModel",
      "_view_count": null,
      "_view_module": "@jupyter-widgets/base",
      "_view_module_version": "1.2.0",
      "_view_name": "LayoutView",
      "align_content": null,
      "align_items": null,
      "align_self": null,
      "border": null,
      "bottom": null,
      "display": null,
      "flex": null,
      "flex_flow": null,
      "grid_area": null,
      "grid_auto_columns": null,
      "grid_auto_flow": null,
      "grid_auto_rows": null,
      "grid_column": null,
      "grid_gap": null,
      "grid_row": null,
      "grid_template_areas": null,
      "grid_template_columns": null,
      "grid_template_rows": null,
      "height": null,
      "justify_content": null,
      "justify_items": null,
      "left": null,
      "margin": null,
      "max_height": null,
      "max_width": null,
      "min_height": null,
      "min_width": null,
      "object_fit": null,
      "object_position": null,
      "order": null,
      "overflow": null,
      "overflow_x": null,
      "overflow_y": null,
      "padding": null,
      "right": null,
      "top": null,
      "visibility": null,
      "width": null
     }
    },
    "bf6d4a55dc7a4f15a5036baa70ab0f85": {
     "model_module": "@jupyter-widgets/base",
     "model_module_version": "1.2.0",
     "model_name": "LayoutModel",
     "state": {
      "_model_module": "@jupyter-widgets/base",
      "_model_module_version": "1.2.0",
      "_model_name": "LayoutModel",
      "_view_count": null,
      "_view_module": "@jupyter-widgets/base",
      "_view_module_version": "1.2.0",
      "_view_name": "LayoutView",
      "align_content": null,
      "align_items": null,
      "align_self": null,
      "border": null,
      "bottom": null,
      "display": null,
      "flex": null,
      "flex_flow": null,
      "grid_area": null,
      "grid_auto_columns": null,
      "grid_auto_flow": null,
      "grid_auto_rows": null,
      "grid_column": null,
      "grid_gap": null,
      "grid_row": null,
      "grid_template_areas": null,
      "grid_template_columns": null,
      "grid_template_rows": null,
      "height": null,
      "justify_content": null,
      "justify_items": null,
      "left": null,
      "margin": null,
      "max_height": null,
      "max_width": null,
      "min_height": null,
      "min_width": null,
      "object_fit": null,
      "object_position": null,
      "order": null,
      "overflow": null,
      "overflow_x": null,
      "overflow_y": null,
      "padding": null,
      "right": null,
      "top": null,
      "visibility": null,
      "width": null
     }
    },
    "c008c4f83f064823b0310257af7b0ca1": {
     "model_module": "@jupyter-widgets/base",
     "model_module_version": "1.2.0",
     "model_name": "LayoutModel",
     "state": {
      "_model_module": "@jupyter-widgets/base",
      "_model_module_version": "1.2.0",
      "_model_name": "LayoutModel",
      "_view_count": null,
      "_view_module": "@jupyter-widgets/base",
      "_view_module_version": "1.2.0",
      "_view_name": "LayoutView",
      "align_content": null,
      "align_items": null,
      "align_self": null,
      "border": null,
      "bottom": null,
      "display": null,
      "flex": null,
      "flex_flow": null,
      "grid_area": null,
      "grid_auto_columns": null,
      "grid_auto_flow": null,
      "grid_auto_rows": null,
      "grid_column": null,
      "grid_gap": null,
      "grid_row": null,
      "grid_template_areas": null,
      "grid_template_columns": null,
      "grid_template_rows": null,
      "height": null,
      "justify_content": null,
      "justify_items": null,
      "left": null,
      "margin": null,
      "max_height": null,
      "max_width": null,
      "min_height": null,
      "min_width": null,
      "object_fit": null,
      "object_position": null,
      "order": null,
      "overflow": null,
      "overflow_x": null,
      "overflow_y": null,
      "padding": null,
      "right": null,
      "top": null,
      "visibility": null,
      "width": null
     }
    },
    "c418e2a5d2d348c2bf0705ebb961b69b": {
     "model_module": "@jupyter-widgets/controls",
     "model_module_version": "1.5.0",
     "model_name": "DescriptionStyleModel",
     "state": {
      "_model_module": "@jupyter-widgets/controls",
      "_model_module_version": "1.5.0",
      "_model_name": "DescriptionStyleModel",
      "_view_count": null,
      "_view_module": "@jupyter-widgets/base",
      "_view_module_version": "1.2.0",
      "_view_name": "StyleView",
      "description_width": ""
     }
    },
    "c57ec3e8714e43ffa27fa6200dfbedd3": {
     "model_module": "@jupyter-widgets/base",
     "model_module_version": "1.2.0",
     "model_name": "LayoutModel",
     "state": {
      "_model_module": "@jupyter-widgets/base",
      "_model_module_version": "1.2.0",
      "_model_name": "LayoutModel",
      "_view_count": null,
      "_view_module": "@jupyter-widgets/base",
      "_view_module_version": "1.2.0",
      "_view_name": "LayoutView",
      "align_content": null,
      "align_items": null,
      "align_self": null,
      "border": null,
      "bottom": null,
      "display": null,
      "flex": null,
      "flex_flow": null,
      "grid_area": null,
      "grid_auto_columns": null,
      "grid_auto_flow": null,
      "grid_auto_rows": null,
      "grid_column": null,
      "grid_gap": null,
      "grid_row": null,
      "grid_template_areas": null,
      "grid_template_columns": null,
      "grid_template_rows": null,
      "height": null,
      "justify_content": null,
      "justify_items": null,
      "left": null,
      "margin": null,
      "max_height": null,
      "max_width": null,
      "min_height": null,
      "min_width": null,
      "object_fit": null,
      "object_position": null,
      "order": null,
      "overflow": null,
      "overflow_x": null,
      "overflow_y": null,
      "padding": null,
      "right": null,
      "top": null,
      "visibility": null,
      "width": null
     }
    },
    "c77036de83d24b3b80018a8bce275ffb": {
     "model_module": "@jupyter-widgets/controls",
     "model_module_version": "1.5.0",
     "model_name": "ProgressStyleModel",
     "state": {
      "_model_module": "@jupyter-widgets/controls",
      "_model_module_version": "1.5.0",
      "_model_name": "ProgressStyleModel",
      "_view_count": null,
      "_view_module": "@jupyter-widgets/base",
      "_view_module_version": "1.2.0",
      "_view_name": "StyleView",
      "bar_color": null,
      "description_width": ""
     }
    },
    "ca7628f4f7044eea84a8c481b8263ed0": {
     "model_module": "@jupyter-widgets/controls",
     "model_module_version": "1.5.0",
     "model_name": "HTMLModel",
     "state": {
      "_dom_classes": [],
      "_model_module": "@jupyter-widgets/controls",
      "_model_module_version": "1.5.0",
      "_model_name": "HTMLModel",
      "_view_count": null,
      "_view_module": "@jupyter-widgets/controls",
      "_view_module_version": "1.5.0",
      "_view_name": "HTMLView",
      "description": "",
      "description_tooltip": null,
      "layout": "IPY_MODEL_71465863985d4ff6856c24b7a79ca44a",
      "placeholder": "​",
      "style": "IPY_MODEL_00ae020981c3490cb4ebcbefbffb2e3e",
      "value": "Loading checkpoint shards: 100%"
     }
    },
    "ced89f0b98a349bfb70ca13c7df3af70": {
     "model_module": "@jupyter-widgets/base",
     "model_module_version": "1.2.0",
     "model_name": "LayoutModel",
     "state": {
      "_model_module": "@jupyter-widgets/base",
      "_model_module_version": "1.2.0",
      "_model_name": "LayoutModel",
      "_view_count": null,
      "_view_module": "@jupyter-widgets/base",
      "_view_module_version": "1.2.0",
      "_view_name": "LayoutView",
      "align_content": null,
      "align_items": null,
      "align_self": null,
      "border": null,
      "bottom": null,
      "display": null,
      "flex": null,
      "flex_flow": null,
      "grid_area": null,
      "grid_auto_columns": null,
      "grid_auto_flow": null,
      "grid_auto_rows": null,
      "grid_column": null,
      "grid_gap": null,
      "grid_row": null,
      "grid_template_areas": null,
      "grid_template_columns": null,
      "grid_template_rows": null,
      "height": null,
      "justify_content": null,
      "justify_items": null,
      "left": null,
      "margin": null,
      "max_height": null,
      "max_width": null,
      "min_height": null,
      "min_width": null,
      "object_fit": null,
      "object_position": null,
      "order": null,
      "overflow": null,
      "overflow_x": null,
      "overflow_y": null,
      "padding": null,
      "right": null,
      "top": null,
      "visibility": null,
      "width": null
     }
    },
    "cf8eec0cad3f4136932bd707ae4ff245": {
     "model_module": "@jupyter-widgets/controls",
     "model_module_version": "1.5.0",
     "model_name": "HTMLModel",
     "state": {
      "_dom_classes": [],
      "_model_module": "@jupyter-widgets/controls",
      "_model_module_version": "1.5.0",
      "_model_name": "HTMLModel",
      "_view_count": null,
      "_view_module": "@jupyter-widgets/controls",
      "_view_module_version": "1.5.0",
      "_view_name": "HTMLView",
      "description": "",
      "description_tooltip": null,
      "layout": "IPY_MODEL_96f29d6ea6704af285b2fc0d71fc9b16",
      "placeholder": "​",
      "style": "IPY_MODEL_8ef3079e7cff4391b7d12ebec85e5b23",
      "value": " 9.98G/9.98G [00:49&lt;00:00, 210MB/s]"
     }
    },
    "cfd32129ac214ee3a477f6e781d5d769": {
     "model_module": "@jupyter-widgets/controls",
     "model_module_version": "1.5.0",
     "model_name": "DescriptionStyleModel",
     "state": {
      "_model_module": "@jupyter-widgets/controls",
      "_model_module_version": "1.5.0",
      "_model_name": "DescriptionStyleModel",
      "_view_count": null,
      "_view_module": "@jupyter-widgets/base",
      "_view_module_version": "1.2.0",
      "_view_name": "StyleView",
      "description_width": ""
     }
    },
    "d044f8b1eb0544d684a9e4311a6e4430": {
     "model_module": "@jupyter-widgets/base",
     "model_module_version": "1.2.0",
     "model_name": "LayoutModel",
     "state": {
      "_model_module": "@jupyter-widgets/base",
      "_model_module_version": "1.2.0",
      "_model_name": "LayoutModel",
      "_view_count": null,
      "_view_module": "@jupyter-widgets/base",
      "_view_module_version": "1.2.0",
      "_view_name": "LayoutView",
      "align_content": null,
      "align_items": null,
      "align_self": null,
      "border": null,
      "bottom": null,
      "display": null,
      "flex": null,
      "flex_flow": null,
      "grid_area": null,
      "grid_auto_columns": null,
      "grid_auto_flow": null,
      "grid_auto_rows": null,
      "grid_column": null,
      "grid_gap": null,
      "grid_row": null,
      "grid_template_areas": null,
      "grid_template_columns": null,
      "grid_template_rows": null,
      "height": null,
      "justify_content": null,
      "justify_items": null,
      "left": null,
      "margin": null,
      "max_height": null,
      "max_width": null,
      "min_height": null,
      "min_width": null,
      "object_fit": null,
      "object_position": null,
      "order": null,
      "overflow": null,
      "overflow_x": null,
      "overflow_y": null,
      "padding": null,
      "right": null,
      "top": null,
      "visibility": null,
      "width": null
     }
    },
    "d18238ca5a744b2296c4b315f9679625": {
     "model_module": "@jupyter-widgets/base",
     "model_module_version": "1.2.0",
     "model_name": "LayoutModel",
     "state": {
      "_model_module": "@jupyter-widgets/base",
      "_model_module_version": "1.2.0",
      "_model_name": "LayoutModel",
      "_view_count": null,
      "_view_module": "@jupyter-widgets/base",
      "_view_module_version": "1.2.0",
      "_view_name": "LayoutView",
      "align_content": null,
      "align_items": null,
      "align_self": null,
      "border": null,
      "bottom": null,
      "display": null,
      "flex": null,
      "flex_flow": null,
      "grid_area": null,
      "grid_auto_columns": null,
      "grid_auto_flow": null,
      "grid_auto_rows": null,
      "grid_column": null,
      "grid_gap": null,
      "grid_row": null,
      "grid_template_areas": null,
      "grid_template_columns": null,
      "grid_template_rows": null,
      "height": null,
      "justify_content": null,
      "justify_items": null,
      "left": null,
      "margin": null,
      "max_height": null,
      "max_width": null,
      "min_height": null,
      "min_width": null,
      "object_fit": null,
      "object_position": null,
      "order": null,
      "overflow": null,
      "overflow_x": null,
      "overflow_y": null,
      "padding": null,
      "right": null,
      "top": null,
      "visibility": null,
      "width": null
     }
    },
    "d4a00d0f16c44cfa9b176ad2be3b6aba": {
     "model_module": "@jupyter-widgets/controls",
     "model_module_version": "1.5.0",
     "model_name": "DescriptionStyleModel",
     "state": {
      "_model_module": "@jupyter-widgets/controls",
      "_model_module_version": "1.5.0",
      "_model_name": "DescriptionStyleModel",
      "_view_count": null,
      "_view_module": "@jupyter-widgets/base",
      "_view_module_version": "1.2.0",
      "_view_name": "StyleView",
      "description_width": ""
     }
    },
    "d8579fdd601a495986096e2bdacb49c3": {
     "model_module": "@jupyter-widgets/controls",
     "model_module_version": "1.5.0",
     "model_name": "HTMLModel",
     "state": {
      "_dom_classes": [],
      "_model_module": "@jupyter-widgets/controls",
      "_model_module_version": "1.5.0",
      "_model_name": "HTMLModel",
      "_view_count": null,
      "_view_module": "@jupyter-widgets/controls",
      "_view_module_version": "1.5.0",
      "_view_name": "HTMLView",
      "description": "",
      "description_tooltip": null,
      "layout": "IPY_MODEL_c008c4f83f064823b0310257af7b0ca1",
      "placeholder": "​",
      "style": "IPY_MODEL_ec7704e001294f96afd06795c7fd4013",
      "value": " 411/411 [00:00&lt;00:00, 47.4kB/s]"
     }
    },
    "db2723412d18403ea15a571c5a61cf5d": {
     "model_module": "@jupyter-widgets/base",
     "model_module_version": "1.2.0",
     "model_name": "LayoutModel",
     "state": {
      "_model_module": "@jupyter-widgets/base",
      "_model_module_version": "1.2.0",
      "_model_name": "LayoutModel",
      "_view_count": null,
      "_view_module": "@jupyter-widgets/base",
      "_view_module_version": "1.2.0",
      "_view_name": "LayoutView",
      "align_content": null,
      "align_items": null,
      "align_self": null,
      "border": null,
      "bottom": null,
      "display": null,
      "flex": null,
      "flex_flow": null,
      "grid_area": null,
      "grid_auto_columns": null,
      "grid_auto_flow": null,
      "grid_auto_rows": null,
      "grid_column": null,
      "grid_gap": null,
      "grid_row": null,
      "grid_template_areas": null,
      "grid_template_columns": null,
      "grid_template_rows": null,
      "height": null,
      "justify_content": null,
      "justify_items": null,
      "left": null,
      "margin": null,
      "max_height": null,
      "max_width": null,
      "min_height": null,
      "min_width": null,
      "object_fit": null,
      "object_position": null,
      "order": null,
      "overflow": null,
      "overflow_x": null,
      "overflow_y": null,
      "padding": null,
      "right": null,
      "top": null,
      "visibility": null,
      "width": null
     }
    },
    "e039f0fdb60f42fd8228af9e59984672": {
     "model_module": "@jupyter-widgets/controls",
     "model_module_version": "1.5.0",
     "model_name": "FloatProgressModel",
     "state": {
      "_dom_classes": [],
      "_model_module": "@jupyter-widgets/controls",
      "_model_module_version": "1.5.0",
      "_model_name": "FloatProgressModel",
      "_view_count": null,
      "_view_module": "@jupyter-widgets/controls",
      "_view_module_version": "1.5.0",
      "_view_name": "ProgressView",
      "bar_style": "success",
      "description": "",
      "description_tooltip": null,
      "layout": "IPY_MODEL_07cd57a7edaa409d951959f7b4e64cee",
      "max": 2,
      "min": 0,
      "orientation": "horizontal",
      "style": "IPY_MODEL_ec3bddfa99ff4b7e9d413f48ac6969b8",
      "value": 2
     }
    },
    "e686f4ce6adc4e3fa7efe6911a9a9892": {
     "model_module": "@jupyter-widgets/controls",
     "model_module_version": "1.5.0",
     "model_name": "ProgressStyleModel",
     "state": {
      "_model_module": "@jupyter-widgets/controls",
      "_model_module_version": "1.5.0",
      "_model_name": "ProgressStyleModel",
      "_view_count": null,
      "_view_module": "@jupyter-widgets/base",
      "_view_module_version": "1.2.0",
      "_view_name": "StyleView",
      "bar_color": null,
      "description_width": ""
     }
    },
    "e6b9ca4c7a9d4c8fb2290a8ab9faffd7": {
     "model_module": "@jupyter-widgets/controls",
     "model_module_version": "1.5.0",
     "model_name": "HBoxModel",
     "state": {
      "_dom_classes": [],
      "_model_module": "@jupyter-widgets/controls",
      "_model_module_version": "1.5.0",
      "_model_name": "HBoxModel",
      "_view_count": null,
      "_view_module": "@jupyter-widgets/controls",
      "_view_module_version": "1.5.0",
      "_view_name": "HBoxView",
      "box_style": "",
      "children": [
       "IPY_MODEL_8dedfaea73e64775ae4e506bf702291a",
       "IPY_MODEL_4b3a94232d0349f4b557b106b5a1ea40",
       "IPY_MODEL_90c831e9cc464cdf8840524626cecaf1"
      ],
      "layout": "IPY_MODEL_678c965664be40e4b9cd9fbe3e777772"
     }
    },
    "e76aac7a31c84e76b464e5f16966f668": {
     "model_module": "@jupyter-widgets/controls",
     "model_module_version": "1.5.0",
     "model_name": "FloatProgressModel",
     "state": {
      "_dom_classes": [],
      "_model_module": "@jupyter-widgets/controls",
      "_model_module_version": "1.5.0",
      "_model_name": "FloatProgressModel",
      "_view_count": null,
      "_view_module": "@jupyter-widgets/controls",
      "_view_module_version": "1.5.0",
      "_view_name": "ProgressView",
      "bar_style": "success",
      "description": "",
      "description_tooltip": null,
      "layout": "IPY_MODEL_12259ddd87574fbe88b497acac372f95",
      "max": 25125,
      "min": 0,
      "orientation": "horizontal",
      "style": "IPY_MODEL_29cf9e5bd02d4b2ab28c9e485ae6b200",
      "value": 25125
     }
    },
    "e90ee952a471497b8844375971a71777": {
     "model_module": "@jupyter-widgets/base",
     "model_module_version": "1.2.0",
     "model_name": "LayoutModel",
     "state": {
      "_model_module": "@jupyter-widgets/base",
      "_model_module_version": "1.2.0",
      "_model_name": "LayoutModel",
      "_view_count": null,
      "_view_module": "@jupyter-widgets/base",
      "_view_module_version": "1.2.0",
      "_view_name": "LayoutView",
      "align_content": null,
      "align_items": null,
      "align_self": null,
      "border": null,
      "bottom": null,
      "display": null,
      "flex": null,
      "flex_flow": null,
      "grid_area": null,
      "grid_auto_columns": null,
      "grid_auto_flow": null,
      "grid_auto_rows": null,
      "grid_column": null,
      "grid_gap": null,
      "grid_row": null,
      "grid_template_areas": null,
      "grid_template_columns": null,
      "grid_template_rows": null,
      "height": null,
      "justify_content": null,
      "justify_items": null,
      "left": null,
      "margin": null,
      "max_height": null,
      "max_width": null,
      "min_height": null,
      "min_width": null,
      "object_fit": null,
      "object_position": null,
      "order": null,
      "overflow": null,
      "overflow_x": null,
      "overflow_y": null,
      "padding": null,
      "right": null,
      "top": null,
      "visibility": null,
      "width": null
     }
    },
    "e9a2867afb8c4043b11b0de24619618d": {
     "model_module": "@jupyter-widgets/base",
     "model_module_version": "1.2.0",
     "model_name": "LayoutModel",
     "state": {
      "_model_module": "@jupyter-widgets/base",
      "_model_module_version": "1.2.0",
      "_model_name": "LayoutModel",
      "_view_count": null,
      "_view_module": "@jupyter-widgets/base",
      "_view_module_version": "1.2.0",
      "_view_name": "LayoutView",
      "align_content": null,
      "align_items": null,
      "align_self": null,
      "border": null,
      "bottom": null,
      "display": null,
      "flex": null,
      "flex_flow": null,
      "grid_area": null,
      "grid_auto_columns": null,
      "grid_auto_flow": null,
      "grid_auto_rows": null,
      "grid_column": null,
      "grid_gap": null,
      "grid_row": null,
      "grid_template_areas": null,
      "grid_template_columns": null,
      "grid_template_rows": null,
      "height": null,
      "justify_content": null,
      "justify_items": null,
      "left": null,
      "margin": null,
      "max_height": null,
      "max_width": null,
      "min_height": null,
      "min_width": null,
      "object_fit": null,
      "object_position": null,
      "order": null,
      "overflow": null,
      "overflow_x": null,
      "overflow_y": null,
      "padding": null,
      "right": null,
      "top": null,
      "visibility": null,
      "width": null
     }
    },
    "ea262082ba6948dfb6dc513ee437bcf8": {
     "model_module": "@jupyter-widgets/controls",
     "model_module_version": "1.5.0",
     "model_name": "HTMLModel",
     "state": {
      "_dom_classes": [],
      "_model_module": "@jupyter-widgets/controls",
      "_model_module_version": "1.5.0",
      "_model_name": "HTMLModel",
      "_view_count": null,
      "_view_module": "@jupyter-widgets/controls",
      "_view_module_version": "1.5.0",
      "_view_name": "HTMLView",
      "description": "",
      "description_tooltip": null,
      "layout": "IPY_MODEL_bf6d4a55dc7a4f15a5036baa70ab0f85",
      "placeholder": "​",
      "style": "IPY_MODEL_230f81b3e5c3466da65e6696038bfc94",
      "value": "Map: 100%"
     }
    },
    "ec3bddfa99ff4b7e9d413f48ac6969b8": {
     "model_module": "@jupyter-widgets/controls",
     "model_module_version": "1.5.0",
     "model_name": "ProgressStyleModel",
     "state": {
      "_model_module": "@jupyter-widgets/controls",
      "_model_module_version": "1.5.0",
      "_model_name": "ProgressStyleModel",
      "_view_count": null,
      "_view_module": "@jupyter-widgets/base",
      "_view_module_version": "1.2.0",
      "_view_name": "StyleView",
      "bar_color": null,
      "description_width": ""
     }
    },
    "ec6c1d4e70e645eea06259130c8f2033": {
     "model_module": "@jupyter-widgets/controls",
     "model_module_version": "1.5.0",
     "model_name": "HTMLModel",
     "state": {
      "_dom_classes": [],
      "_model_module": "@jupyter-widgets/controls",
      "_model_module_version": "1.5.0",
      "_model_name": "HTMLModel",
      "_view_count": null,
      "_view_module": "@jupyter-widgets/controls",
      "_view_module_version": "1.5.0",
      "_view_name": "HTMLView",
      "description": "",
      "description_tooltip": null,
      "layout": "IPY_MODEL_82b0da738c944d479cf232589c4965ea",
      "placeholder": "​",
      "style": "IPY_MODEL_5e3532ace7644b70ac018826308a2aa0",
      "value": "special_tokens_map.json: 100%"
     }
    },
    "ec7704e001294f96afd06795c7fd4013": {
     "model_module": "@jupyter-widgets/controls",
     "model_module_version": "1.5.0",
     "model_name": "DescriptionStyleModel",
     "state": {
      "_model_module": "@jupyter-widgets/controls",
      "_model_module_version": "1.5.0",
      "_model_name": "DescriptionStyleModel",
      "_view_count": null,
      "_view_module": "@jupyter-widgets/base",
      "_view_module_version": "1.2.0",
      "_view_name": "StyleView",
      "description_width": ""
     }
    },
    "ed63c3530bb745d1be4e97414ed7a0a6": {
     "model_module": "@jupyter-widgets/controls",
     "model_module_version": "1.5.0",
     "model_name": "ProgressStyleModel",
     "state": {
      "_model_module": "@jupyter-widgets/controls",
      "_model_module_version": "1.5.0",
      "_model_name": "ProgressStyleModel",
      "_view_count": null,
      "_view_module": "@jupyter-widgets/base",
      "_view_module_version": "1.2.0",
      "_view_name": "StyleView",
      "bar_color": null,
      "description_width": ""
     }
    },
    "edb7e97865e14435a16a45c81b712c4b": {
     "model_module": "@jupyter-widgets/base",
     "model_module_version": "1.2.0",
     "model_name": "LayoutModel",
     "state": {
      "_model_module": "@jupyter-widgets/base",
      "_model_module_version": "1.2.0",
      "_model_name": "LayoutModel",
      "_view_count": null,
      "_view_module": "@jupyter-widgets/base",
      "_view_module_version": "1.2.0",
      "_view_name": "LayoutView",
      "align_content": null,
      "align_items": null,
      "align_self": null,
      "border": null,
      "bottom": null,
      "display": null,
      "flex": null,
      "flex_flow": null,
      "grid_area": null,
      "grid_auto_columns": null,
      "grid_auto_flow": null,
      "grid_auto_rows": null,
      "grid_column": null,
      "grid_gap": null,
      "grid_row": null,
      "grid_template_areas": null,
      "grid_template_columns": null,
      "grid_template_rows": null,
      "height": null,
      "justify_content": null,
      "justify_items": null,
      "left": null,
      "margin": null,
      "max_height": null,
      "max_width": null,
      "min_height": null,
      "min_width": null,
      "object_fit": null,
      "object_position": null,
      "order": null,
      "overflow": null,
      "overflow_x": null,
      "overflow_y": null,
      "padding": null,
      "right": null,
      "top": null,
      "visibility": null,
      "width": null
     }
    },
    "f151a1f09d5f4288bfd1d6fd3fb50734": {
     "model_module": "@jupyter-widgets/base",
     "model_module_version": "1.2.0",
     "model_name": "LayoutModel",
     "state": {
      "_model_module": "@jupyter-widgets/base",
      "_model_module_version": "1.2.0",
      "_model_name": "LayoutModel",
      "_view_count": null,
      "_view_module": "@jupyter-widgets/base",
      "_view_module_version": "1.2.0",
      "_view_name": "LayoutView",
      "align_content": null,
      "align_items": null,
      "align_self": null,
      "border": null,
      "bottom": null,
      "display": null,
      "flex": null,
      "flex_flow": null,
      "grid_area": null,
      "grid_auto_columns": null,
      "grid_auto_flow": null,
      "grid_auto_rows": null,
      "grid_column": null,
      "grid_gap": null,
      "grid_row": null,
      "grid_template_areas": null,
      "grid_template_columns": null,
      "grid_template_rows": null,
      "height": null,
      "justify_content": null,
      "justify_items": null,
      "left": null,
      "margin": null,
      "max_height": null,
      "max_width": null,
      "min_height": null,
      "min_width": null,
      "object_fit": null,
      "object_position": null,
      "order": null,
      "overflow": null,
      "overflow_x": null,
      "overflow_y": null,
      "padding": null,
      "right": null,
      "top": null,
      "visibility": null,
      "width": null
     }
    },
    "f26531c047224744990d1ed97bcc3950": {
     "model_module": "@jupyter-widgets/base",
     "model_module_version": "1.2.0",
     "model_name": "LayoutModel",
     "state": {
      "_model_module": "@jupyter-widgets/base",
      "_model_module_version": "1.2.0",
      "_model_name": "LayoutModel",
      "_view_count": null,
      "_view_module": "@jupyter-widgets/base",
      "_view_module_version": "1.2.0",
      "_view_name": "LayoutView",
      "align_content": null,
      "align_items": null,
      "align_self": null,
      "border": null,
      "bottom": null,
      "display": null,
      "flex": null,
      "flex_flow": null,
      "grid_area": null,
      "grid_auto_columns": null,
      "grid_auto_flow": null,
      "grid_auto_rows": null,
      "grid_column": null,
      "grid_gap": null,
      "grid_row": null,
      "grid_template_areas": null,
      "grid_template_columns": null,
      "grid_template_rows": null,
      "height": null,
      "justify_content": null,
      "justify_items": null,
      "left": null,
      "margin": null,
      "max_height": null,
      "max_width": null,
      "min_height": null,
      "min_width": null,
      "object_fit": null,
      "object_position": null,
      "order": null,
      "overflow": null,
      "overflow_x": null,
      "overflow_y": null,
      "padding": null,
      "right": null,
      "top": null,
      "visibility": null,
      "width": null
     }
    },
    "f3d4ddbb372a4c22b5d50228b15a004a": {
     "model_module": "@jupyter-widgets/base",
     "model_module_version": "1.2.0",
     "model_name": "LayoutModel",
     "state": {
      "_model_module": "@jupyter-widgets/base",
      "_model_module_version": "1.2.0",
      "_model_name": "LayoutModel",
      "_view_count": null,
      "_view_module": "@jupyter-widgets/base",
      "_view_module_version": "1.2.0",
      "_view_name": "LayoutView",
      "align_content": null,
      "align_items": null,
      "align_self": null,
      "border": null,
      "bottom": null,
      "display": null,
      "flex": null,
      "flex_flow": null,
      "grid_area": null,
      "grid_auto_columns": null,
      "grid_auto_flow": null,
      "grid_auto_rows": null,
      "grid_column": null,
      "grid_gap": null,
      "grid_row": null,
      "grid_template_areas": null,
      "grid_template_columns": null,
      "grid_template_rows": null,
      "height": null,
      "justify_content": null,
      "justify_items": null,
      "left": null,
      "margin": null,
      "max_height": null,
      "max_width": null,
      "min_height": null,
      "min_width": null,
      "object_fit": null,
      "object_position": null,
      "order": null,
      "overflow": null,
      "overflow_x": null,
      "overflow_y": null,
      "padding": null,
      "right": null,
      "top": null,
      "visibility": null,
      "width": null
     }
    },
    "f9338118c77d45afb5977a58531b3992": {
     "model_module": "@jupyter-widgets/controls",
     "model_module_version": "1.5.0",
     "model_name": "HTMLModel",
     "state": {
      "_dom_classes": [],
      "_model_module": "@jupyter-widgets/controls",
      "_model_module_version": "1.5.0",
      "_model_name": "HTMLModel",
      "_view_count": null,
      "_view_module": "@jupyter-widgets/controls",
      "_view_module_version": "1.5.0",
      "_view_name": "HTMLView",
      "description": "",
      "description_tooltip": null,
      "layout": "IPY_MODEL_25eb240d007d49baa0d0285344345f20",
      "placeholder": "​",
      "style": "IPY_MODEL_1f92d3ddfb904f119558a0b80e1e3d9c",
      "value": "model-00001-of-00002.safetensors: 100%"
     }
    },
    "fca7e486e18f4762ad665f0835a2ca09": {
     "model_module": "@jupyter-widgets/controls",
     "model_module_version": "1.5.0",
     "model_name": "ProgressStyleModel",
     "state": {
      "_model_module": "@jupyter-widgets/controls",
      "_model_module_version": "1.5.0",
      "_model_name": "ProgressStyleModel",
      "_view_count": null,
      "_view_module": "@jupyter-widgets/base",
      "_view_module_version": "1.2.0",
      "_view_name": "StyleView",
      "bar_color": null,
      "description_width": ""
     }
    },
    "fe14c8b040e74d5a9d9883173c6ef6c6": {
     "model_module": "@jupyter-widgets/base",
     "model_module_version": "1.2.0",
     "model_name": "LayoutModel",
     "state": {
      "_model_module": "@jupyter-widgets/base",
      "_model_module_version": "1.2.0",
      "_model_name": "LayoutModel",
      "_view_count": null,
      "_view_module": "@jupyter-widgets/base",
      "_view_module_version": "1.2.0",
      "_view_name": "LayoutView",
      "align_content": null,
      "align_items": null,
      "align_self": null,
      "border": null,
      "bottom": null,
      "display": null,
      "flex": null,
      "flex_flow": null,
      "grid_area": null,
      "grid_auto_columns": null,
      "grid_auto_flow": null,
      "grid_auto_rows": null,
      "grid_column": null,
      "grid_gap": null,
      "grid_row": null,
      "grid_template_areas": null,
      "grid_template_columns": null,
      "grid_template_rows": null,
      "height": null,
      "justify_content": null,
      "justify_items": null,
      "left": null,
      "margin": null,
      "max_height": null,
      "max_width": null,
      "min_height": null,
      "min_width": null,
      "object_fit": null,
      "object_position": null,
      "order": null,
      "overflow": null,
      "overflow_x": null,
      "overflow_y": null,
      "padding": null,
      "right": null,
      "top": null,
      "visibility": null,
      "width": null
     }
    },
    "ff3e271a1b8d48e488b64c9bca99ca76": {
     "model_module": "@jupyter-widgets/base",
     "model_module_version": "1.2.0",
     "model_name": "LayoutModel",
     "state": {
      "_model_module": "@jupyter-widgets/base",
      "_model_module_version": "1.2.0",
      "_model_name": "LayoutModel",
      "_view_count": null,
      "_view_module": "@jupyter-widgets/base",
      "_view_module_version": "1.2.0",
      "_view_name": "LayoutView",
      "align_content": null,
      "align_items": null,
      "align_self": null,
      "border": null,
      "bottom": null,
      "display": null,
      "flex": null,
      "flex_flow": null,
      "grid_area": null,
      "grid_auto_columns": null,
      "grid_auto_flow": null,
      "grid_auto_rows": null,
      "grid_column": null,
      "grid_gap": null,
      "grid_row": null,
      "grid_template_areas": null,
      "grid_template_columns": null,
      "grid_template_rows": null,
      "height": null,
      "justify_content": null,
      "justify_items": null,
      "left": null,
      "margin": null,
      "max_height": null,
      "max_width": null,
      "min_height": null,
      "min_width": null,
      "object_fit": null,
      "object_position": null,
      "order": null,
      "overflow": null,
      "overflow_x": null,
      "overflow_y": null,
      "padding": null,
      "right": null,
      "top": null,
      "visibility": null,
      "width": null
     }
    }
   }
  }
 },
 "nbformat": 4,
 "nbformat_minor": 4
}
