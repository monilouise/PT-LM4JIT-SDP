{
 "cells": [
  {
   "cell_type": "markdown",
   "id": "d7d08417-b787-451a-b857-a029a8cb9256",
   "metadata": {},
   "source": [
    "# GPT-o1 for JIT-SDP"
   ]
  },
  {
   "cell_type": "code",
   "execution_count": null,
   "id": "ff22a3d6-ba78-4651-be21-119ec3caeef5",
   "metadata": {},
   "outputs": [],
   "source": [
    "key = input('Key:')"
   ]
  },
  {
   "cell_type": "code",
   "execution_count": 2,
   "id": "83d0ff28-ecd2-4fdc-9551-e3b0394e90f5",
   "metadata": {},
   "outputs": [],
   "source": [
    "from openai import OpenAI\n",
    "client = OpenAI(api_key=key)"
   ]
  },
  {
   "cell_type": "code",
   "execution_count": 3,
   "id": "59906ccb",
   "metadata": {},
   "outputs": [],
   "source": [
    "import pickle"
   ]
  },
  {
   "cell_type": "code",
   "execution_count": 4,
   "id": "b3f69530",
   "metadata": {},
   "outputs": [],
   "source": [
    "pickle_file_path = 'data/changes_train.pkl'\n"
   ]
  },
  {
   "cell_type": "code",
   "execution_count": 5,
   "id": "74193778",
   "metadata": {},
   "outputs": [],
   "source": [
    "with open(pickle_file_path, 'rb') as file:\n",
    "    semantic_data = pickle.load(file)"
   ]
  },
  {
   "cell_type": "code",
   "execution_count": 6,
   "id": "4de6fa12",
   "metadata": {},
   "outputs": [],
   "source": [
    "pickle_file_path = 'data/features_train.pkl'"
   ]
  },
  {
   "cell_type": "code",
   "execution_count": 7,
   "id": "e22599c5",
   "metadata": {},
   "outputs": [],
   "source": [
    "with open(pickle_file_path, 'rb') as file:\n",
    "    features_data = pickle.load(file)"
   ]
  },
  {
   "cell_type": "markdown",
   "id": "8732d7df",
   "metadata": {},
   "source": [
    "### Comment + code + expert features"
   ]
  },
  {
   "cell_type": "code",
   "execution_count": 10,
   "id": "fc85613b",
   "metadata": {
    "jupyter": {
     "source_hidden": true
    }
   },
   "outputs": [],
   "source": [
    "system_message = \"\"\"You are a Just-In-Time Software Defect Prediction (JIT-SDP) system responsible for predicting \n",
    "    software defects at the time they are about to occur.  To do that, you will receive a commit \n",
    "    information. The commit information will have the following format:\n",
    "    \n",
    "    COMMIT MESSAGE: <a message describing the intent of the commit>\n",
    "    ==========================================================\n",
    "    DIFF INFORMATION in Git diff format\n",
    "    ==========================================================\n",
    "    NUMBER OF MODIFIED SUBSYSTEMS: <number of modified subsystems>\n",
    "    NUMBER OF MODIFIED DIRECTORIES: <number of modified directories>\n",
    "    NUMBER OF MODIFIED FILES: <number of modified files>\n",
    "    ENTROPY (DISTRIBUTION OF MODIFIED CODE ACROSS EACH FILE): <distribution of modified code across each file>\n",
    "    NUMBER OF LINES OF CODE ADDED: <number of lines of code added>\n",
    "    NUMBER OF LINES OF CODE DELETED: <number of lines of code deleted>\n",
    "    NUMBER OF LINES OF CODE IN A FILE BEFORE THE CHANGE: <number of lines of code in a file before the change>\n",
    "    FIX (True if the change is a defect fix, False otherwise>): <True if the change is a defect fix, False otherwise>\n",
    "    NUMBER OF DEVELOPERS THAT CHANGED THE MODIFIED FILES: <the number of developers that changed the modified files>\n",
    "    AVERAGE TIME BETWEEN THE LAST AND THE CURRENT CHANGE: <the average time between the last and the current change>\n",
    "    NUMBER OF UNIQUE CHANGES TO THE MODIFIED FILES: <the number of unique changes to the modified files>\n",
    "    DEVELOPER EXPERIENCE: <developer experience>\n",
    "    RECENT DEVELOPER EXPERIENCE: <recent developer experience>\n",
    "    DEVELOPER EXPERIENCE ON THE CURRENT SUBSYSTEM: <developer experience in a subsystem>\n",
    "    ==========================================================\n",
    "    \n",
    "    You will use the commit message, Git diff information, and extra information to generate your answer.  You will answer with \n",
    "    \"YES\" or \"NO\" if the commit may introduce a bug and the reason why you reached your conclusion.  \n",
    "    Generate your response in the following JSON format: \n",
    "    {\n",
    "        \"prediction\": <YES|NO>,\n",
    "        \"reason\": <reason>\n",
    "    }\n",
    "    \"\"\""
   ]
  },
  {
   "cell_type": "code",
   "execution_count": 11,
   "id": "b06b8d26",
   "metadata": {},
   "outputs": [],
   "source": [
    "exp_mean, rexp_mean, sexp_mean = features_data['exp'].astype(float).mean(), features_data['rexp'].astype(float).mean(), features_data['sexp'].astype(float).mean()"
   ]
  },
  {
   "cell_type": "code",
   "execution_count": 12,
   "id": "edb4569f",
   "metadata": {},
   "outputs": [],
   "source": [
    "def get_exp_desc(mean, value):\n",
    "    if int(float(value)) == int(mean):\n",
    "        return 'average'\n",
    "    elif float(value) < mean:\n",
    "        return 'below average'\n",
    "    elif float(value) > mean:\n",
    "        return 'above average'\n",
    "    else:\n",
    "        return 'average'\n"
   ]
  },
  {
   "cell_type": "code",
   "execution_count": 13,
   "id": "1a1a3d47",
   "metadata": {},
   "outputs": [
    {
     "data": {
      "text/plain": [
       "(206.33247831928668, 106.32190481395303, 194.21912657697746)"
      ]
     },
     "execution_count": 13,
     "metadata": {},
     "output_type": "execute_result"
    }
   ],
   "source": [
    "exp_mean, rexp_mean, sexp_mean"
   ]
  },
  {
   "cell_type": "code",
   "execution_count": 15,
   "id": "72367ef2",
   "metadata": {},
   "outputs": [],
   "source": [
    "pickle_file_path = 'data/changes_test_lst.pkl'"
   ]
  },
  {
   "cell_type": "code",
   "execution_count": 16,
   "id": "5e29711d",
   "metadata": {},
   "outputs": [],
   "source": [
    "with open(pickle_file_path, 'rb') as file:\n",
    "    semantic_data = pickle.load(file)"
   ]
  },
  {
   "cell_type": "code",
   "execution_count": 17,
   "id": "3f90ced8",
   "metadata": {},
   "outputs": [],
   "source": [
    "pickle_file_path = 'data/features_test_with_diffs.pkl'"
   ]
  },
  {
   "cell_type": "code",
   "execution_count": 18,
   "id": "7f56ead1",
   "metadata": {},
   "outputs": [],
   "source": [
    "with open(pickle_file_path, 'rb') as file:\n",
    "    features_data = pickle.load(file)"
   ]
  },
  {
   "cell_type": "code",
   "execution_count": 19,
   "id": "68a07c1e",
   "metadata": {},
   "outputs": [
    {
     "data": {
      "text/plain": [
       "5480"
      ]
     },
     "execution_count": 19,
     "metadata": {},
     "output_type": "execute_result"
    }
   ],
   "source": [
    "len(semantic_data[0])"
   ]
  },
  {
   "cell_type": "code",
   "execution_count": 20,
   "id": "94fc96be",
   "metadata": {},
   "outputs": [
    {
     "data": {
      "text/plain": [
       "5480"
      ]
     },
     "execution_count": 20,
     "metadata": {},
     "output_type": "execute_result"
    }
   ],
   "source": [
    "len(features_data)"
   ]
  },
  {
   "cell_type": "code",
   "execution_count": 1,
   "id": "e20ee8d4",
   "metadata": {},
   "outputs": [],
   "source": [
    "from sklearn.metrics import roc_auc_score, accuracy_score, precision_score, recall_score, f1_score\n",
    "\n",
    "def calculate_metrics(y_true, y_pred):\n",
    "    auc = roc_auc_score(y_true, y_pred)\n",
    "    accuracy = accuracy_score(y_true, y_pred)\n",
    "    precision = precision_score(y_true, y_pred)\n",
    "    recall = recall_score(y_true, y_pred)\n",
    "    f1 = f1_score(y_true, y_pred)\n",
    "    \n",
    "    return auc, accuracy, precision, recall, f1"
   ]
  },
  {
   "cell_type": "code",
   "execution_count": 24,
   "id": "d2bbe657",
   "metadata": {},
   "outputs": [],
   "source": [
    "results = []\n",
    "preds = []"
   ]
  },
  {
   "cell_type": "code",
   "execution_count": 25,
   "id": "ac326cee",
   "metadata": {},
   "outputs": [
    {
     "data": {
      "text/plain": [
       "0"
      ]
     },
     "execution_count": 25,
     "metadata": {},
     "output_type": "execute_result"
    }
   ],
   "source": [
    "len(results)"
   ]
  },
  {
   "cell_type": "code",
   "execution_count": 26,
   "id": "db04acce",
   "metadata": {},
   "outputs": [],
   "source": [
    "preds = [r['prediction'] for r in results]"
   ]
  },
  {
   "cell_type": "code",
   "execution_count": 27,
   "id": "4744e25f",
   "metadata": {},
   "outputs": [
    {
     "data": {
      "text/plain": [
       "0"
      ]
     },
     "execution_count": 27,
     "metadata": {},
     "output_type": "execute_result"
    }
   ],
   "source": [
    "len(preds)"
   ]
  },
  {
   "cell_type": "code",
   "execution_count": 28,
   "id": "0c2de571",
   "metadata": {},
   "outputs": [],
   "source": [
    "preds = [1.0 if pred == 'YES' else 0.0 for pred in preds]"
   ]
  },
  {
   "cell_type": "markdown",
   "id": "0c3fc15c",
   "metadata": {},
   "source": [
    "## Zero-shot Chain-of-Thought"
   ]
  },
  {
   "cell_type": "code",
   "execution_count": 29,
   "id": "d8787488",
   "metadata": {},
   "outputs": [],
   "source": [
    "import json"
   ]
  },
  {
   "cell_type": "code",
   "execution_count": 30,
   "id": "70631809",
   "metadata": {},
   "outputs": [],
   "source": [
    "preds = []\n",
    "results = []"
   ]
  },
  {
   "cell_type": "code",
   "execution_count": 31,
   "id": "acee4db4-f062-4530-9a9a-f40537033b8c",
   "metadata": {},
   "outputs": [],
   "source": [
    "results = results[:-1]"
   ]
  },
  {
   "cell_type": "code",
   "execution_count": 32,
   "id": "2f0aadf7",
   "metadata": {},
   "outputs": [
    {
     "data": {
      "text/plain": [
       "0"
      ]
     },
     "execution_count": 32,
     "metadata": {},
     "output_type": "execute_result"
    }
   ],
   "source": [
    "len(results)"
   ]
  },
  {
   "cell_type": "code",
   "execution_count": 33,
   "id": "a74b9f3e-3ffd-4e1a-90d5-ea72fd3b60ca",
   "metadata": {},
   "outputs": [],
   "source": [
    "def label_to_str(label):\n",
    "    if label == 1: \n",
    "        return \"YES\"\n",
    "    elif label == 0:\n",
    "        return \"NO\""
   ]
  },
  {
   "cell_type": "code",
   "execution_count": 34,
   "id": "9e47b858-dbea-4362-9879-f9e1649459a5",
   "metadata": {},
   "outputs": [],
   "source": [
    "import pickle\n",
    "\n",
    "with open('results_cot_o1_final_diffs.pkl', 'rb') as file:\n",
    "    results = pickle.load(file)"
   ]
  },
  {
   "cell_type": "code",
   "execution_count": null,
   "id": "163e2b32-3791-4b85-a8a4-174aa871cebe",
   "metadata": {},
   "outputs": [],
   "source": [
    "len(results)"
   ]
  },
  {
   "cell_type": "code",
   "execution_count": 36,
   "id": "a3c7eead-7b93-42ce-875f-abf4669eeccf",
   "metadata": {},
   "outputs": [],
   "source": [
    "labels = semantic_data[1] "
   ]
  },
  {
   "cell_type": "code",
   "execution_count": 37,
   "id": "bf78e8ce-f871-4e10-98b1-e2e11d511eba",
   "metadata": {},
   "outputs": [],
   "source": [
    "preds = [r['prediction'] if isinstance(r, dict) else label_to_str(1 - labels[i]) for i,r in enumerate(results)]"
   ]
  },
  {
   "cell_type": "code",
   "execution_count": 38,
   "id": "7239130f-c005-4984-969c-f49b76edfb53",
   "metadata": {},
   "outputs": [],
   "source": [
    "preds = [1.0 if pred == 'YES' else 0.0 for pred in preds]"
   ]
  },
  {
   "cell_type": "code",
   "execution_count": null,
   "id": "fbeeb113",
   "metadata": {},
   "outputs": [],
   "source": [
    "len(preds), sum(preds)"
   ]
  },
  {
   "cell_type": "code",
   "execution_count": null,
   "id": "d8a39bcd",
   "metadata": {
    "scrolled": true
   },
   "outputs": [],
   "source": [
    "import json\n",
    "from tqdm import tqdm\n",
    "from json import JSONDecodeError\n",
    "\n",
    "commit_ids = semantic_data[0] \n",
    "labels = semantic_data[1] \n",
    "comments = semantic_data[2] \n",
    "code = semantic_data[3]\n",
    "\n",
    "for i in tqdm(range(len(preds),len(features_data))):\n",
    "    prompt = f\"\"\"\n",
    "    COMMIT MESSAGE: {comments[i]}\n",
    "    ==========================================================\n",
    "    \"\"\"\n",
    "\n",
    "    prompt += features_data.loc[i, 'diff']\n",
    "    prompt += '\\n=========================================================='\n",
    "    \n",
    "    assert features_data.loc[i, 'commit_hash'] == commit_ids[i]\n",
    "    \n",
    "    prompt += f\"\"\"\\n\n",
    "    NUMBER OF MODIFIED SUBSYSTEMS: {features_data.loc[i,'ns']}\n",
    "    NUMBER OF MODIFIED DIRECTORIES: {features_data.loc[i,'nd']}\n",
    "    NUMBER OF MODIFIED FILES: {features_data.loc[i,'nf']}\n",
    "    ENTROPY (DISTRIBUTION OF MODIFIED CODE ACROSS EACH FILE): {features_data.loc[i,'entropy']}\n",
    "    NUMBER OF LINES OF CODE ADDED: {features_data.loc[i,'la']}\n",
    "    NUMBER OF LINES OF CODE DELETED: {features_data.loc[i,'ld']}\n",
    "    NUMBER OF LINES OF CODE IN A FILE BEFORE THE CHANGE: {features_data.loc[i,'lt']}\n",
    "    FIX (True if the change is a defect fix, False otherwise>): {features_data.loc[i,'fix']}\n",
    "    NUMBER OF DEVELOPERS THAT CHANGED THE MODIFIED FILES: {features_data.loc[i,'ndev']}\n",
    "    AVERAGE TIME BETWEEN THE LAST AND THE CURRENT CHANGE: {features_data.loc[i,'age']}\n",
    "    NUMBER OF UNIQUE CHANGES TO THE MODIFIED FILES: {features_data.loc[i,'nuc']}\n",
    "    DEVELOPER EXPERIENCE: {get_exp_desc(exp_mean, features_data.loc[i,'exp'])}\n",
    "    RECENT DEVELOPER EXPERIENCE: {get_exp_desc(rexp_mean, features_data.loc[i,'rexp'])}\n",
    "    DEVELOPER EXPERIENCE ON THE CURRENT SUBSYSTEM: {get_exp_desc(sexp_mean, features_data.loc[i,'sexp'])}\n",
    "    ==========================================================\n",
    "    \"\"\"\n",
    "    \n",
    "    prompt += \"\\n Let's think step by step. \"\n",
    "    error = False\n",
    "    \n",
    "    messages=[{\"role\":\"system\", \"content\":system_message},{\"role\": \"user\", \"content\": prompt[:200000]}]\n",
    "    \n",
    "    result = client.chat.completions.create(model=\"o1\", messages=messages) #o1 (final) sem system message está dando F1 na casa dos 40% para os primeiros 100 exemplos.  Próximo teste: o1 (final) com system message\n",
    "    resp = result.choices[0].message.content\n",
    "    content = resp[resp.find('{'):resp.rfind('}') + 1]\n",
    "\n",
    "    try:\n",
    "        content = json.loads(content.replace('\\n', ' '))\n",
    "    except JSONDecodeError:\n",
    "        print(content)\n",
    "        pred = 1 - labels[i]\n",
    "        error = True    \n",
    "    \n",
    "    results.append(content)\n",
    "\n",
    "    if not error:\n",
    "        prediction = content[\"prediction\"]\n",
    "        pred = 0.0\n",
    "        \n",
    "        if prediction == \"YES\":\n",
    "            pred = 1.0\n",
    "    \n",
    "    preds.append(pred)\n",
    "    \n",
    "    if i > 0 and (i % 100) == 0:\n",
    "        auc, accuracy, precision, recall, f1 = calculate_metrics(labels[:i+1], preds)\n",
    "        print(f\"auc = {auc}, accuracy = {accuracy}, precision = {precision}, recall = {recall}, f1 = {f1}\")\n",
    "    "
   ]
  },
  {
   "cell_type": "code",
   "execution_count": 41,
   "id": "81f3f83e",
   "metadata": {},
   "outputs": [
    {
     "data": {
      "text/plain": [
       "(5480, 5480)"
      ]
     },
     "execution_count": 41,
     "metadata": {},
     "output_type": "execute_result"
    }
   ],
   "source": [
    "len(results), len(preds)"
   ]
  },
  {
   "cell_type": "code",
   "execution_count": 44,
   "id": "5e29dbc1",
   "metadata": {},
   "outputs": [
    {
     "name": "stdout",
     "output_type": "stream",
     "text": [
      "auc = 0.6288343235711658, accuracy = 0.67007299270073, precision = 0.1460435475305364, recall = 0.5789473684210527, f1 = 0.2332485156912638\n"
     ]
    }
   ],
   "source": [
    "auc, accuracy, precision, recall, f1 = calculate_metrics(labels[:len(preds)], preds)\n",
    "print(f\"auc = {auc}, accuracy = {accuracy}, precision = {precision}, recall = {recall}, f1 = {f1}\")\n",
    "    "
   ]
  },
  {
   "cell_type": "code",
   "execution_count": 45,
   "id": "c0614ebd",
   "metadata": {},
   "outputs": [],
   "source": [
    "with open('results_cot_o1_final_diffs.pkl', 'wb') as file:\n",
    "    pickle.dump(results, file)"
   ]
  }
 ],
 "metadata": {
  "kernelspec": {
   "display_name": "Python 3 (ipykernel)",
   "language": "python",
   "name": "python3"
  },
  "language_info": {
   "codemirror_mode": {
    "name": "ipython",
    "version": 3
   },
   "file_extension": ".py",
   "mimetype": "text/x-python",
   "name": "python",
   "nbconvert_exporter": "python",
   "pygments_lexer": "ipython3",
   "version": "3.10.9"
  }
 },
 "nbformat": 4,
 "nbformat_minor": 5
}
